{
 "cells": [
  {
   "cell_type": "markdown",
   "id": "00a30917",
   "metadata": {
    "deletable": false,
    "editable": false,
    "id": "c81daeeb"
   },
   "source": [
    "# Исследование надежности заемщиков\n"
   ]
  },
  {
   "cell_type": "markdown",
   "id": "1ddd0a5e",
   "metadata": {
    "deletable": false,
    "editable": false,
    "id": "744d7639"
   },
   "source": [
    "Откроем таблицу и изучим общую информацию о данных"
   ]
  },
  {
   "cell_type": "markdown",
   "id": "99df9ce1",
   "metadata": {
    "deletable": false,
    "editable": false,
    "id": "e7a14c31"
   },
   "source": [
    "Импортируем библиотеку pandas. Прочитаем данные из csv-файла в датафрейм и сохраним в переменную `data`. \n"    
   ]
  },
  {
   "cell_type": "code",
   "execution_count": 2,
   "id": "f1a6a54b",
   "metadata": {
    "deletable": false,
    "id": "7bcf75c9"
   },
   "outputs": [],
   "source": [
    "import pandas as pd\n",
    "\n",
    "try:\n",
    "    data = pd.read_csv('/datasets/data.csv')\n",
    "except:\n"    
   ]
  },
  {
   "cell_type": "markdown",
   "id": "aa78a021",
   "metadata": {
    "deletable": false,
    "editable": false,
    "id": "b8038fe3"
   },
   "source": [
    "Выводим первые 20 строчек датафрейма `data` на экран."
   ]
  },
  {
   "cell_type": "code",
   "execution_count": 3,
   "id": "37c22189",
   "metadata": {
    "deletable": false,
    "id": "2a7cab99",
    "outputId": "1a8f3ef2-d323-4ec2-ddf7-89670b5944c4"
   },
   "outputs": [
    {
     "data": {
      "text/html": [
       "<div>\n",
       "<style scoped>\n",
       "    .dataframe tbody tr th:only-of-type {\n",
       "        vertical-align: middle;\n",
       "    }\n",
       "\n",
       "    .dataframe tbody tr th {\n",
       "        vertical-align: top;\n",
       "    }\n",
       "\n",
       "    .dataframe thead th {\n",
       "        text-align: right;\n",
       "    }\n",
       "</style>\n",
       "<table border=\"1\" class=\"dataframe\">\n",
       "  <thead>\n",
       "    <tr style=\"text-align: right;\">\n",
       "      <th></th>\n",
       "      <th>children</th>\n",
       "      <th>days_employed</th>\n",
       "      <th>dob_years</th>\n",
       "      <th>education</th>\n",
       "      <th>education_id</th>\n",
       "      <th>family_status</th>\n",
       "      <th>family_status_id</th>\n",
       "      <th>gender</th>\n",
       "      <th>income_type</th>\n",
       "      <th>debt</th>\n",
       "      <th>total_income</th>\n",
       "      <th>purpose</th>\n",
       "    </tr>\n",
       "  </thead>\n",
       "  <tbody>\n",
       "    <tr>\n",
       "      <th>0</th>\n",
       "      <td>1</td>\n",
       "      <td>-8437.673028</td>\n",
       "      <td>42</td>\n",
       "      <td>высшее</td>\n",
       "      <td>0</td>\n",
       "      <td>женат / замужем</td>\n",
       "      <td>0</td>\n",
       "      <td>F</td>\n",
       "      <td>сотрудник</td>\n",
       "      <td>0</td>\n",
       "      <td>253875.639453</td>\n",
       "      <td>покупка жилья</td>\n",
       "    </tr>\n",
       "    <tr>\n",
       "      <th>1</th>\n",
       "      <td>1</td>\n",
       "      <td>-4024.803754</td>\n",
       "      <td>36</td>\n",
       "      <td>среднее</td>\n",
       "      <td>1</td>\n",
       "      <td>женат / замужем</td>\n",
       "      <td>0</td>\n",
       "      <td>F</td>\n",
       "      <td>сотрудник</td>\n",
       "      <td>0</td>\n",
       "      <td>112080.014102</td>\n",
       "      <td>приобретение автомобиля</td>\n",
       "    </tr>\n",
       "    <tr>\n",
       "      <th>2</th>\n",
       "      <td>0</td>\n",
       "      <td>-5623.422610</td>\n",
       "      <td>33</td>\n",
       "      <td>Среднее</td>\n",
       "      <td>1</td>\n",
       "      <td>женат / замужем</td>\n",
       "      <td>0</td>\n",
       "      <td>M</td>\n",
       "      <td>сотрудник</td>\n",
       "      <td>0</td>\n",
       "      <td>145885.952297</td>\n",
       "      <td>покупка жилья</td>\n",
       "    </tr>\n",
       "    <tr>\n",
       "      <th>3</th>\n",
       "      <td>3</td>\n",
       "      <td>-4124.747207</td>\n",
       "      <td>32</td>\n",
       "      <td>среднее</td>\n",
       "      <td>1</td>\n",
       "      <td>женат / замужем</td>\n",
       "      <td>0</td>\n",
       "      <td>M</td>\n",
       "      <td>сотрудник</td>\n",
       "      <td>0</td>\n",
       "      <td>267628.550329</td>\n",
       "      <td>дополнительное образование</td>\n",
       "    </tr>\n",
       "    <tr>\n",
       "      <th>4</th>\n",
       "      <td>0</td>\n",
       "      <td>340266.072047</td>\n",
       "      <td>53</td>\n",
       "      <td>среднее</td>\n",
       "      <td>1</td>\n",
       "      <td>гражданский брак</td>\n",
       "      <td>1</td>\n",
       "      <td>F</td>\n",
       "      <td>пенсионер</td>\n",
       "      <td>0</td>\n",
       "      <td>158616.077870</td>\n",
       "      <td>сыграть свадьбу</td>\n",
       "    </tr>\n",
       "    <tr>\n",
       "      <th>5</th>\n",
       "      <td>0</td>\n",
       "      <td>-926.185831</td>\n",
       "      <td>27</td>\n",
       "      <td>высшее</td>\n",
       "      <td>0</td>\n",
       "      <td>гражданский брак</td>\n",
       "      <td>1</td>\n",
       "      <td>M</td>\n",
       "      <td>компаньон</td>\n",
       "      <td>0</td>\n",
       "      <td>255763.565419</td>\n",
       "      <td>покупка жилья</td>\n",
       "    </tr>\n",
       "    <tr>\n",
       "      <th>6</th>\n",
       "      <td>0</td>\n",
       "      <td>-2879.202052</td>\n",
       "      <td>43</td>\n",
       "      <td>высшее</td>\n",
       "      <td>0</td>\n",
       "      <td>женат / замужем</td>\n",
       "      <td>0</td>\n",
       "      <td>F</td>\n",
       "      <td>компаньон</td>\n",
       "      <td>0</td>\n",
       "      <td>240525.971920</td>\n",
       "      <td>операции с жильем</td>\n",
       "    </tr>\n",
       "    <tr>\n",
       "      <th>7</th>\n",
       "      <td>0</td>\n",
       "      <td>-152.779569</td>\n",
       "      <td>50</td>\n",
       "      <td>СРЕДНЕЕ</td>\n",
       "      <td>1</td>\n",
       "      <td>женат / замужем</td>\n",
       "      <td>0</td>\n",
       "      <td>M</td>\n",
       "      <td>сотрудник</td>\n",
       "      <td>0</td>\n",
       "      <td>135823.934197</td>\n",
       "      <td>образование</td>\n",
       "    </tr>\n",
       "    <tr>\n",
       "      <th>8</th>\n",
       "      <td>2</td>\n",
       "      <td>-6929.865299</td>\n",
       "      <td>35</td>\n",
       "      <td>ВЫСШЕЕ</td>\n",
       "      <td>0</td>\n",
       "      <td>гражданский брак</td>\n",
       "      <td>1</td>\n",
       "      <td>F</td>\n",
       "      <td>сотрудник</td>\n",
       "      <td>0</td>\n",
       "      <td>95856.832424</td>\n",
       "      <td>на проведение свадьбы</td>\n",
       "    </tr>\n",
       "    <tr>\n",
       "      <th>9</th>\n",
       "      <td>0</td>\n",
       "      <td>-2188.756445</td>\n",
       "      <td>41</td>\n",
       "      <td>среднее</td>\n",
       "      <td>1</td>\n",
       "      <td>женат / замужем</td>\n",
       "      <td>0</td>\n",
       "      <td>M</td>\n",
       "      <td>сотрудник</td>\n",
       "      <td>0</td>\n",
       "      <td>144425.938277</td>\n",
       "      <td>покупка жилья для семьи</td>\n",
       "    </tr>\n",
       "    <tr>\n",
       "      <th>10</th>\n",
       "      <td>2</td>\n",
       "      <td>-4171.483647</td>\n",
       "      <td>36</td>\n",
       "      <td>высшее</td>\n",
       "      <td>0</td>\n",
       "      <td>женат / замужем</td>\n",
       "      <td>0</td>\n",
       "      <td>M</td>\n",
       "      <td>компаньон</td>\n",
       "      <td>0</td>\n",
       "      <td>113943.491460</td>\n",
       "      <td>покупка недвижимости</td>\n",
       "    </tr>\n",
       "    <tr>\n",
       "      <th>11</th>\n",
       "      <td>0</td>\n",
       "      <td>-792.701887</td>\n",
       "      <td>40</td>\n",
       "      <td>среднее</td>\n",
       "      <td>1</td>\n",
       "      <td>женат / замужем</td>\n",
       "      <td>0</td>\n",
       "      <td>F</td>\n",
       "      <td>сотрудник</td>\n",
       "      <td>0</td>\n",
       "      <td>77069.234271</td>\n",
       "      <td>покупка коммерческой недвижимости</td>\n",
       "    </tr>\n",
       "    <tr>\n",
       "      <th>12</th>\n",
       "      <td>0</td>\n",
       "      <td>NaN</td>\n",
       "      <td>65</td>\n",
       "      <td>среднее</td>\n",
       "      <td>1</td>\n",
       "      <td>гражданский брак</td>\n",
       "      <td>1</td>\n",
       "      <td>M</td>\n",
       "      <td>пенсионер</td>\n",
       "      <td>0</td>\n",
       "      <td>NaN</td>\n",
       "      <td>сыграть свадьбу</td>\n",
       "    </tr>\n",
       "    <tr>\n",
       "      <th>13</th>\n",
       "      <td>0</td>\n",
       "      <td>-1846.641941</td>\n",
       "      <td>54</td>\n",
       "      <td>неоконченное высшее</td>\n",
       "      <td>2</td>\n",
       "      <td>женат / замужем</td>\n",
       "      <td>0</td>\n",
       "      <td>F</td>\n",
       "      <td>сотрудник</td>\n",
       "      <td>0</td>\n",
       "      <td>130458.228857</td>\n",
       "      <td>приобретение автомобиля</td>\n",
       "    </tr>\n",
       "    <tr>\n",
       "      <th>14</th>\n",
       "      <td>0</td>\n",
       "      <td>-1844.956182</td>\n",
       "      <td>56</td>\n",
       "      <td>высшее</td>\n",
       "      <td>0</td>\n",
       "      <td>гражданский брак</td>\n",
       "      <td>1</td>\n",
       "      <td>F</td>\n",
       "      <td>компаньон</td>\n",
       "      <td>1</td>\n",
       "      <td>165127.911772</td>\n",
       "      <td>покупка жилой недвижимости</td>\n",
       "    </tr>\n",
       "    <tr>\n",
       "      <th>15</th>\n",
       "      <td>1</td>\n",
       "      <td>-972.364419</td>\n",
       "      <td>26</td>\n",
       "      <td>среднее</td>\n",
       "      <td>1</td>\n",
       "      <td>женат / замужем</td>\n",
       "      <td>0</td>\n",
       "      <td>F</td>\n",
       "      <td>сотрудник</td>\n",
       "      <td>0</td>\n",
       "      <td>116820.904450</td>\n",
       "      <td>строительство собственной недвижимости</td>\n",
       "    </tr>\n",
       "    <tr>\n",
       "      <th>16</th>\n",
       "      <td>0</td>\n",
       "      <td>-1719.934226</td>\n",
       "      <td>35</td>\n",
       "      <td>среднее</td>\n",
       "      <td>1</td>\n",
       "      <td>женат / замужем</td>\n",
       "      <td>0</td>\n",
       "      <td>F</td>\n",
       "      <td>сотрудник</td>\n",
       "      <td>0</td>\n",
       "      <td>289202.704229</td>\n",
       "      <td>недвижимость</td>\n",
       "    </tr>\n",
       "    <tr>\n",
       "      <th>17</th>\n",
       "      <td>0</td>\n",
       "      <td>-2369.999720</td>\n",
       "      <td>33</td>\n",
       "      <td>высшее</td>\n",
       "      <td>0</td>\n",
       "      <td>гражданский брак</td>\n",
       "      <td>1</td>\n",
       "      <td>M</td>\n",
       "      <td>сотрудник</td>\n",
       "      <td>0</td>\n",
       "      <td>90410.586745</td>\n",
       "      <td>строительство недвижимости</td>\n",
       "    </tr>\n",
       "    <tr>\n",
       "      <th>18</th>\n",
       "      <td>0</td>\n",
       "      <td>400281.136913</td>\n",
       "      <td>53</td>\n",
       "      <td>среднее</td>\n",
       "      <td>1</td>\n",
       "      <td>вдовец / вдова</td>\n",
       "      <td>2</td>\n",
       "      <td>F</td>\n",
       "      <td>пенсионер</td>\n",
       "      <td>0</td>\n",
       "      <td>56823.777243</td>\n",
       "      <td>на покупку подержанного автомобиля</td>\n",
       "    </tr>\n",
       "    <tr>\n",
       "      <th>19</th>\n",
       "      <td>0</td>\n",
       "      <td>-10038.818549</td>\n",
       "      <td>48</td>\n",
       "      <td>СРЕДНЕЕ</td>\n",
       "      <td>1</td>\n",
       "      <td>в разводе</td>\n",
       "      <td>3</td>\n",
       "      <td>F</td>\n",
       "      <td>сотрудник</td>\n",
       "      <td>0</td>\n",
       "      <td>242831.107982</td>\n",
       "      <td>на покупку своего автомобиля</td>\n",
       "    </tr>\n",
       "  </tbody>\n",
       "</table>\n",
       "</div>"
      ],
      "text/plain": [
       "    children  days_employed  dob_years            education  education_id  \\\n",
       "0          1   -8437.673028         42               высшее             0   \n",
       "1          1   -4024.803754         36              среднее             1   \n",
       "2          0   -5623.422610         33              Среднее             1   \n",
       "3          3   -4124.747207         32              среднее             1   \n",
       "4          0  340266.072047         53              среднее             1   \n",
       "5          0    -926.185831         27               высшее             0   \n",
       "6          0   -2879.202052         43               высшее             0   \n",
       "7          0    -152.779569         50              СРЕДНЕЕ             1   \n",
       "8          2   -6929.865299         35               ВЫСШЕЕ             0   \n",
       "9          0   -2188.756445         41              среднее             1   \n",
       "10         2   -4171.483647         36               высшее             0   \n",
       "11         0    -792.701887         40              среднее             1   \n",
       "12         0            NaN         65              среднее             1   \n",
       "13         0   -1846.641941         54  неоконченное высшее             2   \n",
       "14         0   -1844.956182         56               высшее             0   \n",
       "15         1    -972.364419         26              среднее             1   \n",
       "16         0   -1719.934226         35              среднее             1   \n",
       "17         0   -2369.999720         33               высшее             0   \n",
       "18         0  400281.136913         53              среднее             1   \n",
       "19         0  -10038.818549         48              СРЕДНЕЕ             1   \n",
       "\n",
       "       family_status  family_status_id gender income_type  debt  \\\n",
       "0    женат / замужем                 0      F   сотрудник     0   \n",
       "1    женат / замужем                 0      F   сотрудник     0   \n",
       "2    женат / замужем                 0      M   сотрудник     0   \n",
       "3    женат / замужем                 0      M   сотрудник     0   \n",
       "4   гражданский брак                 1      F   пенсионер     0   \n",
       "5   гражданский брак                 1      M   компаньон     0   \n",
       "6    женат / замужем                 0      F   компаньон     0   \n",
       "7    женат / замужем                 0      M   сотрудник     0   \n",
       "8   гражданский брак                 1      F   сотрудник     0   \n",
       "9    женат / замужем                 0      M   сотрудник     0   \n",
       "10   женат / замужем                 0      M   компаньон     0   \n",
       "11   женат / замужем                 0      F   сотрудник     0   \n",
       "12  гражданский брак                 1      M   пенсионер     0   \n",
       "13   женат / замужем                 0      F   сотрудник     0   \n",
       "14  гражданский брак                 1      F   компаньон     1   \n",
       "15   женат / замужем                 0      F   сотрудник     0   \n",
       "16   женат / замужем                 0      F   сотрудник     0   \n",
       "17  гражданский брак                 1      M   сотрудник     0   \n",
       "18    вдовец / вдова                 2      F   пенсионер     0   \n",
       "19         в разводе                 3      F   сотрудник     0   \n",
       "\n",
       "     total_income                                 purpose  \n",
       "0   253875.639453                           покупка жилья  \n",
       "1   112080.014102                 приобретение автомобиля  \n",
       "2   145885.952297                           покупка жилья  \n",
       "3   267628.550329              дополнительное образование  \n",
       "4   158616.077870                         сыграть свадьбу  \n",
       "5   255763.565419                           покупка жилья  \n",
       "6   240525.971920                       операции с жильем  \n",
       "7   135823.934197                             образование  \n",
       "8    95856.832424                   на проведение свадьбы  \n",
       "9   144425.938277                 покупка жилья для семьи  \n",
       "10  113943.491460                    покупка недвижимости  \n",
       "11   77069.234271       покупка коммерческой недвижимости  \n",
       "12            NaN                         сыграть свадьбу  \n",
       "13  130458.228857                 приобретение автомобиля  \n",
       "14  165127.911772              покупка жилой недвижимости  \n",
       "15  116820.904450  строительство собственной недвижимости  \n",
       "16  289202.704229                            недвижимость  \n",
       "17   90410.586745              строительство недвижимости  \n",
       "18   56823.777243      на покупку подержанного автомобиля  \n",
       "19  242831.107982            на покупку своего автомобиля  "
      ]
     },
     "execution_count": 3,
     "metadata": {},
     "output_type": "execute_result"
    }
   ],
   "source": [
    "data.head(20)"
   ]
  },
  {
   "cell_type": "markdown",
   "id": "424d160e",
   "metadata": {
    "deletable": false,
    "editable": false,
    "id": "1c12e233"
   },
   "source": [
    "Выводим основную информацию о датафрейме с помощью метода `info()`."
   ]
  },
  {
   "cell_type": "code",
   "execution_count": 4,
   "id": "b9effeb7",
   "metadata": {
    "deletable": false,
    "id": "2b757bca",
    "outputId": "15376089-8dad-46c9-b520-c05248d43158"
   },
   "outputs": [
    {
     "name": "stdout",
     "output_type": "stream",
     "text": [
      "<class 'pandas.core.frame.DataFrame'>\n",
      "RangeIndex: 21525 entries, 0 to 21524\n",
      "Data columns (total 12 columns):\n",
      " #   Column            Non-Null Count  Dtype  \n",
      "---  ------            --------------  -----  \n",
      " 0   children          21525 non-null  int64  \n",
      " 1   days_employed     19351 non-null  float64\n",
      " 2   dob_years         21525 non-null  int64  \n",
      " 3   education         21525 non-null  object \n",
      " 4   education_id      21525 non-null  int64  \n",
      " 5   family_status     21525 non-null  object \n",
      " 6   family_status_id  21525 non-null  int64  \n",
      " 7   gender            21525 non-null  object \n",
      " 8   income_type       21525 non-null  object \n",
      " 9   debt              21525 non-null  int64  \n",
      " 10  total_income      19351 non-null  float64\n",
      " 11  purpose           21525 non-null  object \n",
      "dtypes: float64(2), int64(5), object(5)\n",
      "memory usage: 2.0+ MB\n"
     ]
    }
   ],
   "source": [
    "data.info()"
   ]
  },
  {
   "cell_type": "markdown",
   "id": "b2725473",
   "metadata": {
    "deletable": false,
    "editable": false,
    "id": "333ec665"
   },
   "source": [
    "## Предобработка данных"
   ]
  },
  {
   "cell_type": "markdown",
   "id": "c539cc6a",
   "metadata": {
    "deletable": false,
    "editable": false,
    "id": "02d92d53"
   },
   "source": [
    "### Удаление пропусков"
   ]
  },
  {
   "cell_type": "markdown",
   "id": "79ffd873",
   "metadata": {
    "deletable": false,
    "editable": false,
    "id": "cd84967c"
   },
   "source": [
    "**Выводим количество пропущенных значений для каждого столбца. Используем комбинацию двух методов.**"
   ]
  },
  {
   "cell_type": "code",
   "execution_count": 5,
   "id": "2e50c9d7",
   "metadata": {
    "deletable": false,
    "id": "7f9b2309",
    "outputId": "81f4d817-781c-465c-ed15-91ce4446810d"
   },
   "outputs": [
    {
     "data": {
      "text/plain": [
       "children               0\n",
       "days_employed       2174\n",
       "dob_years              0\n",
       "education              0\n",
       "education_id           0\n",
       "family_status          0\n",
       "family_status_id       0\n",
       "gender                 0\n",
       "income_type            0\n",
       "debt                   0\n",
       "total_income        2174\n",
       "purpose                0\n",
       "dtype: int64"
      ]
     },
     "execution_count": 5,
     "metadata": {},
     "output_type": "execute_result"
    }
   ],
   "source": [
    "data.isna().sum()"
   ]
  },
  {
   "cell_type": "markdown",
   "id": "e786a565",
   "metadata": {
    "deletable": false,
    "editable": false,
    "id": "db86e27b"
   },
   "source": [
    "**В двух столбцах есть пропущенные значения. Один из них — `days_employed`. Пропуски в этом столбце обработаем на следующем этапе. Другой столбец с пропущенными значениями — `total_income` — хранит данные о доходах. На сумму дохода сильнее всего влияет тип занятости, поэтому заполнить пропуски в этом столбце нужно медианным значением по каждому типу из столбца `income_type`. Например, у человека с типом занятости `сотрудник` пропуск в столбце `total_income` должен быть заполнен медианным доходом среди всех записей с тем же типом.**"
   ]
  },
  {
   "cell_type": "code",
   "execution_count": 6,
   "id": "b136e4b8",
   "metadata": {
    "deletable": false,
    "id": "42006a93"
   },
   "outputs": [],
   "source": [
    "for t in data['income_type'].unique():\n",
    "    data.loc[(data['income_type'] == t) & (data['total_income'].isna()), 'total_income'] = \\\n",
    "    data.loc[(data['income_type'] == t), 'total_income'].median()"
   ]
  },
  {
   "cell_type": "markdown",
   "id": "c2a62c97",
   "metadata": {
    "deletable": false,
    "editable": false,
    "id": "89da5ece"
   },
   "source": [
    "### Обработка аномальных значений"
   ]
  },
  {
   "cell_type": "markdown",
   "id": "f11d2888",
   "metadata": {
    "deletable": false,
    "editable": false,
    "id": "57964554"
   },
   "source": [
    "**В данных могут встречаться артефакты (аномалии) — значения, которые не отражают действительность и появились по какой-то ошибке. таким артефактом будет отрицательное количество дней трудового стажа в столбце `days_employed`. Для реальных данных это нормально. Обработаем значения в этом столбце: заменим все отрицательные значения положительными с помощью метода `abs()`.**"
   ]
  },
  {
   "cell_type": "code",
   "execution_count": 7,
   "id": "4b216015",
   "metadata": {
    "deletable": false,
    "id": "f6f055bf"
   },
   "outputs": [],
   "source": [
    "data['days_employed'] = data['days_employed'].abs()"
   ]
  },
  {
   "cell_type": "markdown",
   "id": "ee48799d",
   "metadata": {
    "deletable": false,
    "editable": false,
    "id": "6107dd2f"
   },
   "source": [
    "**Для каждого типа занятости выводим медианное значение трудового стажа `days_employed` в днях.**"
   ]
  },
  {
   "cell_type": "code",
   "execution_count": 8,
   "id": "0b304360",
   "metadata": {
    "deletable": false,
    "id": "85a5faf6",
    "outputId": "801ef80e-522b-4668-f34e-565af7432bcf"
   },
   "outputs": [
    {
     "data": {
      "text/plain": [
       "income_type\n",
       "безработный        366413.652744\n",
       "в декрете            3296.759962\n",
       "госслужащий          2689.368353\n",
       "компаньон            1547.382223\n",
       "пенсионер          365213.306266\n",
       "предприниматель       520.848083\n",
       "сотрудник            1574.202821\n",
       "студент               578.751554\n",
       "Name: days_employed, dtype: float64"
      ]
     },
     "execution_count": 8,
     "metadata": {},
     "output_type": "execute_result"
    }
   ],
   "source": [
    "data.groupby('income_type')['days_employed'].agg('median')"
   ]
  },
  {
   "cell_type": "markdown",
   "id": "cff5b853",
   "metadata": {
    "deletable": false,
    "editable": false,
    "id": "38d1a030"
   },
   "source": [
    "У двух типов (безработные и пенсионеры) получатся аномально большие значения. Исправить такие значения сложно, поэтому оставим их как есть. Тем более этот столбец не понадобится для исследования."
   ]
  },
  {
   "cell_type": "markdown",
   "id": "51f0243e",
   "metadata": {
    "deletable": false,
    "editable": false,
    "id": "d8a9f147"
   },
   "source": [
    "**Выводим перечень уникальных значений столбца `children`.**"
   ]
  },
  {
   "cell_type": "code",
   "execution_count": 9,
   "id": "d56ef48e",
   "metadata": {
    "deletable": false,
    "id": "ef5056eb",
    "outputId": "6975b15c-7f95-4697-d16d-a0c79b657b03"
   },
   "outputs": [
    {
     "data": {
      "text/plain": [
       "array([ 1,  0,  3,  2, -1,  4, 20,  5])"
      ]
     },
     "execution_count": 9,
     "metadata": {},
     "output_type": "execute_result"
    }
   ],
   "source": [
    "data['children'].unique()"
   ]
  },
  {
   "cell_type": "markdown",
   "id": "e73a16c0",
   "metadata": {
    "deletable": false,
    "editable": false,
    "id": "40b9ebf2"
   },
   "source": [
    "**В столбце `children` есть два аномальных значения. Удалим строки, в которых встречаются такие аномальные значения из датафрейма `data`.**"
   ]
  },
  {
   "cell_type": "code",
   "execution_count": 10,
   "id": "4915f822",
   "metadata": {
    "deletable": false,
    "id": "3ff9801d"
   },
   "outputs": [],
   "source": [
    "data = data[(data['children'] != -1) & (data['children'] != 20)]"
   ]
  },
  {
   "cell_type": "markdown",
   "id": "e69096ca",
   "metadata": {
    "deletable": false,
    "editable": false,
    "id": "bbc4d0ce"
   },
   "source": [
    "**Ещё раз выведем перечень уникальных значений столбца `children`, чтобы убедиться, что артефакты удалены.**"
   ]
  },
  {
   "cell_type": "code",
   "execution_count": 11,
   "id": "0a96d1c1",
   "metadata": {
    "deletable": false,
    "id": "ad4fa8b7",
    "outputId": "b2097101-d49d-44d9-901b-32a65c9463d1"
   },
   "outputs": [
    {
     "data": {
      "text/plain": [
       "array([1, 0, 3, 2, 4, 5])"
      ]
     },
     "execution_count": 11,
     "metadata": {},
     "output_type": "execute_result"
    }
   ],
   "source": [
    "data['children'].unique()"
   ]
  },
  {
   "cell_type": "markdown",
   "id": "7e97aa8a",
   "metadata": {
    "deletable": false,
    "editable": false,
    "id": "75440b63"
   },
   "source": [
    "### Удаление пропусков (продолжение)"
   ]
  },
  {
   "cell_type": "markdown",
   "id": "7266a3f0",
   "metadata": {
    "deletable": false,
    "editable": false,
    "id": "f4ea573f"
   },
   "source": [
    "**Заполним пропуски в столбце `days_employed` медианными значениями по каждого типа занятости `income_type`.**"
   ]
  },
  {
   "cell_type": "code",
   "execution_count": 12,
   "id": "8c9cab26",
   "metadata": {
    "deletable": false,
    "id": "af6b1a7e"
   },
   "outputs": [],
   "source": [
    "for t in data['income_type'].unique():\n",
    "    data.loc[(data['income_type'] == t) & (data['days_employed'].isna()), 'days_employed'] = \\\n",
    "    data.loc[(data['income_type'] == t), 'days_employed'].median()"
   ]
  },
  {
   "cell_type": "markdown",
   "id": "5684ac59",
   "metadata": {
    "deletable": false,
    "editable": false,
    "id": "2753f40d"
   },
   "source": [
    "**Убедимся, что все пропуски заполнены. Для проверки ещё раз выводим количество пропущенных значений для каждого столбца с помощью двух методов.**"
   ]
  },
  {
   "cell_type": "code",
   "execution_count": 13,
   "id": "37ae2fba",
   "metadata": {
    "deletable": false,
    "id": "55f78bc2",
    "outputId": "8da1e4e1-358e-4e87-98c9-f261bce0a7b2"
   },
   "outputs": [
    {
     "data": {
      "text/plain": [
       "children            0\n",
       "days_employed       0\n",
       "dob_years           0\n",
       "education           0\n",
       "education_id        0\n",
       "family_status       0\n",
       "family_status_id    0\n",
       "gender              0\n",
       "income_type         0\n",
       "debt                0\n",
       "total_income        0\n",
       "purpose             0\n",
       "dtype: int64"
      ]
     },
     "execution_count": 13,
     "metadata": {},
     "output_type": "execute_result"
    }
   ],
   "source": [
    "data.isna().sum()"
   ]
  },
  {
   "cell_type": "markdown",
   "id": "4f35e7a9",
   "metadata": {
    "deletable": false,
    "editable": false,
    "id": "ddc81e43"
   },
   "source": [
    "### Изменение типов данных"
   ]
  },
  {
   "cell_type": "markdown",
   "id": "588722fd",
   "metadata": {
    "deletable": false,
    "editable": false,
    "id": "42d19d24"
   },
   "source": [
    "** Заменим вещественный тип данных в столбце `total_income` на целочисленный с помощью метода `astype()`.**"
   ]
  },
  {
   "cell_type": "code",
   "execution_count": 14,
   "id": "41427145",
   "metadata": {
    "deletable": false,
    "id": "920b65ad"
   },
   "outputs": [],
   "source": [
    "data['total_income'] = data['total_income'].astype(int)"
   ]
  },
  {
   "cell_type": "markdown",
   "id": "67ded316",
   "metadata": {
    "deletable": false,
    "editable": false,
    "id": "80c420ba"
   },
   "source": [
    "### Обработка дубликатов"
   ]
  },
  {
   "cell_type": "markdown",
   "id": "7ca7bcb3",
   "metadata": {
    "deletable": false,
    "editable": false
   },
   "source": [
    "** Обработаем неявные дубликаты в столбце `education`. В этом столбце есть одни и те же значения, но записанные по-разному: с использованием заглавных и строчных букв. Приводим их к нижнему регистру.**"
   ]
  },
  {
   "cell_type": "code",
   "execution_count": 15,
   "id": "93fc54c9",
   "metadata": {
    "deletable": false
   },
   "outputs": [],
   "source": [
    "data['education'] = data['education'].str.lower()"
   ]
  },
  {
   "cell_type": "markdown",
   "id": "0f689919",
   "metadata": {
    "deletable": false,
    "editable": false,
    "id": "dc587695"
   },
   "source": [
    "** Выводим на экран количество строк-дубликатов в данных. Если такие строки присутствуют, удаляем их.**"
   ]
  },
  {
   "cell_type": "code",
   "execution_count": 16,
   "id": "2651fbd7",
   "metadata": {
    "deletable": false,
    "id": "3ee445e4",
    "outputId": "9684deba-1934-42d1-99e1-cda61740f822"
   },
   "outputs": [
    {
     "data": {
      "text/plain": [
       "71"
      ]
     },
     "execution_count": 16,
     "metadata": {},
     "output_type": "execute_result"
    }
   ],
   "source": [
    "data.duplicated().sum()"
   ]
  },
  {
   "cell_type": "code",
   "execution_count": 17,
   "id": "98b9f750",
   "metadata": {
    "deletable": false,
    "id": "8575fe05"
   },
   "outputs": [],
   "source": [
    "data = data.drop_duplicates()"
   ]
  },
  {
   "cell_type": "markdown",
   "id": "287fdca5",
   "metadata": {
    "deletable": false,
    "editable": false,
    "id": "9904cf55"
   },
   "source": [
    "### Категоризация данных"
   ]
  },
  {
   "cell_type": "markdown",
   "id": "b18ef306",
   "metadata": {
    "deletable": false,
    "editable": false,
    "id": "72fcc8a2"
   },
   "source": [
    "** На основании диапазонов, указанных ниже, создаем в датафрейме `data` столбец `total_income_category` с категориями:**\n",
    "\n",
    "- 0–30000 — `'E'`;\n",
    "- 30001–50000 — `'D'`;\n",
    "- 50001–200000 — `'C'`;\n",
    "- 200001–1000000 — `'B'`;\n",
    "- 1000001 и выше — `'A'`.\n",
    "\n",
    "\n",
    "**Например, кредитополучателю с доходом 25000 нужно назначить категорию `'E'`, а клиенту, получающему 235000, — `'B'`. Используем собственную функцию с именем `categorize_income()` и метод `apply()`.**"
   ]
  },
  {
   "cell_type": "code",
   "execution_count": 18,
   "id": "c7511231",
   "metadata": {
    "deletable": false,
    "id": "e1771346"
   },
   "outputs": [],
   "source": [
    "def categorize_income(income):\n",
    "    try:\n",
    "        if 0 <= income <= 30000:\n",
    "            return 'E'\n",
    "        elif 30001 <= income <= 50000:\n",
    "            return 'D'\n",
    "        elif 50001 <= income <= 200000:\n",
    "            return 'C'\n",
    "        elif 200001 <= income <= 1000000:\n",
    "            return 'B'\n",
    "        elif income >= 1000001:\n",
    "            return 'A'\n",
    "    except:\n",
    "        pass"
   ]
  },
  {
   "cell_type": "code",
   "execution_count": 19,
   "id": "f4ae63c2",
   "metadata": {
    "deletable": false,
    "id": "d5f3586d"
   },
   "outputs": [],
   "source": [
    "data['total_income_category'] = data['total_income'].apply(categorize_income)"
   ]
  },
  {
   "cell_type": "markdown",
   "id": "6fd94f45",
   "metadata": {
    "deletable": false,
    "editable": false,
    "id": "dde49b5c"
   },
   "source": [
    "** Выводим на экран перечень уникальных целей взятия кредита из столбца `purpose`.**"
   ]
  },
  {
   "cell_type": "code",
   "execution_count": 20,
   "id": "6fc8403b",
   "metadata": {
    "deletable": false,
    "id": "f67ce9b3",
    "outputId": "673c12d9-7d7e-4ae0-9812-c622c89dd244"
   },
   "outputs": [
    {
     "data": {
      "text/plain": [
       "array(['покупка жилья', 'приобретение автомобиля',\n",
       "       'дополнительное образование', 'сыграть свадьбу',\n",
       "       'операции с жильем', 'образование', 'на проведение свадьбы',\n",
       "       'покупка жилья для семьи', 'покупка недвижимости',\n",
       "       'покупка коммерческой недвижимости', 'покупка жилой недвижимости',\n",
       "       'строительство собственной недвижимости', 'недвижимость',\n",
       "       'строительство недвижимости', 'на покупку подержанного автомобиля',\n",
       "       'на покупку своего автомобиля',\n",
       "       'операции с коммерческой недвижимостью',\n",
       "       'строительство жилой недвижимости', 'жилье',\n",
       "       'операции со своей недвижимостью', 'автомобили',\n",
       "       'заняться образованием', 'сделка с подержанным автомобилем',\n",
       "       'получение образования', 'автомобиль', 'свадьба',\n",
       "       'получение дополнительного образования', 'покупка своего жилья',\n",
       "       'операции с недвижимостью', 'получение высшего образования',\n",
       "       'свой автомобиль', 'сделка с автомобилем',\n",
       "       'профильное образование', 'высшее образование',\n",
       "       'покупка жилья для сдачи', 'на покупку автомобиля', 'ремонт жилью',\n",
       "       'заняться высшим образованием'], dtype=object)"
      ]
     },
     "execution_count": 20,
     "metadata": {},
     "output_type": "execute_result"
    }
   ],
   "source": [
    "data['purpose'].unique()"
   ]
  },
  {
   "cell_type": "markdown",
   "id": "f937169e",
   "metadata": {
    "deletable": false,
    "editable": false,
    "id": "85d0aef0"
   },
   "source": [
    "**Создаем функцию, которая на основании данных из столбца `purpose` сформирует новый столбец `purpose_category`, в который войдут следующие категории:**\n",
    "\n",
    "- `'операции с автомобилем'`,\n",
    "- `'операции с недвижимостью'`,\n",
    "- `'проведение свадьбы'`,\n",
    "- `'получение образования'`.\n",
    "\n",
    "**Например, если в столбце `purpose` находится подстрока `'на покупку автомобиля'`, то в столбце `purpose_category` должна появиться строка `'операции с автомобилем'`.**\n",
    "\n",
    "**Используем собственную функцию с именем `categorize_purpose()` и метод `apply()`. Изучим данные в столбце `purpose` и определим, какие подстроки помогут правильно определить категорию.**"
   ]
  },
  {
   "cell_type": "code",
   "execution_count": 21,
   "id": "68617ddf",
   "metadata": {
    "deletable": false,
    "id": "e149fab4"
   },
   "outputs": [],
   "source": [
    "def categorize_purpose(row):\n",
    "    try:\n",
    "        if 'автом' in row:\n",
    "            return 'операции с автомобилем'\n",
    "        elif 'жил' in row or 'недвиж' in row:\n",
    "            return 'операции с недвижимостью'\n",
    "        elif 'свад' in row:\n",
    "            return 'проведение свадьбы'\n",
    "        elif 'образов' in row:\n",
    "            return 'получение образования'\n",
    "    except:\n",
    "        return 'нет категории'"
   ]
  },
  {
   "cell_type": "code",
   "execution_count": 22,
   "id": "dd50e257",
   "metadata": {
    "deletable": false,
    "id": "bf36e69b"
   },
   "outputs": [],
   "source": [
    "data['purpose_category'] = data['purpose'].apply(categorize_purpose)"
   ]
  },
  {
   "cell_type": "markdown",
   "id": "c93d7b08",
   "metadata": {
    "deletable": false,
    "editable": false,
    "id": "09b242bf"
   },
   "source": [
    "### Исследуем данные и отвечаем на вопросы"
   ]
  },
  {
   "cell_type": "markdown",
   "id": "dbcdb295",
   "metadata": {
    "deletable": false,
    "editable": false,
    "id": "c5d66278"
   },
   "source": [
    "#### Есть ли зависимость между количеством детей и возвратом кредита в срок?"
   ]
  },
  {
   "cell_type": "code",
   "execution_count": 28,
   "id": "8c514a32",
   "metadata": {
    "deletable": false,
    "id": "2cacfc4a"
   },
   "outputs": [
    {
     "name": "stdout",
     "output_type": "stream",
     "text": [
      "          count   sum      debt\n",
      "children                       \n",
      "0         14091  1063  0.075438\n",
      "1          4808   444  0.092346\n",
      "2          2052   194  0.094542\n",
      "3           330    27  0.081818\n",
      "4            41     4  0.097561\n",
      "5             9     0  0.000000\n"
     ]
    }
   ],
   "source": [
    "data_pivot =  data.pivot_table(index=['children'], values = 'debt', aggfunc = {'sum','count'})\n",
    "# sum debt - количество клиентов имеющие задержки в оплате по кредитам. len debt - общее количество клиентов\n",
    "data_pivot['debt'] = data.pivot_table(index=['children'], values = 'debt')\n",
    "# сводная таблица зависимости кол-ва детей и возврат кредита в срок.\n",
    "print(data_pivot)"
   ]
  },
  {
   "cell_type": "markdown",
   "id": "04c3ee27",
   "metadata": {
    "deletable": false,
    "id": "3a6b99ec"
   },
   "source": [
    "**Вывод:** \n",
    "Проанализировав результат можно заключить, что чаще возвращают кредит во время клиенты без детей. Явной зависимости не прослеживается. В целом возврат кредита в срок от числа детей не зависит. Хуже возвращали кредит клиенты с 4 детьми. Клиенты с 5 детьми считаем аномалией. Рекомендуется повторно уточнить информацию, либо не брать в общий анализ."
   ]
  },
  {
   "cell_type": "markdown",
   "id": "97babcec",
   "metadata": {
    "deletable": false,
    "editable": false,
    "id": "97be82ca"
   },
   "source": [
    "#### Есть ли зависимость между семейным положением и возвратом кредита в срок?"
   ]
  },
  {
   "cell_type": "code",
   "execution_count": 29,
   "id": "ff247688",
   "metadata": {
    "deletable": false,
    "id": "dc3f7ee8"
   },
   "outputs": [
    {
     "name": "stdout",
     "output_type": "stream",
     "text": [
      "                       count  sum      debt\n",
      "family_status                              \n",
      "Не женат / не замужем   2796  273  0.097639\n",
      "в разводе               1189   84  0.070648\n",
      "вдовец / вдова           951   63  0.066246\n",
      "гражданский брак        4134  385  0.093130\n",
      "женат / замужем        12261  927  0.075606\n"
     ]
    }
   ],
   "source": [
    "data_pivot =  data.pivot_table(index=['family_status'], values = 'debt', aggfunc = {'sum','count'})\n",
    "# count   - общее количество клиентов, sum  - количество клиентов имеющие задержки в оплате по кредитам. \n",
    "data_pivot['debt'] = data.pivot_table(index=['family_status'], values = 'debt')\n",
    "# сводная таблица зависимости кол-ва детей и возврат кредита в срок.\n",
    "\n",
    "print(data_pivot)"
   ]
  },
  {
   "cell_type": "markdown",
   "id": "4cddc9ad",
   "metadata": {
    "deletable": false,
    "id": "1cef7837"
   },
   "source": [
    "**Вывод:** Семейное положение не влияет на возврат кредита в срок. Отметить можно клиентов с семейным статусом **вдовец / вдова**. Доля возвратов кредита в срок у них выше, чем остальных."
   ]
  },
  {
   "cell_type": "markdown",
   "id": "31475927",
   "metadata": {
    "deletable": false,
    "editable": false,
    "id": "1e8b2fca"
   },
   "source": [
    "#### Есть ли зависимость между уровнем дохода и возвратом кредита в срок?"
   ]
  },
  {
   "cell_type": "code",
   "execution_count": 30,
   "id": "9ebcd411",
   "metadata": {
    "deletable": false,
    "id": "cd7e3720"
   },
   "outputs": [
    {
     "name": "stdout",
     "output_type": "stream",
     "text": [
      "                       count   sum      debt\n",
      "total_income_category                       \n",
      "A                         25     2  0.080000\n",
      "B                       5014   354  0.070602\n",
      "C                      15921  1353  0.084982\n",
      "D                        349    21  0.060172\n",
      "E                         22     2  0.090909\n"
     ]
    }
   ],
   "source": [
    "data_pivot =  data.pivot_table(index=['total_income_category'], values = 'debt', aggfunc = {'sum','count'})\n",
    "# count   - общее количество клиентов, sum  - количество клиентов имеющие задержки в оплате по кредитам. \n",
    "data_pivot['debt'] = data.pivot_table(index=['total_income_category'], values = 'debt')\n",
    "# сводная таблица зависимости кол-ва детей и возврат кредита в срок.\n",
    "\n",
    "print(data_pivot)"
   ]
  },
  {
   "cell_type": "markdown",
   "id": "ea7f71d2",
   "metadata": {
    "deletable": false,
    "id": "e8593def"
   },
   "source": [
    "**Вывод:** Предварительно можно сказать, что данных по каждой категории не достаточно для корректного анализа зависимости. \n",
    "\n",
    "Отбросив малочисленные категории, можно сделать вывод, что зависимость следующая: чем больше уровень дохода, тем чаще клиенты возвращают кредит в срок."
   ]
  },
  {
   "cell_type": "markdown",
   "id": "2ba20d9c",
   "metadata": {
    "deletable": false,
    "editable": false,
    "id": "99ecbd1f"
   },
   "source": [
    "#### Как разные цели кредита влияют на его возврат в срок?"
   ]
  },
  {
   "cell_type": "code",
   "execution_count": 31,
   "id": "7b650c86",
   "metadata": {
    "deletable": false,
    "id": "2b687290"
   },
   "outputs": [
    {
     "name": "stdout",
     "output_type": "stream",
     "text": [
      "                          count  sum      debt\n",
      "purpose_category                              \n",
      "операции с автомобилем     4279  400  0.093480\n",
      "операции с недвижимостью  10751  780  0.072551\n",
      "получение образования      3988  369  0.092528\n",
      "проведение свадьбы         2313  183  0.079118\n"
     ]
    }
   ],
   "source": [
    "data_pivot =  data.pivot_table(index=['purpose_category'], values = 'debt', aggfunc = {'sum','count'})\n",
    "# count   - общее количество клиентов, sum  - количество клиентов имеющие задержки в оплате по кредитам. \n",
    "data_pivot['debt'] = data.pivot_table(index=['purpose_category'], values = 'debt')\n",
    "\n",
    "print(data_pivot)"
   ]
  },
  {
   "cell_type": "markdown",
   "id": "795ba0be",
   "metadata": {
    "deletable": false,
    "id": "b4bb2ce6"
   },
   "source": [
    "**Вывод:** Клиенты с целью кредита \"операции с недвижимостью\" чаще возвращают кредит в срок. Реже всех возвращают кредит вовремя клиенты с целью \"операции с автомобилем\"."
   ]
  },
  {
   "cell_type": "markdown",
   "id": "6346553e",
   "metadata": {
    "deletable": false,
    "editable": false,
    "id": "09c3ac4c"
   },
   "source": [
    "#### Приведем возможные причины появления пропусков в исходных данных."
   ]
  },
  {
   "cell_type": "markdown",
   "id": "ac169c61",
   "metadata": {
    "deletable": false,
    "id": "9da2ceda"
   },
   "source": [
    "*Ответ:* \n",
    "\n",
    "- Первая причина - непредоставление информации клиентом (человеческий фактор):\n",
    "\n",
    "    К примеру: клиент неимеющий ежемесячного дохода или клиент никода не работал(а). Данная информация могла повлиять на получение кредита и клиент мог не указать информацию о себе.\n",
    "\n",
    "\n",
    "- Вторая причина - произошла техническая ошибка.\n",
    "\n",
    "    При записи/выгрузки или при подготовке данные могут \"потеряться\"."
   ]
  },
  {
   "cell_type": "markdown",
   "id": "845ff53b",
   "metadata": {
    "deletable": false,
    "editable": false,
    "id": "7b0487d6"
   },
   "source": [
    "#### Объясняем, почему заполнить пропуски медианным значением — лучшее решение для количественных переменных."
   ]
  },
  {
   "cell_type": "markdown",
   "id": "4bd9bf90",
   "metadata": {
    "deletable": false,
    "id": "7ecf2b8e"
   },
   "source": [
    "*Ответ:* Медийные значения лучше решение. На них не влияют значения выбивающиеся из общей массы в списке, в отличие от среднего начения."
   ]
  },
  {
   "cell_type": "markdown",
   "id": "0722d873",
   "metadata": {
    "deletable": false,
    "editable": false,
    "id": "6db5255a"
   },
   "source": [
    "### Шаг 4: общий вывод."
   ]
  },
  {
   "cell_type": "markdown",
   "id": "791217f2",
   "metadata": {
    "deletable": false,
    "id": "bad65432"
   },
   "source": [
    "***Исследование данных и зависимостей***\n",
    "\n",
    "Иследовав данные получили зависимости показателей \"семейное положение\", \"уровень дохода\" и \"цели кредита\" на возврат кредита в срок, тем самым можно охарактеризовать надежность будущих клиентов.\n",
    "\n",
    "По зависимости между количеством детей и возвратом кредита в срок можно утверждать, что клиенты без детей чаще возвращают кредиты в срок.\n",
    "\n",
    "По зависимости разных целей кредита и его возврат в срок - клиенты с большим доходом чаще возвращают кредиты в срок. <br>\n",
    "Эти зависимости могли оказаться иными, если бы клиентов других категорий было больше.\n",
    "\n",
    "По зависимости между семейным положением и возвратом кредита в срок можно утверждать что клиенты с семейным положением вдовец / вдова чаще возвращают кредиты в срок.\n",
    "\n",
    "По зависимости разных целей кредита и его возврат в срок - клиенты с целью кредита \"операции с недвижимостью\" чаще возвращают кредиты в срок.\n",
    "\n",
    "***Резумируя можно выделить типы клиентов:***\n",
    "\n",
    "Клиент надежный: <br>\n",
    "- Количество детей - без детей\n",
    "- Семейное положение - вдовец/вдова\n",
    "- Уровень дохода - не мене 200001, но не более 1000000\n",
    "- Цель кредита - операции с недвижимостью\n",
    "\n",
    "Клиент средний: <br>\n",
    "- Количество детей - от 1 до 2\n",
    "- Семейное положение - женат/ замужем / в разводе\n",
    "- Уровень дохода - не мене 50000, но не более 200000\n",
    "- Цель кредита - проведение свадьбы\n",
    "\n",
    "Клиент не надежный: <br>\n",
    "- Количество детей - более 2\n",
    "- Семейное положение - не женат / не замжем / гражданский брак\n",
    "- Уровень дохода - до 30000\n",
    "- Цель кредита - операции с автомобилем / получение образования\n",
    "\n",
    "***Рекомендации заказчику:***\n",
    "1. Исключить некорректный ввод данных. \n",
    "2. Сделать все поля ввода данных, которые указаны в таблице, обязательными.\n",
    "3. Повторно предоставить обновленные данные для корректировки анализа."
   ]
  }
 ],
 "metadata": {
  "ExecuteTimeLog": [
   {
    "duration": 46,
    "start_time": "2023-01-10T17:31:00.342Z"
   },
   {
    "duration": 673,
    "start_time": "2023-01-10T17:31:59.807Z"
   },
   {
    "duration": 20,
    "start_time": "2023-01-10T17:32:02.963Z"
   },
   {
    "duration": 14,
    "start_time": "2023-01-10T17:32:06.850Z"
   },
   {
    "duration": 10,
    "start_time": "2023-01-10T17:32:10.330Z"
   },
   {
    "duration": 33,
    "start_time": "2023-01-10T17:32:20.835Z"
   },
   {
    "duration": 3,
    "start_time": "2023-01-10T17:32:23.730Z"
   },
   {
    "duration": 7,
    "start_time": "2023-01-10T17:32:26.186Z"
   },
   {
    "duration": 4,
    "start_time": "2023-01-10T17:32:35.083Z"
   },
   {
    "duration": 8,
    "start_time": "2023-01-10T17:32:37.531Z"
   },
   {
    "duration": 4,
    "start_time": "2023-01-10T17:32:38.586Z"
   },
   {
    "duration": 32,
    "start_time": "2023-01-10T17:32:43.363Z"
   },
   {
    "duration": 9,
    "start_time": "2023-01-10T17:32:45.874Z"
   },
   {
    "duration": 4,
    "start_time": "2023-01-10T17:32:49.698Z"
   },
   {
    "duration": 11,
    "start_time": "2023-01-10T17:32:56.489Z"
   },
   {
    "duration": 19,
    "start_time": "2023-01-10T17:33:18.442Z"
   },
   {
    "duration": 17,
    "start_time": "2023-01-10T17:33:21.409Z"
   },
   {
    "duration": 3,
    "start_time": "2023-01-10T17:33:25.530Z"
   },
   {
    "duration": 9,
    "start_time": "2023-01-10T17:33:26.260Z"
   },
   {
    "duration": 6,
    "start_time": "2023-01-10T17:33:27.409Z"
   },
   {
    "duration": 3,
    "start_time": "2023-01-10T17:33:31.243Z"
   },
   {
    "duration": 8,
    "start_time": "2023-01-10T17:33:32.064Z"
   },
   {
    "duration": 14,
    "start_time": "2023-01-10T17:33:36.761Z"
   },
   {
    "duration": 11,
    "start_time": "2023-01-10T17:33:59.722Z"
   },
   {
    "duration": 12,
    "start_time": "2023-01-10T17:37:12.178Z"
   },
   {
    "duration": 12,
    "start_time": "2023-01-10T17:44:02.904Z"
   },
   {
    "duration": 34,
    "start_time": "2023-01-10T18:02:12.935Z"
   },
   {
    "duration": 11,
    "start_time": "2023-01-10T18:04:01.615Z"
   },
   {
    "duration": 61,
    "start_time": "2023-01-10T18:06:22.080Z"
   },
   {
    "duration": 14,
    "start_time": "2023-01-10T18:06:22.143Z"
   },
   {
    "duration": 22,
    "start_time": "2023-01-10T18:06:22.158Z"
   },
   {
    "duration": 9,
    "start_time": "2023-01-10T18:06:22.181Z"
   },
   {
    "duration": 36,
    "start_time": "2023-01-10T18:06:22.191Z"
   },
   {
    "duration": 3,
    "start_time": "2023-01-10T18:06:22.229Z"
   },
   {
    "duration": 24,
    "start_time": "2023-01-10T18:06:22.233Z"
   },
   {
    "duration": 4,
    "start_time": "2023-01-10T18:06:22.258Z"
   },
   {
    "duration": 16,
    "start_time": "2023-01-10T18:06:22.263Z"
   },
   {
    "duration": 15,
    "start_time": "2023-01-10T18:06:22.280Z"
   },
   {
    "duration": 37,
    "start_time": "2023-01-10T18:06:22.296Z"
   },
   {
    "duration": 10,
    "start_time": "2023-01-10T18:06:22.334Z"
   },
   {
    "duration": 10,
    "start_time": "2023-01-10T18:06:22.346Z"
   },
   {
    "duration": 22,
    "start_time": "2023-01-10T18:06:22.358Z"
   },
   {
    "duration": 29,
    "start_time": "2023-01-10T18:06:22.382Z"
   },
   {
    "duration": 16,
    "start_time": "2023-01-10T18:06:22.414Z"
   },
   {
    "duration": 9,
    "start_time": "2023-01-10T18:06:22.431Z"
   },
   {
    "duration": 18,
    "start_time": "2023-01-10T18:06:22.441Z"
   },
   {
    "duration": 13,
    "start_time": "2023-01-10T18:06:22.460Z"
   },
   {
    "duration": 18,
    "start_time": "2023-01-10T18:06:22.474Z"
   },
   {
    "duration": 20,
    "start_time": "2023-01-10T18:06:22.493Z"
   },
   {
    "duration": 20,
    "start_time": "2023-01-10T18:06:22.515Z"
   },
   {
    "duration": 2,
    "start_time": "2023-01-10T18:06:22.536Z"
   },
   {
    "duration": 15,
    "start_time": "2023-01-10T18:06:22.540Z"
   },
   {
    "duration": 23,
    "start_time": "2023-01-10T18:06:22.556Z"
   },
   {
    "duration": 11,
    "start_time": "2023-01-10T18:06:34.758Z"
   },
   {
    "duration": 18,
    "start_time": "2023-01-10T18:06:55.861Z"
   },
   {
    "duration": 14,
    "start_time": "2023-01-10T18:07:06.814Z"
   },
   {
    "duration": 13,
    "start_time": "2023-01-10T18:13:19.110Z"
   },
   {
    "duration": 12,
    "start_time": "2023-01-10T18:13:29.798Z"
   },
   {
    "duration": 18,
    "start_time": "2023-01-10T18:15:25.015Z"
   },
   {
    "duration": 20,
    "start_time": "2023-01-10T18:16:25.766Z"
   },
   {
    "duration": 12,
    "start_time": "2023-01-10T18:17:26.217Z"
   },
   {
    "duration": 16,
    "start_time": "2023-01-10T18:17:59.392Z"
   },
   {
    "duration": 13,
    "start_time": "2023-01-10T18:20:34.633Z"
   },
   {
    "duration": 15,
    "start_time": "2023-01-10T18:28:05.873Z"
   },
   {
    "duration": 23,
    "start_time": "2023-01-10T18:29:47.254Z"
   },
   {
    "duration": 25,
    "start_time": "2023-01-10T18:30:04.326Z"
   },
   {
    "duration": 35,
    "start_time": "2023-01-10T18:30:35.880Z"
   },
   {
    "duration": 18,
    "start_time": "2023-01-10T18:31:11.239Z"
   },
   {
    "duration": 51,
    "start_time": "2023-01-10T18:38:33.974Z"
   },
   {
    "duration": 14,
    "start_time": "2023-01-10T18:38:40.960Z"
   },
   {
    "duration": 139,
    "start_time": "2023-01-10T18:39:03.228Z"
   },
   {
    "duration": 304,
    "start_time": "2023-01-10T18:39:30.719Z"
   },
   {
    "duration": 98,
    "start_time": "2023-01-10T18:39:36.039Z"
   },
   {
    "duration": 200,
    "start_time": "2023-01-10T18:39:41.881Z"
   },
   {
    "duration": 61,
    "start_time": "2023-01-10T18:49:33.946Z"
   },
   {
    "duration": 12,
    "start_time": "2023-01-10T18:49:41.072Z"
   },
   {
    "duration": 58,
    "start_time": "2023-01-10T18:50:25.248Z"
   },
   {
    "duration": 16,
    "start_time": "2023-01-10T18:50:30.777Z"
   },
   {
    "duration": 48,
    "start_time": "2023-01-11T19:55:18.352Z"
   },
   {
    "duration": 727,
    "start_time": "2023-01-11T19:55:24.611Z"
   },
   {
    "duration": 21,
    "start_time": "2023-01-11T19:55:27.659Z"
   },
   {
    "duration": 13,
    "start_time": "2023-01-11T19:55:31.083Z"
   },
   {
    "duration": 10,
    "start_time": "2023-01-11T19:55:33.459Z"
   },
   {
    "duration": 32,
    "start_time": "2023-01-11T19:55:36.107Z"
   },
   {
    "duration": 4,
    "start_time": "2023-01-11T19:55:37.962Z"
   },
   {
    "duration": 8,
    "start_time": "2023-01-11T19:55:38.722Z"
   },
   {
    "duration": 4,
    "start_time": "2023-01-11T19:55:40.923Z"
   },
   {
    "duration": 7,
    "start_time": "2023-01-11T19:55:41.811Z"
   },
   {
    "duration": 5,
    "start_time": "2023-01-11T19:55:42.818Z"
   },
   {
    "duration": 30,
    "start_time": "2023-01-11T19:55:44.590Z"
   },
   {
    "duration": 10,
    "start_time": "2023-01-11T19:55:45.378Z"
   },
   {
    "duration": 4,
    "start_time": "2023-01-11T19:55:47.846Z"
   },
   {
    "duration": 10,
    "start_time": "2023-01-11T19:55:49.298Z"
   },
   {
    "duration": 19,
    "start_time": "2023-01-11T19:55:50.106Z"
   },
   {
    "duration": 17,
    "start_time": "2023-01-11T19:55:51.082Z"
   },
   {
    "duration": 3,
    "start_time": "2023-01-11T19:55:52.667Z"
   },
   {
    "duration": 10,
    "start_time": "2023-01-11T19:55:53.538Z"
   },
   {
    "duration": 6,
    "start_time": "2023-01-11T19:55:54.482Z"
   },
   {
    "duration": 4,
    "start_time": "2023-01-11T19:55:56.467Z"
   },
   {
    "duration": 9,
    "start_time": "2023-01-11T19:55:57.170Z"
   },
   {
    "duration": 28,
    "start_time": "2023-01-11T19:55:58.818Z"
   },
   {
    "duration": 29,
    "start_time": "2023-01-11T19:56:26.708Z"
   },
   {
    "duration": 33,
    "start_time": "2023-01-11T19:56:58.211Z"
   },
   {
    "duration": 31,
    "start_time": "2023-01-11T19:57:57.284Z"
   },
   {
    "duration": 49,
    "start_time": "2023-01-12T05:19:20.381Z"
   },
   {
    "duration": 570,
    "start_time": "2023-01-12T05:19:29.903Z"
   },
   {
    "duration": 21,
    "start_time": "2023-01-12T05:19:31.666Z"
   },
   {
    "duration": 19,
    "start_time": "2023-01-12T05:19:34.195Z"
   },
   {
    "duration": 9,
    "start_time": "2023-01-12T05:19:35.968Z"
   },
   {
    "duration": 32,
    "start_time": "2023-01-12T05:19:38.399Z"
   },
   {
    "duration": 4,
    "start_time": "2023-01-12T05:19:39.199Z"
   },
   {
    "duration": 8,
    "start_time": "2023-01-12T05:19:39.842Z"
   },
   {
    "duration": 5,
    "start_time": "2023-01-12T05:19:41.775Z"
   },
   {
    "duration": 7,
    "start_time": "2023-01-12T05:19:42.927Z"
   },
   {
    "duration": 4,
    "start_time": "2023-01-12T05:19:44.335Z"
   },
   {
    "duration": 33,
    "start_time": "2023-01-12T05:19:46.462Z"
   },
   {
    "duration": 10,
    "start_time": "2023-01-12T05:19:47.839Z"
   },
   {
    "duration": 4,
    "start_time": "2023-01-12T05:19:49.329Z"
   },
   {
    "duration": 10,
    "start_time": "2023-01-12T05:19:51.121Z"
   },
   {
    "duration": 18,
    "start_time": "2023-01-12T05:19:51.873Z"
   },
   {
    "duration": 18,
    "start_time": "2023-01-12T05:19:52.911Z"
   },
   {
    "duration": 3,
    "start_time": "2023-01-12T05:19:54.671Z"
   },
   {
    "duration": 9,
    "start_time": "2023-01-12T05:19:55.439Z"
   },
   {
    "duration": 6,
    "start_time": "2023-01-12T05:19:57.823Z"
   },
   {
    "duration": 4,
    "start_time": "2023-01-12T05:20:00.080Z"
   },
   {
    "duration": 9,
    "start_time": "2023-01-12T05:20:00.672Z"
   },
   {
    "duration": 32,
    "start_time": "2023-01-12T05:20:04.024Z"
   },
   {
    "duration": 8,
    "start_time": "2023-01-12T05:22:38.418Z"
   },
   {
    "duration": 25,
    "start_time": "2023-01-12T05:22:50.099Z"
   },
   {
    "duration": 14,
    "start_time": "2023-01-12T05:23:07.315Z"
   },
   {
    "duration": 32,
    "start_time": "2023-01-12T05:24:35.884Z"
   },
   {
    "duration": 21,
    "start_time": "2023-01-12T05:28:39.431Z"
   },
   {
    "duration": 23,
    "start_time": "2023-01-12T05:29:47.577Z"
   },
   {
    "duration": 21,
    "start_time": "2023-01-12T05:30:48.568Z"
   },
   {
    "duration": 25,
    "start_time": "2023-01-12T05:30:55.370Z"
   }
  ],
  "colab": {
   "name": "dpp_template_part2.ipynb",
   "provenance": []
  },
  "kernelspec": {
   "display_name": "Python 3 (ipykernel)",
   "language": "python",
   "name": "python3"
  },
  "language_info": {
   "codemirror_mode": {
    "name": "ipython",
    "version": 3
   },
   "file_extension": ".py",
   "mimetype": "text/x-python",
   "name": "python",
   "nbconvert_exporter": "python",
   "pygments_lexer": "ipython3",
   "version": "3.9.13"
  },
  "toc": {
   "base_numbering": 1,
   "nav_menu": {},
   "number_sections": true,
   "sideBar": true,
   "skip_h1_title": true,
   "title_cell": "Table of Contents",
   "title_sidebar": "Contents",
   "toc_cell": false,
   "toc_position": {
    "height": "calc(100% - 180px)",
    "left": "10px",
    "top": "150px",
    "width": "331.264px"
   },
   "toc_section_display": true,
   "toc_window_display": false
  }
 },
 "nbformat": 4,
 "nbformat_minor": 5
}
