{
 "cells": [
  {
   "cell_type": "markdown",
   "metadata": {
    "deletable": false,
    "editable": false,
    "id": "E0vqbgi9ay0H"
   },
   "source": [
    "# Яндекс Музыка"
   ]
  },
  {
   "cell_type": "markdown",
   "metadata": {
    "deletable": false,
    "editable": false,
    "id": "VUC88oWjTJw2"
   },
   "source": [
    "Сравнение Москвы и Петербурга окружено мифами. Например:\n",
    " * Москва — мегаполис, подчинённый жёсткому ритму рабочей недели;\n",
    " * Петербург — культурная столица, со своими вкусами.\n",
    "\n",
    "На данных Яндекс Музыки вы сравните поведение пользователей двух столиц.\n",
    "\n",
    "**Цель исследования** — проверьте три гипотезы:\n",
    "1. Активность пользователей зависит от дня недели. Причём в Москве и Петербурге это проявляется по-разному.\n",
    "2. В понедельник утром в Москве преобладают одни жанры, а в Петербурге — другие. Так же и вечером пятницы преобладают разные жанры — в зависимости от города. \n",
    "3. Москва и Петербург предпочитают разные жанры музыки. В Москве чаще слушают поп-музыку, в Петербурге — русский рэп.\n",
    "\n",
    "**Ход исследования**\n",
    "\n",
    "Данные о поведении пользователей вы получите из файла `yandex_music_project.csv`. О качестве данных ничего не известно. Поэтому перед проверкой гипотез понадобится обзор данных. \n",
    "\n",
    "Вы проверите данные на ошибки и оцените их влияние на исследование. Затем, на этапе предобработки вы поищете возможность исправить самые критичные ошибки данных.\n",
    " \n",
    "Таким образом, исследование пройдёт в три этапа:\n",
    " 1. Обзор данных.\n",
    " 2. Предобработка данных.\n",
    " 3. Проверка гипотез.\n",
    "\n"
   ]
  },
  {
   "cell_type": "markdown",
   "metadata": {
    "deletable": false,
    "editable": false,
    "id": "Ml1hmfXC_Zcs"
   },
   "source": [
    "## Обзор данных\n",
    "\n",
    "Составьте первое представление о данных Яндекс Музыки.\n",
    "\n",
    "\n"
   ]
  },
  {
   "cell_type": "markdown",
   "metadata": {
    "deletable": false,
    "editable": false,
    "id": "57eAOGIz_Zcs",
    "tags": [
     "start_task"
    ]
   },
   "source": [
    "**Задание 1**\n",
    "\n",
    "Основной инструмент аналитика — `pandas`. Импортируйте эту библиотеку."
   ]
  },
  {
   "cell_type": "code",
   "execution_count": 4,
   "metadata": {
    "deletable": false,
    "id": "AXN7PHPN_Zcs"
   },
   "outputs": [],
   "source": [
    "import pandas as pd # импорт библиотеки pandas"
   ]
  },
  {
   "cell_type": "markdown",
   "metadata": {
    "deletable": false,
    "editable": false,
    "id": "SG23P8tt_Zcs",
    "tags": [
     "start_task"
    ]
   },
   "source": [
    "**Задание 2**\n",
    "\n",
    "Прочитайте файл `yandex_music_project.csv` из папки `/datasets` и сохраните его в переменной `df`:"
   ]
  },
  {
   "cell_type": "code",
   "execution_count": 5,
   "metadata": {
    "deletable": false,
    "id": "fFVu7vqh_Zct"
   },
   "outputs": [],
   "source": [
    "df = pd.read_csv('/datasets/yandex_music_project.csv') # чтение файла с данными и сохранение в df"
   ]
  },
  {
   "cell_type": "markdown",
   "metadata": {
    "deletable": false,
    "editable": false,
    "id": "rDoOMd3uTqnZ",
    "tags": [
     "start_task"
    ]
   },
   "source": [
    "**Задание 3**\n",
    "\n",
    "\n",
    "Выведите на экран первые десять строк таблицы:"
   ]
  },
  {
   "cell_type": "code",
   "execution_count": 6,
   "metadata": {
    "deletable": false,
    "id": "oWTVX3gW_Zct"
   },
   "outputs": [
    {
     "name": "stdout",
     "output_type": "stream",
     "text": [
      "     userID                        Track            artist   genre  \\\n",
      "0  FFB692EC            Kamigata To Boots  The Mass Missile    rock   \n",
      "1  55204538  Delayed Because of Accident  Andreas Rönnberg    rock   \n",
      "2    20EC38            Funiculì funiculà       Mario Lanza     pop   \n",
      "3  A3DD03C9        Dragons in the Sunset        Fire + Ice    folk   \n",
      "4  E2DC1FAE                  Soul People        Space Echo   dance   \n",
      "5  842029A1                    Преданная         IMPERVTOR  rusrap   \n",
      "6  4CB90AA5                         True      Roman Messer   dance   \n",
      "7  F03E1C1F             Feeling This Way   Polina Griffith   dance   \n",
      "8  8FA1D3BE     И вновь продолжается бой               NaN  ruspop   \n",
      "9  E772D5C0                    Pessimist               NaN   dance   \n",
      "\n",
      "             City        time        Day  \n",
      "0  Saint-Petersburg  20:28:33  Wednesday  \n",
      "1            Moscow  14:07:09     Friday  \n",
      "2  Saint-Petersburg  20:58:07  Wednesday  \n",
      "3  Saint-Petersburg  08:37:09     Monday  \n",
      "4            Moscow  08:34:34     Monday  \n",
      "5  Saint-Petersburg  13:09:41     Friday  \n",
      "6            Moscow  13:00:07  Wednesday  \n",
      "7            Moscow  20:47:49  Wednesday  \n",
      "8            Moscow  09:17:40     Friday  \n",
      "9  Saint-Petersburg  21:20:49  Wednesday  \n"
     ]
    }
   ],
   "source": [
    "print(df.head(10)) # получение первых 10 строк таблицы df"
   ]
  },
  {
   "cell_type": "markdown",
   "metadata": {
    "deletable": false,
    "editable": false,
    "id": "EO73Kwic_Zct",
    "tags": [
     "start_task"
    ]
   },
   "source": [
    "**Задание 4**\n",
    "\n",
    "\n",
    "Одной командой получить общую информацию о таблице c помощью метода `info()`:"
   ]
  },
  {
   "cell_type": "code",
   "execution_count": 7,
   "metadata": {
    "deletable": false,
    "id": "DSf2kIb-_Zct"
   },
   "outputs": [
    {
     "name": "stdout",
     "output_type": "stream",
     "text": [
      "<class 'pandas.core.frame.DataFrame'>\n",
      "RangeIndex: 65079 entries, 0 to 65078\n",
      "Data columns (total 7 columns):\n",
      " #   Column    Non-Null Count  Dtype \n",
      "---  ------    --------------  ----- \n",
      " 0     userID  65079 non-null  object\n",
      " 1   Track     63848 non-null  object\n",
      " 2   artist    57876 non-null  object\n",
      " 3   genre     63881 non-null  object\n",
      " 4     City    65079 non-null  object\n",
      " 5   time      65079 non-null  object\n",
      " 6   Day       65079 non-null  object\n",
      "dtypes: object(7)\n",
      "memory usage: 3.5+ MB\n"
     ]
    }
   ],
   "source": [
    "df.info() # получение общей информации о данных в таблице df"
   ]
  },
  {
   "cell_type": "markdown",
   "metadata": {
    "deletable": false,
    "editable": false,
    "id": "TaQ2Iwbr_Zct"
   },
   "source": [
    "Итак, в таблице семь столбцов. Тип данных во всех столбцах — `object`.\n",
    "\n",
    "Согласно документации к данным:\n",
    "* `userID` — идентификатор пользователя;\n",
    "* `Track` — название трека;  \n",
    "* `artist` — имя исполнителя;\n",
    "* `genre` — название жанра;\n",
    "* `City` — город пользователя;\n",
    "* `time` — время начала прослушивания;\n",
    "* `Day` — день недели.\n",
    "\n",
    "Количество значений в столбцах различается. Значит, в данных есть пропущенные значения."
   ]
  },
  {
   "cell_type": "markdown",
   "metadata": {
    "deletable": false,
    "editable": false,
    "id": "rAfziTBDmf2h",
    "tags": [
     "start_task"
    ]
   },
   "source": [
    "**Задание 5**\n",
    "\n",
    "**Вопрос со свободной формой ответа**\n",
    "\n",
    "В названиях колонок видны нарушения стиля:\n",
    "* Строчные буквы сочетаются с прописными.\n",
    "* Встречаются пробелы.\n",
    "\n",
    "Какое третье нарушение?"
   ]
  },
  {
   "cell_type": "code",
   "execution_count": 1,
   "metadata": {
    "id": "jD8EXEIvmf2h"
   },
   "outputs": [],
   "source": [
    "# Слитное написание двух слов(не соответсвуют \"змеиному регистру\"). \n",
    "# Напишите ваш ответ здесь комментарием. Не удаляйте символ #. Не меняйте тип этой ячейки на Markdown."
   ]
  },
  {
   "cell_type": "markdown",
   "metadata": {
    "deletable": false,
    "editable": false,
    "id": "MCB6-dXG_Zct"
   },
   "source": [
    "**Выводы**\n",
    "\n",
    "В каждой строке таблицы — данные о прослушанном треке. Часть колонок описывает саму композицию: название, исполнителя и жанр. Остальные данные рассказывают о пользователе: из какого он города, когда он слушал музыку. \n",
    "\n",
    "Предварительно можно утверждать, что данных достаточно для проверки гипотез. Но встречаются пропуски в данных, а в названиях колонок — расхождения с хорошим стилем.\n",
    "\n",
    "Чтобы двигаться дальше, нужно устранить проблемы в данных."
   ]
  },
  {
   "cell_type": "markdown",
   "metadata": {
    "deletable": false,
    "editable": false,
    "id": "SjYF6Ub9_Zct"
   },
   "source": [
    "## Предобработка данных\n",
    "Исправьте стиль в заголовках столбцов, исключите пропуски. Затем проверьте данные на дубликаты."
   ]
  },
  {
   "cell_type": "markdown",
   "metadata": {
    "deletable": false,
    "editable": false,
    "id": "dIaKXr29_Zct",
    "tags": [
     "start_task"
    ]
   },
   "source": [
    "### Стиль заголовков\n",
    "\n",
    "**Задание 6**\n",
    "\n",
    "Выведите на экран названия столбцов:"
   ]
  },
  {
   "cell_type": "code",
   "execution_count": 9,
   "metadata": {
    "deletable": false,
    "id": "oKOTdF_Q_Zct"
   },
   "outputs": [
    {
     "name": "stdout",
     "output_type": "stream",
     "text": [
      "Index(['  userID', 'Track', 'artist', 'genre', '  City  ', 'time', 'Day'], dtype='object')\n"
     ]
    }
   ],
   "source": [
    "print(df.columns) # перечень названий столбцов таблицы df"
   ]
  },
  {
   "cell_type": "markdown",
   "metadata": {
    "deletable": false,
    "editable": false,
    "id": "zj5534cv_Zct",
    "tags": [
     "start_task"
    ]
   },
   "source": [
    "**Задание 7**\n",
    "\n",
    "\n",
    "Приведите названия в соответствие с хорошим стилем:\n",
    "* несколько слов в названии запишите в «змеином_регистре»,\n",
    "* все символы сделайте строчными,\n",
    "* устраните пробелы.\n",
    "\n",
    "Для этого переименуйте колонки так:\n",
    "* `'  userID'` → `'user_id'`;\n",
    "* `'Track'` → `'track'`;\n",
    "* `'  City  '` → `'city'`;\n",
    "* `'Day'` → `'day'`."
   ]
  },
  {
   "cell_type": "code",
   "execution_count": 10,
   "metadata": {
    "deletable": false,
    "id": "ISlFqs5y_Zct"
   },
   "outputs": [],
   "source": [
    "df = df.rename(columns = {'  userID': 'user_id', 'Track': 'track', '  City  ': 'city', 'Day': 'day'}) # переименование столбцов"
   ]
  },
  {
   "cell_type": "markdown",
   "metadata": {
    "deletable": false,
    "editable": false,
    "id": "1dqbh00J_Zct",
    "tags": [
     "start_task"
    ]
   },
   "source": [
    "**Задание 8**\n",
    "\n",
    "\n",
    "Проверьте результат. Для этого ещё раз выведите на экран названия столбцов:"
   ]
  },
  {
   "cell_type": "code",
   "execution_count": 11,
   "metadata": {
    "deletable": false,
    "id": "d4NOAmTW_Zct"
   },
   "outputs": [
    {
     "name": "stdout",
     "output_type": "stream",
     "text": [
      "Index(['user_id', 'track', 'artist', 'genre', 'city', 'time', 'day'], dtype='object')\n"
     ]
    }
   ],
   "source": [
    "print(df.columns) # проверка результатов - перечень названий столбцов"
   ]
  },
  {
   "cell_type": "markdown",
   "metadata": {
    "deletable": false,
    "editable": false,
    "id": "5ISfbcfY_Zct",
    "tags": [
     "start_task"
    ]
   },
   "source": [
    "### Пропуски значений\n",
    "\n",
    "**Задание 9**\n",
    "\n",
    "Сначала посчитайте, сколько в таблице пропущенных значений. Для этого достаточно двух методов `pandas`:"
   ]
  },
  {
   "cell_type": "code",
   "execution_count": 12,
   "metadata": {
    "deletable": false,
    "id": "RskX29qr_Zct"
   },
   "outputs": [
    {
     "name": "stdout",
     "output_type": "stream",
     "text": [
      "user_id       0\n",
      "track      1231\n",
      "artist     7203\n",
      "genre      1198\n",
      "city          0\n",
      "time          0\n",
      "day           0\n",
      "dtype: int64\n"
     ]
    }
   ],
   "source": [
    "print(df.isna().sum())# подсчёт пропусков"
   ]
  },
  {
   "cell_type": "markdown",
   "metadata": {
    "deletable": false,
    "editable": false,
    "id": "qubhgnlO_Zct"
   },
   "source": [
    "Не все пропущенные значения влияют на исследование. Так в `track` и `artist` пропуски не важны для вашей работы. Достаточно заменить их явными обозначениями.\n",
    "\n",
    "Но пропуски в `genre` могут помешать сравнению музыкальных вкусов в Москве и Санкт-Петербурге. На практике было бы правильно установить причину пропусков и восстановить данные. Такой возможности нет в учебном проекте. Придётся:\n",
    "* заполнить и эти пропуски явными обозначениями;\n",
    "* оценить, насколько они повредят расчётам. "
   ]
  },
  {
   "cell_type": "markdown",
   "metadata": {
    "deletable": false,
    "editable": false,
    "id": "fSv2laPA_Zct",
    "tags": [
     "start_task"
    ]
   },
   "source": [
    "**Задание 10**\n",
    "\n",
    "Замените пропущенные значения в столбцах `track`, `artist` и `genre` на строку `'unknown'`. Для этого создайте список `columns_to_replace`, переберите его элементы циклом `for` и для каждого столбца выполните замену пропущенных значений:"
   ]
  },
  {
   "cell_type": "code",
   "execution_count": 13,
   "metadata": {
    "deletable": false,
    "id": "KplB5qWs_Zct"
   },
   "outputs": [],
   "source": [
    "columns_to_replace = ['track', 'artist', 'genre']\n",
    "for column in columns_to_replace:\n",
    "    df[column] = df[column].fillna('unknown') # перебор названий столбцов в цикле и замена пропущенных значений на 'unknown'"
   ]
  },
  {
   "cell_type": "markdown",
   "metadata": {
    "deletable": false,
    "editable": false,
    "id": "Ilsm-MZo_Zct",
    "tags": [
     "start_task"
    ]
   },
   "source": [
    "**Задание 11**\n",
    "\n",
    "Убедитесь, что в таблице не осталось пропусков. Для этого ещё раз посчитайте пропущенные значения."
   ]
  },
  {
   "cell_type": "code",
   "execution_count": 14,
   "metadata": {
    "deletable": false,
    "id": "Tq4nYRX4_Zct"
   },
   "outputs": [
    {
     "name": "stdout",
     "output_type": "stream",
     "text": [
      "user_id    0\n",
      "track      0\n",
      "artist     0\n",
      "genre      0\n",
      "city       0\n",
      "time       0\n",
      "day        0\n",
      "dtype: int64\n"
     ]
    }
   ],
   "source": [
    "print(df.isna().sum()) # подсчёт пропусков"
   ]
  },
  {
   "cell_type": "markdown",
   "metadata": {
    "deletable": false,
    "editable": false,
    "id": "BWKRtBJ3_Zct",
    "tags": [
     "start_task"
    ]
   },
   "source": [
    "### Дубликаты\n",
    "\n",
    "**Задание 12**\n",
    "\n",
    "Посчитайте явные дубликаты в таблице одной командой:"
   ]
  },
  {
   "cell_type": "code",
   "execution_count": 15,
   "metadata": {
    "deletable": false,
    "id": "36eES_S0_Zct"
   },
   "outputs": [
    {
     "name": "stdout",
     "output_type": "stream",
     "text": [
      "3826\n"
     ]
    }
   ],
   "source": [
    "print(df.duplicated().sum()) # подсчёт явных дубликатов"
   ]
  },
  {
   "cell_type": "markdown",
   "metadata": {
    "deletable": false,
    "editable": false,
    "id": "Ot25h6XR_Zct",
    "tags": [
     "start_task"
    ]
   },
   "source": [
    "**Задание 13**\n",
    "\n",
    "Вызовите специальный метод `pandas`, чтобы удалить явные дубликаты:"
   ]
  },
  {
   "cell_type": "code",
   "execution_count": 16,
   "metadata": {
    "deletable": false,
    "id": "exFHq6tt_Zct"
   },
   "outputs": [],
   "source": [
    "df = df.drop_duplicates() # удаление явных дубликатов"
   ]
  },
  {
   "cell_type": "markdown",
   "metadata": {
    "deletable": false,
    "editable": false,
    "id": "Im2YwBEG_Zct",
    "tags": [
     "start_task"
    ]
   },
   "source": [
    "**Задание 14**\n",
    "\n",
    "Ещё раз посчитайте явные дубликаты в таблице — убедитесь, что полностью от них избавились:"
   ]
  },
  {
   "cell_type": "code",
   "execution_count": 17,
   "metadata": {
    "deletable": false,
    "id": "-8PuNWQ0_Zct"
   },
   "outputs": [
    {
     "name": "stdout",
     "output_type": "stream",
     "text": [
      "0\n"
     ]
    }
   ],
   "source": [
    "print(df.duplicated().sum()) # проверка на отсутствие дубликатов"
   ]
  },
  {
   "cell_type": "markdown",
   "metadata": {
    "deletable": false,
    "editable": false,
    "id": "QlFBsxAr_Zct"
   },
   "source": [
    "Теперь избавьтесь от неявных дубликатов в колонке `genre`. Например, название одного и того же жанра может быть записано немного по-разному. Такие ошибки тоже повлияют на результат исследования."
   ]
  },
  {
   "cell_type": "markdown",
   "metadata": {
    "deletable": false,
    "editable": false,
    "id": "eSjWwsOh_Zct",
    "tags": [
     "start_task"
    ]
   },
   "source": [
    "**Задание 15**\n",
    "\n",
    "Выведите на экран список уникальных названий жанров, отсортированный в алфавитном порядке. Для этого:\n",
    "1. извлеките нужный столбец датафрейма; \n",
    "2. примените к нему метод сортировки;\n",
    "3. для отсортированного столбца вызовите метод, который вернёт уникальные значения из столбца."
   ]
  },
  {
   "cell_type": "code",
   "execution_count": 18,
   "metadata": {
    "deletable": false,
    "id": "JIUcqzZN_Zct"
   },
   "outputs": [
    {
     "name": "stdout",
     "output_type": "stream",
     "text": [
      "['acid' 'acoustic' 'action' 'adult' 'africa' 'afrikaans' 'alternative'\n",
      " 'alternativepunk' 'ambient' 'americana' 'animated' 'anime' 'arabesk'\n",
      " 'arabic' 'arena' 'argentinetango' 'art' 'audiobook' 'author' 'avantgarde'\n",
      " 'axé' 'baile' 'balkan' 'beats' 'bigroom' 'black' 'bluegrass' 'blues'\n",
      " 'bollywood' 'bossa' 'brazilian' 'breakbeat' 'breaks' 'broadway'\n",
      " 'cantautori' 'cantopop' 'canzone' 'caribbean' 'caucasian' 'celtic'\n",
      " 'chamber' 'chanson' 'children' 'chill' 'chinese' 'choral' 'christian'\n",
      " 'christmas' 'classical' 'classicmetal' 'club' 'colombian' 'comedy'\n",
      " 'conjazz' 'contemporary' 'country' 'cuban' 'dance' 'dancehall' 'dancepop'\n",
      " 'dark' 'death' 'deep' 'deutschrock' 'deutschspr' 'dirty' 'disco' 'dnb'\n",
      " 'documentary' 'downbeat' 'downtempo' 'drum' 'dub' 'dubstep' 'eastern'\n",
      " 'easy' 'electronic' 'electropop' 'emo' 'entehno' 'epicmetal' 'estrada'\n",
      " 'ethnic' 'eurofolk' 'european' 'experimental' 'extrememetal' 'fado'\n",
      " 'fairytail' 'film' 'fitness' 'flamenco' 'folk' 'folklore' 'folkmetal'\n",
      " 'folkrock' 'folktronica' 'forró' 'frankreich' 'französisch' 'french'\n",
      " 'funk' 'future' 'gangsta' 'garage' 'german' 'ghazal' 'gitarre' 'glitch'\n",
      " 'gospel' 'gothic' 'grime' 'grunge' 'gypsy' 'handsup' \"hard'n'heavy\"\n",
      " 'hardcore' 'hardstyle' 'hardtechno' 'hip' 'hip-hop' 'hiphop' 'historisch'\n",
      " 'holiday' 'hop' 'horror' 'house' 'hymn' 'idm' 'independent' 'indian'\n",
      " 'indie' 'indipop' 'industrial' 'inspirational' 'instrumental'\n",
      " 'international' 'irish' 'jam' 'japanese' 'jazz' 'jewish' 'jpop' 'jungle'\n",
      " 'k-pop' 'karadeniz' 'karaoke' 'kayokyoku' 'korean' 'laiko' 'latin'\n",
      " 'latino' 'leftfield' 'local' 'lounge' 'loungeelectronic' 'lovers'\n",
      " 'malaysian' 'mandopop' 'marschmusik' 'meditative' 'mediterranean'\n",
      " 'melodic' 'metal' 'metalcore' 'mexican' 'middle' 'minimal'\n",
      " 'miscellaneous' 'modern' 'mood' 'mpb' 'muslim' 'native' 'neoklassik'\n",
      " 'neue' 'new' 'newage' 'newwave' 'nu' 'nujazz' 'numetal' 'oceania' 'old'\n",
      " 'opera' 'orchestral' 'other' 'piano' 'podcasts' 'pop' 'popdance'\n",
      " 'popelectronic' 'popeurodance' 'poprussian' 'post' 'posthardcore'\n",
      " 'postrock' 'power' 'progmetal' 'progressive' 'psychedelic' 'punjabi'\n",
      " 'punk' 'quebecois' 'ragga' 'ram' 'rancheras' 'rap' 'rave' 'reggae'\n",
      " 'reggaeton' 'regional' 'relax' 'religious' 'retro' 'rhythm' 'rnb' 'rnr'\n",
      " 'rock' 'rockabilly' 'rockalternative' 'rockindie' 'rockother' 'romance'\n",
      " 'roots' 'ruspop' 'rusrap' 'rusrock' 'russian' 'salsa' 'samba' 'scenic'\n",
      " 'schlager' 'self' 'sertanejo' 'shanson' 'shoegazing' 'showtunes' 'singer'\n",
      " 'ska' 'skarock' 'slow' 'smooth' 'soft' 'soul' 'soulful' 'sound'\n",
      " 'soundtrack' 'southern' 'specialty' 'speech' 'spiritual' 'sport'\n",
      " 'stonerrock' 'surf' 'swing' 'synthpop' 'synthrock' 'sängerportrait'\n",
      " 'tango' 'tanzorchester' 'taraftar' 'tatar' 'tech' 'techno' 'teen'\n",
      " 'thrash' 'top' 'traditional' 'tradjazz' 'trance' 'tribal' 'trip'\n",
      " 'triphop' 'tropical' 'türk' 'türkçe' 'ukrrock' 'unknown' 'urban' 'uzbek'\n",
      " 'variété' 'vi' 'videogame' 'vocal' 'western' 'world' 'worldbeat' 'ïîï'\n",
      " 'электроника']\n"
     ]
    }
   ],
   "source": [
    "sort_df=df.sort_values('genre')\n",
    "print(sort_df['genre'].unique())\n",
    "# Просмотр уникальных названий жанров"
   ]
  },
  {
   "cell_type": "markdown",
   "metadata": {
    "deletable": false,
    "editable": false,
    "id": "qej-Qmuo_Zct",
    "tags": [
     "start_task"
    ]
   },
   "source": [
    "**Задание 16**\n",
    "\n",
    "Просмотрите список и найдите неявные дубликаты названия `hiphop`. Это могут быть названия с ошибками или альтернативные названия того же жанра.\n",
    "\n",
    "Вы увидите следующие неявные дубликаты:\n",
    "* *hip*,\n",
    "* *hop*,\n",
    "* *hip-hop*.\n",
    "\n",
    "Чтобы очистить от них таблицу используйте метод `replace()` с двумя аргументами: списком строк-дубликатов (включащий *hip*, *hop* и *hip-hop*) и строкой с правильным значением. Вам нужно исправить колонку `genre` в таблице `df`: заменить каждое значение из списка дубликатов на верное. Вместо `hip`, `hop` и `hip-hop` в таблице должно быть значение `hiphop`:"
   ]
  },
  {
   "cell_type": "code",
   "execution_count": 19,
   "metadata": {
    "deletable": false,
    "id": "ErNDkmns_Zct"
   },
   "outputs": [],
   "source": [
    "duplicates = ['hip', 'hop', 'hip-hop'] # список неправильных имён\n",
    "name = 'hiphop' # правильное имя\n",
    "df['genre'] = df['genre'].replace(duplicates, name) # Устранение неявных дубликатов"
   ]
  },
  {
   "cell_type": "markdown",
   "metadata": {
    "deletable": false,
    "editable": false,
    "id": "zQKF16_RG15m",
    "tags": [
     "start_task"
    ]
   },
   "source": [
    "**Задание 17**\n",
    "\n",
    "Проверьте, что заменили неправильные названия:\n",
    "\n",
    "*   hip,\n",
    "*   hop,\n",
    "*   hip-hop.\n",
    "\n",
    "Выведите отсортированный список уникальных значений столбца `genre`:"
   ]
  },
  {
   "cell_type": "code",
   "execution_count": 20,
   "metadata": {
    "deletable": false,
    "id": "wvixALnFG15m"
   },
   "outputs": [
    {
     "name": "stdout",
     "output_type": "stream",
     "text": [
      "['acid' 'acoustic' 'action' 'adult' 'africa' 'afrikaans' 'alternative'\n",
      " 'alternativepunk' 'ambient' 'americana' 'animated' 'anime' 'arabesk'\n",
      " 'arabic' 'arena' 'argentinetango' 'art' 'audiobook' 'author' 'avantgarde'\n",
      " 'axé' 'baile' 'balkan' 'beats' 'bigroom' 'black' 'bluegrass' 'blues'\n",
      " 'bollywood' 'bossa' 'brazilian' 'breakbeat' 'breaks' 'broadway'\n",
      " 'cantautori' 'cantopop' 'canzone' 'caribbean' 'caucasian' 'celtic'\n",
      " 'chamber' 'chanson' 'children' 'chill' 'chinese' 'choral' 'christian'\n",
      " 'christmas' 'classical' 'classicmetal' 'club' 'colombian' 'comedy'\n",
      " 'conjazz' 'contemporary' 'country' 'cuban' 'dance' 'dancehall' 'dancepop'\n",
      " 'dark' 'death' 'deep' 'deutschrock' 'deutschspr' 'dirty' 'disco' 'dnb'\n",
      " 'documentary' 'downbeat' 'downtempo' 'drum' 'dub' 'dubstep' 'eastern'\n",
      " 'easy' 'electronic' 'electropop' 'emo' 'entehno' 'epicmetal' 'estrada'\n",
      " 'ethnic' 'eurofolk' 'european' 'experimental' 'extrememetal' 'fado'\n",
      " 'fairytail' 'film' 'fitness' 'flamenco' 'folk' 'folklore' 'folkmetal'\n",
      " 'folkrock' 'folktronica' 'forró' 'frankreich' 'französisch' 'french'\n",
      " 'funk' 'future' 'gangsta' 'garage' 'german' 'ghazal' 'gitarre' 'glitch'\n",
      " 'gospel' 'gothic' 'grime' 'grunge' 'gypsy' 'handsup' \"hard'n'heavy\"\n",
      " 'hardcore' 'hardstyle' 'hardtechno' 'hiphop' 'historisch' 'holiday'\n",
      " 'horror' 'house' 'hymn' 'idm' 'independent' 'indian' 'indie' 'indipop'\n",
      " 'industrial' 'inspirational' 'instrumental' 'international' 'irish' 'jam'\n",
      " 'japanese' 'jazz' 'jewish' 'jpop' 'jungle' 'k-pop' 'karadeniz' 'karaoke'\n",
      " 'kayokyoku' 'korean' 'laiko' 'latin' 'latino' 'leftfield' 'local'\n",
      " 'lounge' 'loungeelectronic' 'lovers' 'malaysian' 'mandopop' 'marschmusik'\n",
      " 'meditative' 'mediterranean' 'melodic' 'metal' 'metalcore' 'mexican'\n",
      " 'middle' 'minimal' 'miscellaneous' 'modern' 'mood' 'mpb' 'muslim'\n",
      " 'native' 'neoklassik' 'neue' 'new' 'newage' 'newwave' 'nu' 'nujazz'\n",
      " 'numetal' 'oceania' 'old' 'opera' 'orchestral' 'other' 'piano' 'podcasts'\n",
      " 'pop' 'popdance' 'popelectronic' 'popeurodance' 'poprussian' 'post'\n",
      " 'posthardcore' 'postrock' 'power' 'progmetal' 'progressive' 'psychedelic'\n",
      " 'punjabi' 'punk' 'quebecois' 'ragga' 'ram' 'rancheras' 'rap' 'rave'\n",
      " 'reggae' 'reggaeton' 'regional' 'relax' 'religious' 'retro' 'rhythm'\n",
      " 'rnb' 'rnr' 'rock' 'rockabilly' 'rockalternative' 'rockindie' 'rockother'\n",
      " 'romance' 'roots' 'ruspop' 'rusrap' 'rusrock' 'russian' 'salsa' 'samba'\n",
      " 'scenic' 'schlager' 'self' 'sertanejo' 'shanson' 'shoegazing' 'showtunes'\n",
      " 'singer' 'ska' 'skarock' 'slow' 'smooth' 'soft' 'soul' 'soulful' 'sound'\n",
      " 'soundtrack' 'southern' 'specialty' 'speech' 'spiritual' 'sport'\n",
      " 'stonerrock' 'surf' 'swing' 'synthpop' 'synthrock' 'sängerportrait'\n",
      " 'tango' 'tanzorchester' 'taraftar' 'tatar' 'tech' 'techno' 'teen'\n",
      " 'thrash' 'top' 'traditional' 'tradjazz' 'trance' 'tribal' 'trip'\n",
      " 'triphop' 'tropical' 'türk' 'türkçe' 'ukrrock' 'unknown' 'urban' 'uzbek'\n",
      " 'variété' 'vi' 'videogame' 'vocal' 'western' 'world' 'worldbeat' 'ïîï'\n",
      " 'электроника']\n"
     ]
    }
   ],
   "source": [
    "sort_df=df.sort_values('genre')\n",
    "print(sort_df['genre'].unique())\n",
    "# Проверка на неявные дубликаты"
   ]
  },
  {
   "cell_type": "markdown",
   "metadata": {
    "deletable": false,
    "editable": false,
    "id": "jz6a9-7HQUDd"
   },
   "source": [
    "**Выводы**\n",
    "\n",
    "Предобработка обнаружила три проблемы в данных:\n",
    "\n",
    "- нарушения в стиле заголовков,\n",
    "- пропущенные значения,\n",
    "- дубликаты — явные и неявные.\n",
    "\n",
    "Вы исправили заголовки, чтобы упростить работу с таблицей. Без дубликатов исследование станет более точным.\n",
    "\n",
    "Пропущенные значения вы заменили на `'unknown'`. Ещё предстоит увидеть, не повредят ли исследованию пропуски в колонке `genre`.\n",
    "\n",
    "Теперь можно перейти к проверке гипотез. "
   ]
  },
  {
   "cell_type": "markdown",
   "metadata": {
    "deletable": false,
    "editable": false,
    "id": "WttZHXH0SqKk"
   },
   "source": [
    "## Проверка гипотез"
   ]
  },
  {
   "cell_type": "markdown",
   "metadata": {
    "deletable": false,
    "editable": false,
    "id": "Im936VVi_Zcu"
   },
   "source": [
    "### Сравнение поведения пользователей двух столиц"
   ]
  },
  {
   "cell_type": "markdown",
   "metadata": {
    "deletable": false,
    "editable": false,
    "id": "nwt_MuaL_Zcu"
   },
   "source": [
    "Первая гипотеза утверждает, что пользователи по-разному слушают музыку в Москве и Санкт-Петербурге. Проверьте это предположение по данным о трёх днях недели — понедельнике, среде и пятнице. Для этого:\n",
    "\n",
    "* Разделите пользователей Москвы и Санкт-Петербурга.\n",
    "* Сравните, сколько треков послушала каждая группа пользователей в понедельник, среду и пятницу.\n"
   ]
  },
  {
   "cell_type": "markdown",
   "metadata": {
    "deletable": false,
    "editable": false,
    "id": "8Dw_YMmT_Zcu",
    "tags": [
     "start_task"
    ]
   },
   "source": [
    "**Задание 18**\n",
    "\n",
    "Для тренировки сначала выполните каждый из расчётов по отдельности. \n",
    "\n",
    "Оцените активность пользователей в каждом городе. Сгруппируйте данные по городу и посчитайте прослушивания в каждой группе.\n",
    "\n"
   ]
  },
  {
   "cell_type": "code",
   "execution_count": 21,
   "metadata": {
    "deletable": false,
    "id": "0_Qs96oh_Zcu"
   },
   "outputs": [
    {
     "name": "stdout",
     "output_type": "stream",
     "text": [
      "city\n",
      "Moscow              42741\n",
      "Saint-Petersburg    18512\n",
      "Name: user_id, dtype: int64\n"
     ]
    }
   ],
   "source": [
    "city_users = df.groupby('city')['user_id'].count()  # Подсчёт прослушиваний в каждом городе\n",
    "print(city_users.head())"
   ]
  },
  {
   "cell_type": "markdown",
   "metadata": {
    "deletable": false,
    "editable": false,
    "id": "dzli3w8o_Zcu",
    "tags": [
     "start_task"
    ]
   },
   "source": [
    "В Москве прослушиваний больше, чем в Петербурге. Из этого не следует, что московские пользователи чаще слушают музыку. Просто самих пользователей в Москве больше.\n",
    "\n",
    "**Задание 19**\n",
    "\n",
    "Теперь сгруппируйте данные по дню недели и посчитайте прослушивания в понедельник, среду и пятницу. Учтите, что в данных есть информация о прослушиваниях только за эти дни.\n"
   ]
  },
  {
   "cell_type": "code",
   "execution_count": 22,
   "metadata": {
    "deletable": false,
    "id": "uZMKjiJz_Zcu"
   },
   "outputs": [
    {
     "name": "stdout",
     "output_type": "stream",
     "text": [
      "day\n",
      "Friday       21840\n",
      "Monday       21354\n",
      "Wednesday    18059\n",
      "Name: user_id, dtype: int64\n"
     ]
    }
   ],
   "source": [
    "weeks_user = df.groupby('day')['user_id'].count() \n",
    "print(weeks_user)\n",
    "# Подсчёт прослушиваний в каждый из трёх дней"
   ]
  },
  {
   "cell_type": "markdown",
   "metadata": {
    "deletable": false,
    "editable": false,
    "id": "cC2tNrlL_Zcu"
   },
   "source": [
    "В среднем пользователи из двух городов менее активны по средам. Но картина может измениться, если рассмотреть каждый город в отдельности."
   ]
  },
  {
   "cell_type": "markdown",
   "metadata": {
    "deletable": false,
    "editable": false,
    "id": "POzs8bGa_Zcu",
    "tags": [
     "start_task"
    ]
   },
   "source": [
    "**Задание 20**\n",
    "\n",
    "\n",
    "Вы видели, как работает группировка по городу и по дням недели. Теперь напишите функцию, которая объединит два эти расчёта.\n",
    "\n",
    "Создайте функцию `number_tracks()`, которая посчитает прослушивания для заданного дня и города. Ей понадобятся два параметра:\n",
    "* день недели,\n",
    "* название города.\n",
    "\n",
    "В функции сохраните в переменную строки исходной таблицы, у которых значение:\n",
    "  * в колонке `day` равно параметру `day`,\n",
    "  * в колонке `city` равно параметру `city`.\n",
    "\n",
    "Для этого примените последовательную фильтрацию с логической индексацией (или сложные логические выражения в одну строку, если вы уже знакомы с ними).\n",
    "\n",
    "Затем посчитайте значения в столбце `user_id` получившейся таблицы. Результат сохраните в новую переменную. Верните эту переменную из функции."
   ]
  },
  {
   "cell_type": "code",
   "execution_count": 23,
   "metadata": {
    "deletable": false,
    "id": "Nz3GdQB1_Zcu"
   },
   "outputs": [],
   "source": [
    "# <создание функции number_tracks()>\n",
    "# Объявляется функция с двумя параметрами: day, city.\n",
    "def number_tracks(day, city): \n",
    "    track_list = df[(df['day'] == day) & (df['city'] == city)] \n",
    "# В переменной track_list сохраняются те строки таблицы df, для которых \n",
    "# значение в столбце 'day' равно параметру day и одновременно значение\n",
    "# в столбце 'city' равно параметру city (используйте последовательную фильтрацию\n",
    "# с помощью логической индексации или сложные логические выражения в одну строку, если вы уже знакомы с ними).\n",
    "    track_list_count = track_list['user_id'].count()\n",
    "# В переменной track_list_count сохраняется число значений столбца 'user_id',\n",
    "# рассчитанное методом count() для таблицы track_list.\n",
    "    return track_list_count\n",
    "# Функция возвращает число - значение track_list_count.\n",
    "\n",
    "# Функция для подсчёта прослушиваний для конкретного города и дня.\n",
    "# С помощью последовательной фильтрации с логической индексацией она \n",
    "# сначала получит из исходной таблицы строки с нужным днём,\n",
    "# затем из результата отфильтрует строки с нужным городом,\n",
    "# методом count() посчитает количество значений в колонке user_id. \n",
    "# Это количество функция вернёт в качестве результата"
   ]
  },
  {
   "cell_type": "markdown",
   "metadata": {
    "deletable": false,
    "editable": false,
    "id": "ytf7xFrFJQ2r",
    "tags": [
     "start_task"
    ]
   },
   "source": [
    "**Задание 21**\n",
    "\n",
    "Вызовите `number_tracks()` шесть раз, меняя значение параметров — так, чтобы получить данные для каждого города в каждый из трёх дней."
   ]
  },
  {
   "cell_type": "code",
   "execution_count": 24,
   "metadata": {
    "deletable": false,
    "id": "rJcRATNQ_Zcu"
   },
   "outputs": [
    {
     "data": {
      "text/plain": [
       "15740"
      ]
     },
     "execution_count": 24,
     "metadata": {},
     "output_type": "execute_result"
    }
   ],
   "source": [
    "number_tracks('Monday', 'Moscow') # количество прослушиваний в Москве по понедельникам"
   ]
  },
  {
   "cell_type": "code",
   "execution_count": 25,
   "metadata": {
    "deletable": false,
    "id": "hq_ncZ5T_Zcu"
   },
   "outputs": [
    {
     "data": {
      "text/plain": [
       "5614"
      ]
     },
     "execution_count": 25,
     "metadata": {},
     "output_type": "execute_result"
    }
   ],
   "source": [
    "number_tracks('Monday', 'Saint-Petersburg') # количество прослушиваний в Санкт-Петербурге по понедельникам"
   ]
  },
  {
   "cell_type": "code",
   "execution_count": 26,
   "metadata": {
    "deletable": false,
    "id": "_NTy2VPU_Zcu"
   },
   "outputs": [
    {
     "data": {
      "text/plain": [
       "11056"
      ]
     },
     "execution_count": 26,
     "metadata": {},
     "output_type": "execute_result"
    }
   ],
   "source": [
    "number_tracks('Wednesday', 'Moscow') # количество прослушиваний в Москве по средам"
   ]
  },
  {
   "cell_type": "code",
   "execution_count": 27,
   "metadata": {
    "deletable": false,
    "id": "j2y3TAwo_Zcu"
   },
   "outputs": [
    {
     "data": {
      "text/plain": [
       "7003"
      ]
     },
     "execution_count": 27,
     "metadata": {},
     "output_type": "execute_result"
    }
   ],
   "source": [
    "number_tracks('Wednesday', 'Saint-Petersburg') # количество прослушиваний в Санкт-Петербурге по средам"
   ]
  },
  {
   "cell_type": "code",
   "execution_count": 28,
   "metadata": {
    "deletable": false,
    "id": "vYDw5u_K_Zcu"
   },
   "outputs": [
    {
     "data": {
      "text/plain": [
       "15945"
      ]
     },
     "execution_count": 28,
     "metadata": {},
     "output_type": "execute_result"
    }
   ],
   "source": [
    "number_tracks('Friday', 'Moscow') # количество прослушиваний в Москве по пятницам"
   ]
  },
  {
   "cell_type": "code",
   "execution_count": 29,
   "metadata": {
    "deletable": false,
    "id": "8_yzFtW3_Zcu"
   },
   "outputs": [
    {
     "data": {
      "text/plain": [
       "5895"
      ]
     },
     "execution_count": 29,
     "metadata": {},
     "output_type": "execute_result"
    }
   ],
   "source": [
    "number_tracks('Friday', 'Saint-Petersburg') # количество прослушиваний в Санкт-Петербурге по пятницам"
   ]
  },
  {
   "cell_type": "markdown",
   "metadata": {
    "deletable": false,
    "editable": false,
    "id": "7QXffbO-_Zcu",
    "tags": [
     "start_task"
    ]
   },
   "source": [
    "**Задание 22**\n",
    "\n",
    "Создайте c помощью конструктора `pd.DataFrame` таблицу, где\n",
    "* названия колонок — `['city', 'monday', 'wednesday', 'friday']`;\n",
    "* данные — результаты, которые вы получили с помощью `number_tracks`."
   ]
  },
  {
   "cell_type": "code",
   "execution_count": 30,
   "metadata": {
    "deletable": false,
    "id": "APAcLpOr_Zcu"
   },
   "outputs": [
    {
     "name": "stdout",
     "output_type": "stream",
     "text": [
      "               city  Monday  Wednesday  Friday\n",
      "0            Moscow   15740      11056   15945\n",
      "1  Saint-Petersburg    5614       7003    5895\n"
     ]
    }
   ],
   "source": [
    "header = ['city', 'Monday', 'Wednesday', 'Friday']\n",
    "number_tracks = [['Moscow', 15740, 11056, 15945],\n",
    "['Saint-Petersburg', 5614, 7003, 5895]\n",
    "]\n",
    "info = pd.DataFrame(data=number_tracks, columns=header ) # Таблица с результатами\n",
    "print(info)"
   ]
  },
  {
   "cell_type": "markdown",
   "metadata": {
    "deletable": false,
    "editable": false,
    "id": "-EgPIHYu_Zcu"
   },
   "source": [
    "**Выводы**\n",
    "\n",
    "Данные показывают разницу поведения пользователей:\n",
    "\n",
    "- В Москве пик прослушиваний приходится на понедельник и пятницу, а в среду заметен спад.\n",
    "- В Петербурге, наоборот, больше слушают музыку по средам. Активность в понедельник и пятницу здесь почти в равной мере уступает среде.\n",
    "\n",
    "Значит, данные говорят в пользу первой гипотезы."
   ]
  },
  {
   "cell_type": "markdown",
   "metadata": {
    "deletable": false,
    "editable": false,
    "id": "atZAxtq4_Zcu"
   },
   "source": [
    "### Музыка в начале и в конце недели"
   ]
  },
  {
   "cell_type": "markdown",
   "metadata": {
    "deletable": false,
    "editable": false,
    "id": "S8UcW6Hw_Zcu",
    "tags": [
     "start_task"
    ]
   },
   "source": [
    "**Задание 23**\n",
    "\n",
    "Сохраните таблицы с данными в две переменные:\n",
    "* по Москве — в `moscow_general`;\n",
    "* по Санкт-Петербургу — в `spb_general`."
   ]
  },
  {
   "cell_type": "markdown",
   "metadata": {
    "deletable": false,
    "editable": false,
    "id": "eXrQqXFH_Zcu"
   },
   "source": [
    "Согласно второй гипотезе, утром в понедельник в Москве преобладают одни жанры, а в Петербурге — другие. Так же и вечером пятницы преобладают разные жанры — в зависимости от города."
   ]
  },
  {
   "cell_type": "code",
   "execution_count": 31,
   "metadata": {
    "deletable": false,
    "id": "qeaFfM_P_Zcu"
   },
   "outputs": [],
   "source": [
    "moscow_general = df[df['city'] == 'Moscow'] # получение таблицы moscow_general из тех строк таблицы df, \n",
    "# для которых значение в столбце 'city' равно 'Moscow'"
   ]
  },
  {
   "cell_type": "code",
   "execution_count": 32,
   "metadata": {
    "deletable": false,
    "id": "ORaVRKto_Zcu"
   },
   "outputs": [],
   "source": [
    "spb_general = df[df['city'] == 'Saint-Petersburg'] # получение таблицы spb_general из тех строк таблицы df,\n",
    "# для которых значение в столбце 'city' равно 'Saint-Petersburg'\n"
   ]
  },
  {
   "cell_type": "markdown",
   "metadata": {
    "deletable": false,
    "editable": false,
    "id": "MEJV-CX2_Zcu",
    "tags": [
     "start_task"
    ]
   },
   "source": [
    "**Задание 24**\n",
    "\n",
    "Создайте функцию `genre_weekday()` с четырьмя параметрами:\n",
    "* таблица (датафрейм) с данными,\n",
    "* день недели,\n",
    "* начальная временная метка в формате 'hh:mm', \n",
    "* последняя временная метка в формате 'hh:mm'.\n",
    "\n",
    "Функция должна вернуть информацию о топ-10 жанров тех треков, которые прослушивали в указанный день, в промежутке между двумя отметками времени."
   ]
  },
  {
   "cell_type": "code",
   "execution_count": 33,
   "metadata": {
    "deletable": false,
    "id": "laJT9BYl_Zcu"
   },
   "outputs": [],
   "source": [
    "# Объявление функции genre_weekday() с параметрами table, day, time1, time2,\n",
    "# которая возвращает информацию о самых популярных жанрах в указанный день в\n",
    "# заданное время:\n",
    "# 1) в переменную genre_df сохраняются те строки переданного датафрейма table, для\n",
    "#    которых одновременно:\n",
    "#    - значение в столбце day равно значению аргумента day\n",
    "#    - значение в столбце time больше значения аргумента time1\n",
    "#    - значение в столбце time меньше значения аргумента time2\n",
    "#    Используйте последовательную фильтрацию с помощью логической индексации.\n",
    "# 2) сгруппировать датафрейм genre_df по столбцу genre, взять один из его\n",
    "#    столбцов и посчитать методом count() количество записей для каждого из\n",
    "#    присутствующих жанров, получившийся Series записать в переменную\n",
    "#    genre_df_count\n",
    "# 3) отсортировать genre_df_count по убыванию встречаемости и сохранить\n",
    "#    в переменную genre_df_sorted\n",
    "# 4) вернуть Series из 10 первых значений genre_df_sorted, это будут топ-10\n",
    "#    популярных жанров (в указанный день, в заданное время)\n",
    "\n",
    "def genre_weekday(df, day, time1, time2):\n",
    "    # последовательная фильтрация\n",
    "    # оставляем в genre_df только те строки df, у которых день равен day\n",
    "    genre_df = df[df['day'] == day] \n",
    "    # оставляем в genre_df только те строки genre_df, у которых время меньше time2\n",
    "    genre_df = genre_df[genre_df['time'] < time2]\n",
    "    # оставляем в genre_df только те строки genre_df, у которых время больше time1\n",
    "    genre_df = genre_df[genre_df['time'] > time1]\n",
    "    # сгруппируем отфильтрованный датафрейм по столбцу с названиями жанров, возьмём столбец genre и посчитаем кол-во строк для каждого жанра методом count()\n",
    "    genre_df_grouped = genre_df.groupby('genre')['genre'].count()\n",
    "    # отсортируем результат по убыванию (чтобы в начале Series оказались самые популярные жанры)\n",
    "    genre_df_sorted = genre_df_grouped.sort_values(ascending=False)\n",
    "    # вернём Series с 10 самыми популярными жанрами в указанный отрезок времени заданного дня\n",
    "    return genre_df_sorted[:10]"
   ]
  },
  {
   "cell_type": "markdown",
   "metadata": {
    "deletable": false,
    "editable": false,
    "id": "la2s2_PF_Zcu",
    "tags": [
     "start_task"
    ]
   },
   "source": [
    "**Задание 25**\n",
    "\n",
    "\n",
    "Cравните результаты функции `genre_weekday()` для Москвы и Санкт-Петербурга в понедельник утром (с 7:00 до 11:00) и в пятницу вечером (с 17:00 до 23:00):"
   ]
  },
  {
   "cell_type": "code",
   "execution_count": 34,
   "metadata": {
    "deletable": false,
    "id": "yz7itPUQ_Zcu"
   },
   "outputs": [
    {
     "data": {
      "text/plain": [
       "genre\n",
       "pop            781\n",
       "dance          549\n",
       "electronic     480\n",
       "rock           474\n",
       "hiphop         286\n",
       "ruspop         186\n",
       "world          181\n",
       "rusrap         175\n",
       "alternative    164\n",
       "unknown        161\n",
       "Name: genre, dtype: int64"
      ]
     },
     "execution_count": 34,
     "metadata": {},
     "output_type": "execute_result"
    }
   ],
   "source": [
    "# вызов функции для утра понедельника в Москве (вместо df — таблица moscow_general)\n",
    "# объекты, хранящие время, являются строками и сравниваются как строки\n",
    "genre_weekday(moscow_general, 'Monday', '07:00', '11:00')"
   ]
  },
  {
   "cell_type": "code",
   "execution_count": 35,
   "metadata": {
    "deletable": false,
    "id": "kwUcHPdy_Zcu"
   },
   "outputs": [
    {
     "data": {
      "text/plain": [
       "genre\n",
       "pop            218\n",
       "dance          182\n",
       "rock           162\n",
       "electronic     147\n",
       "hiphop          80\n",
       "ruspop          64\n",
       "alternative     58\n",
       "rusrap          55\n",
       "jazz            44\n",
       "classical       40\n",
       "Name: genre, dtype: int64"
      ]
     },
     "execution_count": 35,
     "metadata": {},
     "output_type": "execute_result"
    }
   ],
   "source": [
    "genre_weekday(spb_general, 'Monday', '07:00', '11:00')# вызов функции для утра понедельника в Петербурге (вместо df — таблица spb_general)"
   ]
  },
  {
   "cell_type": "code",
   "execution_count": 36,
   "metadata": {
    "deletable": false,
    "id": "EzXVRE1o_Zcu"
   },
   "outputs": [
    {
     "data": {
      "text/plain": [
       "genre\n",
       "pop            713\n",
       "rock           517\n",
       "dance          495\n",
       "electronic     482\n",
       "hiphop         273\n",
       "world          208\n",
       "ruspop         170\n",
       "alternative    163\n",
       "classical      163\n",
       "rusrap         142\n",
       "Name: genre, dtype: int64"
      ]
     },
     "execution_count": 36,
     "metadata": {},
     "output_type": "execute_result"
    }
   ],
   "source": [
    "genre_weekday(moscow_general, 'Friday', '17:00', '23:00')# вызов функции для вечера пятницы в Москве"
   ]
  },
  {
   "cell_type": "code",
   "execution_count": 37,
   "metadata": {
    "deletable": false,
    "id": "JZaEKu5v_Zcu"
   },
   "outputs": [
    {
     "data": {
      "text/plain": [
       "genre\n",
       "pop            256\n",
       "electronic     216\n",
       "rock           216\n",
       "dance          210\n",
       "hiphop          97\n",
       "alternative     63\n",
       "jazz            61\n",
       "classical       60\n",
       "rusrap          59\n",
       "world           54\n",
       "Name: genre, dtype: int64"
      ]
     },
     "execution_count": 37,
     "metadata": {},
     "output_type": "execute_result"
    }
   ],
   "source": [
    "genre_weekday(spb_general, 'Friday', '17:00', '23:00') # вызов функции для вечера пятницы в Петербурге"
   ]
  },
  {
   "cell_type": "markdown",
   "metadata": {
    "deletable": false,
    "editable": false,
    "id": "wrCe4MNX_Zcu"
   },
   "source": [
    "**Выводы**\n",
    "\n",
    "Если сравнить топ-10 жанров в понедельник утром, можно сделать такие выводы:\n",
    "\n",
    "1. В Москве и Петербурге слушают похожую музыку. Единственное отличие — в московский рейтинг вошёл жанр “world”, а в петербургский — джаз и классика.\n",
    "\n",
    "2. В Москве пропущенных значений оказалось так много, что значение `'unknown'` заняло десятое место среди самых популярных жанров. Значит, пропущенные значения занимают существенную долю в данных и угрожают достоверности исследования.\n",
    "\n",
    "Вечер пятницы не меняет эту картину. Некоторые жанры поднимаются немного выше, другие спускаются, но в целом топ-10 остаётся тем же самым.\n",
    "\n",
    "Таким образом, вторая гипотеза подтвердилась лишь частично:\n",
    "* Пользователи слушают похожую музыку в начале недели и в конце.\n",
    "* Разница между Москвой и Петербургом не слишком выражена. В Москве чаще слушают русскую популярную музыку, в Петербурге — джаз.\n",
    "\n",
    "Однако пропуски в данных ставят под сомнение этот результат. В Москве их так много, что рейтинг топ-10 мог бы выглядеть иначе, если бы не утерянные  данные о жанрах."
   ]
  },
  {
   "cell_type": "markdown",
   "metadata": {
    "deletable": false,
    "editable": false,
    "id": "JolODAqr_Zcu"
   },
   "source": [
    "### Жанровые предпочтения в Москве и Петербурге\n",
    "\n",
    "Гипотеза: Петербург — столица рэпа, музыку этого жанра там слушают чаще, чем в Москве.  А Москва — город контрастов, в котором, тем не менее, преобладает поп-музыка."
   ]
  },
  {
   "cell_type": "markdown",
   "metadata": {
    "deletable": false,
    "editable": false,
    "id": "DlegSvaT_Zcu",
    "tags": [
     "start_task"
    ]
   },
   "source": [
    "**Задание 26**\n",
    "\n",
    "Сгруппируйте таблицу `moscow_general` по жанру и посчитайте прослушивания треков каждого жанра методом `count()`. Затем отсортируйте результат в порядке убывания и сохраните его в таблице `moscow_genres`."
   ]
  },
  {
   "cell_type": "code",
   "execution_count": 41,
   "metadata": {
    "deletable": false,
    "id": "r19lIPke_Zcu"
   },
   "outputs": [],
   "source": [
    "# одной строкой: группировка таблицы moscow_general по столбцу 'genre', \n",
    "# подсчёт числа значений 'genre' в этой группировке методом count(), \n",
    "# сортировка получившегося Series в порядке убывания и сохранение в moscow_genres\n",
    "moscow_genres = moscow_general.groupby('genre')['genre'].count().sort_values(ascending=False)"
   ]
  },
  {
   "cell_type": "markdown",
   "metadata": {
    "deletable": false,
    "editable": false,
    "id": "6kMuomxTiIr8",
    "tags": [
     "start_task"
    ]
   },
   "source": [
    "**Задание 27**\n",
    "\n",
    "Выведите на экран первые десять строк `moscow_genres`:"
   ]
  },
  {
   "cell_type": "code",
   "execution_count": 42,
   "metadata": {
    "deletable": false,
    "id": "WhCSooF8_Zcv"
   },
   "outputs": [
    {
     "data": {
      "text/plain": [
       "genre\n",
       "pop            5892\n",
       "dance          4435\n",
       "rock           3965\n",
       "electronic     3786\n",
       "hiphop         2096\n",
       "classical      1616\n",
       "world          1432\n",
       "alternative    1379\n",
       "ruspop         1372\n",
       "rusrap         1161\n",
       "Name: genre, dtype: int64"
      ]
     },
     "execution_count": 42,
     "metadata": {},
     "output_type": "execute_result"
    }
   ],
   "source": [
    "moscow_genres.head(10) # просмотр первых 10 строк moscow_genres"
   ]
  },
  {
   "cell_type": "markdown",
   "metadata": {
    "deletable": false,
    "editable": false,
    "id": "cnPG2vnN_Zcv",
    "tags": [
     "start_task"
    ]
   },
   "source": [
    "**Задание 28**\n",
    "\n",
    "\n",
    "Теперь повторите то же и для Петербурга.\n",
    "\n",
    "Сгруппируйте таблицу `spb_general` по жанру. Посчитайте прослушивания треков каждого жанра. Результат отсортируйте в порядке убывания и сохраните в таблице `spb_genres`:\n"
   ]
  },
  {
   "cell_type": "code",
   "execution_count": 43,
   "metadata": {
    "deletable": false,
    "id": "gluLIpE7_Zcv"
   },
   "outputs": [],
   "source": [
    "# одной строкой: группировка таблицы spb_general по столбцу 'genre', \n",
    "# подсчёт числа значений 'genre' в этой группировке методом count(), \n",
    "# сортировка получившегося Series в порядке убывания и сохранение в spb_genres\n",
    "spb_genres = spb_general.groupby('genre')['genre'].count().sort_values(ascending=False)"
   ]
  },
  {
   "cell_type": "markdown",
   "metadata": {
    "deletable": false,
    "editable": false,
    "id": "5Doha_ODgyQ8",
    "tags": [
     "start_task"
    ]
   },
   "source": [
    "**Задание 29**\n",
    "\n",
    "Выведите на экран первые десять строк `spb_genres`:"
   ]
  },
  {
   "cell_type": "code",
   "execution_count": 44,
   "metadata": {
    "deletable": false,
    "id": "uaGJHjVU_Zcv"
   },
   "outputs": [
    {
     "data": {
      "text/plain": [
       "genre\n",
       "pop            2431\n",
       "dance          1932\n",
       "rock           1879\n",
       "electronic     1736\n",
       "hiphop          960\n",
       "alternative     649\n",
       "classical       646\n",
       "rusrap          564\n",
       "ruspop          538\n",
       "world           515\n",
       "Name: genre, dtype: int64"
      ]
     },
     "execution_count": 44,
     "metadata": {},
     "output_type": "execute_result"
    }
   ],
   "source": [
    "spb_genres.head(10) # просмотр первых 10 строк spb_genres"
   ]
  },
  {
   "cell_type": "markdown",
   "metadata": {
    "deletable": false,
    "editable": false,
    "id": "RY51YJYu_Zcv"
   },
   "source": [
    "**Выводы**"
   ]
  },
  {
   "cell_type": "markdown",
   "metadata": {
    "deletable": false,
    "editable": false,
    "id": "nVhnJEm__Zcv"
   },
   "source": [
    "Гипотеза частично подтвердилась:\n",
    "* Поп-музыка — самый популярный жанр в Москве, как и предполагала гипотеза. Более того, в топ-10 жанров встречается близкий жанр — русская популярная музыка.\n",
    "* Вопреки ожиданиям, рэп одинаково популярен в Москве и Петербурге. \n"
   ]
  },
  {
   "cell_type": "markdown",
   "metadata": {
    "deletable": false,
    "editable": false,
    "id": "ykKQ0N65_Zcv"
   },
   "source": [
    "## Итоги исследования"
   ]
  },
  {
   "cell_type": "markdown",
   "metadata": {
    "deletable": false,
    "editable": false,
    "id": "tjUwbHb3_Zcv"
   },
   "source": [
    "Вы проверили три гипотезы и установили:\n",
    "\n",
    "1. День недели по-разному влияет на активность пользователей в Москве и Петербурге. \n",
    "\n",
    "Первая гипотеза полностью подтвердилась.\n",
    "\n",
    "2. Музыкальные предпочтения не сильно меняются в течение недели — будь то Москва или Петербург. Небольшие различия заметны в начале недели, по понедельникам:\n",
    "* в Москве слушают музыку жанра “world”,\n",
    "* в Петербурге — джаз и классику.\n",
    "\n",
    "Таким образом, вторая гипотеза подтвердилась лишь отчасти. Этот результат мог оказаться иным, если бы не пропуски в данных.\n",
    "\n",
    "3. Во вкусах пользователей Москвы и Петербурга больше общего чем различий. Вопреки ожиданиям, предпочтения жанров в Петербурге напоминают московские.\n",
    "\n",
    "Третья гипотеза не подтвердилась. Если различия в предпочтениях и существуют, на основной массе пользователей они незаметны.\n",
    "\n",
    "**На практике исследования содержат проверки статистических гипотез.**\n",
    "Из данных одного сервиса не всегда можно сделать вывод о всех жителях города.\n",
    "Проверки статистических гипотез покажут, насколько они достоверны, исходя из имеющихся данных. \n",
    "С методами проверок гипотез вы ещё познакомитесь в следующих темах."
   ]
  }
 ],
 "metadata": {
  "ExecuteTimeLog": [
   {
    "duration": 416,
    "start_time": "2022-12-12T07:51:09.063Z"
   },
   {
    "duration": 3,
    "start_time": "2022-12-12T07:51:13.602Z"
   },
   {
    "duration": 65,
    "start_time": "2022-12-12T08:03:32.170Z"
   },
   {
    "duration": 7,
    "start_time": "2022-12-12T08:06:12.145Z"
   },
   {
    "duration": 7,
    "start_time": "2022-12-12T08:07:43.200Z"
   },
   {
    "duration": 7,
    "start_time": "2022-12-12T08:12:32.501Z"
   },
   {
    "duration": 3,
    "start_time": "2022-12-12T08:12:41.755Z"
   },
   {
    "duration": 289,
    "start_time": "2022-12-12T08:12:44.454Z"
   },
   {
    "duration": 10,
    "start_time": "2022-12-12T08:12:48.538Z"
   },
   {
    "duration": 33,
    "start_time": "2022-12-12T08:12:53.235Z"
   },
   {
    "duration": 3,
    "start_time": "2022-12-12T08:17:24.246Z"
   },
   {
    "duration": 53,
    "start_time": "2022-12-12T08:25:04.899Z"
   },
   {
    "duration": 14,
    "start_time": "2022-12-12T08:25:32.575Z"
   },
   {
    "duration": 4,
    "start_time": "2022-12-12T08:30:23.283Z"
   },
   {
    "duration": 12,
    "start_time": "2022-12-12T08:30:28.483Z"
   },
   {
    "duration": 14,
    "start_time": "2022-12-12T08:30:36.419Z"
   },
   {
    "duration": 9,
    "start_time": "2022-12-12T08:30:38.241Z"
   },
   {
    "duration": 4,
    "start_time": "2022-12-12T08:30:40.786Z"
   },
   {
    "duration": 29,
    "start_time": "2022-12-12T08:32:06.305Z"
   },
   {
    "duration": 761,
    "start_time": "2022-12-12T08:35:11.758Z"
   },
   {
    "duration": 9,
    "start_time": "2022-12-12T08:35:25.527Z"
   },
   {
    "duration": 47,
    "start_time": "2022-12-12T08:41:10.925Z"
   },
   {
    "duration": 52,
    "start_time": "2022-12-12T08:41:25.770Z"
   },
   {
    "duration": 49,
    "start_time": "2022-12-12T08:41:35.081Z"
   },
   {
    "duration": 979,
    "start_time": "2022-12-12T08:42:12.089Z"
   },
   {
    "duration": 8,
    "start_time": "2022-12-12T08:42:20.640Z"
   },
   {
    "duration": 7,
    "start_time": "2022-12-12T08:43:08.452Z"
   },
   {
    "duration": 8,
    "start_time": "2022-12-12T08:43:20.577Z"
   },
   {
    "duration": 915,
    "start_time": "2022-12-12T08:43:40.219Z"
   },
   {
    "duration": 859,
    "start_time": "2022-12-12T08:45:17.692Z"
   },
   {
    "duration": 34,
    "start_time": "2022-12-12T08:45:24.826Z"
   },
   {
    "duration": 687,
    "start_time": "2022-12-12T08:45:29.027Z"
   },
   {
    "duration": 701,
    "start_time": "2022-12-12T08:47:33.532Z"
   },
   {
    "duration": 7,
    "start_time": "2022-12-12T08:47:50.748Z"
   },
   {
    "duration": 4,
    "start_time": "2022-12-12T08:47:53.243Z"
   },
   {
    "duration": 26,
    "start_time": "2022-12-12T08:47:56.248Z"
   },
   {
    "duration": 878,
    "start_time": "2022-12-12T08:47:59.227Z"
   },
   {
    "duration": 7,
    "start_time": "2022-12-12T08:49:51.422Z"
   },
   {
    "duration": 1551,
    "start_time": "2022-12-12T08:50:06.126Z"
   },
   {
    "duration": 17,
    "start_time": "2022-12-12T08:52:41.551Z"
   },
   {
    "duration": 42,
    "start_time": "2022-12-12T08:53:37.166Z"
   },
   {
    "duration": 24,
    "start_time": "2022-12-12T08:53:44.510Z"
   },
   {
    "duration": 24,
    "start_time": "2022-12-12T08:54:05.998Z"
   },
   {
    "duration": 10,
    "start_time": "2022-12-12T08:57:26.989Z"
   },
   {
    "duration": 69,
    "start_time": "2022-12-12T08:57:47.346Z"
   },
   {
    "duration": 59,
    "start_time": "2022-12-12T08:58:48.481Z"
   },
   {
    "duration": 66,
    "start_time": "2022-12-12T08:59:05.505Z"
   },
   {
    "duration": 71,
    "start_time": "2022-12-12T09:07:23.031Z"
   },
   {
    "duration": 71,
    "start_time": "2022-12-12T09:07:51.095Z"
   },
   {
    "duration": 59,
    "start_time": "2022-12-12T09:08:18.841Z"
   },
   {
    "duration": 8,
    "start_time": "2022-12-12T09:13:17.133Z"
   },
   {
    "duration": 9,
    "start_time": "2022-12-12T09:30:48.146Z"
   },
   {
    "duration": 68,
    "start_time": "2022-12-12T09:31:11.475Z"
   },
   {
    "duration": 81,
    "start_time": "2022-12-12T09:33:00.356Z"
   },
   {
    "duration": 62,
    "start_time": "2022-12-12T09:49:51.116Z"
   },
   {
    "duration": 55,
    "start_time": "2022-12-12T09:50:12.609Z"
   },
   {
    "duration": 57,
    "start_time": "2022-12-12T09:58:28.834Z"
   },
   {
    "duration": 5,
    "start_time": "2022-12-12T10:00:03.992Z"
   },
   {
    "duration": 7,
    "start_time": "2022-12-12T10:00:09.890Z"
   },
   {
    "duration": 87,
    "start_time": "2022-12-12T10:00:28.304Z"
   },
   {
    "duration": 55,
    "start_time": "2022-12-12T10:01:25.492Z"
   },
   {
    "duration": 53,
    "start_time": "2022-12-12T10:02:55.779Z"
   },
   {
    "duration": 73,
    "start_time": "2022-12-12T10:09:35.144Z"
   },
   {
    "duration": 80,
    "start_time": "2022-12-12T10:11:00.981Z"
   },
   {
    "duration": 7,
    "start_time": "2022-12-12T10:21:28.381Z"
   },
   {
    "duration": 6,
    "start_time": "2022-12-12T10:35:13.521Z"
   },
   {
    "duration": 7,
    "start_time": "2022-12-12T10:35:25.873Z"
   },
   {
    "duration": 7,
    "start_time": "2022-12-12T10:35:39.043Z"
   },
   {
    "duration": 3,
    "start_time": "2022-12-12T10:35:49.969Z"
   },
   {
    "duration": 177,
    "start_time": "2022-12-12T10:35:51.551Z"
   },
   {
    "duration": 7,
    "start_time": "2022-12-12T10:35:53.167Z"
   },
   {
    "duration": 35,
    "start_time": "2022-12-12T10:35:57.041Z"
   },
   {
    "duration": 4,
    "start_time": "2022-12-12T10:36:01.242Z"
   },
   {
    "duration": 4,
    "start_time": "2022-12-12T10:36:03.951Z"
   },
   {
    "duration": 10,
    "start_time": "2022-12-12T10:36:08.671Z"
   },
   {
    "duration": 3,
    "start_time": "2022-12-12T10:36:11.871Z"
   },
   {
    "duration": 26,
    "start_time": "2022-12-12T10:36:13.295Z"
   },
   {
    "duration": 19,
    "start_time": "2022-12-12T10:36:15.904Z"
   },
   {
    "duration": 25,
    "start_time": "2022-12-12T10:36:17.086Z"
   },
   {
    "duration": 26,
    "start_time": "2022-12-12T10:36:22.654Z"
   },
   {
    "duration": 78,
    "start_time": "2022-12-12T10:36:26.654Z"
   },
   {
    "duration": 68,
    "start_time": "2022-12-12T10:36:28.415Z"
   },
   {
    "duration": 63,
    "start_time": "2022-12-12T10:36:29.680Z"
   },
   {
    "duration": 20,
    "start_time": "2022-12-12T10:36:33.279Z"
   },
   {
    "duration": 8,
    "start_time": "2022-12-12T10:38:10.050Z"
   },
   {
    "duration": 11,
    "start_time": "2022-12-12T10:38:37.891Z"
   },
   {
    "duration": 7,
    "start_time": "2022-12-12T10:52:14.571Z"
   },
   {
    "duration": 7,
    "start_time": "2022-12-12T10:55:12.653Z"
   },
   {
    "duration": 51,
    "start_time": "2022-12-12T10:57:17.595Z"
   },
   {
    "duration": 66,
    "start_time": "2022-12-12T11:00:17.437Z"
   },
   {
    "duration": 46,
    "start_time": "2022-12-12T11:01:01.294Z"
   },
   {
    "duration": 42,
    "start_time": "2022-12-12T11:01:07.259Z"
   },
   {
    "duration": 92,
    "start_time": "2022-12-12T11:58:45.619Z"
   },
   {
    "duration": 51,
    "start_time": "2022-12-12T12:00:14.633Z"
   },
   {
    "duration": 5,
    "start_time": "2022-12-12T12:21:44.163Z"
   },
   {
    "duration": 6,
    "start_time": "2022-12-12T12:21:53.963Z"
   },
   {
    "duration": 41,
    "start_time": "2022-12-12T12:22:00.242Z"
   },
   {
    "duration": 65,
    "start_time": "2022-12-12T12:22:09.171Z"
   },
   {
    "duration": 42,
    "start_time": "2022-12-12T12:22:36.147Z"
   },
   {
    "duration": 6,
    "start_time": "2022-12-12T12:42:21.386Z"
   },
   {
    "duration": 71,
    "start_time": "2022-12-12T12:42:44.412Z"
   },
   {
    "duration": 2,
    "start_time": "2022-12-12T12:42:54.493Z"
   },
   {
    "duration": 168,
    "start_time": "2022-12-12T12:42:56.510Z"
   },
   {
    "duration": 7,
    "start_time": "2022-12-12T12:42:57.531Z"
   },
   {
    "duration": 28,
    "start_time": "2022-12-12T12:42:58.171Z"
   },
   {
    "duration": 3,
    "start_time": "2022-12-12T12:42:58.923Z"
   },
   {
    "duration": 3,
    "start_time": "2022-12-12T12:42:59.646Z"
   },
   {
    "duration": 10,
    "start_time": "2022-12-12T12:43:00.011Z"
   },
   {
    "duration": 3,
    "start_time": "2022-12-12T12:43:00.380Z"
   },
   {
    "duration": 26,
    "start_time": "2022-12-12T12:43:00.749Z"
   },
   {
    "duration": 19,
    "start_time": "2022-12-12T12:43:01.307Z"
   },
   {
    "duration": 26,
    "start_time": "2022-12-12T12:43:01.703Z"
   },
   {
    "duration": 60,
    "start_time": "2022-12-12T12:43:02.124Z"
   },
   {
    "duration": 63,
    "start_time": "2022-12-12T12:43:02.828Z"
   },
   {
    "duration": 62,
    "start_time": "2022-12-12T12:43:04.439Z"
   },
   {
    "duration": 53,
    "start_time": "2022-12-12T12:43:07.965Z"
   },
   {
    "duration": 42,
    "start_time": "2022-12-12T12:44:11.439Z"
   },
   {
    "duration": 88,
    "start_time": "2022-12-12T12:44:37.673Z"
   },
   {
    "duration": 69,
    "start_time": "2022-12-12T12:44:40.445Z"
   },
   {
    "duration": 82,
    "start_time": "2022-12-12T12:44:44.349Z"
   },
   {
    "duration": 67,
    "start_time": "2022-12-12T12:44:46.286Z"
   },
   {
    "duration": 34,
    "start_time": "2022-12-12T12:44:52.078Z"
   },
   {
    "duration": 68,
    "start_time": "2022-12-12T12:44:53.886Z"
   },
   {
    "duration": 35,
    "start_time": "2022-12-12T12:44:56.559Z"
   },
   {
    "duration": 11,
    "start_time": "2022-12-12T12:44:59.006Z"
   },
   {
    "duration": 3,
    "start_time": "2022-12-12T12:45:18.511Z"
   },
   {
    "duration": 185,
    "start_time": "2022-12-12T12:45:20.389Z"
   },
   {
    "duration": 9,
    "start_time": "2022-12-12T12:45:21.602Z"
   },
   {
    "duration": 31,
    "start_time": "2022-12-12T12:45:23.769Z"
   },
   {
    "duration": 2,
    "start_time": "2022-12-12T12:45:26.645Z"
   },
   {
    "duration": 4,
    "start_time": "2022-12-12T12:45:29.190Z"
   },
   {
    "duration": 8,
    "start_time": "2022-12-12T12:45:31.029Z"
   },
   {
    "duration": 4,
    "start_time": "2022-12-12T12:45:32.373Z"
   },
   {
    "duration": 25,
    "start_time": "2022-12-12T12:45:34.117Z"
   },
   {
    "duration": 18,
    "start_time": "2022-12-12T12:45:36.908Z"
   },
   {
    "duration": 26,
    "start_time": "2022-12-12T12:45:38.534Z"
   },
   {
    "duration": 73,
    "start_time": "2022-12-12T12:45:40.958Z"
   },
   {
    "duration": 68,
    "start_time": "2022-12-12T12:45:42.708Z"
   },
   {
    "duration": 58,
    "start_time": "2022-12-12T12:45:44.077Z"
   },
   {
    "duration": 8,
    "start_time": "2022-12-12T12:45:53.161Z"
   },
   {
    "duration": 48,
    "start_time": "2022-12-12T12:46:38.400Z"
   },
   {
    "duration": 14,
    "start_time": "2022-12-12T12:47:07.007Z"
   },
   {
    "duration": 7,
    "start_time": "2022-12-12T12:47:27.615Z"
   },
   {
    "duration": 4,
    "start_time": "2022-12-12T12:47:48.721Z"
   },
   {
    "duration": 9,
    "start_time": "2022-12-12T12:48:00.064Z"
   },
   {
    "duration": 7,
    "start_time": "2022-12-12T12:48:03.808Z"
   },
   {
    "duration": 62,
    "start_time": "2022-12-12T12:48:19.761Z"
   },
   {
    "duration": 7,
    "start_time": "2022-12-12T12:48:31.072Z"
   },
   {
    "duration": 7,
    "start_time": "2022-12-12T12:49:11.761Z"
   },
   {
    "duration": 7,
    "start_time": "2022-12-12T12:52:43.219Z"
   },
   {
    "duration": 7,
    "start_time": "2022-12-12T12:53:18.835Z"
   },
   {
    "duration": 7,
    "start_time": "2022-12-12T12:53:31.347Z"
   },
   {
    "duration": 4,
    "start_time": "2022-12-12T12:53:34.087Z"
   },
   {
    "duration": 2,
    "start_time": "2022-12-12T12:54:36.643Z"
   },
   {
    "duration": 175,
    "start_time": "2022-12-12T12:54:37.682Z"
   },
   {
    "duration": 12,
    "start_time": "2022-12-12T12:54:48.308Z"
   },
   {
    "duration": 4,
    "start_time": "2022-12-12T12:54:51.139Z"
   },
   {
    "duration": 26,
    "start_time": "2022-12-12T12:54:53.757Z"
   },
   {
    "duration": 18,
    "start_time": "2022-12-12T12:54:57.412Z"
   },
   {
    "duration": 26,
    "start_time": "2022-12-12T12:54:58.705Z"
   },
   {
    "duration": 71,
    "start_time": "2022-12-12T12:55:00.641Z"
   },
   {
    "duration": 73,
    "start_time": "2022-12-12T12:55:02.032Z"
   },
   {
    "duration": 63,
    "start_time": "2022-12-12T12:55:02.978Z"
   },
   {
    "duration": 27,
    "start_time": "2022-12-12T12:55:13.491Z"
   },
   {
    "duration": 6,
    "start_time": "2022-12-12T12:56:13.175Z"
   },
   {
    "duration": 9,
    "start_time": "2022-12-12T12:56:34.006Z"
   },
   {
    "duration": 7,
    "start_time": "2022-12-12T12:56:48.342Z"
   },
   {
    "duration": 50,
    "start_time": "2022-12-12T12:57:40.342Z"
   },
   {
    "duration": 46,
    "start_time": "2022-12-12T12:57:56.117Z"
   },
   {
    "duration": 53,
    "start_time": "2022-12-12T12:58:20.727Z"
   },
   {
    "duration": 52,
    "start_time": "2022-12-12T12:59:34.246Z"
   },
   {
    "duration": 67,
    "start_time": "2022-12-12T12:59:57.798Z"
   },
   {
    "duration": 55,
    "start_time": "2022-12-12T13:06:49.777Z"
   },
   {
    "duration": 185,
    "start_time": "2022-12-12T13:07:01.154Z"
   },
   {
    "duration": 52,
    "start_time": "2022-12-12T13:07:07.721Z"
   },
   {
    "duration": 158,
    "start_time": "2022-12-12T13:07:17.019Z"
   },
   {
    "duration": 53,
    "start_time": "2022-12-12T13:07:23.272Z"
   },
   {
    "duration": 50,
    "start_time": "2022-12-12T13:17:02.556Z"
   },
   {
    "duration": 57,
    "start_time": "2022-12-12T13:18:02.271Z"
   },
   {
    "duration": 797,
    "start_time": "2022-12-12T13:30:37.159Z"
   },
   {
    "duration": 12,
    "start_time": "2022-12-12T13:32:48.438Z"
   },
   {
    "duration": 7,
    "start_time": "2022-12-12T13:34:04.679Z"
   },
   {
    "duration": 7,
    "start_time": "2022-12-12T13:36:09.160Z"
   },
   {
    "duration": 9,
    "start_time": "2022-12-12T13:40:12.124Z"
   },
   {
    "duration": 8,
    "start_time": "2022-12-12T13:40:41.180Z"
   },
   {
    "duration": 7,
    "start_time": "2022-12-12T13:40:54.965Z"
   },
   {
    "duration": 7,
    "start_time": "2022-12-12T13:42:12.092Z"
   },
   {
    "duration": 5,
    "start_time": "2022-12-12T13:42:34.939Z"
   },
   {
    "duration": 4,
    "start_time": "2022-12-12T13:43:02.621Z"
   },
   {
    "duration": 5,
    "start_time": "2022-12-12T13:43:10.731Z"
   },
   {
    "duration": 4,
    "start_time": "2022-12-12T13:43:17.341Z"
   },
   {
    "duration": 48,
    "start_time": "2022-12-12T13:43:26.073Z"
   },
   {
    "duration": 48,
    "start_time": "2022-12-12T13:43:33.194Z"
   },
   {
    "duration": 7,
    "start_time": "2022-12-12T13:43:51.342Z"
   },
   {
    "duration": 7,
    "start_time": "2022-12-12T13:44:08.427Z"
   },
   {
    "duration": 7,
    "start_time": "2022-12-12T13:44:16.764Z"
   },
   {
    "duration": 7,
    "start_time": "2022-12-12T13:44:24.355Z"
   },
   {
    "duration": 8,
    "start_time": "2022-12-12T13:48:07.677Z"
   },
   {
    "duration": 8,
    "start_time": "2022-12-12T13:48:17.687Z"
   },
   {
    "duration": 8,
    "start_time": "2022-12-12T13:50:30.208Z"
   },
   {
    "duration": 8,
    "start_time": "2022-12-12T13:51:00.352Z"
   },
   {
    "duration": 7,
    "start_time": "2022-12-12T13:54:09.249Z"
   },
   {
    "duration": 55,
    "start_time": "2022-12-12T13:54:46.403Z"
   },
   {
    "duration": 51,
    "start_time": "2022-12-12T15:47:15.620Z"
   },
   {
    "duration": 7,
    "start_time": "2022-12-12T15:49:28.610Z"
   },
   {
    "duration": 6,
    "start_time": "2022-12-12T15:49:50.716Z"
   },
   {
    "duration": 6,
    "start_time": "2022-12-12T15:50:09.156Z"
   },
   {
    "duration": 7,
    "start_time": "2022-12-12T15:50:55.956Z"
   },
   {
    "duration": 372,
    "start_time": "2022-12-12T15:51:28.867Z"
   },
   {
    "duration": 174,
    "start_time": "2022-12-12T15:51:30.232Z"
   },
   {
    "duration": 8,
    "start_time": "2022-12-12T15:51:33.656Z"
   },
   {
    "duration": 28,
    "start_time": "2022-12-12T15:51:37.431Z"
   },
   {
    "duration": 3,
    "start_time": "2022-12-12T15:51:39.810Z"
   },
   {
    "duration": 3,
    "start_time": "2022-12-12T15:51:42.386Z"
   },
   {
    "duration": 3,
    "start_time": "2022-12-12T15:51:44.522Z"
   },
   {
    "duration": 23,
    "start_time": "2022-12-12T15:51:47.590Z"
   },
   {
    "duration": 775,
    "start_time": "2022-12-12T15:51:49.452Z"
   },
   {
    "duration": 24,
    "start_time": "2022-12-12T15:52:45.660Z"
   },
   {
    "duration": 11,
    "start_time": "2022-12-12T15:54:28.916Z"
   },
   {
    "duration": 4,
    "start_time": "2022-12-12T15:54:32.333Z"
   },
   {
    "duration": 37,
    "start_time": "2022-12-12T15:54:34.020Z"
   },
   {
    "duration": 27,
    "start_time": "2022-12-12T15:54:41.926Z"
   },
   {
    "duration": 70,
    "start_time": "2022-12-12T15:54:44.554Z"
   },
   {
    "duration": 74,
    "start_time": "2022-12-12T15:54:45.923Z"
   },
   {
    "duration": 58,
    "start_time": "2022-12-12T15:54:47.163Z"
   },
   {
    "duration": 75,
    "start_time": "2022-12-12T15:54:51.971Z"
   },
   {
    "duration": 10,
    "start_time": "2022-12-12T15:54:59.459Z"
   },
   {
    "duration": 46,
    "start_time": "2022-12-12T15:55:05.771Z"
   },
   {
    "duration": 45,
    "start_time": "2022-12-12T16:05:45.106Z"
   },
   {
    "duration": 43,
    "start_time": "2022-12-12T16:06:15.334Z"
   },
   {
    "duration": 51,
    "start_time": "2022-12-12T16:06:32.202Z"
   },
   {
    "duration": 48,
    "start_time": "2022-12-12T16:08:06.635Z"
   },
   {
    "duration": 44,
    "start_time": "2022-12-12T16:09:59.075Z"
   },
   {
    "duration": 11,
    "start_time": "2022-12-12T16:10:22.317Z"
   },
   {
    "duration": 46,
    "start_time": "2022-12-12T16:13:13.157Z"
   },
   {
    "duration": 12,
    "start_time": "2022-12-12T16:13:19.363Z"
   },
   {
    "duration": 10,
    "start_time": "2022-12-12T16:13:53.603Z"
   },
   {
    "duration": 13,
    "start_time": "2022-12-12T16:14:03.694Z"
   },
   {
    "duration": 10,
    "start_time": "2022-12-12T16:37:49.854Z"
   },
   {
    "duration": 4,
    "start_time": "2022-12-12T16:38:17.657Z"
   },
   {
    "duration": 7,
    "start_time": "2022-12-12T16:38:21.246Z"
   },
   {
    "duration": 15,
    "start_time": "2022-12-12T16:47:10.367Z"
   },
   {
    "duration": 54,
    "start_time": "2022-12-12T17:05:42.780Z"
   },
   {
    "duration": 4,
    "start_time": "2022-12-12T17:06:03.288Z"
   },
   {
    "duration": 15,
    "start_time": "2022-12-12T17:08:36.870Z"
   },
   {
    "duration": 14,
    "start_time": "2022-12-12T17:08:49.574Z"
   },
   {
    "duration": 4,
    "start_time": "2022-12-12T17:08:55.017Z"
   },
   {
    "duration": 21,
    "start_time": "2022-12-12T17:08:57.765Z"
   },
   {
    "duration": 21,
    "start_time": "2022-12-12T17:10:10.310Z"
   },
   {
    "duration": 20,
    "start_time": "2022-12-12T17:10:11.654Z"
   },
   {
    "duration": 13,
    "start_time": "2022-12-12T17:10:12.237Z"
   },
   {
    "duration": 17,
    "start_time": "2022-12-12T17:10:12.630Z"
   },
   {
    "duration": 14,
    "start_time": "2022-12-12T17:10:13.045Z"
   },
   {
    "duration": 9,
    "start_time": "2022-12-12T17:28:32.030Z"
   },
   {
    "duration": 8,
    "start_time": "2022-12-12T17:29:05.361Z"
   },
   {
    "duration": 15,
    "start_time": "2022-12-12T17:30:17.006Z"
   },
   {
    "duration": 10,
    "start_time": "2022-12-12T17:30:19.687Z"
   },
   {
    "duration": 4,
    "start_time": "2022-12-12T17:41:31.784Z"
   },
   {
    "duration": 8,
    "start_time": "2022-12-12T17:44:32.004Z"
   },
   {
    "duration": 9,
    "start_time": "2022-12-12T17:50:02.014Z"
   },
   {
    "duration": 6,
    "start_time": "2022-12-12T17:51:31.983Z"
   },
   {
    "duration": 45,
    "start_time": "2022-12-13T13:14:24.382Z"
   },
   {
    "duration": 6,
    "start_time": "2022-12-13T13:14:43.242Z"
   },
   {
    "duration": 416,
    "start_time": "2022-12-13T13:15:21.220Z"
   },
   {
    "duration": 246,
    "start_time": "2022-12-13T13:15:21.638Z"
   },
   {
    "duration": 10,
    "start_time": "2022-12-13T13:15:21.885Z"
   },
   {
    "duration": 33,
    "start_time": "2022-12-13T13:15:21.898Z"
   },
   {
    "duration": 3,
    "start_time": "2022-12-13T13:15:21.933Z"
   },
   {
    "duration": 15,
    "start_time": "2022-12-13T13:15:21.937Z"
   },
   {
    "duration": 17,
    "start_time": "2022-12-13T13:15:21.954Z"
   },
   {
    "duration": 8,
    "start_time": "2022-12-13T13:15:21.973Z"
   },
   {
    "duration": 36,
    "start_time": "2022-12-13T13:15:21.982Z"
   },
   {
    "duration": 19,
    "start_time": "2022-12-13T13:15:22.021Z"
   },
   {
    "duration": 24,
    "start_time": "2022-12-13T13:15:22.041Z"
   },
   {
    "duration": 95,
    "start_time": "2022-12-13T13:15:22.066Z"
   },
   {
    "duration": 84,
    "start_time": "2022-12-13T13:15:22.163Z"
   },
   {
    "duration": 74,
    "start_time": "2022-12-13T13:15:22.249Z"
   },
   {
    "duration": 45,
    "start_time": "2022-12-13T13:15:22.325Z"
   },
   {
    "duration": 10,
    "start_time": "2022-12-13T13:15:22.372Z"
   },
   {
    "duration": 69,
    "start_time": "2022-12-13T13:15:22.383Z"
   },
   {
    "duration": 11,
    "start_time": "2022-12-13T13:15:22.454Z"
   },
   {
    "duration": 10,
    "start_time": "2022-12-13T13:15:22.467Z"
   },
   {
    "duration": 3,
    "start_time": "2022-12-13T13:15:22.479Z"
   },
   {
    "duration": 44,
    "start_time": "2022-12-13T13:15:22.484Z"
   },
   {
    "duration": 15,
    "start_time": "2022-12-13T13:15:22.530Z"
   },
   {
    "duration": 45,
    "start_time": "2022-12-13T13:15:22.546Z"
   },
   {
    "duration": 25,
    "start_time": "2022-12-13T13:15:22.593Z"
   },
   {
    "duration": 34,
    "start_time": "2022-12-13T13:15:22.620Z"
   },
   {
    "duration": 20,
    "start_time": "2022-12-13T13:15:22.656Z"
   },
   {
    "duration": 18,
    "start_time": "2022-12-13T13:15:22.678Z"
   },
   {
    "duration": 19,
    "start_time": "2022-12-13T13:15:22.699Z"
   },
   {
    "duration": 17,
    "start_time": "2022-12-13T13:15:22.719Z"
   },
   {
    "duration": 51,
    "start_time": "2022-12-13T13:15:22.738Z"
   },
   {
    "duration": 0,
    "start_time": "2022-12-13T13:15:22.791Z"
   },
   {
    "duration": 0,
    "start_time": "2022-12-13T13:15:22.792Z"
   },
   {
    "duration": 0,
    "start_time": "2022-12-13T13:15:22.793Z"
   },
   {
    "duration": 0,
    "start_time": "2022-12-13T13:15:22.794Z"
   },
   {
    "duration": 0,
    "start_time": "2022-12-13T13:15:22.796Z"
   },
   {
    "duration": 0,
    "start_time": "2022-12-13T13:15:22.797Z"
   },
   {
    "duration": 1,
    "start_time": "2022-12-13T13:15:22.798Z"
   },
   {
    "duration": 0,
    "start_time": "2022-12-13T13:15:22.800Z"
   },
   {
    "duration": 14,
    "start_time": "2022-12-13T13:15:59.701Z"
   },
   {
    "duration": 10,
    "start_time": "2022-12-13T13:16:01.348Z"
   },
   {
    "duration": 74,
    "start_time": "2022-12-13T13:16:14.470Z"
   },
   {
    "duration": 12,
    "start_time": "2022-12-13T13:17:12.291Z"
   },
   {
    "duration": 10,
    "start_time": "2022-12-13T13:17:12.952Z"
   },
   {
    "duration": 12,
    "start_time": "2022-12-14T19:08:14.330Z"
   },
   {
    "duration": 60,
    "start_time": "2022-12-14T19:08:22.103Z"
   },
   {
    "duration": 4,
    "start_time": "2022-12-14T19:08:23.987Z"
   },
   {
    "duration": 21,
    "start_time": "2022-12-14T19:08:25.478Z"
   },
   {
    "duration": 13,
    "start_time": "2022-12-14T19:08:26.598Z"
   },
   {
    "duration": 15,
    "start_time": "2022-12-14T19:08:27.238Z"
   },
   {
    "duration": 13,
    "start_time": "2022-12-14T19:08:27.766Z"
   },
   {
    "duration": 16,
    "start_time": "2022-12-14T19:08:28.230Z"
   },
   {
    "duration": 17,
    "start_time": "2022-12-14T19:08:29.248Z"
   },
   {
    "duration": 8,
    "start_time": "2022-12-14T19:08:31.816Z"
   },
   {
    "duration": 12,
    "start_time": "2022-12-14T19:09:22.030Z"
   },
   {
    "duration": 13,
    "start_time": "2022-12-14T19:09:23.215Z"
   },
   {
    "duration": 8,
    "start_time": "2022-12-14T19:09:56.922Z"
   },
   {
    "duration": 8,
    "start_time": "2022-12-14T19:10:22.946Z"
   },
   {
    "duration": 10,
    "start_time": "2022-12-14T19:10:37.314Z"
   },
   {
    "duration": 5,
    "start_time": "2022-12-14T19:14:55.083Z"
   },
   {
    "duration": 2,
    "start_time": "2022-12-14T19:18:18.034Z"
   },
   {
    "duration": 173,
    "start_time": "2022-12-14T19:18:18.038Z"
   },
   {
    "duration": 7,
    "start_time": "2022-12-14T19:18:18.213Z"
   },
   {
    "duration": 31,
    "start_time": "2022-12-14T19:18:18.221Z"
   },
   {
    "duration": 3,
    "start_time": "2022-12-14T19:18:18.253Z"
   },
   {
    "duration": 7,
    "start_time": "2022-12-14T19:18:18.259Z"
   },
   {
    "duration": 11,
    "start_time": "2022-12-14T19:18:18.267Z"
   },
   {
    "duration": 4,
    "start_time": "2022-12-14T19:18:18.279Z"
   },
   {
    "duration": 46,
    "start_time": "2022-12-14T19:18:18.284Z"
   },
   {
    "duration": 19,
    "start_time": "2022-12-14T19:18:18.332Z"
   },
   {
    "duration": 23,
    "start_time": "2022-12-14T19:18:18.354Z"
   },
   {
    "duration": 80,
    "start_time": "2022-12-14T19:18:18.379Z"
   },
   {
    "duration": 79,
    "start_time": "2022-12-14T19:18:18.461Z"
   },
   {
    "duration": 59,
    "start_time": "2022-12-14T19:18:18.542Z"
   },
   {
    "duration": 55,
    "start_time": "2022-12-14T19:18:18.602Z"
   },
   {
    "duration": 10,
    "start_time": "2022-12-14T19:18:18.659Z"
   },
   {
    "duration": 55,
    "start_time": "2022-12-14T19:18:18.671Z"
   },
   {
    "duration": 10,
    "start_time": "2022-12-14T19:18:18.728Z"
   },
   {
    "duration": 11,
    "start_time": "2022-12-14T19:18:18.740Z"
   },
   {
    "duration": 5,
    "start_time": "2022-12-14T19:18:18.753Z"
   },
   {
    "duration": 22,
    "start_time": "2022-12-14T19:18:18.760Z"
   },
   {
    "duration": 14,
    "start_time": "2022-12-14T19:18:18.783Z"
   },
   {
    "duration": 41,
    "start_time": "2022-12-14T19:18:18.798Z"
   },
   {
    "duration": 15,
    "start_time": "2022-12-14T19:18:18.841Z"
   },
   {
    "duration": 16,
    "start_time": "2022-12-14T19:18:18.857Z"
   },
   {
    "duration": 13,
    "start_time": "2022-12-14T19:18:18.874Z"
   },
   {
    "duration": 6,
    "start_time": "2022-12-14T19:18:18.889Z"
   },
   {
    "duration": 39,
    "start_time": "2022-12-14T19:18:18.897Z"
   },
   {
    "duration": 13,
    "start_time": "2022-12-14T19:18:18.939Z"
   },
   {
    "duration": 4,
    "start_time": "2022-12-14T19:18:18.954Z"
   },
   {
    "duration": 11,
    "start_time": "2022-12-14T19:18:18.960Z"
   },
   {
    "duration": 5,
    "start_time": "2022-12-14T19:18:18.973Z"
   },
   {
    "duration": 10,
    "start_time": "2022-12-14T19:18:18.980Z"
   },
   {
    "duration": 5,
    "start_time": "2022-12-14T19:18:18.992Z"
   },
   {
    "duration": 5,
    "start_time": "2022-12-14T19:18:18.999Z"
   },
   {
    "duration": 21,
    "start_time": "2022-12-14T19:18:19.006Z"
   },
   {
    "duration": 9,
    "start_time": "2022-12-14T19:18:19.029Z"
   },
   {
    "duration": 7,
    "start_time": "2022-12-14T19:18:19.040Z"
   },
   {
    "duration": 29,
    "start_time": "2022-12-14T19:19:45.407Z"
   },
   {
    "duration": 12,
    "start_time": "2022-12-14T19:35:00.479Z"
   },
   {
    "duration": 11,
    "start_time": "2022-12-14T19:35:01.288Z"
   },
   {
    "duration": 4,
    "start_time": "2022-12-14T19:35:04.899Z"
   },
   {
    "duration": 23,
    "start_time": "2022-12-14T19:35:10.128Z"
   },
   {
    "duration": 5,
    "start_time": "2022-12-14T19:36:20.387Z"
   },
   {
    "duration": 20,
    "start_time": "2022-12-14T19:36:23.322Z"
   },
   {
    "duration": 11,
    "start_time": "2022-12-14T19:36:46.752Z"
   },
   {
    "duration": 9,
    "start_time": "2022-12-14T19:36:47.485Z"
   },
   {
    "duration": 4,
    "start_time": "2022-12-14T19:36:48.963Z"
   },
   {
    "duration": 21,
    "start_time": "2022-12-14T19:38:10.983Z"
   },
   {
    "duration": 4,
    "start_time": "2022-12-14T19:38:13.515Z"
   },
   {
    "duration": 11,
    "start_time": "2022-12-14T19:38:33.183Z"
   },
   {
    "duration": 4,
    "start_time": "2022-12-14T19:38:35.819Z"
   },
   {
    "duration": 19,
    "start_time": "2022-12-14T19:38:42.386Z"
   },
   {
    "duration": 7,
    "start_time": "2022-12-14T19:44:19.684Z"
   },
   {
    "duration": 23,
    "start_time": "2022-12-14T19:44:21.312Z"
   },
   {
    "duration": 24,
    "start_time": "2022-12-14T19:44:45.080Z"
   },
   {
    "duration": 4,
    "start_time": "2022-12-14T19:44:47.099Z"
   },
   {
    "duration": 22,
    "start_time": "2022-12-14T19:44:49.831Z"
   },
   {
    "duration": 11,
    "start_time": "2022-12-14T19:44:59.536Z"
   },
   {
    "duration": 4,
    "start_time": "2022-12-14T19:45:01.643Z"
   },
   {
    "duration": 19,
    "start_time": "2022-12-14T19:45:03.015Z"
   },
   {
    "duration": 9,
    "start_time": "2022-12-14T19:45:20.540Z"
   },
   {
    "duration": 5,
    "start_time": "2022-12-14T19:45:22.890Z"
   },
   {
    "duration": 4,
    "start_time": "2022-12-14T19:45:25.412Z"
   },
   {
    "duration": 20,
    "start_time": "2022-12-14T19:45:26.823Z"
   },
   {
    "duration": 3,
    "start_time": "2022-12-14T19:45:37.318Z"
   },
   {
    "duration": 156,
    "start_time": "2022-12-14T19:45:37.323Z"
   },
   {
    "duration": 7,
    "start_time": "2022-12-14T19:45:37.481Z"
   },
   {
    "duration": 30,
    "start_time": "2022-12-14T19:45:37.489Z"
   },
   {
    "duration": 3,
    "start_time": "2022-12-14T19:45:37.527Z"
   },
   {
    "duration": 5,
    "start_time": "2022-12-14T19:45:37.532Z"
   },
   {
    "duration": 17,
    "start_time": "2022-12-14T19:45:37.539Z"
   },
   {
    "duration": 5,
    "start_time": "2022-12-14T19:45:37.558Z"
   },
   {
    "duration": 26,
    "start_time": "2022-12-14T19:45:37.565Z"
   },
   {
    "duration": 41,
    "start_time": "2022-12-14T19:45:37.593Z"
   },
   {
    "duration": 24,
    "start_time": "2022-12-14T19:45:37.637Z"
   },
   {
    "duration": 74,
    "start_time": "2022-12-14T19:45:37.662Z"
   },
   {
    "duration": 59,
    "start_time": "2022-12-14T19:45:37.738Z"
   },
   {
    "duration": 63,
    "start_time": "2022-12-14T19:45:37.798Z"
   },
   {
    "duration": 42,
    "start_time": "2022-12-14T19:45:37.863Z"
   },
   {
    "duration": 23,
    "start_time": "2022-12-14T19:45:37.907Z"
   },
   {
    "duration": 46,
    "start_time": "2022-12-14T19:45:37.932Z"
   },
   {
    "duration": 11,
    "start_time": "2022-12-14T19:45:37.980Z"
   },
   {
    "duration": 12,
    "start_time": "2022-12-14T19:45:37.992Z"
   },
   {
    "duration": 22,
    "start_time": "2022-12-14T19:45:38.005Z"
   },
   {
    "duration": 32,
    "start_time": "2022-12-14T19:45:38.029Z"
   },
   {
    "duration": 16,
    "start_time": "2022-12-14T19:45:38.063Z"
   },
   {
    "duration": 20,
    "start_time": "2022-12-14T19:45:38.081Z"
   },
   {
    "duration": 32,
    "start_time": "2022-12-14T19:45:38.103Z"
   },
   {
    "duration": 33,
    "start_time": "2022-12-14T19:45:38.137Z"
   },
   {
    "duration": 15,
    "start_time": "2022-12-14T19:45:38.172Z"
   },
   {
    "duration": 7,
    "start_time": "2022-12-14T19:45:38.189Z"
   },
   {
    "duration": 28,
    "start_time": "2022-12-14T19:45:38.198Z"
   },
   {
    "duration": 11,
    "start_time": "2022-12-14T19:45:38.229Z"
   },
   {
    "duration": 4,
    "start_time": "2022-12-14T19:45:41.435Z"
   },
   {
    "duration": 18,
    "start_time": "2022-12-14T19:45:42.519Z"
   },
   {
    "duration": 3,
    "start_time": "2022-12-14T19:45:48.603Z"
   },
   {
    "duration": 181,
    "start_time": "2022-12-14T19:45:48.608Z"
   },
   {
    "duration": 8,
    "start_time": "2022-12-14T19:45:48.790Z"
   },
   {
    "duration": 61,
    "start_time": "2022-12-14T19:45:48.800Z"
   },
   {
    "duration": 20,
    "start_time": "2022-12-14T19:45:48.863Z"
   },
   {
    "duration": 24,
    "start_time": "2022-12-14T19:45:48.884Z"
   },
   {
    "duration": 47,
    "start_time": "2022-12-14T19:45:48.910Z"
   },
   {
    "duration": 23,
    "start_time": "2022-12-14T19:45:48.959Z"
   },
   {
    "duration": 47,
    "start_time": "2022-12-14T19:45:48.985Z"
   },
   {
    "duration": 51,
    "start_time": "2022-12-14T19:45:49.033Z"
   },
   {
    "duration": 48,
    "start_time": "2022-12-14T19:45:49.085Z"
   },
   {
    "duration": 98,
    "start_time": "2022-12-14T19:45:49.135Z"
   },
   {
    "duration": 78,
    "start_time": "2022-12-14T19:45:49.235Z"
   },
   {
    "duration": 65,
    "start_time": "2022-12-14T19:45:49.315Z"
   },
   {
    "duration": 60,
    "start_time": "2022-12-14T19:45:49.382Z"
   },
   {
    "duration": 11,
    "start_time": "2022-12-14T19:45:49.443Z"
   },
   {
    "duration": 80,
    "start_time": "2022-12-14T19:45:49.455Z"
   },
   {
    "duration": 12,
    "start_time": "2022-12-14T19:45:49.537Z"
   },
   {
    "duration": 42,
    "start_time": "2022-12-14T19:45:49.551Z"
   },
   {
    "duration": 23,
    "start_time": "2022-12-14T19:45:49.595Z"
   },
   {
    "duration": 44,
    "start_time": "2022-12-14T19:45:49.620Z"
   },
   {
    "duration": 25,
    "start_time": "2022-12-14T19:45:49.666Z"
   },
   {
    "duration": 42,
    "start_time": "2022-12-14T19:45:49.694Z"
   },
   {
    "duration": 26,
    "start_time": "2022-12-14T19:45:49.739Z"
   },
   {
    "duration": 41,
    "start_time": "2022-12-14T19:45:49.766Z"
   },
   {
    "duration": 36,
    "start_time": "2022-12-14T19:45:49.809Z"
   },
   {
    "duration": 25,
    "start_time": "2022-12-14T19:45:49.846Z"
   },
   {
    "duration": 40,
    "start_time": "2022-12-14T19:45:49.872Z"
   },
   {
    "duration": 29,
    "start_time": "2022-12-14T19:45:49.914Z"
   },
   {
    "duration": 8,
    "start_time": "2022-12-14T19:45:49.945Z"
   },
   {
    "duration": 53,
    "start_time": "2022-12-14T19:45:49.954Z"
   },
   {
    "duration": 16,
    "start_time": "2022-12-14T19:45:50.009Z"
   },
   {
    "duration": 16,
    "start_time": "2022-12-14T19:45:50.027Z"
   },
   {
    "duration": 26,
    "start_time": "2022-12-14T19:45:50.045Z"
   },
   {
    "duration": 38,
    "start_time": "2022-12-14T19:45:50.073Z"
   },
   {
    "duration": 32,
    "start_time": "2022-12-14T19:45:50.113Z"
   },
   {
    "duration": 38,
    "start_time": "2022-12-14T19:45:50.146Z"
   },
   {
    "duration": 26,
    "start_time": "2022-12-14T19:45:50.186Z"
   },
   {
    "duration": 68,
    "start_time": "2022-12-14T19:46:14.944Z"
   },
   {
    "duration": 70,
    "start_time": "2022-12-14T19:46:16.678Z"
   },
   {
    "duration": 15,
    "start_time": "2022-12-14T19:47:29.432Z"
   },
   {
    "duration": 31,
    "start_time": "2022-12-14T19:48:41.887Z"
   },
   {
    "duration": 68,
    "start_time": "2022-12-14T19:48:46.091Z"
   },
   {
    "duration": 20,
    "start_time": "2022-12-14T19:48:53.815Z"
   },
   {
    "duration": 4,
    "start_time": "2022-12-14T19:49:12.067Z"
   },
   {
    "duration": 36,
    "start_time": "2022-12-14T19:49:31.832Z"
   },
   {
    "duration": 24,
    "start_time": "2022-12-14T19:49:35.487Z"
   },
   {
    "duration": 17,
    "start_time": "2022-12-14T19:49:37.599Z"
   },
   {
    "duration": 3,
    "start_time": "2022-12-14T19:50:26.825Z"
   },
   {
    "duration": 161,
    "start_time": "2022-12-14T19:50:28.014Z"
   },
   {
    "duration": 10,
    "start_time": "2022-12-14T19:50:29.704Z"
   },
   {
    "duration": 30,
    "start_time": "2022-12-14T19:50:31.230Z"
   },
   {
    "duration": 3,
    "start_time": "2022-12-14T19:50:33.798Z"
   },
   {
    "duration": 3,
    "start_time": "2022-12-14T19:50:35.943Z"
   },
   {
    "duration": 8,
    "start_time": "2022-12-14T19:50:39.103Z"
   },
   {
    "duration": 3,
    "start_time": "2022-12-14T19:50:40.302Z"
   },
   {
    "duration": 22,
    "start_time": "2022-12-14T19:50:42.662Z"
   },
   {
    "duration": 21,
    "start_time": "2022-12-14T19:50:45.647Z"
   },
   {
    "duration": 23,
    "start_time": "2022-12-14T19:50:47.031Z"
   },
   {
    "duration": 64,
    "start_time": "2022-12-14T19:50:48.942Z"
   },
   {
    "duration": 61,
    "start_time": "2022-12-14T19:50:50.094Z"
   },
   {
    "duration": 56,
    "start_time": "2022-12-14T19:50:51.126Z"
   },
   {
    "duration": 44,
    "start_time": "2022-12-14T19:50:53.302Z"
   },
   {
    "duration": 10,
    "start_time": "2022-12-14T19:50:54.527Z"
   },
   {
    "duration": 43,
    "start_time": "2022-12-14T19:50:56.199Z"
   },
   {
    "duration": 14,
    "start_time": "2022-12-14T19:50:59.815Z"
   },
   {
    "duration": 13,
    "start_time": "2022-12-14T19:51:01.542Z"
   },
   {
    "duration": 4,
    "start_time": "2022-12-14T19:51:07.632Z"
   },
   {
    "duration": 17,
    "start_time": "2022-12-14T19:51:09.359Z"
   },
   {
    "duration": 15,
    "start_time": "2022-12-14T19:51:10.095Z"
   },
   {
    "duration": 15,
    "start_time": "2022-12-14T19:51:10.710Z"
   },
   {
    "duration": 15,
    "start_time": "2022-12-14T19:51:11.286Z"
   },
   {
    "duration": 16,
    "start_time": "2022-12-14T19:51:12.511Z"
   },
   {
    "duration": 16,
    "start_time": "2022-12-14T19:51:13.655Z"
   },
   {
    "duration": 7,
    "start_time": "2022-12-14T19:51:16.055Z"
   },
   {
    "duration": 18,
    "start_time": "2022-12-14T19:51:22.719Z"
   },
   {
    "duration": 13,
    "start_time": "2022-12-14T19:51:23.326Z"
   },
   {
    "duration": 4,
    "start_time": "2022-12-14T19:51:28.922Z"
   },
   {
    "duration": 45,
    "start_time": "2022-12-14T19:52:05.415Z"
   },
   {
    "duration": 26,
    "start_time": "2022-12-14T19:52:18.615Z"
   },
   {
    "duration": 22,
    "start_time": "2022-12-14T19:52:20.870Z"
   },
   {
    "duration": 11,
    "start_time": "2022-12-14T19:53:08.200Z"
   },
   {
    "duration": 11,
    "start_time": "2022-12-14T19:53:11.496Z"
   },
   {
    "duration": 55,
    "start_time": "2022-12-14T19:53:19.991Z"
   },
   {
    "duration": 20,
    "start_time": "2022-12-14T19:54:03.783Z"
   },
   {
    "duration": 25,
    "start_time": "2022-12-14T19:54:05.750Z"
   },
   {
    "duration": 66,
    "start_time": "2022-12-14T19:55:31.055Z"
   },
   {
    "duration": 61,
    "start_time": "2022-12-14T19:55:32.070Z"
   },
   {
    "duration": 21,
    "start_time": "2022-12-14T19:55:40.167Z"
   },
   {
    "duration": 25,
    "start_time": "2022-12-14T19:57:00.240Z"
   },
   {
    "duration": 21,
    "start_time": "2022-12-14T19:57:01.519Z"
   },
   {
    "duration": 9,
    "start_time": "2022-12-15T11:08:53.018Z"
   },
   {
    "duration": 49,
    "start_time": "2022-12-15T11:09:06.228Z"
   },
   {
    "duration": 5,
    "start_time": "2022-12-15T11:09:09.219Z"
   },
   {
    "duration": 381,
    "start_time": "2022-12-15T11:09:15.619Z"
   },
   {
    "duration": 447,
    "start_time": "2022-12-15T11:09:16.411Z"
   },
   {
    "duration": 7,
    "start_time": "2022-12-15T11:09:17.135Z"
   },
   {
    "duration": 26,
    "start_time": "2022-12-15T11:09:18.852Z"
   },
   {
    "duration": 3,
    "start_time": "2022-12-15T11:09:21.123Z"
   },
   {
    "duration": 4,
    "start_time": "2022-12-15T11:09:22.415Z"
   },
   {
    "duration": 13,
    "start_time": "2022-12-15T11:09:24.417Z"
   },
   {
    "duration": 3,
    "start_time": "2022-12-15T11:09:26.467Z"
   },
   {
    "duration": 20,
    "start_time": "2022-12-15T11:09:27.709Z"
   },
   {
    "duration": 21,
    "start_time": "2022-12-15T11:09:29.269Z"
   },
   {
    "duration": 21,
    "start_time": "2022-12-15T11:09:30.066Z"
   },
   {
    "duration": 72,
    "start_time": "2022-12-15T11:09:32.000Z"
   },
   {
    "duration": 75,
    "start_time": "2022-12-15T11:09:33.271Z"
   },
   {
    "duration": 71,
    "start_time": "2022-12-15T11:09:34.193Z"
   },
   {
    "duration": 54,
    "start_time": "2022-12-15T11:09:35.731Z"
   },
   {
    "duration": 9,
    "start_time": "2022-12-15T11:09:36.978Z"
   },
   {
    "duration": 44,
    "start_time": "2022-12-15T11:09:38.307Z"
   },
   {
    "duration": 11,
    "start_time": "2022-12-15T11:09:41.537Z"
   },
   {
    "duration": 11,
    "start_time": "2022-12-15T11:09:43.218Z"
   },
   {
    "duration": 3,
    "start_time": "2022-12-15T11:09:45.091Z"
   },
   {
    "duration": 18,
    "start_time": "2022-12-15T11:09:46.257Z"
   },
   {
    "duration": 12,
    "start_time": "2022-12-15T11:09:46.705Z"
   },
   {
    "duration": 14,
    "start_time": "2022-12-15T11:09:47.060Z"
   },
   {
    "duration": 12,
    "start_time": "2022-12-15T11:09:47.438Z"
   },
   {
    "duration": 15,
    "start_time": "2022-12-15T11:09:48.913Z"
   },
   {
    "duration": 14,
    "start_time": "2022-12-15T11:09:49.282Z"
   },
   {
    "duration": 6,
    "start_time": "2022-12-15T11:09:50.241Z"
   },
   {
    "duration": 11,
    "start_time": "2022-12-15T11:09:52.531Z"
   },
   {
    "duration": 10,
    "start_time": "2022-12-15T11:09:53.331Z"
   },
   {
    "duration": 5,
    "start_time": "2022-12-15T11:09:55.347Z"
   },
   {
    "duration": 15,
    "start_time": "2022-12-15T11:09:56.850Z"
   },
   {
    "duration": 11,
    "start_time": "2022-12-15T11:09:58.833Z"
   },
   {
    "duration": 20,
    "start_time": "2022-12-15T11:10:02.659Z"
   },
   {
    "duration": 13,
    "start_time": "2022-12-15T11:10:03.342Z"
   },
   {
    "duration": 27,
    "start_time": "2022-12-15T11:40:11.058Z"
   },
   {
    "duration": 8,
    "start_time": "2022-12-15T11:45:33.345Z"
   },
   {
    "duration": 13,
    "start_time": "2022-12-15T11:46:54.262Z"
   },
   {
    "duration": 7,
    "start_time": "2022-12-15T11:47:16.846Z"
   },
   {
    "duration": 6,
    "start_time": "2022-12-15T11:47:41.174Z"
   },
   {
    "duration": 6,
    "start_time": "2022-12-15T11:49:03.525Z"
   },
   {
    "duration": 5,
    "start_time": "2022-12-15T11:49:05.588Z"
   },
   {
    "duration": 4,
    "start_time": "2023-01-14T17:52:20.308Z"
   }
  ],
  "colab": {
   "collapsed_sections": [
    "E0vqbgi9ay0H",
    "VUC88oWjTJw2"
   ],
   "name": "automatization_template_upd4.ipynb",
   "provenance": []
  },
  "kernelspec": {
   "display_name": "Python 3 (ipykernel)",
   "language": "python",
   "name": "python3"
  },
  "language_info": {
   "codemirror_mode": {
    "name": "ipython",
    "version": 3
   },
   "file_extension": ".py",
   "mimetype": "text/x-python",
   "name": "python",
   "nbconvert_exporter": "python",
   "pygments_lexer": "ipython3",
   "version": "3.9.13"
  },
  "toc": {
   "base_numbering": 1,
   "nav_menu": {
    "height": "215px",
    "width": "403px"
   },
   "number_sections": true,
   "sideBar": true,
   "skip_h1_title": true,
   "title_cell": "Table of Contents",
   "title_sidebar": "Contents",
   "toc_cell": false,
   "toc_position": {
    "height": "calc(100% - 180px)",
    "left": "10px",
    "top": "150px",
    "width": "285.825px"
   },
   "toc_section_display": true,
   "toc_window_display": false
  }
 },
 "nbformat": 4,
 "nbformat_minor": 1
}
