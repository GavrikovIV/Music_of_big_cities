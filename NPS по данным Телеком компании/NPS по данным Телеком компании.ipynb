{
 "cells": [
  {
   "cell_type": "markdown",
   "id": "808a868a",
   "metadata": {},
   "source": [
    "# Описание проекта\n",
    "Заказчик этого исследования — большая телекоммуникационная компания, которая оказывает услуги на территории всего СНГ. Перед компанией стоит задача определить текущий уровень потребительской лояльности, или NPS (от англ. Net Promoter Score), среди клиентов из России.  \n",
    "  \n",
    "Чтобы определить уровень лояльности, клиентам задавали классический вопрос: «Оцените по шкале от 1 до 10 вероятность того, что вы порекомендуете компанию друзьям и знакомым».  \n",
    "  \n",
    "Компания провела опрос и попросила вас подготовить дашборд с его итогами. Большую базу данных для такой задачи разворачивать не стали и выгрузили данные в SQLite.  \n",
    "  \n",
    "Чтобы оценить результаты опроса, оценки обычно делят на три группы:  \n",
    "9-10 баллов — «cторонники» (англ. promoters);  \n",
    "7-8 баллов — «нейтралы» (англ. passives);  \n",
    "0-6 баллов — «критики» (англ. detractors).  \n",
    "  \n",
    "Итоговое значение NPS рассчитывается по формуле: % «сторонников» - % «критиков».  \n",
    "  \n",
    "Таким образом, значение этого показателя варьируется от -100% (когда все клиенты «критики») до 100% (когда все клиенты лояльны к сервису). Но это крайние случаи, которые редко встретишь на практике.   \n",
    "  \n",
    "Интерпретируя результаты NPS-опросов, следует также помнить, что само значение мало о чём говорит. Однако исследования показывают, что клиенты-сторонники полезны любому бизнесу. Они чаще других повторно совершают покупки, активнее тестируют обновления и приводят в сервис своих друзей и знакомых. Поэтому NPS остаётся одной из важнейших метрик бизнеса. "
   ]
  },
  {
   "cell_type": "code",
   "execution_count": 17,
   "id": "fc7efa54",
   "metadata": {},
   "outputs": [],
   "source": [
    "# Загружаем необходимые библиотеки\n",
    "import os\n",
    "import pandas as pd\n",
    "import numpy as np\n",
    "\n",
    "from sqlalchemy import create_engine"
   ]
  },
  {
   "cell_type": "code",
   "execution_count": 26,
   "id": "0017f8e7",
   "metadata": {},
   "outputs": [],
   "source": [
    "# Пропишем отдельно путь к базе данных\n",
    "path_to_db_local = 'telecomm_csi.db'\n",
    "path_to_db_platform = '/datasets/telecomm_csi.db'\n",
    "path_to_db_local = r'C:/Users/gawsik/github/Телеком/telecomm_csi.db'\n",
    "path_to_db = None"
   ]
  },
  {
   "cell_type": "code",
   "execution_count": 27,
   "id": "ff1e2dd3",
   "metadata": {},
   "outputs": [],
   "source": [
    "# Подключаемся к БД\n",
    "if os.path.exists(path_to_db_local):\n",
    "    path_to_db = path_to_db_local\n",
    "elif os.path.exists(path_to_db_platform):\n",
    "    path_to_db = path_to_db_platform\n",
    "elif os.path.exists(path_to_db_platform):\n",
    "    path_to_db = path_to_db_local\n",
    "else:\n",
    "    raise Exception('Файл с базой данных SQLite не найден!')\n",
    "\n",
    "if path_to_db:\n",
    "    engine = create_engine(f'sqlite:///{path_to_db}', echo=False) # создаём подключение к базе"
   ]
  },
  {
   "cell_type": "code",
   "execution_count": 28,
   "id": "84ebad43",
   "metadata": {},
   "outputs": [],
   "source": [
    "# Собираем витрину.\n",
    "query = \"\"\"\n",
    "SELECT u.user_id,\n",
    "\tu.lt_day,\n",
    "\tCASE\n",
    "\t\tWHEN u.lt_day > 365 THEN False\n",
    "\t\tELSE True\n",
    "\t\tEND is_new,\n",
    "\tu.age,\n",
    "\tCASE \n",
    "           WHEN gender_segment = 1 THEN 'женщина'\n",
    "           WHEN gender_segment = 0 THEN 'мужчина' -- поправил пол мужчина\n",
    "           ELSE 'не определен' -- добавил пол \"не определен\"\n",
    "    END gender_segment,\n",
    "\tu.os_name,\n",
    "\tu.cpe_type_name,\n",
    "\tl.country,\n",
    "\tl.city,\n",
    "\tsubstring(age_s.title, 4) AS age_segment,\n",
    "\tsubstring(t_s.title, 4) AS traffic_segment,\n",
    "\tsubstring(l_s.title,4) AS lifetime_segment,\n",
    "\tu.nps_score,\n",
    "\tCASE WHEN u.nps_score >= 9 THEN 'cторонники'\n",
    "\tWHEN u.nps_score >= 7 THEN 'нейтралы'\n",
    "\tELSE 'критики'\n",
    "\tEND nps_group\n",
    "FROM user AS u\n",
    "\n",
    "JOIN location AS l ON l.location_id = u.location_id\n",
    "JOIN age_segment AS age_s ON age_s.age_gr_id = u.age_gr_id\n",
    "JOIN traffic_segment AS t_s ON t_s.tr_gr_id = u.tr_gr_id\n",
    "JOIN lifetime_segment AS l_s ON l_s.lt_gr_id = u.lt_gr_id\n",
    "\"\"\""
   ]
  },
  {
   "cell_type": "code",
   "execution_count": 29,
   "id": "3965faf2",
   "metadata": {},
   "outputs": [
    {
     "data": {
      "text/html": [
       "<div>\n",
       "<style scoped>\n",
       "    .dataframe tbody tr th:only-of-type {\n",
       "        vertical-align: middle;\n",
       "    }\n",
       "\n",
       "    .dataframe tbody tr th {\n",
       "        vertical-align: top;\n",
       "    }\n",
       "\n",
       "    .dataframe thead th {\n",
       "        text-align: right;\n",
       "    }\n",
       "</style>\n",
       "<table border=\"1\" class=\"dataframe\">\n",
       "  <thead>\n",
       "    <tr style=\"text-align: right;\">\n",
       "      <th></th>\n",
       "      <th>user_id</th>\n",
       "      <th>lt_day</th>\n",
       "      <th>is_new</th>\n",
       "      <th>age</th>\n",
       "      <th>gender_segment</th>\n",
       "      <th>os_name</th>\n",
       "      <th>cpe_type_name</th>\n",
       "      <th>country</th>\n",
       "      <th>city</th>\n",
       "      <th>age_segment</th>\n",
       "      <th>traffic_segment</th>\n",
       "      <th>lifetime_segment</th>\n",
       "      <th>nps_score</th>\n",
       "      <th>nps_group</th>\n",
       "    </tr>\n",
       "  </thead>\n",
       "  <tbody>\n",
       "    <tr>\n",
       "      <th>0</th>\n",
       "      <td>A001A2</td>\n",
       "      <td>2320</td>\n",
       "      <td>0</td>\n",
       "      <td>45.0</td>\n",
       "      <td>женщина</td>\n",
       "      <td>ANDROID</td>\n",
       "      <td>SMARTPHONE</td>\n",
       "      <td>Россия</td>\n",
       "      <td>Уфа</td>\n",
       "      <td>45-54</td>\n",
       "      <td>1-5</td>\n",
       "      <td>36+</td>\n",
       "      <td>10</td>\n",
       "      <td>cторонники</td>\n",
       "    </tr>\n",
       "    <tr>\n",
       "      <th>1</th>\n",
       "      <td>A001WF</td>\n",
       "      <td>2344</td>\n",
       "      <td>0</td>\n",
       "      <td>53.0</td>\n",
       "      <td>мужчина</td>\n",
       "      <td>ANDROID</td>\n",
       "      <td>SMARTPHONE</td>\n",
       "      <td>Россия</td>\n",
       "      <td>Киров</td>\n",
       "      <td>45-54</td>\n",
       "      <td>1-5</td>\n",
       "      <td>36+</td>\n",
       "      <td>10</td>\n",
       "      <td>cторонники</td>\n",
       "    </tr>\n",
       "    <tr>\n",
       "      <th>2</th>\n",
       "      <td>A003Q7</td>\n",
       "      <td>467</td>\n",
       "      <td>0</td>\n",
       "      <td>57.0</td>\n",
       "      <td>мужчина</td>\n",
       "      <td>ANDROID</td>\n",
       "      <td>SMARTPHONE</td>\n",
       "      <td>Россия</td>\n",
       "      <td>Москва</td>\n",
       "      <td>55-64</td>\n",
       "      <td>20-25</td>\n",
       "      <td>13-24</td>\n",
       "      <td>10</td>\n",
       "      <td>cторонники</td>\n",
       "    </tr>\n",
       "  </tbody>\n",
       "</table>\n",
       "</div>"
      ],
      "text/plain": [
       "  user_id  lt_day  is_new   age gender_segment  os_name cpe_type_name country  \\\n",
       "0  A001A2    2320       0  45.0        женщина  ANDROID    SMARTPHONE  Россия   \n",
       "1  A001WF    2344       0  53.0        мужчина  ANDROID    SMARTPHONE  Россия   \n",
       "2  A003Q7     467       0  57.0        мужчина  ANDROID    SMARTPHONE  Россия   \n",
       "\n",
       "     city age_segment traffic_segment lifetime_segment  nps_score   nps_group  \n",
       "0     Уфа       45-54             1-5              36+         10  cторонники  \n",
       "1   Киров       45-54             1-5              36+         10  cторонники  \n",
       "2  Москва       55-64           20-25            13-24         10  cторонники  "
      ]
     },
     "execution_count": 29,
     "metadata": {},
     "output_type": "execute_result"
    }
   ],
   "source": [
    "df = pd.read_sql(query, engine) # сохраняем в датафрейм витрину и проверям по условиям.\n",
    "df.head(3)"
   ]
  },
  {
   "cell_type": "markdown",
   "id": "a187b096",
   "metadata": {},
   "source": [
    "Создаем дашборды.  \n",
    "Вот [Ссылка на Tableau ](https://public.tableau.com/app/profile/gavrikov.ivan/viz/2_16839110038800/NPS?publish=yes)"
   ]
  }
 ],
 "metadata": {
  "ExecuteTimeLog": [
   {
    "duration": 661,
    "start_time": "2023-05-11T19:06:55.598Z"
   },
   {
    "duration": 111,
    "start_time": "2023-05-11T19:06:58.237Z"
   },
   {
    "duration": 6,
    "start_time": "2023-05-11T19:07:40.215Z"
   },
   {
    "duration": 8073,
    "start_time": "2023-05-11T19:07:44.022Z"
   },
   {
    "duration": 6759,
    "start_time": "2023-05-11T19:08:03.343Z"
   },
   {
    "duration": 134,
    "start_time": "2023-05-11T19:14:23.622Z"
   },
   {
    "duration": 80,
    "start_time": "2023-05-11T19:15:00.008Z"
   },
   {
    "duration": 5827,
    "start_time": "2023-05-11T19:15:07.512Z"
   },
   {
    "duration": 5800,
    "start_time": "2023-05-11T19:20:54.719Z"
   },
   {
    "duration": 5784,
    "start_time": "2023-05-11T19:22:32.943Z"
   },
   {
    "duration": 49,
    "start_time": "2023-05-11T19:24:40.895Z"
   },
   {
    "duration": 5601,
    "start_time": "2023-05-11T19:31:17.721Z"
   },
   {
    "duration": 9,
    "start_time": "2023-05-11T19:31:25.595Z"
   },
   {
    "duration": 11,
    "start_time": "2023-05-13T14:00:17.491Z"
   },
   {
    "duration": 53,
    "start_time": "2023-05-13T14:00:39.823Z"
   },
   {
    "duration": 544,
    "start_time": "2023-05-13T14:00:43.195Z"
   },
   {
    "duration": 74,
    "start_time": "2023-05-13T14:00:43.741Z"
   },
   {
    "duration": 6,
    "start_time": "2023-05-13T14:00:44.183Z"
   },
   {
    "duration": 6025,
    "start_time": "2023-05-13T14:00:45.887Z"
   },
   {
    "duration": 4842,
    "start_time": "2023-05-13T14:00:55.463Z"
   },
   {
    "duration": 4,
    "start_time": "2023-05-13T14:01:00.307Z"
   },
   {
    "duration": 3,
    "start_time": "2023-05-13T14:35:23.636Z"
   },
   {
    "duration": 5550,
    "start_time": "2023-05-13T14:35:24.986Z"
   },
   {
    "duration": 511,
    "start_time": "2023-05-15T02:58:14.924Z"
   },
   {
    "duration": 93,
    "start_time": "2023-05-15T02:58:15.437Z"
   },
   {
    "duration": 3,
    "start_time": "2023-05-15T02:58:15.532Z"
   },
   {
    "duration": 6390,
    "start_time": "2023-05-15T02:58:15.537Z"
   },
   {
    "duration": 4636,
    "start_time": "2023-05-15T02:58:21.928Z"
   },
   {
    "duration": 8,
    "start_time": "2023-05-15T17:53:45.526Z"
   },
   {
    "duration": 42,
    "start_time": "2023-05-15T17:53:57.075Z"
   },
   {
    "duration": 509,
    "start_time": "2023-05-15T17:54:03.077Z"
   },
   {
    "duration": 170,
    "start_time": "2023-05-15T17:54:04.676Z"
   },
   {
    "duration": 2,
    "start_time": "2023-05-15T17:54:06.373Z"
   },
   {
    "duration": 468,
    "start_time": "2023-05-15T17:54:09.932Z"
   },
   {
    "duration": 3,
    "start_time": "2023-05-15T17:54:20.793Z"
   },
   {
    "duration": 5725,
    "start_time": "2023-05-15T17:54:22.482Z"
   },
   {
    "duration": 7,
    "start_time": "2023-05-15T17:57:00.549Z"
   },
   {
    "duration": 9,
    "start_time": "2023-05-15T17:57:17.428Z"
   },
   {
    "duration": 84,
    "start_time": "2023-05-15T17:57:27.149Z"
   },
   {
    "duration": 4193,
    "start_time": "2023-05-15T17:58:09.764Z"
   },
   {
    "duration": 72,
    "start_time": "2023-05-15T20:20:16.944Z"
   },
   {
    "duration": 76,
    "start_time": "2023-05-15T20:21:26.906Z"
   }
  ],
  "kernelspec": {
   "display_name": "Python 3 (ipykernel)",
   "language": "python",
   "name": "python3"
  },
  "language_info": {
   "codemirror_mode": {
    "name": "ipython",
    "version": 3
   },
   "file_extension": ".py",
   "mimetype": "text/x-python",
   "name": "python",
   "nbconvert_exporter": "python",
   "pygments_lexer": "ipython3",
   "version": "3.9.13"
  },
  "toc": {
   "base_numbering": 1,
   "nav_menu": {},
   "number_sections": true,
   "sideBar": true,
   "skip_h1_title": true,
   "title_cell": "Table of Contents",
   "title_sidebar": "Contents",
   "toc_cell": false,
   "toc_position": {},
   "toc_section_display": true,
   "toc_window_display": false
  }
 },
 "nbformat": 4,
 "nbformat_minor": 5
}
