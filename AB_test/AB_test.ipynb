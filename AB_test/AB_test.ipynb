{
 "cells": [
  {
   "cell_type": "markdown",
   "metadata": {},
   "source": [
    "# Интернет-магазин\n",
    "\n",
    "Вместе с отделом маркетинга подготовили список гипотез для увеличения выручки.\n",
    "# Задача\n",
    "Приоритизировать гипотезы, запустить A/B-тест и проанализовать результаты. \n",
    "# Цель\n",
    "- Построить график кумулятивной выручки по группам. Сделать выводы и предположения.\n",
    "- Построить график кумулятивного среднего чека по группам. Сделать выводы и предположения.\n",
    "- Построить график относительного изменения кумулятивного среднего чека группы B к группе A. Сделать выводы и предположения.\n",
    "- Построить график кумулятивного среднего количества заказов на посетителя по группам. Сделать выводы и предположения.\n",
    "- Построить график относительного изменения кумулятивного среднего количества заказов на посетителя группы B к группе A. Сделать выводы и предположения.\n",
    "- Построить точечный график количества заказов по пользователям. Сделать выводы и предположения.\n",
    "- Посчитать 95-й и 99-й перцентили количества заказов на пользователя. Выбрать границу для определения аномальных пользователей.\n",
    "- Построить точечный график стоимостей заказов. Сделать выводы и предположения.\n",
    "- Посчитать 95-й и 99-й перцентили стоимости заказов. Выбрать границу для определения аномальных заказов.\n",
    "- Посчитать статистическую значимость различий в среднем количестве заказов на посетителя между группами по «сырым» данным. Сделать выводы и предположения.\n",
    "- Посчитать статистическую значимость различий в среднем чеке заказа между группами по «сырым» данным. Сделать выводы и предположения.\n",
    "- Посчитать статистическую значимость различий в среднем количестве заказов на посетителя между группами по «очищенным» данным. Сделать выводы и предположения.\n",
    "- Посчитать статистическую значимость различий в среднем чеке заказа между группами по «очищенным» данным. Сделать выводы и предположения.\n",
    "<br>\n",
    "- Принять решение по результатам теста и объяснить его. Варианты решений:\n",
    "    - Остановить тест, зафиксировать победу одной из групп.\n",
    "    - Остановить тест, зафиксировать отсутствие различий между группами.\n",
    "    - Продолжить тест."
   ]
  },
  {
   "cell_type": "code",
   "execution_count": 1,
   "metadata": {},
   "outputs": [],
   "source": [
    "# Загрузим необходимые библиотеки и параметры вывода\n",
    "import pandas as pd\n",
    "import scipy.stats as stats\n",
    "import datetime as dt\n",
    "import numpy as np\n",
    "import matplotlib.pyplot as plt\n",
    "plt.rcParams ['figure.figsize'] = [15, 5] # за ранее обозначим размер графиков\n",
    "from pandas.plotting import register_matplotlib_converters\n",
    "import warnings\n",
    "pd.set_option('display.max_rows', None) # выводим все значения\n",
    "pd.options.display.max_colwidth = 109 # максимальное число выводимых семволов в строке - 100"
   ]
  },
  {
   "cell_type": "markdown",
   "metadata": {},
   "source": [
    "## Загрузка данных"
   ]
  },
  {
   "cell_type": "code",
   "execution_count": 2,
   "metadata": {},
   "outputs": [],
   "source": [
    "try:\n",
    "    hypothesis = pd.read_csv(r'C:\\Users\\user\\Documents\\AB-test\\hypothesis.csv')\n",
    "    orders = pd.read_csv(r'C:\\Users\\user\\Documents\\AB-test\\orders.csv', parse_dates=['date'])\n",
    "    visitors = pd.read_csv(r'C:\\Users\\user\\Documents\\AB-test\\visitors.csv', parse_dates=['date'])\n",
    "except:\n",
    "    hypothesis = pd.read_csv('/datasets/hypothesis.csv')\n",
    "    orders = pd.read_csv('/datasets/orders.csv', parse_dates=['date'])\n",
    "    visitors = pd.read_csv('/datasets/visitors.csv', parse_dates=['date'])"
   ]
  },
  {
   "cell_type": "markdown",
   "metadata": {},
   "source": [
    "### Описание данных"
   ]
  },
  {
   "cell_type": "code",
   "execution_count": 3,
   "metadata": {},
   "outputs": [
    {
     "data": {
      "text/html": [
       "<div>\n",
       "<style scoped>\n",
       "    .dataframe tbody tr th:only-of-type {\n",
       "        vertical-align: middle;\n",
       "    }\n",
       "\n",
       "    .dataframe tbody tr th {\n",
       "        vertical-align: top;\n",
       "    }\n",
       "\n",
       "    .dataframe thead th {\n",
       "        text-align: right;\n",
       "    }\n",
       "</style>\n",
       "<table border=\"1\" class=\"dataframe\">\n",
       "  <thead>\n",
       "    <tr style=\"text-align: right;\">\n",
       "      <th></th>\n",
       "      <th>Hypothesis</th>\n",
       "      <th>Reach</th>\n",
       "      <th>Impact</th>\n",
       "      <th>Confidence</th>\n",
       "      <th>Efforts</th>\n",
       "    </tr>\n",
       "  </thead>\n",
       "  <tbody>\n",
       "    <tr>\n",
       "      <th>0</th>\n",
       "      <td>Добавить два новых канала привлечения трафика, что позволит привлекать на 30% больше пользователей</td>\n",
       "      <td>3</td>\n",
       "      <td>10</td>\n",
       "      <td>8</td>\n",
       "      <td>6</td>\n",
       "    </tr>\n",
       "    <tr>\n",
       "      <th>1</th>\n",
       "      <td>Запустить собственную службу доставки, что сократит срок доставки заказов</td>\n",
       "      <td>2</td>\n",
       "      <td>5</td>\n",
       "      <td>4</td>\n",
       "      <td>10</td>\n",
       "    </tr>\n",
       "    <tr>\n",
       "      <th>2</th>\n",
       "      <td>Добавить блоки рекомендаций товаров на сайт интернет магазина, чтобы повысить конверсию и средний чек заказа</td>\n",
       "      <td>8</td>\n",
       "      <td>3</td>\n",
       "      <td>7</td>\n",
       "      <td>3</td>\n",
       "    </tr>\n",
       "    <tr>\n",
       "      <th>3</th>\n",
       "      <td>Изменить структура категорий, что увеличит конверсию, т.к. пользователи быстрее найдут нужный товар</td>\n",
       "      <td>8</td>\n",
       "      <td>3</td>\n",
       "      <td>3</td>\n",
       "      <td>8</td>\n",
       "    </tr>\n",
       "    <tr>\n",
       "      <th>4</th>\n",
       "      <td>Изменить цвет фона главной страницы, чтобы увеличить вовлеченность пользователей</td>\n",
       "      <td>3</td>\n",
       "      <td>1</td>\n",
       "      <td>1</td>\n",
       "      <td>1</td>\n",
       "    </tr>\n",
       "    <tr>\n",
       "      <th>5</th>\n",
       "      <td>Добавить страницу отзывов клиентов о магазине, что позволит увеличить количество заказов</td>\n",
       "      <td>3</td>\n",
       "      <td>2</td>\n",
       "      <td>2</td>\n",
       "      <td>3</td>\n",
       "    </tr>\n",
       "    <tr>\n",
       "      <th>6</th>\n",
       "      <td>Показать на главной странице баннеры с актуальными акциями и распродажами, чтобы увеличить конверсию</td>\n",
       "      <td>5</td>\n",
       "      <td>3</td>\n",
       "      <td>8</td>\n",
       "      <td>3</td>\n",
       "    </tr>\n",
       "    <tr>\n",
       "      <th>7</th>\n",
       "      <td>Добавить форму подписки на все основные страницы, чтобы собрать базу клиентов для email-рассылок</td>\n",
       "      <td>10</td>\n",
       "      <td>7</td>\n",
       "      <td>8</td>\n",
       "      <td>5</td>\n",
       "    </tr>\n",
       "    <tr>\n",
       "      <th>8</th>\n",
       "      <td>Запустить акцию, дающую скидку на товар в день рождения</td>\n",
       "      <td>1</td>\n",
       "      <td>9</td>\n",
       "      <td>9</td>\n",
       "      <td>5</td>\n",
       "    </tr>\n",
       "  </tbody>\n",
       "</table>\n",
       "</div>"
      ],
      "text/plain": [
       "                                                                                                     Hypothesis  \\\n",
       "0            Добавить два новых канала привлечения трафика, что позволит привлекать на 30% больше пользователей   \n",
       "1                                     Запустить собственную службу доставки, что сократит срок доставки заказов   \n",
       "2  Добавить блоки рекомендаций товаров на сайт интернет магазина, чтобы повысить конверсию и средний чек заказа   \n",
       "3           Изменить структура категорий, что увеличит конверсию, т.к. пользователи быстрее найдут нужный товар   \n",
       "4                              Изменить цвет фона главной страницы, чтобы увеличить вовлеченность пользователей   \n",
       "5                      Добавить страницу отзывов клиентов о магазине, что позволит увеличить количество заказов   \n",
       "6          Показать на главной странице баннеры с актуальными акциями и распродажами, чтобы увеличить конверсию   \n",
       "7              Добавить форму подписки на все основные страницы, чтобы собрать базу клиентов для email-рассылок   \n",
       "8                                                       Запустить акцию, дающую скидку на товар в день рождения   \n",
       "\n",
       "   Reach  Impact  Confidence  Efforts  \n",
       "0      3      10           8        6  \n",
       "1      2       5           4       10  \n",
       "2      8       3           7        3  \n",
       "3      8       3           3        8  \n",
       "4      3       1           1        1  \n",
       "5      3       2           2        3  \n",
       "6      5       3           8        3  \n",
       "7     10       7           8        5  \n",
       "8      1       9           9        5  "
      ]
     },
     "metadata": {},
     "output_type": "display_data"
    },
    {
     "name": "stdout",
     "output_type": "stream",
     "text": [
      "<class 'pandas.core.frame.DataFrame'>\n",
      "RangeIndex: 9 entries, 0 to 8\n",
      "Data columns (total 5 columns):\n",
      " #   Column      Non-Null Count  Dtype \n",
      "---  ------      --------------  ----- \n",
      " 0   Hypothesis  9 non-null      object\n",
      " 1   Reach       9 non-null      int64 \n",
      " 2   Impact      9 non-null      int64 \n",
      " 3   Confidence  9 non-null      int64 \n",
      " 4   Efforts     9 non-null      int64 \n",
      "dtypes: int64(4), object(1)\n",
      "memory usage: 488.0+ bytes\n"
     ]
    }
   ],
   "source": [
    "display(hypothesis)\n",
    "hypothesis.info()"
   ]
  },
  {
   "cell_type": "markdown",
   "metadata": {},
   "source": [
    "`Hypothesis` — краткое описание гипотезы;<br>\n",
    "`Reach` — охват пользователей по 10-балльной шкале;<br>\n",
    "`Impact` — влияние на пользователей по 10-балльной шкале;<br>\n",
    "`Confidence` — уверенность в гипотезе по 10-балльной шкале;<br>\n",
    "`Efforts` — затраты ресурсов на проверку гипотезы по 10-балльной шкале. Чем больше значение `Efforts`, тем дороже проверка гипотезы."
   ]
  },
  {
   "cell_type": "code",
   "execution_count": 4,
   "metadata": {},
   "outputs": [
    {
     "data": {
      "text/html": [
       "<div>\n",
       "<style scoped>\n",
       "    .dataframe tbody tr th:only-of-type {\n",
       "        vertical-align: middle;\n",
       "    }\n",
       "\n",
       "    .dataframe tbody tr th {\n",
       "        vertical-align: top;\n",
       "    }\n",
       "\n",
       "    .dataframe thead th {\n",
       "        text-align: right;\n",
       "    }\n",
       "</style>\n",
       "<table border=\"1\" class=\"dataframe\">\n",
       "  <thead>\n",
       "    <tr style=\"text-align: right;\">\n",
       "      <th></th>\n",
       "      <th>transactionId</th>\n",
       "      <th>visitorId</th>\n",
       "      <th>date</th>\n",
       "      <th>revenue</th>\n",
       "      <th>group</th>\n",
       "    </tr>\n",
       "  </thead>\n",
       "  <tbody>\n",
       "    <tr>\n",
       "      <th>893</th>\n",
       "      <td>3390166538</td>\n",
       "      <td>329726006</td>\n",
       "      <td>2019-08-21</td>\n",
       "      <td>4188</td>\n",
       "      <td>A</td>\n",
       "    </tr>\n",
       "    <tr>\n",
       "      <th>1157</th>\n",
       "      <td>3716304192</td>\n",
       "      <td>2695379936</td>\n",
       "      <td>2019-08-14</td>\n",
       "      <td>590</td>\n",
       "      <td>A</td>\n",
       "    </tr>\n",
       "    <tr>\n",
       "      <th>986</th>\n",
       "      <td>218256919</td>\n",
       "      <td>91069833</td>\n",
       "      <td>2019-08-10</td>\n",
       "      <td>820</td>\n",
       "      <td>B</td>\n",
       "    </tr>\n",
       "  </tbody>\n",
       "</table>\n",
       "</div>"
      ],
      "text/plain": [
       "      transactionId   visitorId       date  revenue group\n",
       "893      3390166538   329726006 2019-08-21     4188     A\n",
       "1157     3716304192  2695379936 2019-08-14      590     A\n",
       "986       218256919    91069833 2019-08-10      820     B"
      ]
     },
     "metadata": {},
     "output_type": "display_data"
    },
    {
     "name": "stdout",
     "output_type": "stream",
     "text": [
      "<class 'pandas.core.frame.DataFrame'>\n",
      "RangeIndex: 1197 entries, 0 to 1196\n",
      "Data columns (total 5 columns):\n",
      " #   Column         Non-Null Count  Dtype         \n",
      "---  ------         --------------  -----         \n",
      " 0   transactionId  1197 non-null   int64         \n",
      " 1   visitorId      1197 non-null   int64         \n",
      " 2   date           1197 non-null   datetime64[ns]\n",
      " 3   revenue        1197 non-null   int64         \n",
      " 4   group          1197 non-null   object        \n",
      "dtypes: datetime64[ns](1), int64(3), object(1)\n",
      "memory usage: 46.9+ KB\n"
     ]
    }
   ],
   "source": [
    "display(orders.sample(3))\n",
    "orders.info()"
   ]
  },
  {
   "cell_type": "markdown",
   "metadata": {},
   "source": [
    "`transactionId` — идентификатор заказа;<br>\n",
    "`visitorId` — идентификатор пользователя, совершившего заказ;<br>\n",
    "`date` — дата, когда был совершён заказ;<br>\n",
    "`revenue` — выручка заказа;<br>\n",
    "`group` — группа A/B-теста, в которую попал заказ.<br>"
   ]
  },
  {
   "cell_type": "code",
   "execution_count": 5,
   "metadata": {},
   "outputs": [
    {
     "data": {
      "text/html": [
       "<div>\n",
       "<style scoped>\n",
       "    .dataframe tbody tr th:only-of-type {\n",
       "        vertical-align: middle;\n",
       "    }\n",
       "\n",
       "    .dataframe tbody tr th {\n",
       "        vertical-align: top;\n",
       "    }\n",
       "\n",
       "    .dataframe thead th {\n",
       "        text-align: right;\n",
       "    }\n",
       "</style>\n",
       "<table border=\"1\" class=\"dataframe\">\n",
       "  <thead>\n",
       "    <tr style=\"text-align: right;\">\n",
       "      <th></th>\n",
       "      <th>date</th>\n",
       "      <th>group</th>\n",
       "      <th>visitors</th>\n",
       "    </tr>\n",
       "  </thead>\n",
       "  <tbody>\n",
       "    <tr>\n",
       "      <th>57</th>\n",
       "      <td>2019-08-27</td>\n",
       "      <td>B</td>\n",
       "      <td>720</td>\n",
       "    </tr>\n",
       "    <tr>\n",
       "      <th>59</th>\n",
       "      <td>2019-08-29</td>\n",
       "      <td>B</td>\n",
       "      <td>531</td>\n",
       "    </tr>\n",
       "    <tr>\n",
       "      <th>15</th>\n",
       "      <td>2019-08-16</td>\n",
       "      <td>A</td>\n",
       "      <td>361</td>\n",
       "    </tr>\n",
       "  </tbody>\n",
       "</table>\n",
       "</div>"
      ],
      "text/plain": [
       "         date group  visitors\n",
       "57 2019-08-27     B       720\n",
       "59 2019-08-29     B       531\n",
       "15 2019-08-16     A       361"
      ]
     },
     "metadata": {},
     "output_type": "display_data"
    },
    {
     "name": "stdout",
     "output_type": "stream",
     "text": [
      "<class 'pandas.core.frame.DataFrame'>\n",
      "RangeIndex: 62 entries, 0 to 61\n",
      "Data columns (total 3 columns):\n",
      " #   Column    Non-Null Count  Dtype         \n",
      "---  ------    --------------  -----         \n",
      " 0   date      62 non-null     datetime64[ns]\n",
      " 1   group     62 non-null     object        \n",
      " 2   visitors  62 non-null     int64         \n",
      "dtypes: datetime64[ns](1), int64(1), object(1)\n",
      "memory usage: 1.6+ KB\n"
     ]
    }
   ],
   "source": [
    "display(visitors.sample(3))\n",
    "visitors.info()"
   ]
  },
  {
   "cell_type": "markdown",
   "metadata": {},
   "source": [
    "`date` — дата;<br>\n",
    "`group` — группа A/B-теста;<br>\n",
    "`visitors` — количество пользователей в указанную дату в указанной группе A/B-теста.<br>"
   ]
  },
  {
   "cell_type": "code",
   "execution_count": 6,
   "metadata": {},
   "outputs": [
    {
     "name": "stdout",
     "output_type": "stream",
     "text": [
      "group\n",
      "A    31\n",
      "B    31\n",
      "Name: date, dtype: int64\n"
     ]
    }
   ],
   "source": [
    "print(visitors.groupby('group')['date'].count())"
   ]
  },
  {
   "cell_type": "markdown",
   "metadata": {},
   "source": [
    "Всего 2 группы: А и В. Количество дней - 31."
   ]
  },
  {
   "cell_type": "code",
   "execution_count": 7,
   "metadata": {},
   "outputs": [
    {
     "name": "stdout",
     "output_type": "stream",
     "text": [
      "Дата начала теста: 2019-08-01 00:00:00\n",
      "Дата окончания теста: 2019-08-31 00:00:00\n"
     ]
    }
   ],
   "source": [
    "print('Дата начала теста:',visitors['date'].min())\n",
    "print('Дата окончания теста:',visitors['date'].max())"
   ]
  },
  {
   "cell_type": "code",
   "execution_count": 8,
   "metadata": {},
   "outputs": [
    {
     "name": "stdout",
     "output_type": "stream",
     "text": [
      "group\n",
      "A    557\n",
      "B    640\n",
      "Name: visitorId, dtype: int64\n"
     ]
    }
   ],
   "source": [
    "print(orders.groupby('group')['visitorId'].count())# количество пользователей в каждой группе."
   ]
  },
  {
   "cell_type": "code",
   "execution_count": 9,
   "metadata": {},
   "outputs": [
    {
     "name": "stdout",
     "output_type": "stream",
     "text": [
      "group\n",
      "A    503\n",
      "B    586\n",
      "Name: visitorId, dtype: int64\n"
     ]
    }
   ],
   "source": [
    "print(orders.groupby('group')['visitorId'].nunique()) # количество уникальных пользователей в каждой группе."
   ]
  },
  {
   "cell_type": "markdown",
   "metadata": {},
   "source": [
    "Количество уникальных пользователей меньше, чем общее число количество заказов. Возможно, что некоторые пользователи делали заказы несколько раз, точнее будем знать, когда проверим на дубликаты."
   ]
  },
  {
   "cell_type": "code",
   "execution_count": 10,
   "metadata": {},
   "outputs": [
    {
     "name": "stdout",
     "output_type": "stream",
     "text": [
      "Empty DataFrame\n",
      "Columns: [transactionId, visitorId, date, revenue, group]\n",
      "Index: []\n"
     ]
    }
   ],
   "source": [
    "a_group = orders.loc[orders['group'] == 'A']\n",
    "b_group = orders.loc[orders['group'] == 'B']\n",
    "print(a_group.query('visitorId == visitorId in @b_group')) # вывод пользователя, который оказался и в группе А и в группе В."
   ]
  },
  {
   "cell_type": "markdown",
   "metadata": {},
   "source": [
    "Отлично! Пользоватлей, попавших в обе группы не найдено."
   ]
  },
  {
   "cell_type": "markdown",
   "metadata": {},
   "source": [
    "## Предобработка данных\n",
    "  \n",
    "### Стиль записи\n",
    "Первым делом приведем название столбцов к \"snake\" стилю."
   ]
  },
  {
   "cell_type": "code",
   "execution_count": 11,
   "metadata": {},
   "outputs": [],
   "source": [
    "hypothesis.columns = map(str.lower, hypothesis.columns)\n",
    "orders.columns = map(str.lower, orders.columns)\n",
    "visitors.columns =  map(str.lower, visitors.columns)"
   ]
  },
  {
   "cell_type": "code",
   "execution_count": 12,
   "metadata": {},
   "outputs": [
    {
     "name": "stdout",
     "output_type": "stream",
     "text": [
      "Index(['hypothesis', 'reach', 'impact', 'confidence', 'efforts'], dtype='object')\n",
      "Index(['transactionid', 'visitorid', 'date', 'revenue', 'group'], dtype='object')\n",
      "Index(['date', 'group', 'visitors'], dtype='object')\n"
     ]
    }
   ],
   "source": [
    "print(hypothesis.columns)\n",
    "print(orders.columns)\n",
    "print(visitors.columns)"
   ]
  },
  {
   "cell_type": "markdown",
   "metadata": {},
   "source": [
    "Далее приведем `transactionid` и `visitorid` таблицы `orders` к общему стилю записи в 10 символов добавлению в начале недостающие \"0\""
   ]
  },
  {
   "cell_type": "code",
   "execution_count": 13,
   "metadata": {},
   "outputs": [
    {
     "data": {
      "text/html": [
       "<div>\n",
       "<style scoped>\n",
       "    .dataframe tbody tr th:only-of-type {\n",
       "        vertical-align: middle;\n",
       "    }\n",
       "\n",
       "    .dataframe tbody tr th {\n",
       "        vertical-align: top;\n",
       "    }\n",
       "\n",
       "    .dataframe thead th {\n",
       "        text-align: right;\n",
       "    }\n",
       "</style>\n",
       "<table border=\"1\" class=\"dataframe\">\n",
       "  <thead>\n",
       "    <tr style=\"text-align: right;\">\n",
       "      <th></th>\n",
       "      <th>transactionid</th>\n",
       "      <th>visitorid</th>\n",
       "    </tr>\n",
       "  </thead>\n",
       "  <tbody>\n",
       "    <tr>\n",
       "      <th>0</th>\n",
       "      <td>3667963787</td>\n",
       "      <td>3312258926</td>\n",
       "    </tr>\n",
       "    <tr>\n",
       "      <th>1</th>\n",
       "      <td>2804400009</td>\n",
       "      <td>3642806036</td>\n",
       "    </tr>\n",
       "    <tr>\n",
       "      <th>2</th>\n",
       "      <td>2961555356</td>\n",
       "      <td>4069496402</td>\n",
       "    </tr>\n",
       "    <tr>\n",
       "      <th>3</th>\n",
       "      <td>3797467345</td>\n",
       "      <td>1196621759</td>\n",
       "    </tr>\n",
       "    <tr>\n",
       "      <th>4</th>\n",
       "      <td>2282983706</td>\n",
       "      <td>2322279887</td>\n",
       "    </tr>\n",
       "    <tr>\n",
       "      <th>5</th>\n",
       "      <td>182168103</td>\n",
       "      <td>935554773</td>\n",
       "    </tr>\n",
       "    <tr>\n",
       "      <th>6</th>\n",
       "      <td>398296753</td>\n",
       "      <td>2900797465</td>\n",
       "    </tr>\n",
       "  </tbody>\n",
       "</table>\n",
       "</div>"
      ],
      "text/plain": [
       "   transactionid   visitorid\n",
       "0     3667963787  3312258926\n",
       "1     2804400009  3642806036\n",
       "2     2961555356  4069496402\n",
       "3     3797467345  1196621759\n",
       "4     2282983706  2322279887\n",
       "5      182168103   935554773\n",
       "6      398296753  2900797465"
      ]
     },
     "metadata": {},
     "output_type": "display_data"
    }
   ],
   "source": [
    "display(orders[['transactionid','visitorid']].head(7))"
   ]
  },
  {
   "cell_type": "code",
   "execution_count": 14,
   "metadata": {},
   "outputs": [],
   "source": [
    "orders['transactionid'] = orders['transactionid'].map(lambda x: f'{x:0>10}')\n",
    "orders['visitorid'] = orders['visitorid'].map(lambda x: f'{x:0>10}')"
   ]
  },
  {
   "cell_type": "code",
   "execution_count": 15,
   "metadata": {},
   "outputs": [
    {
     "data": {
      "text/html": [
       "<div>\n",
       "<style scoped>\n",
       "    .dataframe tbody tr th:only-of-type {\n",
       "        vertical-align: middle;\n",
       "    }\n",
       "\n",
       "    .dataframe tbody tr th {\n",
       "        vertical-align: top;\n",
       "    }\n",
       "\n",
       "    .dataframe thead th {\n",
       "        text-align: right;\n",
       "    }\n",
       "</style>\n",
       "<table border=\"1\" class=\"dataframe\">\n",
       "  <thead>\n",
       "    <tr style=\"text-align: right;\">\n",
       "      <th></th>\n",
       "      <th>transactionid</th>\n",
       "      <th>visitorid</th>\n",
       "    </tr>\n",
       "  </thead>\n",
       "  <tbody>\n",
       "    <tr>\n",
       "      <th>5</th>\n",
       "      <td>0182168103</td>\n",
       "      <td>0935554773</td>\n",
       "    </tr>\n",
       "    <tr>\n",
       "      <th>6</th>\n",
       "      <td>0398296753</td>\n",
       "      <td>2900797465</td>\n",
       "    </tr>\n",
       "  </tbody>\n",
       "</table>\n",
       "</div>"
      ],
      "text/plain": [
       "  transactionid   visitorid\n",
       "5    0182168103  0935554773\n",
       "6    0398296753  2900797465"
      ]
     },
     "metadata": {},
     "output_type": "display_data"
    }
   ],
   "source": [
    "display(orders[['transactionid','visitorid']][5:7]) # провирим правильность работы лямбда функции"
   ]
  },
  {
   "cell_type": "markdown",
   "metadata": {},
   "source": [
    "Готово. Можно приступать к следующему,"
   ]
  },
  {
   "cell_type": "markdown",
   "metadata": {},
   "source": [
    "### Пропуски\n",
    "**Проверим на пропуски:**"
   ]
  },
  {
   "cell_type": "code",
   "execution_count": 16,
   "metadata": {},
   "outputs": [
    {
     "data": {
      "text/plain": [
       "hypothesis    0\n",
       "reach         0\n",
       "impact        0\n",
       "confidence    0\n",
       "efforts       0\n",
       "dtype: int64"
      ]
     },
     "metadata": {},
     "output_type": "display_data"
    },
    {
     "data": {
      "text/plain": [
       "transactionid    0\n",
       "visitorid        0\n",
       "date             0\n",
       "revenue          0\n",
       "group            0\n",
       "dtype: int64"
      ]
     },
     "metadata": {},
     "output_type": "display_data"
    },
    {
     "data": {
      "text/plain": [
       "date        0\n",
       "group       0\n",
       "visitors    0\n",
       "dtype: int64"
      ]
     },
     "metadata": {},
     "output_type": "display_data"
    }
   ],
   "source": [
    "display(hypothesis.isnull().sum(),\n",
    "        orders.isnull().sum(),\n",
    "        visitors.isnull().sum()\n",
    "       )"
   ]
  },
  {
   "cell_type": "markdown",
   "metadata": {},
   "source": [
    "Пропусков нет.  \n",
    "  \n",
    "### Дубликаты\n",
    "**Проверим на дубликаты.**"
   ]
  },
  {
   "cell_type": "code",
   "execution_count": 17,
   "metadata": {},
   "outputs": [
    {
     "data": {
      "text/plain": [
       "0"
      ]
     },
     "metadata": {},
     "output_type": "display_data"
    },
    {
     "data": {
      "text/plain": [
       "0"
      ]
     },
     "metadata": {},
     "output_type": "display_data"
    },
    {
     "data": {
      "text/plain": [
       "0"
      ]
     },
     "metadata": {},
     "output_type": "display_data"
    }
   ],
   "source": [
    "display(hypothesis.duplicated().sum(),\n",
    "        orders.duplicated().sum(),\n",
    "        visitors.duplicated().sum()\n",
    "       )"
   ]
  },
  {
   "cell_type": "markdown",
   "metadata": {},
   "source": [
    "явных дубликатов не обнаружено\n",
    "  \n",
    "**Проверим на неявные дубликаты.**"
   ]
  },
  {
   "cell_type": "code",
   "execution_count": 18,
   "metadata": {},
   "outputs": [
    {
     "data": {
      "text/plain": [
       "array(['Добавить два новых канала привлечения трафика, что позволит привлекать на 30% больше пользователей',\n",
       "       'Запустить собственную службу доставки, что сократит срок доставки заказов',\n",
       "       'Добавить блоки рекомендаций товаров на сайт интернет магазина, чтобы повысить конверсию и средний чек заказа',\n",
       "       'Изменить структура категорий, что увеличит конверсию, т.к. пользователи быстрее найдут нужный товар',\n",
       "       'Изменить цвет фона главной страницы, чтобы увеличить вовлеченность пользователей',\n",
       "       'Добавить страницу отзывов клиентов о магазине, что позволит увеличить количество заказов',\n",
       "       'Показать на главной странице баннеры с актуальными акциями и распродажами, чтобы увеличить конверсию',\n",
       "       'Добавить форму подписки на все основные страницы, чтобы собрать базу клиентов для email-рассылок',\n",
       "       'Запустить акцию, дающую скидку на товар в день рождения'],\n",
       "      dtype=object)"
      ]
     },
     "metadata": {},
     "output_type": "display_data"
    }
   ],
   "source": [
    "display(hypothesis['hypothesis'].unique())"
   ]
  },
  {
   "cell_type": "markdown",
   "metadata": {},
   "source": [
    "Не явных дубликатов не обнаружено. \n",
    "  \n",
    "**В предобработке данных проделали следующее:**\n",
    "- привели столбцы к snake-стилю;\n",
    "- привели все id к общему стилю в 10 символов;\n",
    "- рассмотрели наличие пропусков (оказалось их нет);\n",
    "- рассмотрели дубликаты (так же нет)."
   ]
  },
  {
   "cell_type": "markdown",
   "metadata": {},
   "source": [
    "## Приоритизация гипотез.\n",
    "  \n",
    "### Фреймворк ICE для приоритизации гипотез. \n",
    "  \n",
    "Применим фреймворк ICE для приоритизации гипотез. Отсортируем их по убыванию приоритета."
   ]
  },
  {
   "cell_type": "code",
   "execution_count": 19,
   "metadata": {
    "scrolled": false
   },
   "outputs": [
    {
     "data": {
      "text/html": [
       "<div>\n",
       "<style scoped>\n",
       "    .dataframe tbody tr th:only-of-type {\n",
       "        vertical-align: middle;\n",
       "    }\n",
       "\n",
       "    .dataframe tbody tr th {\n",
       "        vertical-align: top;\n",
       "    }\n",
       "\n",
       "    .dataframe thead th {\n",
       "        text-align: right;\n",
       "    }\n",
       "</style>\n",
       "<table border=\"1\" class=\"dataframe\">\n",
       "  <thead>\n",
       "    <tr style=\"text-align: right;\">\n",
       "      <th></th>\n",
       "      <th>hypothesis</th>\n",
       "      <th>ice</th>\n",
       "    </tr>\n",
       "  </thead>\n",
       "  <tbody>\n",
       "    <tr>\n",
       "      <th>8</th>\n",
       "      <td>Запустить акцию, дающую скидку на товар в день рождения</td>\n",
       "      <td>16.200</td>\n",
       "    </tr>\n",
       "    <tr>\n",
       "      <th>0</th>\n",
       "      <td>Добавить два новых канала привлечения трафика, что позволит привлекать на 30% больше пользователей</td>\n",
       "      <td>13.333</td>\n",
       "    </tr>\n",
       "    <tr>\n",
       "      <th>7</th>\n",
       "      <td>Добавить форму подписки на все основные страницы, чтобы собрать базу клиентов для email-рассылок</td>\n",
       "      <td>11.200</td>\n",
       "    </tr>\n",
       "    <tr>\n",
       "      <th>6</th>\n",
       "      <td>Показать на главной странице баннеры с актуальными акциями и распродажами, чтобы увеличить конверсию</td>\n",
       "      <td>8.000</td>\n",
       "    </tr>\n",
       "    <tr>\n",
       "      <th>2</th>\n",
       "      <td>Добавить блоки рекомендаций товаров на сайт интернет магазина, чтобы повысить конверсию и средний чек заказа</td>\n",
       "      <td>7.000</td>\n",
       "    </tr>\n",
       "    <tr>\n",
       "      <th>1</th>\n",
       "      <td>Запустить собственную службу доставки, что сократит срок доставки заказов</td>\n",
       "      <td>2.000</td>\n",
       "    </tr>\n",
       "    <tr>\n",
       "      <th>5</th>\n",
       "      <td>Добавить страницу отзывов клиентов о магазине, что позволит увеличить количество заказов</td>\n",
       "      <td>1.333</td>\n",
       "    </tr>\n",
       "    <tr>\n",
       "      <th>3</th>\n",
       "      <td>Изменить структура категорий, что увеличит конверсию, т.к. пользователи быстрее найдут нужный товар</td>\n",
       "      <td>1.125</td>\n",
       "    </tr>\n",
       "    <tr>\n",
       "      <th>4</th>\n",
       "      <td>Изменить цвет фона главной страницы, чтобы увеличить вовлеченность пользователей</td>\n",
       "      <td>1.000</td>\n",
       "    </tr>\n",
       "  </tbody>\n",
       "</table>\n",
       "</div>"
      ],
      "text/plain": [
       "                                                                                                     hypothesis  \\\n",
       "8                                                       Запустить акцию, дающую скидку на товар в день рождения   \n",
       "0            Добавить два новых канала привлечения трафика, что позволит привлекать на 30% больше пользователей   \n",
       "7              Добавить форму подписки на все основные страницы, чтобы собрать базу клиентов для email-рассылок   \n",
       "6          Показать на главной странице баннеры с актуальными акциями и распродажами, чтобы увеличить конверсию   \n",
       "2  Добавить блоки рекомендаций товаров на сайт интернет магазина, чтобы повысить конверсию и средний чек заказа   \n",
       "1                                     Запустить собственную службу доставки, что сократит срок доставки заказов   \n",
       "5                      Добавить страницу отзывов клиентов о магазине, что позволит увеличить количество заказов   \n",
       "3           Изменить структура категорий, что увеличит конверсию, т.к. пользователи быстрее найдут нужный товар   \n",
       "4                              Изменить цвет фона главной страницы, чтобы увеличить вовлеченность пользователей   \n",
       "\n",
       "      ice  \n",
       "8  16.200  \n",
       "0  13.333  \n",
       "7  11.200  \n",
       "6   8.000  \n",
       "2   7.000  \n",
       "1   2.000  \n",
       "5   1.333  \n",
       "3   1.125  \n",
       "4   1.000  "
      ]
     },
     "metadata": {},
     "output_type": "display_data"
    },
    {
     "name": "stdout",
     "output_type": "stream",
     "text": [
      "\n",
      "Наиболее перспективные гипотезы по ICE с индексами 8, 0, 7:\n",
      "1 место:  Запустить акцию, дающую скидку на товар в день рождения\n",
      "2 место:  Добавить два новых канала привлечения трафика, что позволит привлекать на 30% больше пользователей\n",
      "3 место:  Добавить форму подписки на все основные страницы, чтобы собрать базу клиентов для email-рассылок\n"
     ]
    }
   ],
   "source": [
    "hypothesis['ice'] = round(hypothesis['impact'] * hypothesis['confidence'] / hypothesis['efforts'],3)\n",
    "display(hypothesis[['hypothesis','ice']].sort_values(by='ice', ascending=False))\n",
    "print()\n",
    "print('Наиболее перспективные гипотезы по ICE с индексами 8, 0, 7:')\n",
    "print('1 место: ',hypothesis['hypothesis'][8])\n",
    "print('2 место: ',hypothesis['hypothesis'][0])\n",
    "print('3 место: ',hypothesis['hypothesis'][7])"
   ]
  },
  {
   "cell_type": "markdown",
   "metadata": {},
   "source": [
    "### Фреймворк RICE для приоритизации гипотез.\n",
    "Применим фреймворк RICE для приоритизации гипотез. Отсортируем их по убыванию приоритета."
   ]
  },
  {
   "cell_type": "code",
   "execution_count": 20,
   "metadata": {},
   "outputs": [
    {
     "data": {
      "text/html": [
       "<div>\n",
       "<style scoped>\n",
       "    .dataframe tbody tr th:only-of-type {\n",
       "        vertical-align: middle;\n",
       "    }\n",
       "\n",
       "    .dataframe tbody tr th {\n",
       "        vertical-align: top;\n",
       "    }\n",
       "\n",
       "    .dataframe thead th {\n",
       "        text-align: right;\n",
       "    }\n",
       "</style>\n",
       "<table border=\"1\" class=\"dataframe\">\n",
       "  <thead>\n",
       "    <tr style=\"text-align: right;\">\n",
       "      <th></th>\n",
       "      <th>hypothesis</th>\n",
       "      <th>rice</th>\n",
       "    </tr>\n",
       "  </thead>\n",
       "  <tbody>\n",
       "    <tr>\n",
       "      <th>7</th>\n",
       "      <td>Добавить форму подписки на все основные страницы, чтобы собрать базу клиентов для email-рассылок</td>\n",
       "      <td>112.0</td>\n",
       "    </tr>\n",
       "    <tr>\n",
       "      <th>2</th>\n",
       "      <td>Добавить блоки рекомендаций товаров на сайт интернет магазина, чтобы повысить конверсию и средний чек заказа</td>\n",
       "      <td>56.0</td>\n",
       "    </tr>\n",
       "    <tr>\n",
       "      <th>0</th>\n",
       "      <td>Добавить два новых канала привлечения трафика, что позволит привлекать на 30% больше пользователей</td>\n",
       "      <td>40.0</td>\n",
       "    </tr>\n",
       "    <tr>\n",
       "      <th>6</th>\n",
       "      <td>Показать на главной странице баннеры с актуальными акциями и распродажами, чтобы увеличить конверсию</td>\n",
       "      <td>40.0</td>\n",
       "    </tr>\n",
       "    <tr>\n",
       "      <th>8</th>\n",
       "      <td>Запустить акцию, дающую скидку на товар в день рождения</td>\n",
       "      <td>16.2</td>\n",
       "    </tr>\n",
       "    <tr>\n",
       "      <th>3</th>\n",
       "      <td>Изменить структура категорий, что увеличит конверсию, т.к. пользователи быстрее найдут нужный товар</td>\n",
       "      <td>9.0</td>\n",
       "    </tr>\n",
       "    <tr>\n",
       "      <th>1</th>\n",
       "      <td>Запустить собственную службу доставки, что сократит срок доставки заказов</td>\n",
       "      <td>4.0</td>\n",
       "    </tr>\n",
       "    <tr>\n",
       "      <th>5</th>\n",
       "      <td>Добавить страницу отзывов клиентов о магазине, что позволит увеличить количество заказов</td>\n",
       "      <td>4.0</td>\n",
       "    </tr>\n",
       "    <tr>\n",
       "      <th>4</th>\n",
       "      <td>Изменить цвет фона главной страницы, чтобы увеличить вовлеченность пользователей</td>\n",
       "      <td>3.0</td>\n",
       "    </tr>\n",
       "  </tbody>\n",
       "</table>\n",
       "</div>"
      ],
      "text/plain": [
       "                                                                                                     hypothesis  \\\n",
       "7              Добавить форму подписки на все основные страницы, чтобы собрать базу клиентов для email-рассылок   \n",
       "2  Добавить блоки рекомендаций товаров на сайт интернет магазина, чтобы повысить конверсию и средний чек заказа   \n",
       "0            Добавить два новых канала привлечения трафика, что позволит привлекать на 30% больше пользователей   \n",
       "6          Показать на главной странице баннеры с актуальными акциями и распродажами, чтобы увеличить конверсию   \n",
       "8                                                       Запустить акцию, дающую скидку на товар в день рождения   \n",
       "3           Изменить структура категорий, что увеличит конверсию, т.к. пользователи быстрее найдут нужный товар   \n",
       "1                                     Запустить собственную службу доставки, что сократит срок доставки заказов   \n",
       "5                      Добавить страницу отзывов клиентов о магазине, что позволит увеличить количество заказов   \n",
       "4                              Изменить цвет фона главной страницы, чтобы увеличить вовлеченность пользователей   \n",
       "\n",
       "    rice  \n",
       "7  112.0  \n",
       "2   56.0  \n",
       "0   40.0  \n",
       "6   40.0  \n",
       "8   16.2  \n",
       "3    9.0  \n",
       "1    4.0  \n",
       "5    4.0  \n",
       "4    3.0  "
      ]
     },
     "metadata": {},
     "output_type": "display_data"
    },
    {
     "name": "stdout",
     "output_type": "stream",
     "text": [
      "\n",
      "Наиболее перспективные гипотезы по RICE с индексами 7, 2, 0:\n",
      "1 место:  Добавить форму подписки на все основные страницы, чтобы собрать базу клиентов для email-рассылок\n",
      "2 место:  Добавить блоки рекомендаций товаров на сайт интернет магазина, чтобы повысить конверсию и средний чек заказа\n",
      "3 место:  Добавить два новых канала привлечения трафика, что позволит привлекать на 30% больше пользователей\n"
     ]
    }
   ],
   "source": [
    "hypothesis['rice'] = round(hypothesis['reach'] * hypothesis['impact'] * hypothesis['confidence'] / hypothesis['efforts'],3)\n",
    "display(hypothesis[['hypothesis', 'rice']].sort_values(by='rice', ascending=False))\n",
    "print()\n",
    "print('Наиболее перспективные гипотезы по RICE с индексами 7, 2, 0:')\n",
    "print('1 место: ',hypothesis['hypothesis'][7])\n",
    "print('2 место: ',hypothesis['hypothesis'][2])\n",
    "print('3 место: ',hypothesis['hypothesis'][0])"
   ]
  },
  {
   "cell_type": "markdown",
   "metadata": {},
   "source": [
    "Приоритизация изменилась, так как параметр Reach, отвечающий за охват аудитории, влияет прямопропорционально в методе RICE, и он оказался выше у лидирующих гипотез.\n",
    "\n",
    "**При применении данных способов приоритизации задач выявлены две перспективные гипотезы:**\n",
    "- Добавить форму подписки на все основные страницы, чтобы собрать базу клиентов для email-рассылок. \n",
    "- Добавить два новых канала привлечения трафика, что позволит привлекать на 30% больше пользователей."
   ]
  },
  {
   "cell_type": "markdown",
   "metadata": {},
   "source": [
    "## Анализ A/B-теста.\n",
    " \n",
    "Для начала подготовим данные."
   ]
  },
  {
   "cell_type": "code",
   "execution_count": 21,
   "metadata": {},
   "outputs": [],
   "source": [
    "visitors_a_daily = visitors[visitors['group'] == 'A'][['date', 'visitors']]\n",
    "visitors_a_daily.columns = ['date', 'visitors_per_date_a']\n",
    "\n",
    "visitors_a_cummulative = visitors_a_daily.apply(\n",
    "    lambda x: visitors_a_daily[visitors_a_daily['date'] <= x['date']].agg(\n",
    "        {'date': 'max', 'visitors_per_date_a': 'sum'}\n",
    "    ),\n",
    "    axis=1,\n",
    ")\n",
    "visitors_a_cummulative.columns = ['date', 'visitors_cummulative_a']\n",
    "\n",
    "visitors_b_daily = visitors[visitors['group'] == 'B'][['date', 'visitors']]\n",
    "visitors_b_daily.columns = ['date', 'visitors_per_date_b']\n",
    "\n",
    "visitors_b_cummulative = visitors_b_daily.apply(\n",
    "    lambda x: visitors_b_daily[visitors_b_daily['date'] <= x['date']].agg(\n",
    "        {'date': 'max', 'visitors_per_date_b': 'sum'}\n",
    "    ),\n",
    "    axis=1,\n",
    ")\n",
    "visitors_b_cummulative.columns = ['date', 'visitors_cummulative_b']\n",
    "\n",
    "\n",
    "orders_a_daily = (\n",
    "    orders[orders['group'] == 'A'][['date', 'transactionid', 'visitorid', 'revenue']]\n",
    "    .groupby('date', as_index=False)\n",
    "    .agg({'transactionid': pd.Series.nunique, 'revenue': 'sum'})\n",
    ")\n",
    "orders_a_daily.columns = ['date', 'orders_per_date_a', 'revenue_per_date_a']\n",
    "\n",
    "orders_a_cummulative = orders_a_daily.apply(\n",
    "    lambda x: orders_a_daily[orders_a_daily['date'] <= x['date']].agg(\n",
    "        {'date': 'max', 'orders_per_date_a': 'sum', 'revenue_per_date_a': 'sum'}\n",
    "    ),\n",
    "    axis=1,\n",
    ").sort_values(by=['date'])\n",
    "\n",
    "orders_a_cummulative.columns = [\n",
    "    'date',\n",
    "    'orders_cummulative_a',\n",
    "    'revenue_cummulative_a',\n",
    "]\n",
    "\n",
    "orders_b_daily = (\n",
    "    orders[orders['group'] == 'B'][['date', 'transactionid', 'visitorid', 'revenue']]\n",
    "    .groupby('date', as_index=False)\n",
    "    .agg({'transactionid': pd.Series.nunique, 'revenue': 'sum'})\n",
    ")\n",
    "orders_b_daily.columns = ['date', 'orders_per_date_b', 'revenue_per_date_b']\n",
    "\n",
    "orders_b_cummulative = orders_b_daily.apply(\n",
    "    lambda x: orders_b_daily[orders_b_daily['date'] <= x['date']].agg(\n",
    "        {'date': 'max', 'orders_per_date_b': 'sum', 'revenue_per_date_b': 'sum'}\n",
    "    ),\n",
    "    axis=1,\n",
    ").sort_values(by=['date'])\n",
    "orders_b_cummulative.columns = [\n",
    "    'date',\n",
    "    'orders_cummulative_b',\n",
    "    'revenue_cummulative_b',\n",
    "]\n",
    "\n",
    "data = (\n",
    "    orders_a_daily.merge(\n",
    "        orders_b_daily, left_on='date', right_on='date', how='left'\n",
    "    )\n",
    "    .merge(orders_a_cummulative, left_on='date', right_on='date', how='left')\n",
    "    .merge(orders_b_cummulative, left_on='date', right_on='date', how='left')\n",
    "    .merge(visitors_a_daily, left_on='date', right_on='date', how='left')\n",
    "    .merge(visitors_b_daily, left_on='date', right_on='date', how='left')\n",
    "    .merge(visitors_a_cummulative, left_on='date', right_on='date', how='left')\n",
    "    .merge(visitors_b_cummulative, left_on='date', right_on='date', how='left')\n",
    ")"
   ]
  },
  {
   "cell_type": "code",
   "execution_count": 22,
   "metadata": {},
   "outputs": [
    {
     "data": {
      "text/html": [
       "<div>\n",
       "<style scoped>\n",
       "    .dataframe tbody tr th:only-of-type {\n",
       "        vertical-align: middle;\n",
       "    }\n",
       "\n",
       "    .dataframe tbody tr th {\n",
       "        vertical-align: top;\n",
       "    }\n",
       "\n",
       "    .dataframe thead th {\n",
       "        text-align: right;\n",
       "    }\n",
       "</style>\n",
       "<table border=\"1\" class=\"dataframe\">\n",
       "  <thead>\n",
       "    <tr style=\"text-align: right;\">\n",
       "      <th></th>\n",
       "      <th>date</th>\n",
       "      <th>orders_per_date_a</th>\n",
       "      <th>revenue_per_date_a</th>\n",
       "      <th>orders_per_date_b</th>\n",
       "      <th>revenue_per_date_b</th>\n",
       "      <th>orders_cummulative_a</th>\n",
       "      <th>revenue_cummulative_a</th>\n",
       "      <th>orders_cummulative_b</th>\n",
       "      <th>revenue_cummulative_b</th>\n",
       "      <th>visitors_per_date_a</th>\n",
       "      <th>visitors_per_date_b</th>\n",
       "      <th>visitors_cummulative_a</th>\n",
       "      <th>visitors_cummulative_b</th>\n",
       "    </tr>\n",
       "  </thead>\n",
       "  <tbody>\n",
       "    <tr>\n",
       "      <th>0</th>\n",
       "      <td>2019-08-01</td>\n",
       "      <td>24</td>\n",
       "      <td>148579</td>\n",
       "      <td>21</td>\n",
       "      <td>101217</td>\n",
       "      <td>24</td>\n",
       "      <td>148579</td>\n",
       "      <td>21</td>\n",
       "      <td>101217</td>\n",
       "      <td>719</td>\n",
       "      <td>713</td>\n",
       "      <td>719</td>\n",
       "      <td>713</td>\n",
       "    </tr>\n",
       "    <tr>\n",
       "      <th>1</th>\n",
       "      <td>2019-08-02</td>\n",
       "      <td>20</td>\n",
       "      <td>93822</td>\n",
       "      <td>24</td>\n",
       "      <td>165531</td>\n",
       "      <td>44</td>\n",
       "      <td>242401</td>\n",
       "      <td>45</td>\n",
       "      <td>266748</td>\n",
       "      <td>619</td>\n",
       "      <td>581</td>\n",
       "      <td>1338</td>\n",
       "      <td>1294</td>\n",
       "    </tr>\n",
       "    <tr>\n",
       "      <th>2</th>\n",
       "      <td>2019-08-03</td>\n",
       "      <td>24</td>\n",
       "      <td>112473</td>\n",
       "      <td>16</td>\n",
       "      <td>114248</td>\n",
       "      <td>68</td>\n",
       "      <td>354874</td>\n",
       "      <td>61</td>\n",
       "      <td>380996</td>\n",
       "      <td>507</td>\n",
       "      <td>509</td>\n",
       "      <td>1845</td>\n",
       "      <td>1803</td>\n",
       "    </tr>\n",
       "    <tr>\n",
       "      <th>3</th>\n",
       "      <td>2019-08-04</td>\n",
       "      <td>16</td>\n",
       "      <td>70825</td>\n",
       "      <td>17</td>\n",
       "      <td>108571</td>\n",
       "      <td>84</td>\n",
       "      <td>425699</td>\n",
       "      <td>78</td>\n",
       "      <td>489567</td>\n",
       "      <td>717</td>\n",
       "      <td>770</td>\n",
       "      <td>2562</td>\n",
       "      <td>2573</td>\n",
       "    </tr>\n",
       "    <tr>\n",
       "      <th>4</th>\n",
       "      <td>2019-08-05</td>\n",
       "      <td>25</td>\n",
       "      <td>124218</td>\n",
       "      <td>23</td>\n",
       "      <td>92428</td>\n",
       "      <td>109</td>\n",
       "      <td>549917</td>\n",
       "      <td>101</td>\n",
       "      <td>581995</td>\n",
       "      <td>756</td>\n",
       "      <td>707</td>\n",
       "      <td>3318</td>\n",
       "      <td>3280</td>\n",
       "    </tr>\n",
       "  </tbody>\n",
       "</table>\n",
       "</div>"
      ],
      "text/plain": [
       "        date  orders_per_date_a  revenue_per_date_a  orders_per_date_b  \\\n",
       "0 2019-08-01                 24              148579                 21   \n",
       "1 2019-08-02                 20               93822                 24   \n",
       "2 2019-08-03                 24              112473                 16   \n",
       "3 2019-08-04                 16               70825                 17   \n",
       "4 2019-08-05                 25              124218                 23   \n",
       "\n",
       "   revenue_per_date_b  orders_cummulative_a  revenue_cummulative_a  \\\n",
       "0              101217                    24                 148579   \n",
       "1              165531                    44                 242401   \n",
       "2              114248                    68                 354874   \n",
       "3              108571                    84                 425699   \n",
       "4               92428                   109                 549917   \n",
       "\n",
       "   orders_cummulative_b  revenue_cummulative_b  visitors_per_date_a  \\\n",
       "0                    21                 101217                  719   \n",
       "1                    45                 266748                  619   \n",
       "2                    61                 380996                  507   \n",
       "3                    78                 489567                  717   \n",
       "4                   101                 581995                  756   \n",
       "\n",
       "   visitors_per_date_b  visitors_cummulative_a  visitors_cummulative_b  \n",
       "0                  713                     719                     713  \n",
       "1                  581                    1338                    1294  \n",
       "2                  509                    1845                    1803  \n",
       "3                  770                    2562                    2573  \n",
       "4                  707                    3318                    3280  "
      ]
     },
     "metadata": {},
     "output_type": "display_data"
    }
   ],
   "source": [
    "display(data.head(5))"
   ]
  },
  {
   "cell_type": "markdown",
   "metadata": {},
   "source": [
    "- date — дата;\n",
    "- orders_per_date_a — количество заказов в выбранную дату в группе A;\n",
    "- revenue_per_date_a — суммарная выручка в выбранную дату в группе A;\n",
    "- orders_per_date_b — количество заказов в выбранную дату в группе B;\n",
    "- revenue_per_date_b — суммарная выручка в выбранную дату в группе B;\n",
    "- orders_cummulative_a — суммарное число заказов до выбранной даты включительно в группе A;\n",
    "- revenue_cummulative_a — суммарная выручка до выбранной даты включительно в группе A;\n",
    "- orders_cummulative_b — суммарное количество заказов до выбранной даты включительно в группе B;\n",
    "- revenue_cummulative_b — суммарная выручка до выбранной даты включительно в группе B;\n",
    "- visitors_per_date_a — количество пользователей в выбранную дату в группе A;\n",
    "- visitors_per_date_b — количество пользователей в выбранную дату в группе B;\n",
    "- visitors_cummulative_a — количество пользователей до выбранной даты включительно в группе A;\n",
    "- visitors_cummulative_b — количество пользователей до выбранной даты включительно в группе B."
   ]
  },
  {
   "cell_type": "markdown",
   "metadata": {},
   "source": [
    "Проанализируем A/B-тест:  \n",
    "  \n",
    "### График кумулятивной выручки по группам. "
   ]
  },
  {
   "cell_type": "code",
   "execution_count": 23,
   "metadata": {
    "scrolled": false
   },
   "outputs": [
    {
     "data": {
      "image/png": "[encoded data removed]",
      "text/plain": [
       "<Figure size 1080x360 with 1 Axes>"
      ]
     },
     "metadata": {
      "needs_background": "light"
     },
     "output_type": "display_data"
    }
   ],
   "source": [
    "# Строим график выручки группы A\n",
    "plt.plot(data['date'], data['revenue_cummulative_a'], label='A')\n",
    "\n",
    "# Строим график выручки группы B\n",
    "plt.plot(data['date'], data['revenue_cummulative_b'], label='B')\n",
    "plt.xticks(rotation=90)\n",
    "plt.title('График кумулятивной выручки по группам')\n",
    "plt.xlabel('Дата')\n",
    "plt.ylabel('Выручка')\n",
    "plt.grid(b=True)\n",
    "plt.legend();"
   ]
  },
  {
   "cell_type": "markdown",
   "metadata": {},
   "source": [
    "На протяжении 13 дней рост графика равномерный. 13 августа сегмент B вырвался вперёд и продолжал лидировать весь остаток теста. Так же наблюдается скачек в середине теста. Похоже, что аномально большие заказы всё-таки влияют на результаты. При заключительном анализе их нужно удалить."
   ]
  },
  {
   "cell_type": "markdown",
   "metadata": {},
   "source": [
    "### График кумулятивного среднего чека по группам."
   ]
  },
  {
   "cell_type": "code",
   "execution_count": 24,
   "metadata": {},
   "outputs": [
    {
     "data": {
      "image/png": "[encoded data removed]",
      "text/plain": [
       "<Figure size 1080x360 with 1 Axes>"
      ]
     },
     "metadata": {
      "needs_background": "light"
     },
     "output_type": "display_data"
    }
   ],
   "source": [
    "plt.plot(data['date'], data['revenue_cummulative_a']/data['orders_cummulative_a'], label='A')\n",
    "plt.plot(data['date'], data['revenue_cummulative_b']/data['orders_cummulative_b'], label='B')\n",
    "plt.xticks(rotation=90)\n",
    "plt.title('График кумулятивного среднего чека по группам')\n",
    "plt.xlabel('Дата')\n",
    "plt.ylabel('Cредний чек')\n",
    "plt.grid(b=True)\n",
    "plt.legend();"
   ]
  },
  {
   "cell_type": "markdown",
   "metadata": {},
   "source": [
    "Средний чек тоже становится равномерным ближе к концу теста для группы A,а для группы B продолжает падать. Возможно, в группу B во второй половине теста попали крупные заказы (резкий всплеск на графике в райне 17 августа). Тогда ей нужно больше данных, чтобы прийти к реальному среднему чеку и установиться на его уровне.\n",
    "Принимать решение по этой метрике рано. Или требуется дополнительный анализ выбросов, которые так сильно искажают результаты."
   ]
  },
  {
   "cell_type": "markdown",
   "metadata": {},
   "source": [
    "### График относительного изменения кумулятивного среднего чека группы B к группе A. "
   ]
  },
  {
   "cell_type": "code",
   "execution_count": 25,
   "metadata": {},
   "outputs": [
    {
     "data": {
      "image/png": "[encoded data removed]",
      "text/plain": [
       "<Figure size 1080x360 with 1 Axes>"
      ]
     },
     "metadata": {
      "needs_background": "light"
     },
     "output_type": "display_data"
    }
   ],
   "source": [
    "plt.plot(data['date'], (data['revenue_cummulative_b']/data['orders_cummulative_b'])/\n",
    "                       (data['revenue_cummulative_a']/data['orders_cummulative_a'])-1\n",
    "        )\n",
    "\n",
    "plt.grid(b=True)\n",
    "plt.title('График относительного изменения кумулятивного среднего чека группы B к группе A')\n",
    "plt.xlabel('Дата')\n",
    "plt.ylabel('Доля')\n",
    "plt.axhline(y=0, color='black', linestyle='--');\n",
    "plt.axhline(y=0.20, color='red', linestyle='--');"
   ]
  },
  {
   "cell_type": "markdown",
   "metadata": {},
   "source": [
    "Результаты теста значительно и резко менялись в несколько дат 1, 12,16 и 18 августа. Видимо, именно тогда были совершены аномальные заказы."
   ]
  },
  {
   "cell_type": "code",
   "execution_count": 26,
   "metadata": {},
   "outputs": [
    {
     "data": {
      "text/html": [
       "<div>\n",
       "<style scoped>\n",
       "    .dataframe tbody tr th:only-of-type {\n",
       "        vertical-align: middle;\n",
       "    }\n",
       "\n",
       "    .dataframe tbody tr th {\n",
       "        vertical-align: top;\n",
       "    }\n",
       "\n",
       "    .dataframe thead th {\n",
       "        text-align: right;\n",
       "    }\n",
       "</style>\n",
       "<table border=\"1\" class=\"dataframe\">\n",
       "  <thead>\n",
       "    <tr style=\"text-align: right;\">\n",
       "      <th></th>\n",
       "      <th>date</th>\n",
       "      <th>orders_per_date_a</th>\n",
       "      <th>revenue_per_date_a</th>\n",
       "      <th>orders_per_date_b</th>\n",
       "      <th>revenue_per_date_b</th>\n",
       "      <th>orders_cummulative_a</th>\n",
       "      <th>revenue_cummulative_a</th>\n",
       "      <th>orders_cummulative_b</th>\n",
       "      <th>revenue_cummulative_b</th>\n",
       "      <th>visitors_per_date_a</th>\n",
       "      <th>visitors_per_date_b</th>\n",
       "      <th>visitors_cummulative_a</th>\n",
       "      <th>visitors_cummulative_b</th>\n",
       "    </tr>\n",
       "  </thead>\n",
       "  <tbody>\n",
       "    <tr>\n",
       "      <th>0</th>\n",
       "      <td>2019-08-01</td>\n",
       "      <td>24</td>\n",
       "      <td>148579</td>\n",
       "      <td>21</td>\n",
       "      <td>101217</td>\n",
       "      <td>24</td>\n",
       "      <td>148579</td>\n",
       "      <td>21</td>\n",
       "      <td>101217</td>\n",
       "      <td>719</td>\n",
       "      <td>713</td>\n",
       "      <td>719</td>\n",
       "      <td>713</td>\n",
       "    </tr>\n",
       "    <tr>\n",
       "      <th>1</th>\n",
       "      <td>2019-08-02</td>\n",
       "      <td>20</td>\n",
       "      <td>93822</td>\n",
       "      <td>24</td>\n",
       "      <td>165531</td>\n",
       "      <td>44</td>\n",
       "      <td>242401</td>\n",
       "      <td>45</td>\n",
       "      <td>266748</td>\n",
       "      <td>619</td>\n",
       "      <td>581</td>\n",
       "      <td>1338</td>\n",
       "      <td>1294</td>\n",
       "    </tr>\n",
       "    <tr>\n",
       "      <th>2</th>\n",
       "      <td>2019-08-03</td>\n",
       "      <td>24</td>\n",
       "      <td>112473</td>\n",
       "      <td>16</td>\n",
       "      <td>114248</td>\n",
       "      <td>68</td>\n",
       "      <td>354874</td>\n",
       "      <td>61</td>\n",
       "      <td>380996</td>\n",
       "      <td>507</td>\n",
       "      <td>509</td>\n",
       "      <td>1845</td>\n",
       "      <td>1803</td>\n",
       "    </tr>\n",
       "    <tr>\n",
       "      <th>3</th>\n",
       "      <td>2019-08-04</td>\n",
       "      <td>16</td>\n",
       "      <td>70825</td>\n",
       "      <td>17</td>\n",
       "      <td>108571</td>\n",
       "      <td>84</td>\n",
       "      <td>425699</td>\n",
       "      <td>78</td>\n",
       "      <td>489567</td>\n",
       "      <td>717</td>\n",
       "      <td>770</td>\n",
       "      <td>2562</td>\n",
       "      <td>2573</td>\n",
       "    </tr>\n",
       "    <tr>\n",
       "      <th>4</th>\n",
       "      <td>2019-08-05</td>\n",
       "      <td>25</td>\n",
       "      <td>124218</td>\n",
       "      <td>23</td>\n",
       "      <td>92428</td>\n",
       "      <td>109</td>\n",
       "      <td>549917</td>\n",
       "      <td>101</td>\n",
       "      <td>581995</td>\n",
       "      <td>756</td>\n",
       "      <td>707</td>\n",
       "      <td>3318</td>\n",
       "      <td>3280</td>\n",
       "    </tr>\n",
       "  </tbody>\n",
       "</table>\n",
       "</div>"
      ],
      "text/plain": [
       "        date  orders_per_date_a  revenue_per_date_a  orders_per_date_b  \\\n",
       "0 2019-08-01                 24              148579                 21   \n",
       "1 2019-08-02                 20               93822                 24   \n",
       "2 2019-08-03                 24              112473                 16   \n",
       "3 2019-08-04                 16               70825                 17   \n",
       "4 2019-08-05                 25              124218                 23   \n",
       "\n",
       "   revenue_per_date_b  orders_cummulative_a  revenue_cummulative_a  \\\n",
       "0              101217                    24                 148579   \n",
       "1              165531                    44                 242401   \n",
       "2              114248                    68                 354874   \n",
       "3              108571                    84                 425699   \n",
       "4               92428                   109                 549917   \n",
       "\n",
       "   orders_cummulative_b  revenue_cummulative_b  visitors_per_date_a  \\\n",
       "0                    21                 101217                  719   \n",
       "1                    45                 266748                  619   \n",
       "2                    61                 380996                  507   \n",
       "3                    78                 489567                  717   \n",
       "4                   101                 581995                  756   \n",
       "\n",
       "   visitors_per_date_b  visitors_cummulative_a  visitors_cummulative_b  \n",
       "0                  713                     719                     713  \n",
       "1                  581                    1338                    1294  \n",
       "2                  509                    1845                    1803  \n",
       "3                  770                    2562                    2573  \n",
       "4                  707                    3318                    3280  "
      ]
     },
     "execution_count": 26,
     "metadata": {},
     "output_type": "execute_result"
    }
   ],
   "source": [
    "data.head()"
   ]
  },
  {
   "cell_type": "markdown",
   "metadata": {},
   "source": [
    "### График кумулятивного среднего количества заказов на посетителя по группам."
   ]
  },
  {
   "cell_type": "code",
   "execution_count": 27,
   "metadata": {},
   "outputs": [
    {
     "data": {
      "image/png": "[encoded data removed]",
      "text/plain": [
       "<Figure size 1080x360 with 1 Axes>"
      ]
     },
     "metadata": {
      "needs_background": "light"
     },
     "output_type": "display_data"
    }
   ],
   "source": [
    "# строим графики\n",
    "plt.plot(data['date'], data['orders_cummulative_a']/data['visitors_cummulative_a'], label='A')\n",
    "plt.plot(data['date'], data['orders_cummulative_b']/data['visitors_cummulative_b'], label='B')\n",
    "\n",
    "\n",
    "# задаем масштаб осей\n",
    "plt.axis([dt.datetime(2019, 8, 1), dt.datetime(2019, 9, 1), 0.028, 0.038])\n",
    "plt.title('График кумулятивного среднего количества заказов на посетителя по группам')\n",
    "plt.xlabel('Дата')\n",
    "plt.ylabel('Cреднее количество заказов на посетителя')\n",
    "plt.legend()\n",
    "plt.grid()\n",
    "plt.show()"
   ]
  },
  {
   "cell_type": "markdown",
   "metadata": {},
   "source": [
    "В начале теста группа A лидировала, но постепенно группа B выровнялась и зафиксировалась примерно около одного значения, больше значения группы A."
   ]
  },
  {
   "cell_type": "markdown",
   "metadata": {},
   "source": [
    "### График относительного изменения кумулятивного среднего количества заказов на посетителя группы B к группе A. "
   ]
  },
  {
   "cell_type": "code",
   "execution_count": 28,
   "metadata": {},
   "outputs": [
    {
     "data": {
      "image/png": "[encoded data removed]",
      "text/plain": [
       "<Figure size 1080x360 with 1 Axes>"
      ]
     },
     "metadata": {
      "needs_background": "light"
     },
     "output_type": "display_data"
    }
   ],
   "source": [
    "plt.plot(data['date'], (data['orders_cummulative_b']/data['visitors_cummulative_b'])/\n",
    "                       (data['orders_cummulative_a']/data['visitors_cummulative_a'])-1,\n",
    "         label=\"Относительный прирост конверсии группы B относительно группы A\")\n",
    "plt.grid(b=True)\n",
    "plt.title('График относительного изменения кумулятивного среднего количества заказов на посетителя группы B к группе A')\n",
    "plt.xlabel('Дата')\n",
    "plt.ylabel('Cреднее количество заказов на посетителя')\n",
    "plt.legend()\n",
    "\n",
    "plt.axhline(y=0, color='black', linestyle='--')\n",
    "plt.axhline(y=0.15, color='red', linestyle='--');"
   ]
  },
  {
   "cell_type": "markdown",
   "metadata": {},
   "source": [
    "c 6 дня теста группа B лидирует: становится лучше и колеблится около прироста в 15% относительно группы A."
   ]
  },
  {
   "cell_type": "markdown",
   "metadata": {},
   "source": [
    "### Точечный график количества заказов по пользователям.\n"
   ]
  },
  {
   "cell_type": "code",
   "execution_count": 29,
   "metadata": {},
   "outputs": [
    {
     "data": {
      "image/png": "[encoded data removed]",
      "text/plain": [
       "<Figure size 720x504 with 1 Axes>"
      ]
     },
     "metadata": {
      "needs_background": "light"
     },
     "output_type": "display_data"
    }
   ],
   "source": [
    "orders_by_users = (\n",
    "    orders.groupby('visitorid', as_index=False)\n",
    "    .agg({'transactionid': 'nunique'})\n",
    ")\n",
    "x_values = pd.Series(range(0, len(orders_by_users)))\n",
    "plt.figure(figsize=(10, 7))\n",
    "plt.scatter(x_values, orders_by_users['transactionid'])\n",
    "plt.xlabel('Число пользователей')\n",
    "plt.ylabel('Количество заказов')\n",
    "plt.title(\"Количество заказов по пользователям\")\n",
    "plt.grid()\n",
    "plt.show()"
   ]
  },
  {
   "cell_type": "markdown",
   "metadata": {},
   "source": [
    "Большая часть пользователей заказывали не больше 2 раз. Выше этого значения показатели вполне могут быть аномальными выбросами."
   ]
  },
  {
   "cell_type": "markdown",
   "metadata": {},
   "source": [
    "### 95-й и 99-й перцентили количества заказов на пользователя.\n"
   ]
  },
  {
   "cell_type": "code",
   "execution_count": 30,
   "metadata": {},
   "outputs": [
    {
     "name": "stdout",
     "output_type": "stream",
     "text": [
      "[2. 4.]\n"
     ]
    }
   ],
   "source": [
    "print(np.percentile(orders_by_users['transactionid'], [95, 99]))"
   ]
  },
  {
   "cell_type": "markdown",
   "metadata": {},
   "source": [
    "Всего 5% пользователей оформляли больше 2х заказов, 1% пользователей заказывали больше 4х раз. Можно определить границу для определения аномальных пользователей в 2 или в 4 заказа."
   ]
  },
  {
   "cell_type": "markdown",
   "metadata": {},
   "source": [
    "### Точечный график стоимостей заказов."
   ]
  },
  {
   "cell_type": "code",
   "execution_count": 31,
   "metadata": {},
   "outputs": [
    {
     "data": {
      "image/png": "[encoded data removed]",
      "text/plain": [
       "<Figure size 720x504 with 1 Axes>"
      ]
     },
     "metadata": {
      "needs_background": "light"
     },
     "output_type": "display_data"
    }
   ],
   "source": [
    "x_values = pd.Series(range(0, len(orders['revenue'])))\n",
    "plt.figure(figsize=(10, 7))\n",
    "plt.scatter(x_values, orders['revenue'])\n",
    "plt.xlabel('Число пользователей')\n",
    "plt.ylabel('Стоимость заказов')\n",
    "plt.title(\"График стоимостей заказов\")\n",
    "plt.grid()\n",
    "plt.show()"
   ]
  },
  {
   "cell_type": "markdown",
   "metadata": {},
   "source": [
    "Основная масса пользователей делали заказы не более 100 тысяч. На графики видны единичные заказы в районе 200 тысяч и 1,3 миллиона. Возможно это аномальные выбросы."
   ]
  },
  {
   "cell_type": "markdown",
   "metadata": {},
   "source": [
    "### 95-й и 99-й перцентили стоимости заказов. "
   ]
  },
  {
   "cell_type": "code",
   "execution_count": 32,
   "metadata": {},
   "outputs": [
    {
     "name": "stdout",
     "output_type": "stream",
     "text": [
      "[28000.  58233.2]\n"
     ]
    }
   ],
   "source": [
    "print(np.percentile(orders['revenue'], [95, 99]))"
   ]
  },
  {
   "cell_type": "markdown",
   "metadata": {},
   "source": [
    "Всего 5% пользователей потратили более 28 тысяч, 1% пользователей потратили более 58,2 тысяч. Можно определить границу для определения аномальных пользователей в 28 тысяч или в 58,2 тысяч."
   ]
  },
  {
   "cell_type": "markdown",
   "metadata": {},
   "source": [
    "### Статистическая значимость различий в среднем количестве заказов на посетителя между группами по «сырым» данным. \n",
    "  \n",
    "Для начала подготовим данные:"
   ]
  },
  {
   "cell_type": "code",
   "execution_count": 33,
   "metadata": {},
   "outputs": [],
   "source": [
    "# Создадим переменные orders_by_users для групп А и В. \n",
    "# В них для пользователей, которые заказывали хотя бы 1 раз, укажем число совершённых заказов.\n",
    "orders_by_users_a = (\n",
    "    orders[orders['group'] == 'A']\n",
    "    .groupby('visitorid', as_index=False)\n",
    "    .agg({'transactionid': pd.Series.nunique})\n",
    ")\n",
    "orders_by_users_a.columns = ['visitorid', 'transactionid']\n",
    "\n",
    "orders_by_users_b = (\n",
    "    orders[orders['group'] == 'B']\n",
    "    .groupby('visitorid', as_index=False)\n",
    "    .agg({'transactionid': pd.Series.nunique})\n",
    ")\n",
    "orders_by_users_b.columns = ['visitorid', 'transactionid']\n",
    "\n",
    "# Объявим переменные sampleA и sampleB, в которых пользователям из разных групп будет соответствовать количество заказов\n",
    "sampleA = pd.concat([orders_by_users_a['transactionid'],\n",
    "                     pd.Series(0, index=np.arange(data['visitors_per_date_a'].sum() - \n",
    "                                                  len(orders_by_users_a['transactionid'])), name='orders')],axis=0)\n",
    "\n",
    "sampleB = pd.concat([orders_by_users_b['transactionid'],\n",
    "                     pd.Series(0, index=np.arange(data['visitors_per_date_b'].sum() - \n",
    "                                                  len(orders_by_users_b['transactionid'])), name='orders')],axis=0)"
   ]
  },
  {
   "cell_type": "markdown",
   "metadata": {},
   "source": [
    "Гипотезы: <br>\n",
    "H0:Среднее количество заказов на посетителя групп A и B равны, статистически значимых отличий нет;<br>\n",
    "H1:Среднем количество заказов на посетителя групп A и B различны, статистически значимые отличия есть."
   ]
  },
  {
   "cell_type": "code",
   "execution_count": 34,
   "metadata": {},
   "outputs": [
    {
     "name": "stdout",
     "output_type": "stream",
     "text": [
      "P-value: 0.017\n",
      "Относительные различия: 0.138\n"
     ]
    }
   ],
   "source": [
    "print('P-value:',\"{0:.3f}\".format(stats.mannwhitneyu(sampleA, sampleB)[1]))\n",
    "print('Относительные различия:',\"{0:.3f}\".format(sampleB.mean() / sampleA.mean() - 1))"
   ]
  },
  {
   "cell_type": "markdown",
   "metadata": {},
   "source": [
    "P-value значительно меньше 0.05. Можно отвергнуть нулевую гипотезу. <br>\n",
    "Значит, нулевую гипотезу о том, что в статистически значимых различий в среднем числе заказов между группами нет, отвергаем.<br>\n",
    "Относительный прирост среднего группы В к конверсии группы А равен примерно 14%"
   ]
  },
  {
   "cell_type": "markdown",
   "metadata": {},
   "source": [
    "### Cтатистическая значимость различий в среднем чеке заказа между группами по «сырым» данным. \n",
    "  \n",
    "Гипотезы:\n",
    "\n",
    "H0:Средние чеки групп A и B равны, статистически значимых отличий нет;\n",
    "\n",
    "H1:Средние чеки групп A и B различны, статистически значимые отличия есть."
   ]
  },
  {
   "cell_type": "code",
   "execution_count": 35,
   "metadata": {},
   "outputs": [
    {
     "name": "stdout",
     "output_type": "stream",
     "text": [
      "P-value: 0.729\n",
      "Относительные различия: 0.259\n"
     ]
    }
   ],
   "source": [
    "print('P-value:','{0:.3f}'\n",
    "      .format(stats.mannwhitneyu(orders[orders['group']=='A']['revenue'], \n",
    "                                 orders[orders['group']=='B']['revenue'])[1])\n",
    "         )\n",
    "print('Относительные различия:','{0:.3f}'\n",
    "      .format(orders[orders['group']=='B']['revenue'].mean()/\n",
    "              orders[orders['group']=='A']['revenue'].mean()-1)) "
   ]
  },
  {
   "cell_type": "markdown",
   "metadata": {},
   "source": [
    "P-value значительно больше 0.05. <br>\n",
    "Значит, причин отвергать нулевую гипотезу и считать, что в среднем чеке есть различия, нет.<br>\n",
    "Впрочем, средний чек группы B выше среднего чека группы A на 25,9%"
   ]
  },
  {
   "cell_type": "markdown",
   "metadata": {},
   "source": [
    "### Статистическая значимость различий в среднем количестве заказов на посетителя между группами по «очищенным» данным.\n",
    "  \n",
    "Подготовим данные.<br>\n",
    "На основнии 95-й и 99-й перцентилей подсчитанных выше (по заказам 2 и 4, по стоимости 28000 и 58233.2). <br>\n",
    "Примем за аномальные значения 3 заказа со стоимостью 29000. Так мы уберем 5% аномальных пользователей."
   ]
  },
  {
   "cell_type": "code",
   "execution_count": 36,
   "metadata": {},
   "outputs": [
    {
     "name": "stdout",
     "output_type": "stream",
     "text": [
      "1099    0148427295\n",
      "928     0204675465\n",
      "684     0358944393\n",
      "648     0382846391\n",
      "1189    0393266494\n",
      "Name: visitorid, dtype: object\n",
      "Всего 53 аномальных пользователей.\n"
     ]
    }
   ],
   "source": [
    "anomal_orders = pd.concat(\n",
    "    [\n",
    "        orders_by_users_a[orders_by_users_a['transactionid'] > 4]['visitorid'],\n",
    "        orders_by_users_b[orders_by_users_b['transactionid'] > 4]['visitorid'],\n",
    "    ],\n",
    "    axis=0,\n",
    "                         )\n",
    "anomal_revenue = orders[orders['revenue'] > 30000]['visitorid']\n",
    "\n",
    "abnormal_users = (\n",
    "    pd.concat([anomal_orders, anomal_revenue], axis=0)\n",
    "      .drop_duplicates()\n",
    "      .sort_values()\n",
    "                 )\n",
    "print(abnormal_users.head(5))\n",
    "print('Всего',abnormal_users.shape[0],'аномальных пользователей.')"
   ]
  },
  {
   "cell_type": "markdown",
   "metadata": {},
   "source": [
    "Создадим переменные, очищенные от аномалий."
   ]
  },
  {
   "cell_type": "code",
   "execution_count": 37,
   "metadata": {},
   "outputs": [],
   "source": [
    "sample_a_filtered = pd.concat(\n",
    "    [\n",
    "        orders_by_users_a[\n",
    "            np.logical_not(orders_by_users_a['visitorid'].isin(abnormal_users))\n",
    "                         ]['transactionid'],\n",
    "        pd.Series(\n",
    "            0,\n",
    "            index=np.arange(\n",
    "                data['visitors_per_date_a'].sum() - len(orders_by_users_a['transactionid'])\n",
    "                           ),\n",
    "            name='orders',\n",
    "                 ),\n",
    "    ],\n",
    "    axis=0,\n",
    "                               )\n",
    "\n",
    "sample_b_filtered = pd.concat(\n",
    "    [\n",
    "        orders_by_users_b[\n",
    "            np.logical_not(orders_by_users_b['visitorid'].isin(abnormal_users))\n",
    "                      ]['transactionid'],\n",
    "        pd.Series(\n",
    "            0,\n",
    "            index=np.arange(\n",
    "                data['visitors_per_date_b'].sum() - len(orders_by_users_b['transactionid'])\n",
    "                 ),\n",
    "            name='orders',\n",
    "                 ),\n",
    "    ],\n",
    "    axis=0,\n",
    "                              ) "
   ]
  },
  {
   "cell_type": "code",
   "execution_count": 38,
   "metadata": {},
   "outputs": [
    {
     "name": "stdout",
     "output_type": "stream",
     "text": [
      "P-value: 0.019\n",
      "Относительные различия: 0.144\n"
     ]
    }
   ],
   "source": [
    "# Применим статистический критерий Манна-Уитни к полученным выборкам:\n",
    "print('P-value:','{0:.3f}'.format(stats.mannwhitneyu(sample_a_filtered, sample_b_filtered)[1]))\n",
    "print('Относительные различия:','{0:.3f}'.format(sample_b_filtered.mean()/sample_a_filtered.mean()-1))"
   ]
  },
  {
   "cell_type": "markdown",
   "metadata": {},
   "source": [
    "Результаты по среднему количеству заказов практически не изменились, по сравнению с сырыми данными.\n",
    "\n",
    "Относительный прирост среднего группы В к конверсии группы А равен чуть больше 14%"
   ]
  },
  {
   "cell_type": "markdown",
   "metadata": {},
   "source": [
    "### Посчитайте статистическую значимость различий в среднем чеке заказа между группами по «очищенным» данным. Сделайте выводы и предположения.\n"
   ]
  },
  {
   "cell_type": "code",
   "execution_count": 39,
   "metadata": {},
   "outputs": [
    {
     "name": "stdout",
     "output_type": "stream",
     "text": [
      "P-value: 0.979\n",
      "Относительные различия: -0.017\n"
     ]
    }
   ],
   "source": [
    "print('P-value:','{0:.3f}'.format(\n",
    "        stats.mannwhitneyu(\n",
    "            orders[\n",
    "                np.logical_and(\n",
    "                    orders['group'] == 'A',\n",
    "                    np.logical_not(orders['visitorid'].isin(abnormal_users)),\n",
    "                              )\n",
    "                   ]['revenue'],\n",
    "            orders[\n",
    "                np.logical_and(\n",
    "                    orders['group'] == 'B',\n",
    "                    np.logical_not(orders['visitorid'].isin(abnormal_users)),\n",
    "                              )\n",
    "                  ]['revenue'],\n",
    "                           )[1]\n",
    "                                  )\n",
    "     )\n",
    "\n",
    "print('Относительные различия:', '{0:.3f}'.format(\n",
    "        orders[\n",
    "            np.logical_and(\n",
    "                orders['group'] == 'B',\n",
    "                np.logical_not(orders['visitorid'].isin(abnormal_users)),\n",
    "            )\n",
    "        ]['revenue'].mean()\n",
    "        / orders[\n",
    "            np.logical_and(\n",
    "                orders['group'] == 'A',\n",
    "                np.logical_not(orders['visitorid'].isin(abnormal_users)),\n",
    "                          )\n",
    "                ]['revenue'].mean()\n",
    "        - 1\n",
    "                                                 )\n",
    "     ) "
   ]
  },
  {
   "cell_type": "markdown",
   "metadata": {},
   "source": [
    "По сравнению с сырыми данными P-value стало больше (было 0.729, стало 0.979), а относительные различия уменьшелись с 25,9% до 1,7%. Это уменьшение обуславливается устранением аномальных значений. "
   ]
  },
  {
   "cell_type": "markdown",
   "metadata": {},
   "source": [
    "## Вывод\n",
    "\n",
    "**Имеющиеся факты:**\n",
    "\n",
    "- Есть статистически значимое различие в среднем количестве заказов на посетителя между группами по «очищенным» данным и по \"сырым данным\".\n",
    "\n",
    "- Нет статистически значимого различия в среднем чеке заказа между группами ни по «сырым», ни по данным после фильтрации аномалий;\n",
    "\n",
    "- График различия среднего количества заказов на посетителя между группами сообщает, что результаты группы B лучше группы A на примерно 15%.\n",
    "\n",
    "- График различия среднего чека говорит о том, что результаты группы B лучше группы А примерно на 20%.\n",
    "\n",
    "На основании фактов можно сделать **вывод**: <br>\n",
    "Остановить тест. Признать его успешным.<br>\n",
    "Продолжать смысла нет, потому как вероятность, что при имеющихся данных сегмент B на самом деле равный или хуже сегментв A — практически нулевая."
   ]
  }
 ],
 "metadata": {
  "ExecuteTimeLog": [
   {
    "duration": 414,
    "start_time": "2023-08-31T15:20:12.023Z"
   },
   {
    "duration": 2,
    "start_time": "2023-08-31T15:20:24.341Z"
   },
   {
    "duration": 162,
    "start_time": "2023-08-31T15:23:41.424Z"
   },
   {
    "duration": 120,
    "start_time": "2023-08-31T15:23:59.517Z"
   },
   {
    "duration": 69,
    "start_time": "2023-08-31T15:25:04.039Z"
   },
   {
    "duration": 831,
    "start_time": "2023-08-31T15:25:14.526Z"
   },
   {
    "duration": 365,
    "start_time": "2023-08-31T15:25:44.518Z"
   },
   {
    "duration": 12,
    "start_time": "2023-08-31T15:26:07.534Z"
   },
   {
    "duration": 21,
    "start_time": "2023-08-31T15:26:16.294Z"
   },
   {
    "duration": 14,
    "start_time": "2023-08-31T15:27:54.064Z"
   },
   {
    "duration": 150,
    "start_time": "2023-08-31T15:29:35.528Z"
   },
   {
    "duration": 21,
    "start_time": "2023-08-31T15:29:51.347Z"
   },
   {
    "duration": 109,
    "start_time": "2023-08-31T15:37:44.593Z"
   },
   {
    "duration": 105,
    "start_time": "2023-08-31T15:39:44.075Z"
   },
   {
    "duration": 97,
    "start_time": "2023-08-31T15:41:39.042Z"
   },
   {
    "duration": 167,
    "start_time": "2023-08-31T15:42:36.210Z"
   },
   {
    "duration": 13,
    "start_time": "2023-08-31T15:42:43.114Z"
   },
   {
    "duration": 14,
    "start_time": "2023-08-31T15:42:48.331Z"
   },
   {
    "duration": 14,
    "start_time": "2023-08-31T15:42:50.482Z"
   },
   {
    "duration": 5,
    "start_time": "2023-08-31T16:02:39.031Z"
   },
   {
    "duration": 3,
    "start_time": "2023-08-31T16:03:15.175Z"
   },
   {
    "duration": 4,
    "start_time": "2023-08-31T16:03:18.327Z"
   },
   {
    "duration": 4,
    "start_time": "2023-08-31T16:03:28.999Z"
   },
   {
    "duration": 10,
    "start_time": "2023-08-31T16:03:44.119Z"
   },
   {
    "duration": 5,
    "start_time": "2023-08-31T16:07:24.480Z"
   },
   {
    "duration": 4,
    "start_time": "2023-08-31T16:07:30.656Z"
   },
   {
    "duration": 339,
    "start_time": "2023-08-31T16:07:46.720Z"
   },
   {
    "duration": 4,
    "start_time": "2023-08-31T16:08:21.952Z"
   },
   {
    "duration": 5,
    "start_time": "2023-08-31T16:08:27.936Z"
   },
   {
    "duration": 5,
    "start_time": "2023-08-31T16:08:34.792Z"
   },
   {
    "duration": 4,
    "start_time": "2023-08-31T16:08:35.488Z"
   },
   {
    "duration": 149,
    "start_time": "2023-08-31T16:08:41.665Z"
   },
   {
    "duration": 5,
    "start_time": "2023-08-31T16:08:44.968Z"
   },
   {
    "duration": 5,
    "start_time": "2023-08-31T16:08:48.424Z"
   },
   {
    "duration": 4,
    "start_time": "2023-08-31T16:08:49.280Z"
   },
   {
    "duration": 13,
    "start_time": "2023-08-31T16:08:55.808Z"
   },
   {
    "duration": 6,
    "start_time": "2023-08-31T16:09:16.152Z"
   },
   {
    "duration": 4,
    "start_time": "2023-08-31T16:09:31.273Z"
   },
   {
    "duration": 13,
    "start_time": "2023-08-31T16:09:38.208Z"
   },
   {
    "duration": 5,
    "start_time": "2023-08-31T16:09:44.069Z"
   },
   {
    "duration": 6,
    "start_time": "2023-08-31T16:09:47.608Z"
   },
   {
    "duration": 12,
    "start_time": "2023-08-31T16:12:52.609Z"
   },
   {
    "duration": 10,
    "start_time": "2023-08-31T16:14:07.026Z"
   },
   {
    "duration": 5,
    "start_time": "2023-08-31T16:17:09.418Z"
   },
   {
    "duration": 4,
    "start_time": "2023-08-31T16:17:30.579Z"
   },
   {
    "duration": 5,
    "start_time": "2023-08-31T16:19:19.083Z"
   },
   {
    "duration": 6,
    "start_time": "2023-08-31T16:19:39.619Z"
   },
   {
    "duration": 6,
    "start_time": "2023-08-31T16:19:58.811Z"
   },
   {
    "duration": 204,
    "start_time": "2023-08-31T16:27:37.318Z"
   },
   {
    "duration": 17,
    "start_time": "2023-08-31T18:14:21.330Z"
   },
   {
    "duration": 13,
    "start_time": "2023-08-31T18:14:27.699Z"
   },
   {
    "duration": 142,
    "start_time": "2023-08-31T18:15:27.050Z"
   },
   {
    "duration": 556,
    "start_time": "2023-08-31T18:16:15.002Z"
   },
   {
    "duration": 14,
    "start_time": "2023-08-31T18:17:05.927Z"
   },
   {
    "duration": 438,
    "start_time": "2023-08-31T18:17:37.506Z"
   },
   {
    "duration": 423,
    "start_time": "2023-08-31T18:17:46.378Z"
   },
   {
    "duration": 105,
    "start_time": "2023-08-31T18:19:12.666Z"
   },
   {
    "duration": 65,
    "start_time": "2023-08-31T18:20:10.243Z"
   },
   {
    "duration": 19,
    "start_time": "2023-08-31T18:20:35.810Z"
   },
   {
    "duration": 5,
    "start_time": "2023-08-31T18:28:43.036Z"
   },
   {
    "duration": 8,
    "start_time": "2023-08-31T18:28:43.627Z"
   },
   {
    "duration": 4,
    "start_time": "2023-08-31T18:30:56.700Z"
   },
   {
    "duration": 4,
    "start_time": "2023-08-31T18:31:36.688Z"
   },
   {
    "duration": 8,
    "start_time": "2023-08-31T18:31:59.364Z"
   },
   {
    "duration": 9,
    "start_time": "2023-08-31T18:55:37.733Z"
   },
   {
    "duration": 1423,
    "start_time": "2023-08-31T18:56:06.777Z"
   },
   {
    "duration": 10,
    "start_time": "2023-08-31T19:00:53.837Z"
   },
   {
    "duration": 10,
    "start_time": "2023-08-31T19:01:29.238Z"
   },
   {
    "duration": 8,
    "start_time": "2023-08-31T19:02:13.157Z"
   },
   {
    "duration": 4,
    "start_time": "2023-08-31T19:03:30.437Z"
   },
   {
    "duration": 5,
    "start_time": "2023-08-31T19:03:37.620Z"
   },
   {
    "duration": 4,
    "start_time": "2023-08-31T19:03:46.541Z"
   },
   {
    "duration": 5,
    "start_time": "2023-08-31T19:04:06.023Z"
   },
   {
    "duration": 863,
    "start_time": "2023-08-31T19:05:41.836Z"
   },
   {
    "duration": 120,
    "start_time": "2023-08-31T19:05:42.701Z"
   },
   {
    "duration": 22,
    "start_time": "2023-08-31T19:05:42.822Z"
   },
   {
    "duration": 14,
    "start_time": "2023-08-31T19:05:42.846Z"
   },
   {
    "duration": 13,
    "start_time": "2023-08-31T19:05:42.862Z"
   },
   {
    "duration": 4,
    "start_time": "2023-08-31T19:05:42.876Z"
   },
   {
    "duration": 5,
    "start_time": "2023-08-31T19:05:42.881Z"
   },
   {
    "duration": 7,
    "start_time": "2023-08-31T19:05:42.887Z"
   },
   {
    "duration": 5,
    "start_time": "2023-08-31T19:05:42.896Z"
   },
   {
    "duration": 49,
    "start_time": "2023-08-31T19:05:42.903Z"
   },
   {
    "duration": 12,
    "start_time": "2023-08-31T19:05:42.953Z"
   },
   {
    "duration": 10,
    "start_time": "2023-08-31T19:05:42.967Z"
   },
   {
    "duration": 4,
    "start_time": "2023-08-31T19:05:42.978Z"
   },
   {
    "duration": 9,
    "start_time": "2023-08-31T19:05:42.984Z"
   },
   {
    "duration": 12,
    "start_time": "2023-08-31T19:05:42.995Z"
   },
   {
    "duration": 133,
    "start_time": "2023-08-31T19:05:43.009Z"
   },
   {
    "duration": 0,
    "start_time": "2023-08-31T19:05:43.149Z"
   },
   {
    "duration": 0,
    "start_time": "2023-08-31T19:05:43.150Z"
   },
   {
    "duration": 0,
    "start_time": "2023-08-31T19:05:43.152Z"
   },
   {
    "duration": 0,
    "start_time": "2023-08-31T19:05:43.153Z"
   },
   {
    "duration": 0,
    "start_time": "2023-08-31T19:05:43.154Z"
   },
   {
    "duration": 0,
    "start_time": "2023-08-31T19:05:43.156Z"
   },
   {
    "duration": 8,
    "start_time": "2023-08-31T19:06:59.662Z"
   },
   {
    "duration": 9,
    "start_time": "2023-08-31T19:07:55.983Z"
   },
   {
    "duration": 7,
    "start_time": "2023-08-31T19:08:09.309Z"
   },
   {
    "duration": 8,
    "start_time": "2023-08-31T19:09:36.476Z"
   },
   {
    "duration": 9,
    "start_time": "2023-08-31T19:13:57.230Z"
   },
   {
    "duration": 8,
    "start_time": "2023-08-31T19:14:06.829Z"
   },
   {
    "duration": 81,
    "start_time": "2023-08-31T19:14:22.221Z"
   },
   {
    "duration": 81,
    "start_time": "2023-08-31T19:14:26.324Z"
   },
   {
    "duration": 93,
    "start_time": "2023-08-31T19:14:36.269Z"
   },
   {
    "duration": 110,
    "start_time": "2023-08-31T19:14:42.613Z"
   },
   {
    "duration": 10,
    "start_time": "2023-08-31T19:14:54.478Z"
   },
   {
    "duration": 106,
    "start_time": "2023-08-31T19:15:43.780Z"
   },
   {
    "duration": 8,
    "start_time": "2023-08-31T19:15:51.917Z"
   },
   {
    "duration": 9,
    "start_time": "2023-08-31T19:16:40.213Z"
   },
   {
    "duration": 9,
    "start_time": "2023-08-31T19:16:57.037Z"
   },
   {
    "duration": 10,
    "start_time": "2023-08-31T19:17:36.418Z"
   },
   {
    "duration": 8,
    "start_time": "2023-08-31T19:19:33.230Z"
   },
   {
    "duration": 9,
    "start_time": "2023-08-31T19:19:34.725Z"
   },
   {
    "duration": 113,
    "start_time": "2023-08-31T19:30:44.107Z"
   },
   {
    "duration": 7,
    "start_time": "2023-08-31T19:31:52.051Z"
   },
   {
    "duration": 9,
    "start_time": "2023-08-31T19:31:57.593Z"
   },
   {
    "duration": 8,
    "start_time": "2023-08-31T19:32:09.564Z"
   },
   {
    "duration": 8,
    "start_time": "2023-08-31T19:32:54.500Z"
   },
   {
    "duration": 205,
    "start_time": "2023-08-31T19:34:34.317Z"
   },
   {
    "duration": 6,
    "start_time": "2023-08-31T19:34:35.363Z"
   },
   {
    "duration": 10,
    "start_time": "2023-08-31T19:34:44.488Z"
   },
   {
    "duration": 172,
    "start_time": "2023-08-31T19:43:38.291Z"
   },
   {
    "duration": 218,
    "start_time": "2023-08-31T19:44:07.803Z"
   },
   {
    "duration": 10,
    "start_time": "2023-08-31T19:44:09.531Z"
   },
   {
    "duration": 8,
    "start_time": "2023-08-31T20:13:26.638Z"
   },
   {
    "duration": 3,
    "start_time": "2023-08-31T20:13:52.073Z"
   },
   {
    "duration": 8,
    "start_time": "2023-08-31T20:13:55.392Z"
   },
   {
    "duration": 452,
    "start_time": "2023-08-31T20:14:18.294Z"
   },
   {
    "duration": 16,
    "start_time": "2023-08-31T20:14:21.198Z"
   },
   {
    "duration": 251,
    "start_time": "2023-08-31T20:14:50.392Z"
   },
   {
    "duration": 180,
    "start_time": "2023-08-31T20:14:56.438Z"
   },
   {
    "duration": 185,
    "start_time": "2023-08-31T20:15:22.046Z"
   },
   {
    "duration": 10,
    "start_time": "2023-08-31T20:15:27.822Z"
   },
   {
    "duration": 161,
    "start_time": "2023-08-31T20:15:34.976Z"
   },
   {
    "duration": 172,
    "start_time": "2023-08-31T20:16:15.628Z"
   },
   {
    "duration": 177,
    "start_time": "2023-08-31T20:17:10.614Z"
   },
   {
    "duration": 209,
    "start_time": "2023-08-31T20:18:59.976Z"
   },
   {
    "duration": 251,
    "start_time": "2023-08-31T20:19:05.334Z"
   },
   {
    "duration": 177,
    "start_time": "2023-08-31T20:20:45.648Z"
   },
   {
    "duration": 175,
    "start_time": "2023-08-31T20:20:50.622Z"
   },
   {
    "duration": 194,
    "start_time": "2023-08-31T20:20:54.100Z"
   },
   {
    "duration": 199,
    "start_time": "2023-08-31T20:21:01.431Z"
   },
   {
    "duration": 182,
    "start_time": "2023-08-31T20:21:36.712Z"
   },
   {
    "duration": 209,
    "start_time": "2023-08-31T20:21:41.839Z"
   },
   {
    "duration": 237,
    "start_time": "2023-08-31T20:21:46.511Z"
   },
   {
    "duration": 243,
    "start_time": "2023-08-31T20:21:51.111Z"
   },
   {
    "duration": 204,
    "start_time": "2023-08-31T20:21:56.934Z"
   },
   {
    "duration": 206,
    "start_time": "2023-08-31T20:22:06.181Z"
   },
   {
    "duration": 334,
    "start_time": "2023-08-31T20:22:10.423Z"
   },
   {
    "duration": 222,
    "start_time": "2023-08-31T20:22:14.575Z"
   },
   {
    "duration": 221,
    "start_time": "2023-08-31T20:22:20.412Z"
   },
   {
    "duration": 201,
    "start_time": "2023-08-31T20:22:25.100Z"
   },
   {
    "duration": 226,
    "start_time": "2023-08-31T20:22:31.528Z"
   },
   {
    "duration": 233,
    "start_time": "2023-08-31T20:22:39.621Z"
   },
   {
    "duration": 269,
    "start_time": "2023-08-31T20:22:43.521Z"
   },
   {
    "duration": 312,
    "start_time": "2023-08-31T20:22:46.143Z"
   },
   {
    "duration": 227,
    "start_time": "2023-08-31T20:22:52.008Z"
   },
   {
    "duration": 207,
    "start_time": "2023-08-31T20:22:54.712Z"
   },
   {
    "duration": 203,
    "start_time": "2023-08-31T20:22:57.304Z"
   },
   {
    "duration": 358,
    "start_time": "2023-08-31T20:23:02.204Z"
   },
   {
    "duration": 236,
    "start_time": "2023-08-31T20:23:05.776Z"
   },
   {
    "duration": 263,
    "start_time": "2023-08-31T20:23:09.012Z"
   },
   {
    "duration": 209,
    "start_time": "2023-08-31T20:23:13.104Z"
   },
   {
    "duration": 214,
    "start_time": "2023-08-31T20:23:15.846Z"
   },
   {
    "duration": 193,
    "start_time": "2023-08-31T20:23:17.524Z"
   },
   {
    "duration": 215,
    "start_time": "2023-08-31T20:23:19.520Z"
   },
   {
    "duration": 1023,
    "start_time": "2023-08-31T20:23:36.781Z"
   },
   {
    "duration": 200,
    "start_time": "2023-08-31T20:23:37.806Z"
   },
   {
    "duration": 18,
    "start_time": "2023-08-31T20:23:38.007Z"
   },
   {
    "duration": 14,
    "start_time": "2023-08-31T20:23:38.027Z"
   },
   {
    "duration": 15,
    "start_time": "2023-08-31T20:23:38.042Z"
   },
   {
    "duration": 12,
    "start_time": "2023-08-31T20:23:38.059Z"
   },
   {
    "duration": 10,
    "start_time": "2023-08-31T20:23:38.075Z"
   },
   {
    "duration": 7,
    "start_time": "2023-08-31T20:23:38.086Z"
   },
   {
    "duration": 5,
    "start_time": "2023-08-31T20:23:38.095Z"
   },
   {
    "duration": 7,
    "start_time": "2023-08-31T20:23:38.101Z"
   },
   {
    "duration": 11,
    "start_time": "2023-08-31T20:23:38.112Z"
   },
   {
    "duration": 38,
    "start_time": "2023-08-31T20:23:38.125Z"
   },
   {
    "duration": 11,
    "start_time": "2023-08-31T20:23:38.164Z"
   },
   {
    "duration": 14,
    "start_time": "2023-08-31T20:23:38.177Z"
   },
   {
    "duration": 9,
    "start_time": "2023-08-31T20:23:38.193Z"
   },
   {
    "duration": 13,
    "start_time": "2023-08-31T20:23:38.203Z"
   },
   {
    "duration": 252,
    "start_time": "2023-08-31T20:23:38.217Z"
   },
   {
    "duration": 14,
    "start_time": "2023-08-31T20:23:38.490Z"
   },
   {
    "duration": 276,
    "start_time": "2023-08-31T20:23:38.508Z"
   },
   {
    "duration": 214,
    "start_time": "2023-08-31T20:23:38.786Z"
   },
   {
    "duration": 3,
    "start_time": "2023-08-31T20:23:39.001Z"
   },
   {
    "duration": 3,
    "start_time": "2023-08-31T20:23:55.486Z"
   },
   {
    "duration": 5,
    "start_time": "2023-08-31T20:23:58.879Z"
   },
   {
    "duration": 976,
    "start_time": "2023-08-31T20:24:06.207Z"
   },
   {
    "duration": 191,
    "start_time": "2023-08-31T20:24:07.185Z"
   },
   {
    "duration": 18,
    "start_time": "2023-08-31T20:24:07.377Z"
   },
   {
    "duration": 15,
    "start_time": "2023-08-31T20:24:07.397Z"
   },
   {
    "duration": 13,
    "start_time": "2023-08-31T20:24:07.414Z"
   },
   {
    "duration": 3,
    "start_time": "2023-08-31T20:24:07.428Z"
   },
   {
    "duration": 6,
    "start_time": "2023-08-31T20:24:07.432Z"
   },
   {
    "duration": 22,
    "start_time": "2023-08-31T20:24:07.439Z"
   },
   {
    "duration": 12,
    "start_time": "2023-08-31T20:24:07.462Z"
   },
   {
    "duration": 7,
    "start_time": "2023-08-31T20:24:07.477Z"
   },
   {
    "duration": 32,
    "start_time": "2023-08-31T20:24:07.485Z"
   },
   {
    "duration": 25,
    "start_time": "2023-08-31T20:24:07.518Z"
   },
   {
    "duration": 4,
    "start_time": "2023-08-31T20:24:07.544Z"
   },
   {
    "duration": 19,
    "start_time": "2023-08-31T20:24:07.552Z"
   },
   {
    "duration": 10,
    "start_time": "2023-08-31T20:24:07.577Z"
   },
   {
    "duration": 10,
    "start_time": "2023-08-31T20:24:07.588Z"
   },
   {
    "duration": 228,
    "start_time": "2023-08-31T20:24:07.599Z"
   },
   {
    "duration": 9,
    "start_time": "2023-08-31T20:24:07.828Z"
   },
   {
    "duration": 286,
    "start_time": "2023-08-31T20:24:07.838Z"
   },
   {
    "duration": 345,
    "start_time": "2023-08-31T20:24:08.125Z"
   },
   {
    "duration": 4,
    "start_time": "2023-08-31T20:24:08.472Z"
   },
   {
    "duration": 1010,
    "start_time": "2023-08-31T20:24:16.596Z"
   },
   {
    "duration": 204,
    "start_time": "2023-08-31T20:24:17.608Z"
   },
   {
    "duration": 19,
    "start_time": "2023-08-31T20:24:17.813Z"
   },
   {
    "duration": 13,
    "start_time": "2023-08-31T20:24:17.833Z"
   },
   {
    "duration": 32,
    "start_time": "2023-08-31T20:24:17.848Z"
   },
   {
    "duration": 4,
    "start_time": "2023-08-31T20:24:17.881Z"
   },
   {
    "duration": 11,
    "start_time": "2023-08-31T20:24:17.886Z"
   },
   {
    "duration": 7,
    "start_time": "2023-08-31T20:24:17.898Z"
   },
   {
    "duration": 5,
    "start_time": "2023-08-31T20:24:17.907Z"
   },
   {
    "duration": 7,
    "start_time": "2023-08-31T20:24:17.914Z"
   },
   {
    "duration": 19,
    "start_time": "2023-08-31T20:24:17.922Z"
   },
   {
    "duration": 32,
    "start_time": "2023-08-31T20:24:17.943Z"
   },
   {
    "duration": 13,
    "start_time": "2023-08-31T20:24:17.976Z"
   },
   {
    "duration": 16,
    "start_time": "2023-08-31T20:24:17.991Z"
   },
   {
    "duration": 10,
    "start_time": "2023-08-31T20:24:18.009Z"
   },
   {
    "duration": 15,
    "start_time": "2023-08-31T20:24:18.020Z"
   },
   {
    "duration": 243,
    "start_time": "2023-08-31T20:24:18.036Z"
   },
   {
    "duration": 9,
    "start_time": "2023-08-31T20:24:18.281Z"
   },
   {
    "duration": 305,
    "start_time": "2023-08-31T20:24:18.291Z"
   },
   {
    "duration": 209,
    "start_time": "2023-08-31T20:24:18.598Z"
   },
   {
    "duration": 3,
    "start_time": "2023-08-31T20:24:18.808Z"
   },
   {
    "duration": 1098,
    "start_time": "2023-08-31T20:24:47.240Z"
   },
   {
    "duration": 248,
    "start_time": "2023-08-31T20:24:48.340Z"
   },
   {
    "duration": 16,
    "start_time": "2023-08-31T20:24:48.592Z"
   },
   {
    "duration": 13,
    "start_time": "2023-08-31T20:24:48.609Z"
   },
   {
    "duration": 12,
    "start_time": "2023-08-31T20:24:48.623Z"
   },
   {
    "duration": 3,
    "start_time": "2023-08-31T20:24:48.636Z"
   },
   {
    "duration": 5,
    "start_time": "2023-08-31T20:24:48.640Z"
   },
   {
    "duration": 21,
    "start_time": "2023-08-31T20:24:48.646Z"
   },
   {
    "duration": 6,
    "start_time": "2023-08-31T20:24:48.676Z"
   },
   {
    "duration": 45,
    "start_time": "2023-08-31T20:24:48.684Z"
   },
   {
    "duration": 12,
    "start_time": "2023-08-31T20:24:48.730Z"
   },
   {
    "duration": 16,
    "start_time": "2023-08-31T20:24:48.743Z"
   },
   {
    "duration": 4,
    "start_time": "2023-08-31T20:24:48.763Z"
   },
   {
    "duration": 30,
    "start_time": "2023-08-31T20:24:48.769Z"
   },
   {
    "duration": 22,
    "start_time": "2023-08-31T20:24:48.801Z"
   },
   {
    "duration": 10,
    "start_time": "2023-08-31T20:24:48.824Z"
   },
   {
    "duration": 209,
    "start_time": "2023-08-31T20:24:48.836Z"
   },
   {
    "duration": 30,
    "start_time": "2023-08-31T20:24:49.046Z"
   },
   {
    "duration": 308,
    "start_time": "2023-08-31T20:24:49.078Z"
   },
   {
    "duration": 208,
    "start_time": "2023-08-31T20:24:49.387Z"
   },
   {
    "duration": 2,
    "start_time": "2023-08-31T20:24:49.597Z"
   },
   {
    "duration": 4,
    "start_time": "2023-08-31T20:25:20.783Z"
   },
   {
    "duration": 211,
    "start_time": "2023-08-31T20:25:24.279Z"
   },
   {
    "duration": 260,
    "start_time": "2023-08-31T20:35:55.183Z"
   },
   {
    "duration": 233,
    "start_time": "2023-08-31T20:36:00.189Z"
   },
   {
    "duration": 272,
    "start_time": "2023-08-31T20:36:17.429Z"
   },
   {
    "duration": 248,
    "start_time": "2023-08-31T20:37:06.677Z"
   },
   {
    "duration": 1322,
    "start_time": "2023-09-01T19:25:18.675Z"
   },
   {
    "duration": 355,
    "start_time": "2023-09-01T19:25:20.000Z"
   },
   {
    "duration": 24,
    "start_time": "2023-09-01T19:25:20.357Z"
   },
   {
    "duration": 17,
    "start_time": "2023-09-01T19:25:20.385Z"
   },
   {
    "duration": 40,
    "start_time": "2023-09-01T19:25:20.404Z"
   },
   {
    "duration": 4,
    "start_time": "2023-09-01T19:25:20.446Z"
   },
   {
    "duration": 42,
    "start_time": "2023-09-01T19:25:20.452Z"
   },
   {
    "duration": 25,
    "start_time": "2023-09-01T19:25:20.496Z"
   },
   {
    "duration": 23,
    "start_time": "2023-09-01T19:25:20.522Z"
   },
   {
    "duration": 11,
    "start_time": "2023-09-01T19:25:20.547Z"
   },
   {
    "duration": 14,
    "start_time": "2023-09-01T19:25:20.559Z"
   },
   {
    "duration": 12,
    "start_time": "2023-09-01T19:25:20.575Z"
   },
   {
    "duration": 25,
    "start_time": "2023-09-01T19:25:20.589Z"
   },
   {
    "duration": 51,
    "start_time": "2023-09-01T19:25:20.616Z"
   },
   {
    "duration": 83,
    "start_time": "2023-09-01T19:25:20.669Z"
   },
   {
    "duration": 17,
    "start_time": "2023-09-01T19:25:20.754Z"
   },
   {
    "duration": 239,
    "start_time": "2023-09-01T19:25:20.774Z"
   },
   {
    "duration": 11,
    "start_time": "2023-09-01T19:25:21.015Z"
   },
   {
    "duration": 326,
    "start_time": "2023-09-01T19:25:21.028Z"
   },
   {
    "duration": 221,
    "start_time": "2023-09-01T19:25:21.356Z"
   },
   {
    "duration": 360,
    "start_time": "2023-09-01T19:25:21.579Z"
   },
   {
    "duration": 2,
    "start_time": "2023-09-01T19:25:21.947Z"
   },
   {
    "duration": 13,
    "start_time": "2023-09-01T19:52:45.398Z"
   },
   {
    "duration": 136,
    "start_time": "2023-09-01T20:23:24.105Z"
   },
   {
    "duration": 547,
    "start_time": "2023-09-01T20:24:48.393Z"
   },
   {
    "duration": 582,
    "start_time": "2023-09-01T20:26:05.653Z"
   },
   {
    "duration": 257,
    "start_time": "2023-09-01T20:27:32.979Z"
   },
   {
    "duration": 627,
    "start_time": "2023-09-01T20:27:39.266Z"
   },
   {
    "duration": 489,
    "start_time": "2023-09-01T20:28:51.754Z"
   },
   {
    "duration": 73,
    "start_time": "2023-09-01T20:30:37.698Z"
   },
   {
    "duration": 221,
    "start_time": "2023-09-01T20:30:44.290Z"
   },
   {
    "duration": 302,
    "start_time": "2023-09-01T20:30:52.235Z"
   },
   {
    "duration": 271,
    "start_time": "2023-09-01T20:41:37.308Z"
   },
   {
    "duration": 192,
    "start_time": "2023-09-01T20:41:48.596Z"
   },
   {
    "duration": 3,
    "start_time": "2023-09-01T20:41:54.579Z"
   },
   {
    "duration": 253,
    "start_time": "2023-09-01T20:46:53.004Z"
   },
   {
    "duration": 227,
    "start_time": "2023-09-01T20:47:28.619Z"
   },
   {
    "duration": 345,
    "start_time": "2023-09-01T20:48:38.828Z"
   },
   {
    "duration": 557,
    "start_time": "2023-09-01T20:52:16.542Z"
   },
   {
    "duration": 348,
    "start_time": "2023-09-01T21:03:33.375Z"
   },
   {
    "duration": 17,
    "start_time": "2023-09-01T21:04:01.204Z"
   },
   {
    "duration": 10,
    "start_time": "2023-09-01T21:04:05.606Z"
   },
   {
    "duration": 246,
    "start_time": "2023-09-01T21:05:40.272Z"
   },
   {
    "duration": 275,
    "start_time": "2023-09-01T21:05:48.534Z"
   },
   {
    "duration": 89,
    "start_time": "2023-09-01T21:06:14.574Z"
   },
   {
    "duration": 409,
    "start_time": "2023-09-01T21:16:14.726Z"
   },
   {
    "duration": 376,
    "start_time": "2023-09-01T21:16:31.110Z"
   },
   {
    "duration": 394,
    "start_time": "2023-09-01T21:16:43.222Z"
   },
   {
    "duration": 459,
    "start_time": "2023-09-01T21:17:24.774Z"
   },
   {
    "duration": 364,
    "start_time": "2023-09-01T21:20:31.534Z"
   },
   {
    "duration": 339,
    "start_time": "2023-09-01T21:20:49.517Z"
   },
   {
    "duration": 330,
    "start_time": "2023-09-01T21:20:56.693Z"
   },
   {
    "duration": 367,
    "start_time": "2023-09-01T21:21:02.968Z"
   },
   {
    "duration": 366,
    "start_time": "2023-09-01T21:21:16.370Z"
   },
   {
    "duration": 321,
    "start_time": "2023-09-01T21:21:30.501Z"
   },
   {
    "duration": 1508,
    "start_time": "2023-09-01T21:25:48.589Z"
   },
   {
    "duration": 14,
    "start_time": "2023-09-01T21:29:16.590Z"
   },
   {
    "duration": 190,
    "start_time": "2023-09-01T21:29:22.405Z"
   },
   {
    "duration": 186,
    "start_time": "2023-09-01T21:29:42.981Z"
   },
   {
    "duration": 5,
    "start_time": "2023-09-01T21:35:56.293Z"
   },
   {
    "duration": 1372,
    "start_time": "2023-09-02T08:10:35.345Z"
   },
   {
    "duration": 345,
    "start_time": "2023-09-02T08:10:36.720Z"
   },
   {
    "duration": 22,
    "start_time": "2023-09-02T08:10:37.066Z"
   },
   {
    "duration": 26,
    "start_time": "2023-09-02T08:10:37.091Z"
   },
   {
    "duration": 15,
    "start_time": "2023-09-02T08:10:37.120Z"
   },
   {
    "duration": 3,
    "start_time": "2023-09-02T08:10:37.137Z"
   },
   {
    "duration": 51,
    "start_time": "2023-09-02T08:10:37.142Z"
   },
   {
    "duration": 56,
    "start_time": "2023-09-02T08:10:37.195Z"
   },
   {
    "duration": 26,
    "start_time": "2023-09-02T08:10:37.253Z"
   },
   {
    "duration": 17,
    "start_time": "2023-09-02T08:10:37.282Z"
   },
   {
    "duration": 26,
    "start_time": "2023-09-02T08:10:37.301Z"
   },
   {
    "duration": 15,
    "start_time": "2023-09-02T08:10:37.329Z"
   },
   {
    "duration": 32,
    "start_time": "2023-09-02T08:10:37.346Z"
   },
   {
    "duration": 19,
    "start_time": "2023-09-02T08:10:37.380Z"
   },
   {
    "duration": 16,
    "start_time": "2023-09-02T08:10:37.401Z"
   },
   {
    "duration": 287,
    "start_time": "2023-09-02T08:10:37.420Z"
   },
   {
    "duration": 21,
    "start_time": "2023-09-02T08:10:37.718Z"
   },
   {
    "duration": 378,
    "start_time": "2023-09-02T08:10:37.742Z"
   },
   {
    "duration": 260,
    "start_time": "2023-09-02T08:10:38.122Z"
   },
   {
    "duration": 436,
    "start_time": "2023-09-02T08:10:38.384Z"
   },
   {
    "duration": 12,
    "start_time": "2023-09-02T08:10:38.822Z"
   },
   {
    "duration": 320,
    "start_time": "2023-09-02T08:10:38.836Z"
   },
   {
    "duration": 330,
    "start_time": "2023-09-02T08:10:39.158Z"
   },
   {
    "duration": 238,
    "start_time": "2023-09-02T08:10:39.490Z"
   },
   {
    "duration": 6,
    "start_time": "2023-09-02T08:10:39.730Z"
   },
   {
    "duration": 25,
    "start_time": "2023-09-02T08:10:39.739Z"
   },
   {
    "duration": 192,
    "start_time": "2023-09-02T08:21:43.238Z"
   },
   {
    "duration": 210,
    "start_time": "2023-09-02T08:22:56.982Z"
   },
   {
    "duration": 8,
    "start_time": "2023-09-02T08:26:04.630Z"
   },
   {
    "duration": 320,
    "start_time": "2023-09-02T08:43:02.939Z"
   },
   {
    "duration": 199,
    "start_time": "2023-09-02T08:44:25.957Z"
   },
   {
    "duration": 174,
    "start_time": "2023-09-02T08:44:43.483Z"
   },
   {
    "duration": 41,
    "start_time": "2023-09-02T08:45:01.340Z"
   },
   {
    "duration": 110,
    "start_time": "2023-09-02T09:00:18.689Z"
   },
   {
    "duration": 13,
    "start_time": "2023-09-02T09:07:54.128Z"
   },
   {
    "duration": 13,
    "start_time": "2023-09-02T09:12:06.728Z"
   },
   {
    "duration": 17,
    "start_time": "2023-09-02T09:28:45.000Z"
   },
   {
    "duration": 10,
    "start_time": "2023-09-02T09:28:50.087Z"
   },
   {
    "duration": 15,
    "start_time": "2023-09-02T09:29:44.599Z"
   },
   {
    "duration": 10,
    "start_time": "2023-09-02T09:38:47.197Z"
   },
   {
    "duration": 9,
    "start_time": "2023-09-02T09:39:06.581Z"
   },
   {
    "duration": 25,
    "start_time": "2023-09-02T09:39:09.019Z"
   },
   {
    "duration": 26,
    "start_time": "2023-09-02T09:39:59.877Z"
   },
   {
    "duration": 1365,
    "start_time": "2023-09-02T09:52:46.729Z"
   },
   {
    "duration": 1291,
    "start_time": "2023-09-02T09:53:10.945Z"
   },
   {
    "duration": 18,
    "start_time": "2023-09-02T09:53:28.707Z"
   },
   {
    "duration": 1147,
    "start_time": "2023-09-02T10:13:04.238Z"
   },
   {
    "duration": 195,
    "start_time": "2023-09-02T10:13:05.387Z"
   },
   {
    "duration": 21,
    "start_time": "2023-09-02T10:13:05.584Z"
   },
   {
    "duration": 18,
    "start_time": "2023-09-02T10:13:05.607Z"
   },
   {
    "duration": 16,
    "start_time": "2023-09-02T10:13:05.627Z"
   },
   {
    "duration": 14,
    "start_time": "2023-09-02T10:13:05.645Z"
   },
   {
    "duration": 7,
    "start_time": "2023-09-02T10:13:05.661Z"
   },
   {
    "duration": 9,
    "start_time": "2023-09-02T10:13:05.670Z"
   },
   {
    "duration": 7,
    "start_time": "2023-09-02T10:13:05.702Z"
   },
   {
    "duration": 39,
    "start_time": "2023-09-02T10:13:05.711Z"
   },
   {
    "duration": 38,
    "start_time": "2023-09-02T10:13:05.752Z"
   },
   {
    "duration": 24,
    "start_time": "2023-09-02T10:13:05.791Z"
   },
   {
    "duration": 27,
    "start_time": "2023-09-02T10:13:05.817Z"
   },
   {
    "duration": 52,
    "start_time": "2023-09-02T10:13:05.846Z"
   },
   {
    "duration": 55,
    "start_time": "2023-09-02T10:13:05.900Z"
   },
   {
    "duration": 233,
    "start_time": "2023-09-02T10:13:05.957Z"
   },
   {
    "duration": 11,
    "start_time": "2023-09-02T10:13:06.192Z"
   },
   {
    "duration": 335,
    "start_time": "2023-09-02T10:13:06.204Z"
   },
   {
    "duration": 251,
    "start_time": "2023-09-02T10:13:06.541Z"
   },
   {
    "duration": 340,
    "start_time": "2023-09-02T10:13:06.802Z"
   },
   {
    "duration": 12,
    "start_time": "2023-09-02T10:13:07.143Z"
   },
   {
    "duration": 263,
    "start_time": "2023-09-02T10:13:07.158Z"
   },
   {
    "duration": 321,
    "start_time": "2023-09-02T10:13:07.423Z"
   },
   {
    "duration": 172,
    "start_time": "2023-09-02T10:13:07.746Z"
   },
   {
    "duration": 4,
    "start_time": "2023-09-02T10:13:07.920Z"
   },
   {
    "duration": 194,
    "start_time": "2023-09-02T10:13:07.926Z"
   },
   {
    "duration": 5,
    "start_time": "2023-09-02T10:13:08.121Z"
   },
   {
    "duration": 168,
    "start_time": "2023-09-02T10:13:08.129Z"
   },
   {
    "duration": 27,
    "start_time": "2023-09-02T10:13:08.300Z"
   },
   {
    "duration": 12,
    "start_time": "2023-09-02T10:13:08.329Z"
   },
   {
    "duration": 9,
    "start_time": "2023-09-02T10:13:08.343Z"
   },
   {
    "duration": 12,
    "start_time": "2023-09-02T10:13:08.354Z"
   },
   {
    "duration": 54,
    "start_time": "2023-09-02T10:13:08.367Z"
   },
   {
    "duration": 17,
    "start_time": "2023-09-02T10:13:08.423Z"
   },
   {
    "duration": 19,
    "start_time": "2023-09-02T10:13:37.316Z"
   },
   {
    "duration": 8,
    "start_time": "2023-09-02T10:14:42.916Z"
   },
   {
    "duration": 1012,
    "start_time": "2023-09-02T10:15:31.865Z"
   },
   {
    "duration": 4,
    "start_time": "2023-09-02T10:16:06.125Z"
   },
   {
    "duration": 1110,
    "start_time": "2023-09-02T10:16:08.867Z"
   },
   {
    "duration": 8,
    "start_time": "2023-09-02T10:16:26.444Z"
   },
   {
    "duration": 12,
    "start_time": "2023-09-02T10:17:33.332Z"
   },
   {
    "duration": 12,
    "start_time": "2023-09-02T10:17:44.092Z"
   },
   {
    "duration": 12,
    "start_time": "2023-09-02T10:18:14.492Z"
   },
   {
    "duration": 1300,
    "start_time": "2023-09-02T10:19:49.610Z"
   },
   {
    "duration": 477,
    "start_time": "2023-09-02T10:19:50.913Z"
   },
   {
    "duration": 21,
    "start_time": "2023-09-02T10:19:51.402Z"
   },
   {
    "duration": 90,
    "start_time": "2023-09-02T10:19:51.425Z"
   },
   {
    "duration": 19,
    "start_time": "2023-09-02T10:19:51.517Z"
   },
   {
    "duration": 6,
    "start_time": "2023-09-02T10:19:51.538Z"
   },
   {
    "duration": 59,
    "start_time": "2023-09-02T10:19:51.546Z"
   },
   {
    "duration": 20,
    "start_time": "2023-09-02T10:19:51.606Z"
   },
   {
    "duration": 25,
    "start_time": "2023-09-02T10:19:51.628Z"
   },
   {
    "duration": 55,
    "start_time": "2023-09-02T10:19:51.655Z"
   },
   {
    "duration": 39,
    "start_time": "2023-09-02T10:19:51.712Z"
   },
   {
    "duration": 68,
    "start_time": "2023-09-02T10:19:51.753Z"
   },
   {
    "duration": 24,
    "start_time": "2023-09-02T10:19:51.822Z"
   },
   {
    "duration": 60,
    "start_time": "2023-09-02T10:19:51.850Z"
   },
   {
    "duration": 14,
    "start_time": "2023-09-02T10:19:51.912Z"
   },
   {
    "duration": 290,
    "start_time": "2023-09-02T10:19:51.928Z"
   },
   {
    "duration": 27,
    "start_time": "2023-09-02T10:19:52.219Z"
   },
   {
    "duration": 347,
    "start_time": "2023-09-02T10:19:52.248Z"
   },
   {
    "duration": 253,
    "start_time": "2023-09-02T10:19:52.601Z"
   },
   {
    "duration": 333,
    "start_time": "2023-09-02T10:19:52.856Z"
   },
   {
    "duration": 20,
    "start_time": "2023-09-02T10:19:53.191Z"
   },
   {
    "duration": 257,
    "start_time": "2023-09-02T10:19:53.213Z"
   },
   {
    "duration": 358,
    "start_time": "2023-09-02T10:19:53.472Z"
   },
   {
    "duration": 186,
    "start_time": "2023-09-02T10:19:53.831Z"
   },
   {
    "duration": 4,
    "start_time": "2023-09-02T10:19:54.019Z"
   },
   {
    "duration": 200,
    "start_time": "2023-09-02T10:19:54.025Z"
   },
   {
    "duration": 5,
    "start_time": "2023-09-02T10:19:54.227Z"
   },
   {
    "duration": 202,
    "start_time": "2023-09-02T10:19:54.234Z"
   },
   {
    "duration": 28,
    "start_time": "2023-09-02T10:19:54.438Z"
   },
   {
    "duration": 36,
    "start_time": "2023-09-02T10:19:54.468Z"
   },
   {
    "duration": 10,
    "start_time": "2023-09-02T10:19:54.506Z"
   },
   {
    "duration": 30,
    "start_time": "2023-09-02T10:19:54.518Z"
   },
   {
    "duration": 49,
    "start_time": "2023-09-02T10:19:54.549Z"
   },
   {
    "duration": 21,
    "start_time": "2023-09-02T10:19:54.600Z"
   },
   {
    "duration": 357,
    "start_time": "2023-09-02T10:22:32.063Z"
   },
   {
    "duration": 1380,
    "start_time": "2023-09-04T18:14:06.618Z"
   },
   {
    "duration": 100,
    "start_time": "2023-09-04T18:14:11.368Z"
   },
   {
    "duration": 4,
    "start_time": "2023-09-04T18:14:16.216Z"
   },
   {
    "duration": 296,
    "start_time": "2023-09-04T18:14:17.703Z"
   },
   {
    "duration": 30,
    "start_time": "2023-09-04T18:14:19.103Z"
   },
   {
    "duration": 4,
    "start_time": "2023-09-04T18:14:51.777Z"
   },
   {
    "duration": 10,
    "start_time": "2023-09-04T18:15:48.177Z"
   },
   {
    "duration": 8,
    "start_time": "2023-09-04T18:16:33.297Z"
   },
   {
    "duration": 7,
    "start_time": "2023-09-04T18:16:39.296Z"
   },
   {
    "duration": 4,
    "start_time": "2023-09-04T18:16:55.189Z"
   },
   {
    "duration": 5,
    "start_time": "2023-09-04T18:17:00.873Z"
   },
   {
    "duration": 4,
    "start_time": "2023-09-04T18:17:04.878Z"
   },
   {
    "duration": 4,
    "start_time": "2023-09-04T18:17:06.928Z"
   },
   {
    "duration": 3,
    "start_time": "2023-09-04T18:17:12.137Z"
   },
   {
    "duration": 5,
    "start_time": "2023-09-04T18:17:15.307Z"
   },
   {
    "duration": 3,
    "start_time": "2023-09-04T18:17:18.440Z"
   },
   {
    "duration": 4,
    "start_time": "2023-09-04T18:17:21.704Z"
   },
   {
    "duration": 4,
    "start_time": "2023-09-04T18:17:26.392Z"
   },
   {
    "duration": 5,
    "start_time": "2023-09-04T18:17:29.288Z"
   },
   {
    "duration": 5,
    "start_time": "2023-09-04T18:17:32.774Z"
   },
   {
    "duration": 4,
    "start_time": "2023-09-04T18:17:40.783Z"
   },
   {
    "duration": 15,
    "start_time": "2023-09-04T18:17:43.373Z"
   },
   {
    "duration": 4,
    "start_time": "2023-09-04T18:17:57.389Z"
   },
   {
    "duration": 16,
    "start_time": "2023-09-04T18:17:59.640Z"
   },
   {
    "duration": 4,
    "start_time": "2023-09-04T18:18:09.424Z"
   },
   {
    "duration": 15,
    "start_time": "2023-09-04T18:18:11.886Z"
   },
   {
    "duration": 13,
    "start_time": "2023-09-04T18:25:21.612Z"
   },
   {
    "duration": 7,
    "start_time": "2023-09-04T18:25:32.276Z"
   },
   {
    "duration": 13,
    "start_time": "2023-09-04T18:25:54.964Z"
   },
   {
    "duration": 10,
    "start_time": "2023-09-04T18:26:08.900Z"
   },
   {
    "duration": 5,
    "start_time": "2023-09-04T18:26:35.036Z"
   },
   {
    "duration": 9,
    "start_time": "2023-09-04T18:31:28.389Z"
   },
   {
    "duration": 4,
    "start_time": "2023-09-04T18:32:19.030Z"
   },
   {
    "duration": 4,
    "start_time": "2023-09-04T18:33:24.119Z"
   },
   {
    "duration": 11,
    "start_time": "2023-09-04T18:35:10.815Z"
   },
   {
    "duration": 7,
    "start_time": "2023-09-04T18:35:55.640Z"
   },
   {
    "duration": 7,
    "start_time": "2023-09-04T18:37:04.231Z"
   },
   {
    "duration": 5,
    "start_time": "2023-09-04T18:37:13.782Z"
   },
   {
    "duration": 3,
    "start_time": "2023-09-04T18:38:12.567Z"
   },
   {
    "duration": 10,
    "start_time": "2023-09-04T18:39:59.616Z"
   },
   {
    "duration": 6,
    "start_time": "2023-09-04T18:40:04.312Z"
   },
   {
    "duration": 6,
    "start_time": "2023-09-04T18:41:35.594Z"
   },
   {
    "duration": 6,
    "start_time": "2023-09-04T18:41:54.937Z"
   },
   {
    "duration": 5,
    "start_time": "2023-09-04T18:41:59.305Z"
   },
   {
    "duration": 5,
    "start_time": "2023-09-04T18:43:30.279Z"
   },
   {
    "duration": 6,
    "start_time": "2023-09-04T18:43:31.745Z"
   },
   {
    "duration": 76,
    "start_time": "2023-09-04T18:53:12.368Z"
   },
   {
    "duration": 21,
    "start_time": "2023-09-04T18:53:48.000Z"
   },
   {
    "duration": 22,
    "start_time": "2023-09-04T18:53:59.149Z"
   },
   {
    "duration": 18,
    "start_time": "2023-09-04T18:54:08.914Z"
   },
   {
    "duration": 9,
    "start_time": "2023-09-04T18:55:12.183Z"
   },
   {
    "duration": 9,
    "start_time": "2023-09-04T18:55:20.188Z"
   },
   {
    "duration": 8,
    "start_time": "2023-09-04T18:55:28.579Z"
   },
   {
    "duration": 14,
    "start_time": "2023-09-04T18:55:43.530Z"
   },
   {
    "duration": 4,
    "start_time": "2023-09-04T18:55:49.571Z"
   },
   {
    "duration": 91,
    "start_time": "2023-09-04T18:55:53.879Z"
   },
   {
    "duration": 14,
    "start_time": "2023-09-04T18:56:30.872Z"
   },
   {
    "duration": 50,
    "start_time": "2023-09-04T19:09:41.226Z"
   },
   {
    "duration": 21,
    "start_time": "2023-09-04T19:10:01.026Z"
   },
   {
    "duration": 19,
    "start_time": "2023-09-04T19:10:02.964Z"
   },
   {
    "duration": 95,
    "start_time": "2023-09-04T19:11:36.773Z"
   },
   {
    "duration": 5,
    "start_time": "2023-09-04T19:13:20.265Z"
   },
   {
    "duration": 9,
    "start_time": "2023-09-04T19:13:27.306Z"
   },
   {
    "duration": 77,
    "start_time": "2023-09-04T19:14:30.165Z"
   },
   {
    "duration": 76,
    "start_time": "2023-09-04T19:14:37.130Z"
   },
   {
    "duration": 13,
    "start_time": "2023-09-04T19:14:46.514Z"
   },
   {
    "duration": 12,
    "start_time": "2023-09-04T19:14:52.470Z"
   },
   {
    "duration": 19,
    "start_time": "2023-09-04T19:15:34.587Z"
   },
   {
    "duration": 11,
    "start_time": "2023-09-04T19:16:09.739Z"
   },
   {
    "duration": 12,
    "start_time": "2023-09-04T19:16:56.566Z"
   },
   {
    "duration": 11,
    "start_time": "2023-09-04T19:17:27.789Z"
   },
   {
    "duration": 11,
    "start_time": "2023-09-04T19:23:23.364Z"
   },
   {
    "duration": 14,
    "start_time": "2023-09-04T19:24:50.084Z"
   },
   {
    "duration": 26,
    "start_time": "2023-09-04T19:25:16.670Z"
   },
   {
    "duration": 4,
    "start_time": "2023-09-04T19:25:24.724Z"
   },
   {
    "duration": 16,
    "start_time": "2023-09-04T19:26:38.769Z"
   },
   {
    "duration": 10,
    "start_time": "2023-09-04T19:53:56.586Z"
   },
   {
    "duration": 1125,
    "start_time": "2023-09-04T20:02:33.352Z"
   },
   {
    "duration": 216,
    "start_time": "2023-09-04T20:02:34.478Z"
   },
   {
    "duration": 30,
    "start_time": "2023-09-04T20:02:34.696Z"
   },
   {
    "duration": 187,
    "start_time": "2023-09-04T20:02:34.729Z"
   },
   {
    "duration": 0,
    "start_time": "2023-09-04T20:02:34.918Z"
   },
   {
    "duration": 0,
    "start_time": "2023-09-04T20:02:34.921Z"
   },
   {
    "duration": 0,
    "start_time": "2023-09-04T20:02:34.922Z"
   },
   {
    "duration": 0,
    "start_time": "2023-09-04T20:02:34.924Z"
   },
   {
    "duration": 0,
    "start_time": "2023-09-04T20:02:34.925Z"
   },
   {
    "duration": 0,
    "start_time": "2023-09-04T20:02:34.927Z"
   },
   {
    "duration": 0,
    "start_time": "2023-09-04T20:02:34.929Z"
   },
   {
    "duration": 0,
    "start_time": "2023-09-04T20:02:34.930Z"
   },
   {
    "duration": 0,
    "start_time": "2023-09-04T20:02:34.934Z"
   },
   {
    "duration": 0,
    "start_time": "2023-09-04T20:02:34.935Z"
   },
   {
    "duration": 0,
    "start_time": "2023-09-04T20:02:34.936Z"
   },
   {
    "duration": 0,
    "start_time": "2023-09-04T20:02:34.938Z"
   },
   {
    "duration": 0,
    "start_time": "2023-09-04T20:02:34.939Z"
   },
   {
    "duration": 0,
    "start_time": "2023-09-04T20:02:34.940Z"
   },
   {
    "duration": 0,
    "start_time": "2023-09-04T20:02:34.941Z"
   },
   {
    "duration": 0,
    "start_time": "2023-09-04T20:02:34.942Z"
   },
   {
    "duration": 0,
    "start_time": "2023-09-04T20:02:34.944Z"
   },
   {
    "duration": 0,
    "start_time": "2023-09-04T20:02:34.946Z"
   },
   {
    "duration": 0,
    "start_time": "2023-09-04T20:02:34.947Z"
   },
   {
    "duration": 0,
    "start_time": "2023-09-04T20:02:34.948Z"
   },
   {
    "duration": 0,
    "start_time": "2023-09-04T20:02:34.949Z"
   },
   {
    "duration": 0,
    "start_time": "2023-09-04T20:02:34.951Z"
   },
   {
    "duration": 0,
    "start_time": "2023-09-04T20:02:34.952Z"
   },
   {
    "duration": 0,
    "start_time": "2023-09-04T20:02:34.954Z"
   },
   {
    "duration": 0,
    "start_time": "2023-09-04T20:02:34.955Z"
   },
   {
    "duration": 0,
    "start_time": "2023-09-04T20:02:35.002Z"
   },
   {
    "duration": 0,
    "start_time": "2023-09-04T20:02:35.003Z"
   },
   {
    "duration": 0,
    "start_time": "2023-09-04T20:02:35.005Z"
   },
   {
    "duration": 0,
    "start_time": "2023-09-04T20:02:35.007Z"
   },
   {
    "duration": 0,
    "start_time": "2023-09-04T20:02:35.008Z"
   },
   {
    "duration": 0,
    "start_time": "2023-09-04T20:02:35.012Z"
   },
   {
    "duration": 0,
    "start_time": "2023-09-04T20:02:35.013Z"
   },
   {
    "duration": 0,
    "start_time": "2023-09-04T20:02:35.014Z"
   },
   {
    "duration": 0,
    "start_time": "2023-09-04T20:02:35.016Z"
   },
   {
    "duration": 0,
    "start_time": "2023-09-04T20:02:35.017Z"
   },
   {
    "duration": 0,
    "start_time": "2023-09-04T20:02:35.018Z"
   },
   {
    "duration": 1122,
    "start_time": "2023-09-04T20:03:20.678Z"
   },
   {
    "duration": 173,
    "start_time": "2023-09-04T20:03:21.803Z"
   },
   {
    "duration": 21,
    "start_time": "2023-09-04T20:03:21.978Z"
   },
   {
    "duration": 16,
    "start_time": "2023-09-04T20:03:22.001Z"
   },
   {
    "duration": 18,
    "start_time": "2023-09-04T20:03:22.019Z"
   },
   {
    "duration": 5,
    "start_time": "2023-09-04T20:03:22.038Z"
   },
   {
    "duration": 29,
    "start_time": "2023-09-04T20:03:22.044Z"
   },
   {
    "duration": 11,
    "start_time": "2023-09-04T20:03:22.074Z"
   },
   {
    "duration": 16,
    "start_time": "2023-09-04T20:03:22.087Z"
   },
   {
    "duration": 16,
    "start_time": "2023-09-04T20:03:22.105Z"
   },
   {
    "duration": 3,
    "start_time": "2023-09-04T20:03:22.122Z"
   },
   {
    "duration": 6,
    "start_time": "2023-09-04T20:03:22.127Z"
   },
   {
    "duration": 18,
    "start_time": "2023-09-04T20:03:22.135Z"
   },
   {
    "duration": 23,
    "start_time": "2023-09-04T20:03:22.155Z"
   },
   {
    "duration": 11,
    "start_time": "2023-09-04T20:03:22.180Z"
   },
   {
    "duration": 18,
    "start_time": "2023-09-04T20:03:22.193Z"
   },
   {
    "duration": 11,
    "start_time": "2023-09-04T20:03:22.213Z"
   },
   {
    "duration": 8,
    "start_time": "2023-09-04T20:03:22.226Z"
   },
   {
    "duration": 13,
    "start_time": "2023-09-04T20:03:22.236Z"
   },
   {
    "duration": 15,
    "start_time": "2023-09-04T20:03:22.251Z"
   },
   {
    "duration": 251,
    "start_time": "2023-09-04T20:03:22.268Z"
   },
   {
    "duration": 10,
    "start_time": "2023-09-04T20:03:22.520Z"
   },
   {
    "duration": 483,
    "start_time": "2023-09-04T20:03:22.531Z"
   },
   {
    "duration": 417,
    "start_time": "2023-09-04T20:03:23.016Z"
   },
   {
    "duration": 511,
    "start_time": "2023-09-04T20:03:23.435Z"
   },
   {
    "duration": 12,
    "start_time": "2023-09-04T20:03:24.000Z"
   },
   {
    "duration": 436,
    "start_time": "2023-09-04T20:03:24.014Z"
   },
   {
    "duration": 411,
    "start_time": "2023-09-04T20:03:24.504Z"
   },
   {
    "duration": 160,
    "start_time": "2023-09-04T20:03:24.916Z"
   },
   {
    "duration": 4,
    "start_time": "2023-09-04T20:03:25.078Z"
   },
   {
    "duration": 185,
    "start_time": "2023-09-04T20:03:25.084Z"
   },
   {
    "duration": 4,
    "start_time": "2023-09-04T20:03:25.271Z"
   },
   {
    "duration": 201,
    "start_time": "2023-09-04T20:03:25.276Z"
   },
   {
    "duration": 36,
    "start_time": "2023-09-04T20:03:25.478Z"
   },
   {
    "duration": 12,
    "start_time": "2023-09-04T20:03:25.516Z"
   },
   {
    "duration": 9,
    "start_time": "2023-09-04T20:03:25.530Z"
   },
   {
    "duration": 33,
    "start_time": "2023-09-04T20:03:25.541Z"
   },
   {
    "duration": 58,
    "start_time": "2023-09-04T20:03:25.575Z"
   },
   {
    "duration": 16,
    "start_time": "2023-09-04T20:03:25.635Z"
   },
   {
    "duration": 14,
    "start_time": "2023-09-04T20:04:12.226Z"
   },
   {
    "duration": 12,
    "start_time": "2023-09-04T20:04:21.483Z"
   },
   {
    "duration": 350,
    "start_time": "2023-09-04T20:22:22.579Z"
   },
   {
    "duration": 343,
    "start_time": "2023-09-04T20:24:27.665Z"
   },
   {
    "duration": 1065,
    "start_time": "2023-09-04T20:38:10.910Z"
   },
   {
    "duration": 173,
    "start_time": "2023-09-04T20:38:11.977Z"
   },
   {
    "duration": 19,
    "start_time": "2023-09-04T20:38:12.152Z"
   },
   {
    "duration": 33,
    "start_time": "2023-09-04T20:38:12.173Z"
   },
   {
    "duration": 16,
    "start_time": "2023-09-04T20:38:12.208Z"
   },
   {
    "duration": 5,
    "start_time": "2023-09-04T20:38:12.226Z"
   },
   {
    "duration": 13,
    "start_time": "2023-09-04T20:38:12.233Z"
   },
   {
    "duration": 16,
    "start_time": "2023-09-04T20:38:12.247Z"
   },
   {
    "duration": 19,
    "start_time": "2023-09-04T20:38:12.265Z"
   },
   {
    "duration": 25,
    "start_time": "2023-09-04T20:38:12.301Z"
   },
   {
    "duration": 6,
    "start_time": "2023-09-04T20:38:12.328Z"
   },
   {
    "duration": 21,
    "start_time": "2023-09-04T20:38:12.336Z"
   },
   {
    "duration": 16,
    "start_time": "2023-09-04T20:38:12.359Z"
   },
   {
    "duration": 11,
    "start_time": "2023-09-04T20:38:12.377Z"
   },
   {
    "duration": 11,
    "start_time": "2023-09-04T20:38:12.390Z"
   },
   {
    "duration": 12,
    "start_time": "2023-09-04T20:38:12.402Z"
   },
   {
    "duration": 11,
    "start_time": "2023-09-04T20:38:12.416Z"
   },
   {
    "duration": 5,
    "start_time": "2023-09-04T20:38:12.428Z"
   },
   {
    "duration": 21,
    "start_time": "2023-09-04T20:38:12.434Z"
   },
   {
    "duration": 22,
    "start_time": "2023-09-04T20:38:12.456Z"
   },
   {
    "duration": 229,
    "start_time": "2023-09-04T20:38:12.501Z"
   },
   {
    "duration": 10,
    "start_time": "2023-09-04T20:38:12.732Z"
   },
   {
    "duration": 328,
    "start_time": "2023-09-04T20:38:12.744Z"
   },
   {
    "duration": 228,
    "start_time": "2023-09-04T20:38:13.073Z"
   },
   {
    "duration": 345,
    "start_time": "2023-09-04T20:38:13.303Z"
   },
   {
    "duration": 12,
    "start_time": "2023-09-04T20:38:13.649Z"
   },
   {
    "duration": 275,
    "start_time": "2023-09-04T20:38:13.663Z"
   },
   {
    "duration": 332,
    "start_time": "2023-09-04T20:38:13.942Z"
   },
   {
    "duration": 167,
    "start_time": "2023-09-04T20:38:14.276Z"
   },
   {
    "duration": 4,
    "start_time": "2023-09-04T20:38:14.445Z"
   },
   {
    "duration": 201,
    "start_time": "2023-09-04T20:38:14.451Z"
   },
   {
    "duration": 6,
    "start_time": "2023-09-04T20:38:14.655Z"
   },
   {
    "duration": 213,
    "start_time": "2023-09-04T20:38:14.663Z"
   },
   {
    "duration": 36,
    "start_time": "2023-09-04T20:38:14.878Z"
   },
   {
    "duration": 14,
    "start_time": "2023-09-04T20:38:14.916Z"
   },
   {
    "duration": 11,
    "start_time": "2023-09-04T20:38:14.932Z"
   },
   {
    "duration": 9,
    "start_time": "2023-09-04T20:38:14.945Z"
   },
   {
    "duration": 59,
    "start_time": "2023-09-04T20:38:14.956Z"
   },
   {
    "duration": 16,
    "start_time": "2023-09-04T20:38:15.018Z"
   }
  ],
  "kernelspec": {
   "display_name": "Python 3 (ipykernel)",
   "language": "python",
   "name": "python3"
  },
  "language_info": {
   "codemirror_mode": {
    "name": "ipython",
    "version": 3
   },
   "file_extension": ".py",
   "mimetype": "text/x-python",
   "name": "python",
   "nbconvert_exporter": "python",
   "pygments_lexer": "ipython3",
   "version": "3.9.13"
  },
  "toc": {
   "base_numbering": 1,
   "nav_menu": {},
   "number_sections": true,
   "sideBar": true,
   "skip_h1_title": true,
   "title_cell": "Table of Contents",
   "title_sidebar": "Contents",
   "toc_cell": false,
   "toc_position": {
    "height": "calc(100% - 180px)",
    "left": "10px",
    "top": "150px",
    "width": "371px"
   },
   "toc_section_display": true,
   "toc_window_display": false
  }
 },
 "nbformat": 4,
 "nbformat_minor": 2
}
