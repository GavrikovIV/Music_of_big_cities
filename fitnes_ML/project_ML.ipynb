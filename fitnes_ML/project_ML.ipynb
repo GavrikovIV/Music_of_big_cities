{
 "cells": [
  {
   "cell_type": "markdown",
   "metadata": {},
   "source": [
    "# Описание\n",
    "**Сеть фитнес-центров «Культурист-датасаентист» разрабатывает стратегию взаимодействия с клиентами на основе аналитических данных.**<br>\n",
    "<br>\n",
    "Распространённая проблема фитнес-клубов и других сервисов — отток клиентов. <br>\n",
    "Как понять, что клиент больше не с вами? Можно записать в отток тех, кто попросил закрыть договор или удалил аккаунт. Однако клиенты не всегда уходят демонстративно: чаще перестают пользоваться сервисом тихо. <br>\n",
    "<br>\n",
    "Индикаторы оттока зависят от специфики отрасли. Когда пользователь редко, но стабильно закупается в интернет-магазине — не похоже, что он «отвалился». А вот если две недели не заходит на канал с ежедневно обновляемым контентом, дела плохи: подписчик заскучал и, кажется, оставил вас. <br>\n",
    "<br>\n",
    "Для фитнес-центра можно считать, что клиент попал в отток, если за последний месяц ни разу не посетил спортзал. Конечно, не исключено, что он уехал на Бали и по приезде обязательно продолжит ходить на фитнес. Однако чаще бывает наоборот. Если клиент начал новую жизнь с понедельника, немного походил в спортзал, а потом пропал — скорее всего, он не вернётся.<br>\n",
    "<br>\n",
    "Чтобы бороться с оттоком, отдел по работе с клиентами «Культуриста-датасаентиста» перевёл в электронный вид множество клиентских анкет. <br>\n",
    "\n",
    "# Задача\n",
    "Провести анализ и подготовить план действий по удержанию клиентов.<br>\n",
    "\n",
    "- научиться прогнозировать вероятность оттока (на уровне следующего месяца) для каждого клиента;\n",
    "- сформировать типичные портреты клиентов: выделить несколько наиболее ярких групп и охарактеризовать их основные свойства;\n",
    "- проанализировать основные признаки, наиболее сильно влияющие на отток;\n",
    "- сформулировать основные выводы и разработать рекомендации по повышению качества работы с клиентами:\n",
    "    1) выделить целевые группы клиентов;<br>\n",
    "    2) предложить меры по снижению оттока;<br>\n",
    "    3) определить другие особенности взаимодействия с клиентами."
   ]
  },
  {
   "cell_type": "code",
   "execution_count": 1,
   "metadata": {},
   "outputs": [],
   "source": [
    "# Загрузим необходимые библиотеки и параметры вывода\n",
    "import pandas as pd\n",
    "import numpy as np\n",
    "import seaborn as sns\n",
    "from matplotlib import pyplot as plt\n",
    "\n",
    "from sklearn.ensemble import RandomForestClassifier, GradientBoostingRegressor\n",
    "from sklearn.preprocessing import StandardScaler\n",
    "from sklearn.model_selection import train_test_split\n",
    "from sklearn.linear_model import LogisticRegression\n",
    "from sklearn.tree import DecisionTreeClassifier\n",
    "from sklearn.metrics import accuracy_score, precision_score, recall_score\n",
    "from scipy.cluster.hierarchy import dendrogram, linkage \n",
    "from sklearn.cluster import KMeans\n",
    "from itertools import combinations\n",
    "from sklearn.metrics import silhouette_score\n",
    "\n",
    "\n",
    "pd.set_option('display.max_rows', None) # выводим все значения\n",
    "pd.options.display.max_colwidth = 100 # максимальное число выводимых семволов в строке - 100"
   ]
  },
  {
   "cell_type": "markdown",
   "metadata": {},
   "source": [
    "from sklearn.preprocessing import StandardScaler\n",
    "from sklearn.model_selection import train_test_split\n",
    "from sklearn.linear_model import Lasso, Ridge\n",
    "from sklearn.tree import DecisionTreeRegressor\n",
    "from sklearn.ensemble import RandomForestRegressor, GradientBoostingRegressor\n",
    "import matplotlib.pyplot as plt\n",
    "from sklearn.metrics import mean_absolute_error, mean_squared_error, r2_score"
   ]
  },
  {
   "cell_type": "markdown",
   "metadata": {},
   "source": [
    "## Шаг: Загрузка данных"
   ]
  },
  {
   "cell_type": "code",
   "execution_count": 2,
   "metadata": {},
   "outputs": [],
   "source": [
    "try:\n",
    "    data = pd.read_csv(r'D:\\datastorage\\ML\\gym_churn.csv')\n",
    "except:\n",
    "    data = pd.read_csv('/datasets/gym_churn.csv')"
   ]
  },
  {
   "cell_type": "markdown",
   "metadata": {},
   "source": [
    "### Описание данных"
   ]
  },
  {
   "cell_type": "code",
   "execution_count": 3,
   "metadata": {},
   "outputs": [
    {
     "data": {
      "text/html": [
       "<div>\n",
       "<style scoped>\n",
       "    .dataframe tbody tr th:only-of-type {\n",
       "        vertical-align: middle;\n",
       "    }\n",
       "\n",
       "    .dataframe tbody tr th {\n",
       "        vertical-align: top;\n",
       "    }\n",
       "\n",
       "    .dataframe thead th {\n",
       "        text-align: right;\n",
       "    }\n",
       "</style>\n",
       "<table border=\"1\" class=\"dataframe\">\n",
       "  <thead>\n",
       "    <tr style=\"text-align: right;\">\n",
       "      <th></th>\n",
       "      <th>gender</th>\n",
       "      <th>Near_Location</th>\n",
       "      <th>Partner</th>\n",
       "      <th>Promo_friends</th>\n",
       "      <th>Phone</th>\n",
       "      <th>Contract_period</th>\n",
       "      <th>Group_visits</th>\n",
       "      <th>Age</th>\n",
       "      <th>Avg_additional_charges_total</th>\n",
       "      <th>Month_to_end_contract</th>\n",
       "      <th>Lifetime</th>\n",
       "      <th>Avg_class_frequency_total</th>\n",
       "      <th>Avg_class_frequency_current_month</th>\n",
       "      <th>Churn</th>\n",
       "    </tr>\n",
       "  </thead>\n",
       "  <tbody>\n",
       "    <tr>\n",
       "      <th>3097</th>\n",
       "      <td>0</td>\n",
       "      <td>0</td>\n",
       "      <td>1</td>\n",
       "      <td>0</td>\n",
       "      <td>1</td>\n",
       "      <td>1</td>\n",
       "      <td>1</td>\n",
       "      <td>34</td>\n",
       "      <td>304.795029</td>\n",
       "      <td>1.0</td>\n",
       "      <td>3</td>\n",
       "      <td>2.749003</td>\n",
       "      <td>2.765648</td>\n",
       "      <td>0</td>\n",
       "    </tr>\n",
       "    <tr>\n",
       "      <th>124</th>\n",
       "      <td>1</td>\n",
       "      <td>0</td>\n",
       "      <td>1</td>\n",
       "      <td>0</td>\n",
       "      <td>1</td>\n",
       "      <td>1</td>\n",
       "      <td>1</td>\n",
       "      <td>28</td>\n",
       "      <td>162.554565</td>\n",
       "      <td>1.0</td>\n",
       "      <td>1</td>\n",
       "      <td>1.110288</td>\n",
       "      <td>1.174486</td>\n",
       "      <td>0</td>\n",
       "    </tr>\n",
       "    <tr>\n",
       "      <th>412</th>\n",
       "      <td>0</td>\n",
       "      <td>1</td>\n",
       "      <td>0</td>\n",
       "      <td>0</td>\n",
       "      <td>1</td>\n",
       "      <td>12</td>\n",
       "      <td>1</td>\n",
       "      <td>30</td>\n",
       "      <td>195.432620</td>\n",
       "      <td>12.0</td>\n",
       "      <td>5</td>\n",
       "      <td>2.659123</td>\n",
       "      <td>2.680403</td>\n",
       "      <td>0</td>\n",
       "    </tr>\n",
       "    <tr>\n",
       "      <th>277</th>\n",
       "      <td>0</td>\n",
       "      <td>1</td>\n",
       "      <td>1</td>\n",
       "      <td>1</td>\n",
       "      <td>1</td>\n",
       "      <td>12</td>\n",
       "      <td>1</td>\n",
       "      <td>35</td>\n",
       "      <td>302.878535</td>\n",
       "      <td>9.0</td>\n",
       "      <td>4</td>\n",
       "      <td>4.661961</td>\n",
       "      <td>4.733059</td>\n",
       "      <td>0</td>\n",
       "    </tr>\n",
       "    <tr>\n",
       "      <th>1572</th>\n",
       "      <td>0</td>\n",
       "      <td>1</td>\n",
       "      <td>0</td>\n",
       "      <td>0</td>\n",
       "      <td>0</td>\n",
       "      <td>12</td>\n",
       "      <td>0</td>\n",
       "      <td>30</td>\n",
       "      <td>149.018408</td>\n",
       "      <td>11.0</td>\n",
       "      <td>1</td>\n",
       "      <td>1.470719</td>\n",
       "      <td>1.621102</td>\n",
       "      <td>0</td>\n",
       "    </tr>\n",
       "  </tbody>\n",
       "</table>\n",
       "</div>"
      ],
      "text/plain": [
       "      gender  Near_Location  Partner  Promo_friends  Phone  Contract_period  \\\n",
       "3097       0              0        1              0      1                1   \n",
       "124        1              0        1              0      1                1   \n",
       "412        0              1        0              0      1               12   \n",
       "277        0              1        1              1      1               12   \n",
       "1572       0              1        0              0      0               12   \n",
       "\n",
       "      Group_visits  Age  Avg_additional_charges_total  Month_to_end_contract  \\\n",
       "3097             1   34                    304.795029                    1.0   \n",
       "124              1   28                    162.554565                    1.0   \n",
       "412              1   30                    195.432620                   12.0   \n",
       "277              1   35                    302.878535                    9.0   \n",
       "1572             0   30                    149.018408                   11.0   \n",
       "\n",
       "      Lifetime  Avg_class_frequency_total  Avg_class_frequency_current_month  \\\n",
       "3097         3                   2.749003                           2.765648   \n",
       "124          1                   1.110288                           1.174486   \n",
       "412          5                   2.659123                           2.680403   \n",
       "277          4                   4.661961                           4.733059   \n",
       "1572         1                   1.470719                           1.621102   \n",
       "\n",
       "      Churn  \n",
       "3097      0  \n",
       "124       0  \n",
       "412       0  \n",
       "277       0  \n",
       "1572      0  "
      ]
     },
     "metadata": {},
     "output_type": "display_data"
    },
    {
     "name": "stdout",
     "output_type": "stream",
     "text": [
      "<class 'pandas.core.frame.DataFrame'>\n",
      "RangeIndex: 4000 entries, 0 to 3999\n",
      "Data columns (total 14 columns):\n",
      " #   Column                             Non-Null Count  Dtype  \n",
      "---  ------                             --------------  -----  \n",
      " 0   gender                             4000 non-null   int64  \n",
      " 1   Near_Location                      4000 non-null   int64  \n",
      " 2   Partner                            4000 non-null   int64  \n",
      " 3   Promo_friends                      4000 non-null   int64  \n",
      " 4   Phone                              4000 non-null   int64  \n",
      " 5   Contract_period                    4000 non-null   int64  \n",
      " 6   Group_visits                       4000 non-null   int64  \n",
      " 7   Age                                4000 non-null   int64  \n",
      " 8   Avg_additional_charges_total       4000 non-null   float64\n",
      " 9   Month_to_end_contract              4000 non-null   float64\n",
      " 10  Lifetime                           4000 non-null   int64  \n",
      " 11  Avg_class_frequency_total          4000 non-null   float64\n",
      " 12  Avg_class_frequency_current_month  4000 non-null   float64\n",
      " 13  Churn                              4000 non-null   int64  \n",
      "dtypes: float64(4), int64(10)\n",
      "memory usage: 437.6 KB\n"
     ]
    }
   ],
   "source": [
    "display(data.sample(5))\n",
    "data.info()"
   ]
  },
  {
   "cell_type": "markdown",
   "metadata": {},
   "source": [
    "**Данные клиента за предыдущий до проверки факта оттока месяц:**<br>\n",
    "`gender` — пол;<br>\n",
    "`Near_Location` — проживание или работа в районе, где находится фитнес-центр;<br>\n",
    "`Partner` — сотрудник компании-партнёра клуба (сотрудничество с компаниями, чьи сотрудники могут получать скидки на абонемент —  в таком случае фитнес-центр хранит информацию о работодателе клиента);<br>\n",
    "`Promo_friends` — факт первоначальной записи в рамках акции «приведи друга» (использовал промо-код от знакомого при оплате первого абонемента);<br>\n",
    "`Phone` — наличие контактного телефона;<br>\n",
    "`Age` — возраст;<br>\n",
    "`Lifetime` — время с момента первого обращения в фитнес-центр (в месяцах).<br>\n",
    "\n",
    "**Информация на основе журнала посещений, покупок и информация о текущем статусе абонемента клиента:**<br>\n",
    "`Contract_period` — длительность текущего действующего абонемента (месяц, 6 месяцев, год);<br>\n",
    "`Month_to_end_contract` — срок до окончания текущего действующего абонемента (в месяцах);<br>\n",
    "`Group_visits` — факт посещения групповых занятий;<br>\n",
    "`Avg_class_frequency_total` — средняя частота посещений в неделю за все время с начала действия абонемента;<br>\n",
    "`Avg_class_frequency_current_month` — средняя частота посещений в неделю за предыдущий месяц;<br>\n",
    "`Avg_additional_charges_total` — суммарная выручка от других услуг фитнес-центра: кафе, спорттовары, косметический и массажный салон;<br>\n",
    "`Churn` — факт оттока в текущем месяце.<br>"
   ]
  },
  {
   "cell_type": "code",
   "execution_count": 4,
   "metadata": {},
   "outputs": [
    {
     "name": "stdout",
     "output_type": "stream",
     "text": [
      "Число клиентов купивших абонемент на 1 месяц: 2207\n",
      "Число клиентов купивших абонемент на 6 месяцев: 833\n",
      "Число клиентов купивших абонемент на год: 960\n",
      "Число всего мужчин 2041\n",
      "Число всего женщин 1959\n",
      "Число оставшихся клиентов 2939\n",
      "Число оставшихся женщин 1440\n",
      "Число покинувшых клиентов 1061\n",
      "Число покинувшых женщин 519\n"
     ]
    }
   ],
   "source": [
    "print('Число клиентов купивших абонемент на 1 месяц:', data['Contract_period'][data['Contract_period'] == 1].count())\n",
    "print('Число клиентов купивших абонемент на 6 месяцев:', data['Contract_period'][data['Contract_period'] == 6].count())\n",
    "print('Число клиентов купивших абонемент на год:', data['Contract_period'][data['Contract_period'] == 12].count())\n",
    "print('Число всего мужчин', data['gender'][data['gender'] == 1].count())\n",
    "print('Число всего женщин', data['gender'][data['gender'] == 0].count())\n",
    "print('Число оставшихся клиентов', data['Churn'][data['Churn'] == 0].count())\n",
    "print('Число оставшихся женщин', data['gender'][(data['Churn'] == 0) & (data['gender'] == 0)].count())\n",
    "print('Число покинувшых клиентов', data['Churn'][data['Churn'] == 1].count())\n",
    "print('Число покинувшых женщин', data['gender'][(data['Churn'] == 1) & (data['gender'] == 0)].count())"
   ]
  },
  {
   "cell_type": "markdown",
   "metadata": {},
   "source": [
    "По данным клиентов в общем женщин меньше мужчин всего на 4%. Всего покинуло клиентов 26,5% из них 12,98% женщин и 13.52% мужчин."
   ]
  },
  {
   "cell_type": "markdown",
   "metadata": {},
   "source": [
    "## Предобработка данных\n",
    "  \n",
    "### Стиль записи\n",
    "Первым делом приведем название столбцов к нижнему регистру."
   ]
  },
  {
   "cell_type": "code",
   "execution_count": 5,
   "metadata": {},
   "outputs": [],
   "source": [
    "data.columns = map(str.lower, data.columns)"
   ]
  },
  {
   "cell_type": "code",
   "execution_count": 6,
   "metadata": {},
   "outputs": [
    {
     "data": {
      "text/plain": [
       "['gender',\n",
       " 'near_location',\n",
       " 'partner',\n",
       " 'promo_friends',\n",
       " 'phone',\n",
       " 'contract_period',\n",
       " 'group_visits',\n",
       " 'age',\n",
       " 'avg_additional_charges_total',\n",
       " 'month_to_end_contract',\n",
       " 'lifetime',\n",
       " 'avg_class_frequency_total',\n",
       " 'avg_class_frequency_current_month',\n",
       " 'churn']"
      ]
     },
     "execution_count": 6,
     "metadata": {},
     "output_type": "execute_result"
    }
   ],
   "source": [
    "data.columns.tolist()"
   ]
  },
  {
   "cell_type": "markdown",
   "metadata": {},
   "source": [
    "Срок до окончания текущего действующего абонемента (в месяцах) не может быть дробным числом.\n",
    "Преобразуем тип колонки \"Месяц\" в int"
   ]
  },
  {
   "cell_type": "code",
   "execution_count": 7,
   "metadata": {},
   "outputs": [
    {
     "data": {
      "text/plain": [
       "array([ 5., 12.,  1.,  6.,  3., 10., 11.,  9.,  4.,  7.,  8.,  2.])"
      ]
     },
     "execution_count": 7,
     "metadata": {},
     "output_type": "execute_result"
    }
   ],
   "source": [
    "data['month_to_end_contract'].unique()"
   ]
  },
  {
   "cell_type": "code",
   "execution_count": 8,
   "metadata": {},
   "outputs": [
    {
     "data": {
      "text/plain": [
       "dtype('int64')"
      ]
     },
     "execution_count": 8,
     "metadata": {},
     "output_type": "execute_result"
    }
   ],
   "source": [
    "data['month_to_end_contract']=data['month_to_end_contract'].astype('int')\n",
    "data['month_to_end_contract'].dtype"
   ]
  },
  {
   "cell_type": "markdown",
   "metadata": {},
   "source": [
    "Столбцы, имеющие только значения 0 / 1, целесообразно привести у типу данных boolean."
   ]
  },
  {
   "cell_type": "markdown",
   "metadata": {},
   "source": [
    "### Пропуски"
   ]
  },
  {
   "cell_type": "code",
   "execution_count": 9,
   "metadata": {},
   "outputs": [
    {
     "data": {
      "text/plain": [
       "gender                               0\n",
       "near_location                        0\n",
       "partner                              0\n",
       "promo_friends                        0\n",
       "phone                                0\n",
       "contract_period                      0\n",
       "group_visits                         0\n",
       "age                                  0\n",
       "avg_additional_charges_total         0\n",
       "month_to_end_contract                0\n",
       "lifetime                             0\n",
       "avg_class_frequency_total            0\n",
       "avg_class_frequency_current_month    0\n",
       "churn                                0\n",
       "dtype: int64"
      ]
     },
     "metadata": {},
     "output_type": "display_data"
    }
   ],
   "source": [
    "display(data.isnull().sum())"
   ]
  },
  {
   "cell_type": "markdown",
   "metadata": {},
   "source": [
    "Пропусков нет.\n",
    "### Дубликаты "
   ]
  },
  {
   "cell_type": "code",
   "execution_count": 10,
   "metadata": {},
   "outputs": [
    {
     "data": {
      "text/plain": [
       "0"
      ]
     },
     "execution_count": 10,
     "metadata": {},
     "output_type": "execute_result"
    }
   ],
   "source": [
    "data.duplicated().sum()"
   ]
  },
  {
   "cell_type": "markdown",
   "metadata": {},
   "source": [
    "Явных дубликатов не обнаружено.<br>"
   ]
  },
  {
   "cell_type": "markdown",
   "metadata": {},
   "source": [
    "## Исследовательский анализ данных (EDA)"
   ]
  },
  {
   "cell_type": "markdown",
   "metadata": {},
   "source": [
    "### Cредние значения и стандартные отклонения."
   ]
  },
  {
   "cell_type": "code",
   "execution_count": 11,
   "metadata": {},
   "outputs": [
    {
     "data": {
      "text/html": [
       "<div>\n",
       "<style scoped>\n",
       "    .dataframe tbody tr th:only-of-type {\n",
       "        vertical-align: middle;\n",
       "    }\n",
       "\n",
       "    .dataframe tbody tr th {\n",
       "        vertical-align: top;\n",
       "    }\n",
       "\n",
       "    .dataframe thead th {\n",
       "        text-align: right;\n",
       "    }\n",
       "</style>\n",
       "<table border=\"1\" class=\"dataframe\">\n",
       "  <thead>\n",
       "    <tr style=\"text-align: right;\">\n",
       "      <th></th>\n",
       "      <th>count</th>\n",
       "      <th>mean</th>\n",
       "      <th>std</th>\n",
       "      <th>min</th>\n",
       "      <th>25%</th>\n",
       "      <th>50%</th>\n",
       "      <th>75%</th>\n",
       "      <th>max</th>\n",
       "    </tr>\n",
       "  </thead>\n",
       "  <tbody>\n",
       "    <tr>\n",
       "      <th>gender</th>\n",
       "      <td>4000.0</td>\n",
       "      <td>0.51</td>\n",
       "      <td>0.50</td>\n",
       "      <td>0.00</td>\n",
       "      <td>0.00</td>\n",
       "      <td>1.00</td>\n",
       "      <td>1.00</td>\n",
       "      <td>1.00</td>\n",
       "    </tr>\n",
       "    <tr>\n",
       "      <th>near_location</th>\n",
       "      <td>4000.0</td>\n",
       "      <td>0.85</td>\n",
       "      <td>0.36</td>\n",
       "      <td>0.00</td>\n",
       "      <td>1.00</td>\n",
       "      <td>1.00</td>\n",
       "      <td>1.00</td>\n",
       "      <td>1.00</td>\n",
       "    </tr>\n",
       "    <tr>\n",
       "      <th>partner</th>\n",
       "      <td>4000.0</td>\n",
       "      <td>0.49</td>\n",
       "      <td>0.50</td>\n",
       "      <td>0.00</td>\n",
       "      <td>0.00</td>\n",
       "      <td>0.00</td>\n",
       "      <td>1.00</td>\n",
       "      <td>1.00</td>\n",
       "    </tr>\n",
       "    <tr>\n",
       "      <th>promo_friends</th>\n",
       "      <td>4000.0</td>\n",
       "      <td>0.31</td>\n",
       "      <td>0.46</td>\n",
       "      <td>0.00</td>\n",
       "      <td>0.00</td>\n",
       "      <td>0.00</td>\n",
       "      <td>1.00</td>\n",
       "      <td>1.00</td>\n",
       "    </tr>\n",
       "    <tr>\n",
       "      <th>phone</th>\n",
       "      <td>4000.0</td>\n",
       "      <td>0.90</td>\n",
       "      <td>0.30</td>\n",
       "      <td>0.00</td>\n",
       "      <td>1.00</td>\n",
       "      <td>1.00</td>\n",
       "      <td>1.00</td>\n",
       "      <td>1.00</td>\n",
       "    </tr>\n",
       "    <tr>\n",
       "      <th>contract_period</th>\n",
       "      <td>4000.0</td>\n",
       "      <td>4.68</td>\n",
       "      <td>4.55</td>\n",
       "      <td>1.00</td>\n",
       "      <td>1.00</td>\n",
       "      <td>1.00</td>\n",
       "      <td>6.00</td>\n",
       "      <td>12.00</td>\n",
       "    </tr>\n",
       "    <tr>\n",
       "      <th>group_visits</th>\n",
       "      <td>4000.0</td>\n",
       "      <td>0.41</td>\n",
       "      <td>0.49</td>\n",
       "      <td>0.00</td>\n",
       "      <td>0.00</td>\n",
       "      <td>0.00</td>\n",
       "      <td>1.00</td>\n",
       "      <td>1.00</td>\n",
       "    </tr>\n",
       "    <tr>\n",
       "      <th>age</th>\n",
       "      <td>4000.0</td>\n",
       "      <td>29.18</td>\n",
       "      <td>3.26</td>\n",
       "      <td>18.00</td>\n",
       "      <td>27.00</td>\n",
       "      <td>29.00</td>\n",
       "      <td>31.00</td>\n",
       "      <td>41.00</td>\n",
       "    </tr>\n",
       "    <tr>\n",
       "      <th>avg_additional_charges_total</th>\n",
       "      <td>4000.0</td>\n",
       "      <td>146.94</td>\n",
       "      <td>96.36</td>\n",
       "      <td>0.15</td>\n",
       "      <td>68.87</td>\n",
       "      <td>136.22</td>\n",
       "      <td>210.95</td>\n",
       "      <td>552.59</td>\n",
       "    </tr>\n",
       "    <tr>\n",
       "      <th>month_to_end_contract</th>\n",
       "      <td>4000.0</td>\n",
       "      <td>4.32</td>\n",
       "      <td>4.19</td>\n",
       "      <td>1.00</td>\n",
       "      <td>1.00</td>\n",
       "      <td>1.00</td>\n",
       "      <td>6.00</td>\n",
       "      <td>12.00</td>\n",
       "    </tr>\n",
       "    <tr>\n",
       "      <th>lifetime</th>\n",
       "      <td>4000.0</td>\n",
       "      <td>3.72</td>\n",
       "      <td>3.75</td>\n",
       "      <td>0.00</td>\n",
       "      <td>1.00</td>\n",
       "      <td>3.00</td>\n",
       "      <td>5.00</td>\n",
       "      <td>31.00</td>\n",
       "    </tr>\n",
       "    <tr>\n",
       "      <th>avg_class_frequency_total</th>\n",
       "      <td>4000.0</td>\n",
       "      <td>1.88</td>\n",
       "      <td>0.97</td>\n",
       "      <td>0.00</td>\n",
       "      <td>1.18</td>\n",
       "      <td>1.83</td>\n",
       "      <td>2.54</td>\n",
       "      <td>6.02</td>\n",
       "    </tr>\n",
       "    <tr>\n",
       "      <th>avg_class_frequency_current_month</th>\n",
       "      <td>4000.0</td>\n",
       "      <td>1.77</td>\n",
       "      <td>1.05</td>\n",
       "      <td>0.00</td>\n",
       "      <td>0.96</td>\n",
       "      <td>1.72</td>\n",
       "      <td>2.51</td>\n",
       "      <td>6.15</td>\n",
       "    </tr>\n",
       "    <tr>\n",
       "      <th>churn</th>\n",
       "      <td>4000.0</td>\n",
       "      <td>0.27</td>\n",
       "      <td>0.44</td>\n",
       "      <td>0.00</td>\n",
       "      <td>0.00</td>\n",
       "      <td>0.00</td>\n",
       "      <td>1.00</td>\n",
       "      <td>1.00</td>\n",
       "    </tr>\n",
       "  </tbody>\n",
       "</table>\n",
       "</div>"
      ],
      "text/plain": [
       "                                    count    mean    std    min    25%  \\\n",
       "gender                             4000.0    0.51   0.50   0.00   0.00   \n",
       "near_location                      4000.0    0.85   0.36   0.00   1.00   \n",
       "partner                            4000.0    0.49   0.50   0.00   0.00   \n",
       "promo_friends                      4000.0    0.31   0.46   0.00   0.00   \n",
       "phone                              4000.0    0.90   0.30   0.00   1.00   \n",
       "contract_period                    4000.0    4.68   4.55   1.00   1.00   \n",
       "group_visits                       4000.0    0.41   0.49   0.00   0.00   \n",
       "age                                4000.0   29.18   3.26  18.00  27.00   \n",
       "avg_additional_charges_total       4000.0  146.94  96.36   0.15  68.87   \n",
       "month_to_end_contract              4000.0    4.32   4.19   1.00   1.00   \n",
       "lifetime                           4000.0    3.72   3.75   0.00   1.00   \n",
       "avg_class_frequency_total          4000.0    1.88   0.97   0.00   1.18   \n",
       "avg_class_frequency_current_month  4000.0    1.77   1.05   0.00   0.96   \n",
       "churn                              4000.0    0.27   0.44   0.00   0.00   \n",
       "\n",
       "                                      50%     75%     max  \n",
       "gender                               1.00    1.00    1.00  \n",
       "near_location                        1.00    1.00    1.00  \n",
       "partner                              0.00    1.00    1.00  \n",
       "promo_friends                        0.00    1.00    1.00  \n",
       "phone                                1.00    1.00    1.00  \n",
       "contract_period                      1.00    6.00   12.00  \n",
       "group_visits                         0.00    1.00    1.00  \n",
       "age                                 29.00   31.00   41.00  \n",
       "avg_additional_charges_total       136.22  210.95  552.59  \n",
       "month_to_end_contract                1.00    6.00   12.00  \n",
       "lifetime                             3.00    5.00   31.00  \n",
       "avg_class_frequency_total            1.83    2.54    6.02  \n",
       "avg_class_frequency_current_month    1.72    2.51    6.15  \n",
       "churn                                0.00    1.00    1.00  "
      ]
     },
     "execution_count": 11,
     "metadata": {},
     "output_type": "execute_result"
    }
   ],
   "source": [
    "data.describe().T.round(2)"
   ]
  },
  {
   "cell_type": "markdown",
   "metadata": {},
   "source": [
    "В среднем клиентов мужчин и женщин поровну.<br>\n",
    "85% клиентов живут в районе фитнес-центра. <br>\n",
    "50% клиентов имеют скидку, как сотрудник компании-партнёра клуба. <br>\n",
    "Всего 31% клиентов в среднем пришли через другей.<br>\n",
    "90% клиентов оставляют номера телефонов.<br>\n",
    "В среднем длительность контракта составляет около 5 месяцев. <br>\n",
    "Групповые тренировки посещают 41% клиентов.<br>\n",
    "Средний возраст 29 лет. <br>\n",
    "Средняя частота посещения - 2 раза в неделю.<br>\n",
    "Средняя суммарная выручка от других услуг стоставляет 136,22, минимальная 0,15, максимальная 552,59.<br>\n",
    "Среднее время с момента первого обращения в фитнес-центр -3 месяца. Максимальное - 31 месяц.<br>\n",
    "Cредняя частота посещений в неделю за предыдущий месяц 1.72, Максимальная - 6,15, минимальная 0. <br>"
   ]
  },
  {
   "cell_type": "markdown",
   "metadata": {},
   "source": [
    "Рассмотрим среднюю по группе \"оттока клиентов\"."
   ]
  },
  {
   "cell_type": "code",
   "execution_count": 12,
   "metadata": {},
   "outputs": [
    {
     "data": {
      "text/html": [
       "<div>\n",
       "<style scoped>\n",
       "    .dataframe tbody tr th:only-of-type {\n",
       "        vertical-align: middle;\n",
       "    }\n",
       "\n",
       "    .dataframe tbody tr th {\n",
       "        vertical-align: top;\n",
       "    }\n",
       "\n",
       "    .dataframe thead th {\n",
       "        text-align: right;\n",
       "    }\n",
       "</style>\n",
       "<table border=\"1\" class=\"dataframe\">\n",
       "  <thead>\n",
       "    <tr style=\"text-align: right;\">\n",
       "      <th>churn</th>\n",
       "      <th>0</th>\n",
       "      <th>1</th>\n",
       "    </tr>\n",
       "  </thead>\n",
       "  <tbody>\n",
       "    <tr>\n",
       "      <th>gender</th>\n",
       "      <td>0.51</td>\n",
       "      <td>0.51</td>\n",
       "    </tr>\n",
       "    <tr>\n",
       "      <th>near_location</th>\n",
       "      <td>0.87</td>\n",
       "      <td>0.77</td>\n",
       "    </tr>\n",
       "    <tr>\n",
       "      <th>partner</th>\n",
       "      <td>0.53</td>\n",
       "      <td>0.36</td>\n",
       "    </tr>\n",
       "    <tr>\n",
       "      <th>promo_friends</th>\n",
       "      <td>0.35</td>\n",
       "      <td>0.18</td>\n",
       "    </tr>\n",
       "    <tr>\n",
       "      <th>phone</th>\n",
       "      <td>0.90</td>\n",
       "      <td>0.90</td>\n",
       "    </tr>\n",
       "    <tr>\n",
       "      <th>contract_period</th>\n",
       "      <td>5.75</td>\n",
       "      <td>1.73</td>\n",
       "    </tr>\n",
       "    <tr>\n",
       "      <th>group_visits</th>\n",
       "      <td>0.46</td>\n",
       "      <td>0.27</td>\n",
       "    </tr>\n",
       "    <tr>\n",
       "      <th>age</th>\n",
       "      <td>29.98</td>\n",
       "      <td>26.99</td>\n",
       "    </tr>\n",
       "    <tr>\n",
       "      <th>avg_additional_charges_total</th>\n",
       "      <td>158.45</td>\n",
       "      <td>115.08</td>\n",
       "    </tr>\n",
       "    <tr>\n",
       "      <th>month_to_end_contract</th>\n",
       "      <td>5.28</td>\n",
       "      <td>1.66</td>\n",
       "    </tr>\n",
       "    <tr>\n",
       "      <th>lifetime</th>\n",
       "      <td>4.71</td>\n",
       "      <td>0.99</td>\n",
       "    </tr>\n",
       "    <tr>\n",
       "      <th>avg_class_frequency_total</th>\n",
       "      <td>2.02</td>\n",
       "      <td>1.47</td>\n",
       "    </tr>\n",
       "    <tr>\n",
       "      <th>avg_class_frequency_current_month</th>\n",
       "      <td>2.03</td>\n",
       "      <td>1.04</td>\n",
       "    </tr>\n",
       "  </tbody>\n",
       "</table>\n",
       "</div>"
      ],
      "text/plain": [
       "churn                                   0       1\n",
       "gender                               0.51    0.51\n",
       "near_location                        0.87    0.77\n",
       "partner                              0.53    0.36\n",
       "promo_friends                        0.35    0.18\n",
       "phone                                0.90    0.90\n",
       "contract_period                      5.75    1.73\n",
       "group_visits                         0.46    0.27\n",
       "age                                 29.98   26.99\n",
       "avg_additional_charges_total       158.45  115.08\n",
       "month_to_end_contract                5.28    1.66\n",
       "lifetime                             4.71    0.99\n",
       "avg_class_frequency_total            2.02    1.47\n",
       "avg_class_frequency_current_month    2.03    1.04"
      ]
     },
     "execution_count": 12,
     "metadata": {},
     "output_type": "execute_result"
    }
   ],
   "source": [
    "round(data.groupby('churn').mean(), 2).T"
   ]
  },
  {
   "cell_type": "markdown",
   "metadata": {},
   "source": [
    "- Пол клиента не влияет на отток.\n",
    "- Клиенты проживающие в районе фитнес-центра охотнее остаются в клубе (оставшиеся 87,31%, ушедших - 76,81%);\n",
    "- Клиенты партнеров остаются в клубе (оставшихся 53,42%, ушедших 35,53%);\n",
    "- Клиенты пришедшие по акции приведи друга (35% оставшихся, ушедших 18%);\n",
    "- Номера телефонов не влияют на отток;\n",
    "- Ушедшие клиенты в среднем приобретали абонементы на меньший срок 1,73,а у оставшихся 5,75;\n",
    "- Клиенты посещавшие групповые занятия охотнее остаются в клубе (46% оставшихся 27% ушедших);\n",
    "- Возраст влияет на отток клиентов. (29,98 лет у оставшихся, 26,99 тел у ушедших);\n",
    "- Доп услугами пользовались охотнее клиенты оставшиеся в клубе (158,45 у оставшихся, 115,08 тел у ушедших);\n",
    "- Оставшиеся клиенты посещают клуб в неделю около 2 раз, у ушедших клиентов падает посещение с 1.47 за все время до 1 раза в неделю за последний месяц."
   ]
  },
  {
   "cell_type": "markdown",
   "metadata": {},
   "source": [
    "### Графики распределения признаков по группам"
   ]
  },
  {
   "cell_type": "code",
   "execution_count": 13,
   "metadata": {},
   "outputs": [],
   "source": [
    "import warnings\n",
    "warnings.filterwarnings(\"ignore\") # добавим игнорирование ошибок."
   ]
  },
  {
   "cell_type": "code",
   "execution_count": 14,
   "metadata": {
    "scrolled": false
   },
   "outputs": [
    {
     "data": {
      "image/png": "[encoded data removed]",
      "text/plain": [
       "<Figure size 1440x360 with 2 Axes>"
      ]
     },
     "metadata": {
      "needs_background": "light"
     },
     "output_type": "display_data"
    },
    {
     "data": {
      "image/png": "[encoded data removed]",
      "text/plain": [
       "<Figure size 1440x360 with 2 Axes>"
      ]
     },
     "metadata": {
      "needs_background": "light"
     },
     "output_type": "display_data"
    },
    {
     "data": {
      "image/png": "[encoded data removed]",
      "text/plain": [
       "<Figure size 1440x360 with 2 Axes>"
      ]
     },
     "metadata": {
      "needs_background": "light"
     },
     "output_type": "display_data"
    },
    {
     "data": {
      "image/png": "[encoded data removed]",
      "text/plain": [
       "<Figure size 1440x360 with 2 Axes>"
      ]
     },
     "metadata": {
      "needs_background": "light"
     },
     "output_type": "display_data"
    },
    {
     "data": {
      "image/png": "[encoded data removed]",
      "text/plain": [
       "<Figure size 1440x360 with 2 Axes>"
      ]
     },
     "metadata": {
      "needs_background": "light"
     },
     "output_type": "display_data"
    },
    {
     "data": {
      "image/png": "[encoded data removed]",
      "text/plain": [
       "<Figure size 1440x360 with 2 Axes>"
      ]
     },
     "metadata": {
      "needs_background": "light"
     },
     "output_type": "display_data"
    },
    {
     "data": {
      "image/png": "[encoded data removed]",
      "text/plain": [
       "<Figure size 1440x360 with 2 Axes>"
      ]
     },
     "metadata": {
      "needs_background": "light"
     },
     "output_type": "display_data"
    },
    {
     "data": {
      "image/png": "[encoded data removed]",
      "text/plain": [
       "<Figure size 1440x360 with 2 Axes>"
      ]
     },
     "metadata": {
      "needs_background": "light"
     },
     "output_type": "display_data"
    },
    {
     "data": {
      "image/png": "[encoded data removed]",
      "text/plain": [
       "<Figure size 1440x360 with 2 Axes>"
      ]
     },
     "metadata": {
      "needs_background": "light"
     },
     "output_type": "display_data"
    },
    {
     "data": {
      "image/png": "[encoded data removed]",
      "text/plain": [
       "<Figure size 1440x360 with 2 Axes>"
      ]
     },
     "metadata": {
      "needs_background": "light"
     },
     "output_type": "display_data"
    },
    {
     "data": {
      "image/png": "[encoded data removed]",
      "text/plain": [
       "<Figure size 1440x360 with 2 Axes>"
      ]
     },
     "metadata": {
      "needs_background": "light"
     },
     "output_type": "display_data"
    },
    {
     "data": {
      "image/png": "[encoded data removed]",
      "text/plain": [
       "<Figure size 1440x360 with 2 Axes>"
      ]
     },
     "metadata": {
      "needs_background": "light"
     },
     "output_type": "display_data"
    },
    {
     "data": {
      "image/png": "[encoded data removed]",
      "text/plain": [
       "<Figure size 1440x360 with 2 Axes>"
      ]
     },
     "metadata": {
      "needs_background": "light"
     },
     "output_type": "display_data"
    }
   ],
   "source": [
    "for i in data.drop('churn', axis=1).columns:\n",
    "    plt.figure(figsize=(20, 5))\n",
    "    ax1 = plt.subplot(1, 2, 1)\n",
    "    ax2 = plt.subplot(1, 2, 2)\n",
    "    sns.boxplot(x='churn', y=i, data=data, ax=ax1)\n",
    "    sns.distplot(data.loc[data['churn'] == 0, i], label='остались',ax=ax2)\n",
    "    sns.distplot(data.loc[data['churn'] == 1, i], label='ушли',ax=ax2)\n",
    "\n",
    "    plt.ylabel('Количество клиентов')\n",
    "    plt.xlabel(f'{i}')\n",
    "    plt.grid()\n",
    "    plt.title(f'{i}')\n",
    "    ax2.legend()\n",
    "    plt.show();"
   ]
  },
  {
   "cell_type": "markdown",
   "metadata": {},
   "source": [
    "У переменных довольно разные по величине стандартные отклонения. Это говорит о том, что их возможно нужно стандартизировать перед обучением. Но для логистической регрессии и дерева это не обязательно. Оставим их как есть.\n",
    "\n",
    "\n",
    "**Лояльность проявляют:**\n",
    "- сотрудники компаний партнеров;\n",
    "- клиенты, проживающие в районе фитнес центра;\n",
    "- клиенты с длительным сроком действия абонемента;\n",
    "- клиенты посещающие групповые занятия;\n",
    "- клиенты в возрасте от 28 лет\n",
    "\n",
    "**Не проявляют лояльность и чаще попадают в отток**\n",
    "- клиенты по акции \"приведи друга\"\n",
    "- клиенты со сроком действия абонемента менее 6 месяцев, в особенности краткосрочных 1 месяц;\n",
    "- клиенты в возрасте до 28 лет;\n",
    "- те, кто не тратит либо тратит мало на доп. услуги;\n",
    "- клиенты посещающие занятия реже двух раз в неделю\n",
    "\n",
    "**Не влияют на отток:**\n",
    "- Пол клиента;\n",
    "\n",
    "\n",
    "В большинстве случаев распределения можно считать нормальными. За исключением, пожалуй, распределений по продаже доп. услуг, времени с момента первого обращения и среднего числа посещений за последний месяц."
   ]
  },
  {
   "cell_type": "code",
   "execution_count": 15,
   "metadata": {
    "scrolled": false
   },
   "outputs": [
    {
     "data": {
      "image/png": "[encoded data removed]",
      "text/plain": [
       "<Figure size 1080x1080 with 2 Axes>"
      ]
     },
     "metadata": {
      "needs_background": "light"
     },
     "output_type": "display_data"
    }
   ],
   "source": [
    "#построим и отрисуем матрицу корреляций\n",
    "plt.figure(figsize=(15, 15))\n",
    "sns.heatmap(data.corr().round(2), annot = True, fmt='.1g', vmin=-1, vmax=1, center= 0, cmap= 'Pastel2', linewidths=1, linecolor='black')\n",
    "plt.title('Тепловая карта по признакам')\n",
    "plt.xticks(fontsize=14, rotation=80)\n",
    "plt.yticks(fontsize=14)\n",
    "plt.ylabel('Признаки')\n",
    "plt.xlabel('Признаки');"
   ]
  },
  {
   "cell_type": "markdown",
   "metadata": {},
   "source": [
    "Признаки contract_period и month_to_end_contract  коррелируют (0.97), часто могут принимать одни значения, при покупке клиентом абонемента. <br>\n",
    "Так же сильно коррелируют признаки avg_class_frequency_total и avg_class_frequency_current_month (0.9). <br>\n",
    "Исключим для избежания ошибки обучения `contract_period` и `avg_class_frequency_current_month`.<br>\n",
    "Незначительно коррелируют между собой признаки:\n",
    "1. promo_friends и partner (0.5); \n",
    "2. churn и age (-0.4);\n",
    "3. churn и avg_class_frequency_current_month (-0.4);\n",
    "4. churn и lifetime (-0.4);\n",
    "5. churn и contract_period (-0.4).<br>\n",
    "\n",
    "Их можно оставить."
   ]
  },
  {
   "cell_type": "code",
   "execution_count": 16,
   "metadata": {},
   "outputs": [],
   "source": [
    "fitnes = data.drop(columns=['contract_period', 'avg_class_frequency_current_month'])"
   ]
  },
  {
   "cell_type": "markdown",
   "metadata": {},
   "source": [
    "На данном шаге мы провели предобработку данных и исследовательский анализ EDA;<br>\n",
    "Выявили для каких клиентов в большей степени характерен отток;<br>\n",
    "<br>\n",
    "Проверили на пропуски и дубликаты;<br>\n",
    "Привели тип данных должным образом;<br>\n",
    "<br>\n",
    "Проверили корреляцию;<br>\n",
    "Обнаружены признаки сильно коррелирующие друг с другом, исключили их.<br>"
   ]
  },
  {
   "cell_type": "markdown",
   "metadata": {},
   "source": [
    "## Модель прогнозирования оттока клиентов"
   ]
  },
  {
   "cell_type": "markdown",
   "metadata": {},
   "source": []
  },
  {
   "cell_type": "markdown",
   "metadata": {},
   "source": [
    "### Разбиение выборки на обучающую и валидационную\n",
    "\n",
    "**Разделим данные на признаки и целевую переменную,  создадим две выборки, выведем для проверки**"
   ]
  },
  {
   "cell_type": "code",
   "execution_count": 17,
   "metadata": {},
   "outputs": [
    {
     "name": "stdout",
     "output_type": "stream",
     "text": [
      "Изначальные признаки: X - 4000, и целевых переменных y - 4000\n",
      "Обучающие выбороки и процент от изначальной выборки: X_train - 3200, 80.0% и y_train - 3200, 80.0%\n",
      "Валидационные выбороки и процент от изначальной выборки: X_test - 800, 20.0% и y_test - 800, 20.0%\n"
     ]
    }
   ],
   "source": [
    "# разделим наши данные на признаки (матрица X) и целевую переменную (y)\n",
    "X = fitnes.drop(columns='churn')\n",
    "y = fitnes['churn']\n",
    "\n",
    "#разделяем модель на обучающую и валидационную выборку\n",
    "X_train, X_test, y_train, y_test = train_test_split(X, y, test_size=0.2, random_state=0)\n",
    "\n",
    "#проверим, правильно ли разбились обучающая и валидационная выборки\n",
    "print('Изначальные признаки: X - {}, и целевых переменных y - {}'.format(len(X), len(y)))\n",
    "print('Обучающие выбороки и процент от изначальной выборки: X_train - {}, {}% и y_train - {}, {}%'\n",
    "       .format(len(X_train), round(len(X_train)*100 / len(X), 2), (len(y_train)), round(len(y_train)*100 / len(y), 2)))\n",
    "print('Валидационные выбороки и процент от изначальной выборки: X_test - {}, {}% и y_test - {}, {}%'\n",
    "       .format(len(X_test), round(len(X_test)*100 / len(X), 2), (len(y_test)), round(len(y_test)*100 / len(y), 2)))"
   ]
  },
  {
   "cell_type": "code",
   "execution_count": 18,
   "metadata": {},
   "outputs": [],
   "source": [
    "# создадим объект класса StandardScaler и применим его к обучающей выборке\n",
    "scaler = StandardScaler()\n",
    "X_train_st = scaler.fit_transform(X_train) # обучаем scaler и одновременно трансформируем матрицу для обучающей выборки\n",
    "X_test_st = scaler.transform(X_test) # применяем стандартизацию к матрице признаков для тестовой выборки\n"
   ]
  },
  {
   "cell_type": "markdown",
   "metadata": {},
   "source": [
    "### Обучение моделей и сравнение метрик\n",
    "\n",
    "**Посчитаем количество ушедших и оставшихся пользователей**"
   ]
  },
  {
   "cell_type": "code",
   "execution_count": 19,
   "metadata": {},
   "outputs": [
    {
     "data": {
      "text/plain": [
       "0    2939\n",
       "1    1061\n",
       "Name: churn, dtype: int64"
      ]
     },
     "execution_count": 19,
     "metadata": {},
     "output_type": "execute_result"
    }
   ],
   "source": [
    "fitnes['churn'].value_counts()"
   ]
  },
  {
   "cell_type": "markdown",
   "metadata": {},
   "source": [
    "Распределение клиентов по группам 73.48%(оставшиеся), 26.52% (ушедшие)"
   ]
  },
  {
   "cell_type": "code",
   "execution_count": 20,
   "metadata": {},
   "outputs": [],
   "source": [
    "# модели для будущего использования\n",
    "models = [LogisticRegression, RandomForestClassifier]"
   ]
  },
  {
   "cell_type": "markdown",
   "metadata": {},
   "source": [
    "Создадим функцию для обучения модели"
   ]
  },
  {
   "cell_type": "code",
   "execution_count": 21,
   "metadata": {},
   "outputs": [
    {
     "name": "stdout",
     "output_type": "stream",
     "text": [
      "<class 'sklearn.linear_model._logistic.LogisticRegression'>\n",
      "Accuracy: 0.90 Precision: 0.78 Recall: 0.81\n",
      "<class 'sklearn.ensemble._forest.RandomForestClassifier'>\n",
      "Accuracy: 0.90 Precision: 0.80 Recall: 0.77\n"
     ]
    }
   ],
   "source": [
    "def make_prediction(m, X_train, y_train, X_test, y_test):\n",
    "    model = m(random_state=0)\n",
    "    model.fit(X_train, y_train)\n",
    "    y_pred = model.predict(X_test)\n",
    "    print('Accuracy: {:.2f} Precision: {:.2f} Recall: {:.2f}'.format(\n",
    "        accuracy_score(y_test, y_pred),\n",
    "        precision_score(y_test, y_pred),\n",
    "        recall_score(y_test, y_pred)))\n",
    "    \n",
    "for i in models:\n",
    "    print(i)\n",
    "    make_prediction(i, X_train_st, y_train, X_test_st, y_test)"
   ]
  },
  {
   "cell_type": "markdown",
   "metadata": {},
   "source": [
    "Доля правильных ответов для логистической регрессии и случайного леса 0,9 - довольно высокий показатель.\n",
    "Можем сделать вывод, что модель логистической регрессии лучше предсказывает отток клиентов (на 4%, чем модель случайного дерева)"
   ]
  },
  {
   "cell_type": "markdown",
   "metadata": {},
   "source": [
    "## Кластеризация клиентов\n",
    "### Построение матрицы расстояний"
   ]
  },
  {
   "cell_type": "code",
   "execution_count": 22,
   "metadata": {},
   "outputs": [],
   "source": [
    "# создадим объект класса StandardScaler\n",
    "scaler = StandardScaler()\n",
    "\n",
    "# обучаем scaler и одновременно трансформируем матрицу признаков\n",
    "X_st = scaler.fit_transform(X) "
   ]
  },
  {
   "cell_type": "markdown",
   "metadata": {},
   "source": [
    "Построим матрицу расстояний, а затем с её помощью и дендрограмму по признакам, наиболее сильно влияющим на отток клиентов"
   ]
  },
  {
   "cell_type": "code",
   "execution_count": 23,
   "metadata": {
    "scrolled": false
   },
   "outputs": [
    {
     "data": {
      "image/png": "[encoded data removed]",
      "text/plain": [
       "<Figure size 1080x720 with 1 Axes>"
      ]
     },
     "metadata": {
      "needs_background": "light"
     },
     "output_type": "display_data"
    }
   ],
   "source": [
    "# Стандартизируем данные\n",
    "linked = linkage(X_st, method = 'ward')\n",
    "\n",
    "plt.figure(figsize=(15, 10))  \n",
    "dendrogram(linked, orientation='top')\n",
    "plt.title('Кластеризация клиентов')\n",
    "plt.show() "
   ]
  },
  {
   "cell_type": "markdown",
   "metadata": {},
   "source": [
    "Предложенное оптимальное количество кластеров равно 4."
   ]
  },
  {
   "cell_type": "markdown",
   "metadata": {},
   "source": [
    "### Модель кластеризации K-Means\n",
    "Зададим модель K-Means"
   ]
  },
  {
   "cell_type": "code",
   "execution_count": 24,
   "metadata": {},
   "outputs": [],
   "source": [
    "# Хотя было предложено кол-во кластеров 4, по заданию необходимо принять число кластеров(n_clusters) 5.\n",
    "km = KMeans(n_clusters=5, random_state=0) \n",
    "labels = km.fit_predict(X_st)"
   ]
  },
  {
   "cell_type": "markdown",
   "metadata": {},
   "source": [
    "Посмотрим как распределились по кластерам клиенты."
   ]
  },
  {
   "cell_type": "code",
   "execution_count": 25,
   "metadata": {},
   "outputs": [
    {
     "data": {
      "text/html": [
       "<div>\n",
       "<style scoped>\n",
       "    .dataframe tbody tr th:only-of-type {\n",
       "        vertical-align: middle;\n",
       "    }\n",
       "\n",
       "    .dataframe tbody tr th {\n",
       "        vertical-align: top;\n",
       "    }\n",
       "\n",
       "    .dataframe thead th {\n",
       "        text-align: right;\n",
       "    }\n",
       "</style>\n",
       "<table border=\"1\" class=\"dataframe\">\n",
       "  <thead>\n",
       "    <tr style=\"text-align: right;\">\n",
       "      <th></th>\n",
       "      <th>gender</th>\n",
       "      <th>near_location</th>\n",
       "      <th>partner</th>\n",
       "      <th>promo_friends</th>\n",
       "      <th>phone</th>\n",
       "      <th>group_visits</th>\n",
       "      <th>age</th>\n",
       "      <th>avg_additional_charges_total</th>\n",
       "      <th>month_to_end_contract</th>\n",
       "      <th>lifetime</th>\n",
       "      <th>avg_class_frequency_total</th>\n",
       "      <th>churn</th>\n",
       "      <th>cluster</th>\n",
       "    </tr>\n",
       "  </thead>\n",
       "  <tbody>\n",
       "    <tr>\n",
       "      <th>671</th>\n",
       "      <td>1</td>\n",
       "      <td>1</td>\n",
       "      <td>0</td>\n",
       "      <td>0</td>\n",
       "      <td>0</td>\n",
       "      <td>0</td>\n",
       "      <td>32</td>\n",
       "      <td>166.153122</td>\n",
       "      <td>1</td>\n",
       "      <td>0</td>\n",
       "      <td>1.034316</td>\n",
       "      <td>1</td>\n",
       "      <td>4</td>\n",
       "    </tr>\n",
       "    <tr>\n",
       "      <th>1787</th>\n",
       "      <td>1</td>\n",
       "      <td>1</td>\n",
       "      <td>1</td>\n",
       "      <td>1</td>\n",
       "      <td>1</td>\n",
       "      <td>1</td>\n",
       "      <td>31</td>\n",
       "      <td>190.514290</td>\n",
       "      <td>12</td>\n",
       "      <td>1</td>\n",
       "      <td>0.397329</td>\n",
       "      <td>0</td>\n",
       "      <td>0</td>\n",
       "    </tr>\n",
       "    <tr>\n",
       "      <th>1803</th>\n",
       "      <td>1</td>\n",
       "      <td>1</td>\n",
       "      <td>0</td>\n",
       "      <td>0</td>\n",
       "      <td>1</td>\n",
       "      <td>0</td>\n",
       "      <td>37</td>\n",
       "      <td>188.764657</td>\n",
       "      <td>1</td>\n",
       "      <td>15</td>\n",
       "      <td>0.269586</td>\n",
       "      <td>0</td>\n",
       "      <td>2</td>\n",
       "    </tr>\n",
       "  </tbody>\n",
       "</table>\n",
       "</div>"
      ],
      "text/plain": [
       "      gender  near_location  partner  promo_friends  phone  group_visits  age  \\\n",
       "671        1              1        0              0      0             0   32   \n",
       "1787       1              1        1              1      1             1   31   \n",
       "1803       1              1        0              0      1             0   37   \n",
       "\n",
       "      avg_additional_charges_total  month_to_end_contract  lifetime  \\\n",
       "671                     166.153122                      1         0   \n",
       "1787                    190.514290                     12         1   \n",
       "1803                    188.764657                      1        15   \n",
       "\n",
       "      avg_class_frequency_total  churn  cluster  \n",
       "671                    1.034316      1        4  \n",
       "1787                   0.397329      0        0  \n",
       "1803                   0.269586      0        2  "
      ]
     },
     "execution_count": 25,
     "metadata": {},
     "output_type": "execute_result"
    }
   ],
   "source": [
    "fitnes['cluster'] = labels # добавляем колонку с номерами кластеров.\n",
    "fitnes.sample(3)"
   ]
  },
  {
   "cell_type": "code",
   "execution_count": 26,
   "metadata": {
    "scrolled": true
   },
   "outputs": [
    {
     "data": {
      "text/html": [
       "<div>\n",
       "<style scoped>\n",
       "    .dataframe tbody tr th:only-of-type {\n",
       "        vertical-align: middle;\n",
       "    }\n",
       "\n",
       "    .dataframe tbody tr th {\n",
       "        vertical-align: top;\n",
       "    }\n",
       "\n",
       "    .dataframe thead th {\n",
       "        text-align: right;\n",
       "    }\n",
       "</style>\n",
       "<table border=\"1\" class=\"dataframe\">\n",
       "  <thead>\n",
       "    <tr style=\"text-align: right;\">\n",
       "      <th>cluster</th>\n",
       "      <th>0</th>\n",
       "      <th>1</th>\n",
       "      <th>2</th>\n",
       "      <th>3</th>\n",
       "      <th>4</th>\n",
       "    </tr>\n",
       "  </thead>\n",
       "  <tbody>\n",
       "    <tr>\n",
       "      <th>gender</th>\n",
       "      <td>0.498501</td>\n",
       "      <td>0.500898</td>\n",
       "      <td>0.521158</td>\n",
       "      <td>0.512090</td>\n",
       "      <td>0.523316</td>\n",
       "    </tr>\n",
       "    <tr>\n",
       "      <th>near_location</th>\n",
       "      <td>0.995005</td>\n",
       "      <td>0.000000</td>\n",
       "      <td>0.995546</td>\n",
       "      <td>1.000000</td>\n",
       "      <td>0.862694</td>\n",
       "    </tr>\n",
       "    <tr>\n",
       "      <th>partner</th>\n",
       "      <td>0.889111</td>\n",
       "      <td>0.488330</td>\n",
       "      <td>0.417595</td>\n",
       "      <td>0.196891</td>\n",
       "      <td>0.471503</td>\n",
       "    </tr>\n",
       "    <tr>\n",
       "      <th>promo_friends</th>\n",
       "      <td>1.000000</td>\n",
       "      <td>0.077199</td>\n",
       "      <td>0.011136</td>\n",
       "      <td>0.053541</td>\n",
       "      <td>0.305699</td>\n",
       "    </tr>\n",
       "    <tr>\n",
       "      <th>phone</th>\n",
       "      <td>1.000000</td>\n",
       "      <td>1.000000</td>\n",
       "      <td>1.000000</td>\n",
       "      <td>1.000000</td>\n",
       "      <td>0.000000</td>\n",
       "    </tr>\n",
       "    <tr>\n",
       "      <th>group_visits</th>\n",
       "      <td>0.519481</td>\n",
       "      <td>0.231598</td>\n",
       "      <td>0.546771</td>\n",
       "      <td>0.297064</td>\n",
       "      <td>0.427461</td>\n",
       "    </tr>\n",
       "    <tr>\n",
       "      <th>age</th>\n",
       "      <td>29.543457</td>\n",
       "      <td>28.685817</td>\n",
       "      <td>30.805122</td>\n",
       "      <td>27.818653</td>\n",
       "      <td>29.297927</td>\n",
       "    </tr>\n",
       "    <tr>\n",
       "      <th>avg_additional_charges_total</th>\n",
       "      <td>152.139417</td>\n",
       "      <td>137.277472</td>\n",
       "      <td>177.103564</td>\n",
       "      <td>124.625600</td>\n",
       "      <td>144.208179</td>\n",
       "    </tr>\n",
       "    <tr>\n",
       "      <th>month_to_end_contract</th>\n",
       "      <td>6.265734</td>\n",
       "      <td>2.804309</td>\n",
       "      <td>6.162584</td>\n",
       "      <td>1.898964</td>\n",
       "      <td>4.466321</td>\n",
       "    </tr>\n",
       "    <tr>\n",
       "      <th>lifetime</th>\n",
       "      <td>4.210789</td>\n",
       "      <td>2.978456</td>\n",
       "      <td>5.701559</td>\n",
       "      <td>2.058722</td>\n",
       "      <td>3.940415</td>\n",
       "    </tr>\n",
       "    <tr>\n",
       "      <th>avg_class_frequency_total</th>\n",
       "      <td>1.951909</td>\n",
       "      <td>1.762672</td>\n",
       "      <td>2.318701</td>\n",
       "      <td>1.539284</td>\n",
       "      <td>1.854211</td>\n",
       "    </tr>\n",
       "    <tr>\n",
       "      <th>churn</th>\n",
       "      <td>0.132867</td>\n",
       "      <td>0.402154</td>\n",
       "      <td>0.016704</td>\n",
       "      <td>0.506045</td>\n",
       "      <td>0.266839</td>\n",
       "    </tr>\n",
       "  </tbody>\n",
       "</table>\n",
       "</div>"
      ],
      "text/plain": [
       "cluster                                0           1           2           3  \\\n",
       "gender                          0.498501    0.500898    0.521158    0.512090   \n",
       "near_location                   0.995005    0.000000    0.995546    1.000000   \n",
       "partner                         0.889111    0.488330    0.417595    0.196891   \n",
       "promo_friends                   1.000000    0.077199    0.011136    0.053541   \n",
       "phone                           1.000000    1.000000    1.000000    1.000000   \n",
       "group_visits                    0.519481    0.231598    0.546771    0.297064   \n",
       "age                            29.543457   28.685817   30.805122   27.818653   \n",
       "avg_additional_charges_total  152.139417  137.277472  177.103564  124.625600   \n",
       "month_to_end_contract           6.265734    2.804309    6.162584    1.898964   \n",
       "lifetime                        4.210789    2.978456    5.701559    2.058722   \n",
       "avg_class_frequency_total       1.951909    1.762672    2.318701    1.539284   \n",
       "churn                           0.132867    0.402154    0.016704    0.506045   \n",
       "\n",
       "cluster                                4  \n",
       "gender                          0.523316  \n",
       "near_location                   0.862694  \n",
       "partner                         0.471503  \n",
       "promo_friends                   0.305699  \n",
       "phone                           0.000000  \n",
       "group_visits                    0.427461  \n",
       "age                            29.297927  \n",
       "avg_additional_charges_total  144.208179  \n",
       "month_to_end_contract           4.466321  \n",
       "lifetime                        3.940415  \n",
       "avg_class_frequency_total       1.854211  \n",
       "churn                           0.266839  "
      ]
     },
     "execution_count": 26,
     "metadata": {},
     "output_type": "execute_result"
    }
   ],
   "source": [
    "fitnes.groupby('cluster').mean().T # Сгруппируем клиентов по кластерам и выведем средние значения признаков"
   ]
  },
  {
   "cell_type": "markdown",
   "metadata": {},
   "source": [
    "При данной групперовке можно определить отток по кластерам:<br>\n",
    "Меньше всего утекают клиентов из 2 кластера(1,67%). 0 и 4  незначительно(13 и 27%).<br>\n",
    "Большой отток клиентов в 3 кластере - 50,6%."
   ]
  },
  {
   "cell_type": "code",
   "execution_count": 27,
   "metadata": {
    "scrolled": true
   },
   "outputs": [
    {
     "data": {
      "text/plain": [
       "3    1158\n",
       "0    1001\n",
       "2     898\n",
       "1     557\n",
       "4     386\n",
       "Name: cluster, dtype: int64"
      ]
     },
     "execution_count": 27,
     "metadata": {},
     "output_type": "execute_result"
    }
   ],
   "source": [
    "fitnes.cluster.value_counts()"
   ]
  },
  {
   "cell_type": "code",
   "execution_count": 28,
   "metadata": {
    "scrolled": true
   },
   "outputs": [
    {
     "data": {
      "image/png": "[encoded data removed]",
      "text/plain": [
       "<Figure size 360x360 with 1 Axes>"
      ]
     },
     "metadata": {
      "needs_background": "light"
     },
     "output_type": "display_data"
    },
    {
     "data": {
      "image/png": "[encoded data removed]",
      "text/plain": [
       "<Figure size 360x360 with 1 Axes>"
      ]
     },
     "metadata": {
      "needs_background": "light"
     },
     "output_type": "display_data"
    },
    {
     "data": {
      "image/png": "[encoded data removed]",
      "text/plain": [
       "<Figure size 360x360 with 1 Axes>"
      ]
     },
     "metadata": {
      "needs_background": "light"
     },
     "output_type": "display_data"
    },
    {
     "data": {
      "image/png": "[encoded data removed]",
      "text/plain": [
       "<Figure size 360x360 with 1 Axes>"
      ]
     },
     "metadata": {
      "needs_background": "light"
     },
     "output_type": "display_data"
    },
    {
     "data": {
      "image/png": "[encoded data removed]",
      "text/plain": [
       "<Figure size 360x360 with 1 Axes>"
      ]
     },
     "metadata": {
      "needs_background": "light"
     },
     "output_type": "display_data"
    },
    {
     "data": {
      "image/png": "[encoded data removed]",
      "text/plain": [
       "<Figure size 360x360 with 1 Axes>"
      ]
     },
     "metadata": {
      "needs_background": "light"
     },
     "output_type": "display_data"
    },
    {
     "data": {
      "image/png": "[encoded data removed]",
      "text/plain": [
       "<Figure size 360x360 with 1 Axes>"
      ]
     },
     "metadata": {
      "needs_background": "light"
     },
     "output_type": "display_data"
    },
    {
     "data": {
      "image/png": "[encoded data removed]",
      "text/plain": [
       "<Figure size 360x360 with 1 Axes>"
      ]
     },
     "metadata": {
      "needs_background": "light"
     },
     "output_type": "display_data"
    },
    {
     "data": {
      "image/png": "[encoded data removed]",
      "text/plain": [
       "<Figure size 360x360 with 1 Axes>"
      ]
     },
     "metadata": {
      "needs_background": "light"
     },
     "output_type": "display_data"
    }
   ],
   "source": [
    "for column in ['gender', 'near_location', 'partner', 'promo_friends', \\\n",
    "               'phone', 'group_visits', 'age', 'month_to_end_contract',\\\n",
    "               'lifetime']:\n",
    " \n",
    "    plt.figure(figsize=(5, 5))\n",
    "    sns.countplot(x = fitnes[column], hue='cluster', data=fitnes)\n",
    "    plt.title(column)\n",
    "    plt.legend(bbox_to_anchor=(1, 1))\n",
    "    plt.show()"
   ]
  },
  {
   "cell_type": "code",
   "execution_count": 29,
   "metadata": {
    "scrolled": true
   },
   "outputs": [
    {
     "data": {
      "image/png": "[encoded data removed]",
      "text/plain": [
       "<Figure size 432x288 with 1 Axes>"
      ]
     },
     "metadata": {
      "needs_background": "light"
     },
     "output_type": "display_data"
    },
    {
     "data": {
      "image/png": "[encoded data removed]",
      "text/plain": [
       "<Figure size 432x288 with 1 Axes>"
      ]
     },
     "metadata": {
      "needs_background": "light"
     },
     "output_type": "display_data"
    },
    {
     "data": {
      "image/png": "[encoded data removed]",
      "text/plain": [
       "<Figure size 432x288 with 1 Axes>"
      ]
     },
     "metadata": {
      "needs_background": "light"
     },
     "output_type": "display_data"
    },
    {
     "data": {
      "image/png": "[encoded data removed]",
      "text/plain": [
       "<Figure size 432x288 with 1 Axes>"
      ]
     },
     "metadata": {
      "needs_background": "light"
     },
     "output_type": "display_data"
    },
    {
     "data": {
      "image/png": "[encoded data removed]",
      "text/plain": [
       "<Figure size 432x288 with 1 Axes>"
      ]
     },
     "metadata": {
      "needs_background": "light"
     },
     "output_type": "display_data"
    },
    {
     "data": {
      "image/png": "[encoded data removed]",
      "text/plain": [
       "<Figure size 432x288 with 1 Axes>"
      ]
     },
     "metadata": {
      "needs_background": "light"
     },
     "output_type": "display_data"
    },
    {
     "data": {
      "image/png": "[encoded data removed]",
      "text/plain": [
       "<Figure size 432x288 with 1 Axes>"
      ]
     },
     "metadata": {
      "needs_background": "light"
     },
     "output_type": "display_data"
    },
    {
     "data": {
      "image/png": "[encoded data removed]",
      "text/plain": [
       "<Figure size 432x288 with 1 Axes>"
      ]
     },
     "metadata": {
      "needs_background": "light"
     },
     "output_type": "display_data"
    },
    {
     "data": {
      "image/png": "[encoded data removed]",
      "text/plain": [
       "<Figure size 432x288 with 1 Axes>"
      ]
     },
     "metadata": {
      "needs_background": "light"
     },
     "output_type": "display_data"
    },
    {
     "data": {
      "image/png": "[encoded data removed]",
      "text/plain": [
       "<Figure size 432x288 with 1 Axes>"
      ]
     },
     "metadata": {
      "needs_background": "light"
     },
     "output_type": "display_data"
    },
    {
     "data": {
      "image/png": "[encoded data removed]",
      "text/plain": [
       "<Figure size 432x288 with 1 Axes>"
      ]
     },
     "metadata": {
      "needs_background": "light"
     },
     "output_type": "display_data"
    }
   ],
   "source": [
    "fig, ax = plt.subplots()\n",
    "for column in fitnes.columns[0:-2]:\n",
    "    plt.title(column)\n",
    "    sns.boxplot(data=fitnes, x='cluster', y=column)\n",
    "    plt.xlabel('кластер')\n",
    "    plt.ylabel('значение '+column)\n",
    "    plt.show()"
   ]
  },
  {
   "cell_type": "markdown",
   "metadata": {},
   "source": [
    "**Разделили клиентов на 5 кластеров (с 0 по 4):**<br>\n",
    "  \n",
    "**\"0\"**: Проживают в районе клуба. 89% клиентов - партнеров. 52% посещает групповые занятия. Средний возраст 29 лет. До конца контракта 6 месяцев. Отток 13%;<br>\n",
    "**Низкая доля оттока.**\n",
    "**\"1\"** Проживают не в районе клуба.49% клиентов - партнеров. 23% посещает групповые заняти. Средний возраст 28 лет. До конца контракта 2 месяца. Отток 40%;<br>\n",
    "**Высокая доля оттока.**\n",
    "**\"2\"** Проживают в районе клуба.42% клиентов - партнеров. 55% посещают групповые занятия. Средний возраст 30 лет. До конца контракта 6 месяцев. Отток 2 %; <br>\n",
    "Данные характеристики являются идеальными для Постоянного клиента.<br> \n",
    "**Очень низкая доля оттока.**\n",
    "**\"3\"** Проживают не в районе клуба. 20% клиентов - партнеров. 30% посещают групповые занятия. Средний возраст 27 лет. 1 месяц до конца контракта. Отток 51%; <br>\n",
    "**Очень высокая доля оттока.**\n",
    "**\"4\"** Проживают не в районе клуба. 47% клиентов - партнеров. 43% посещают групповые занятия. Средний возраст 29 лет. 4 месяца до конца контракта. Отток 27%.<br>\n",
    "**Низкая доля оттока.**  "
   ]
  },
  {
   "cell_type": "markdown",
   "metadata": {},
   "source": [
    "## Выводы и рекомендации по проекту"
   ]
  },
  {
   "cell_type": "markdown",
   "metadata": {},
   "source": [
    "Проанализировали данные клиентов фитнес-центра. \n",
    "По существующим данным построили две модели прогноза оттока клиентов.\n",
    "Проведена кластеризация клиентов. \n",
    "Построенная дендрограмма показала 4 явных кластера, согласно заданию, выборку разделили на 5 кластеров. \n",
    "Построили распределение признаков по кластерам, на основании которых построили портрет постоянного клиента.\n",
    "\n",
    "Идеальный клиент: Проживает в районе клуба. Сотрудник компании-партнёра клуба. Посещают групповые занятия. Средний возраст 30 лет. Контракт на 6 или 12 месяцев.\n",
    "\n",
    "Рекомендации:\n",
    "\n",
    "Проводить маркетинговые активности, направленные на целевую аудиторию:\n",
    "- Увеличить расходы на рекламу в близлежащих районах (клиенты из других районов не станут постоянными);\n",
    "- Реклама нацедена на клиентуру в возрасте 30+;\n",
    "\n",
    "Работа с действующими клиентами:\n",
    "- Активнее предлагать и мотивировать к групповым занятиям.\n",
    "\n",
    "Продажи:\n",
    "\n",
    "- Мотивировать отдел продаж предлагать и продавать клиентам долгосрочные абонементы;\n",
    "\n",
    "Партнеры:\n",
    "- Наращивать партнерскую программу в организациях, т.к. клиенты из компаний партнеров менее склонны к оттоку;"
   ]
  }
 ],
 "metadata": {
  "ExecuteTimeLog": [
   {
    "duration": 65,
    "start_time": "2023-09-26T15:32:43.499Z"
   },
   {
    "duration": 1794,
    "start_time": "2023-09-26T15:32:47.262Z"
   },
   {
    "duration": 132,
    "start_time": "2023-09-26T15:32:49.058Z"
   },
   {
    "duration": 1006,
    "start_time": "2023-09-26T15:33:45.011Z"
   },
   {
    "duration": 78,
    "start_time": "2023-09-26T15:34:09.518Z"
   },
   {
    "duration": 21,
    "start_time": "2023-09-26T15:34:40.210Z"
   },
   {
    "duration": 4,
    "start_time": "2023-09-26T15:41:43.415Z"
   },
   {
    "duration": 3,
    "start_time": "2023-09-26T15:41:43.820Z"
   },
   {
    "duration": 1613,
    "start_time": "2023-09-26T15:52:51.468Z"
   },
   {
    "duration": 181,
    "start_time": "2023-09-26T15:53:04.546Z"
   },
   {
    "duration": 7,
    "start_time": "2023-09-26T15:53:17.759Z"
   },
   {
    "duration": 35,
    "start_time": "2023-09-26T15:57:11.973Z"
   },
   {
    "duration": 4,
    "start_time": "2023-09-26T15:57:23.309Z"
   },
   {
    "duration": 5,
    "start_time": "2023-09-26T15:57:33.477Z"
   },
   {
    "duration": 24,
    "start_time": "2023-09-26T15:57:37.005Z"
   },
   {
    "duration": 1591,
    "start_time": "2023-09-26T16:01:07.047Z"
   },
   {
    "duration": 1701,
    "start_time": "2023-09-26T16:01:38.159Z"
   },
   {
    "duration": 88,
    "start_time": "2023-09-26T16:01:39.862Z"
   },
   {
    "duration": 28,
    "start_time": "2023-09-26T16:01:39.952Z"
   },
   {
    "duration": 6,
    "start_time": "2023-09-26T16:01:39.982Z"
   },
   {
    "duration": 4,
    "start_time": "2023-09-26T16:01:39.990Z"
   },
   {
    "duration": 38,
    "start_time": "2023-09-26T16:01:39.996Z"
   },
   {
    "duration": 1693,
    "start_time": "2023-09-26T16:01:40.036Z"
   },
   {
    "duration": 0,
    "start_time": "2023-09-26T16:01:41.730Z"
   },
   {
    "duration": 6,
    "start_time": "2023-09-26T16:02:08.375Z"
   },
   {
    "duration": 117,
    "start_time": "2023-09-26T16:03:04.584Z"
   },
   {
    "duration": 7,
    "start_time": "2023-09-26T16:03:24.152Z"
   },
   {
    "duration": 6,
    "start_time": "2023-09-26T16:04:04.401Z"
   },
   {
    "duration": 112,
    "start_time": "2023-09-26T16:07:53.210Z"
   },
   {
    "duration": 108,
    "start_time": "2023-09-26T16:08:24.777Z"
   },
   {
    "duration": 1533,
    "start_time": "2023-09-26T16:08:45.858Z"
   },
   {
    "duration": 21,
    "start_time": "2023-09-26T16:10:02.812Z"
   },
   {
    "duration": 9,
    "start_time": "2023-09-26T16:10:39.435Z"
   },
   {
    "duration": 235,
    "start_time": "2023-09-26T16:10:56.715Z"
   },
   {
    "duration": 8,
    "start_time": "2023-09-26T16:11:09.299Z"
   },
   {
    "duration": 10,
    "start_time": "2023-09-26T16:11:35.820Z"
   },
   {
    "duration": 9,
    "start_time": "2023-09-26T16:12:55.187Z"
   },
   {
    "duration": 15,
    "start_time": "2023-09-26T16:13:28.724Z"
   },
   {
    "duration": 10,
    "start_time": "2023-09-26T16:13:45.284Z"
   },
   {
    "duration": 16,
    "start_time": "2023-09-26T16:14:04.828Z"
   },
   {
    "duration": 12,
    "start_time": "2023-09-26T16:15:03.445Z"
   },
   {
    "duration": 14,
    "start_time": "2023-09-26T16:15:34.820Z"
   },
   {
    "duration": 3,
    "start_time": "2023-09-26T17:00:52.034Z"
   },
   {
    "duration": 4,
    "start_time": "2023-09-26T17:00:52.424Z"
   },
   {
    "duration": 5,
    "start_time": "2023-09-26T17:00:53.800Z"
   },
   {
    "duration": 16,
    "start_time": "2023-09-26T17:00:54.632Z"
   },
   {
    "duration": 12,
    "start_time": "2023-09-26T17:01:06.648Z"
   },
   {
    "duration": 11,
    "start_time": "2023-09-26T17:01:12.993Z"
   },
   {
    "duration": 46,
    "start_time": "2023-09-26T17:01:49.736Z"
   },
   {
    "duration": 10,
    "start_time": "2023-09-26T17:14:50.862Z"
   },
   {
    "duration": 4,
    "start_time": "2023-09-26T17:15:16.273Z"
   },
   {
    "duration": 101,
    "start_time": "2023-09-26T17:15:20.873Z"
   },
   {
    "duration": 101,
    "start_time": "2023-09-26T17:16:27.600Z"
   },
   {
    "duration": 5,
    "start_time": "2023-09-26T17:16:32.425Z"
   },
   {
    "duration": 1991,
    "start_time": "2023-09-26T17:16:33.288Z"
   },
   {
    "duration": 14,
    "start_time": "2023-09-26T17:16:52.265Z"
   },
   {
    "duration": 103,
    "start_time": "2023-09-26T17:17:09.093Z"
   },
   {
    "duration": 23,
    "start_time": "2023-09-26T17:17:57.957Z"
   },
   {
    "duration": 7,
    "start_time": "2023-09-26T17:18:21.265Z"
   },
   {
    "duration": 139,
    "start_time": "2023-09-26T17:18:41.578Z"
   },
   {
    "duration": 5,
    "start_time": "2023-09-26T17:19:03.809Z"
   },
   {
    "duration": 134,
    "start_time": "2023-09-26T17:19:04.553Z"
   },
   {
    "duration": 105,
    "start_time": "2023-09-26T17:19:34.657Z"
   },
   {
    "duration": 111,
    "start_time": "2023-09-26T17:19:51.649Z"
   },
   {
    "duration": 6,
    "start_time": "2023-09-26T17:20:10.266Z"
   },
   {
    "duration": 12,
    "start_time": "2023-09-26T17:20:33.978Z"
   },
   {
    "duration": 8,
    "start_time": "2023-09-26T17:21:33.657Z"
   },
   {
    "duration": 47,
    "start_time": "2023-09-26T17:21:56.458Z"
   },
   {
    "duration": 2529,
    "start_time": "2023-09-26T17:23:47.594Z"
   },
   {
    "duration": 7,
    "start_time": "2023-09-26T17:24:04.371Z"
   },
   {
    "duration": 1625,
    "start_time": "2023-09-26T17:24:13.192Z"
   },
   {
    "duration": 78,
    "start_time": "2023-09-26T17:24:14.819Z"
   },
   {
    "duration": 30,
    "start_time": "2023-09-26T17:24:14.899Z"
   },
   {
    "duration": 42,
    "start_time": "2023-09-26T17:24:14.931Z"
   },
   {
    "duration": 71,
    "start_time": "2023-09-26T17:24:14.976Z"
   },
   {
    "duration": 229,
    "start_time": "2023-09-26T17:24:15.049Z"
   },
   {
    "duration": 17,
    "start_time": "2023-09-26T17:24:15.280Z"
   },
   {
    "duration": 20,
    "start_time": "2023-09-26T17:24:15.299Z"
   },
   {
    "duration": 23,
    "start_time": "2023-09-26T17:24:15.321Z"
   },
   {
    "duration": 51,
    "start_time": "2023-09-26T17:24:15.346Z"
   },
   {
    "duration": 2746,
    "start_time": "2023-09-26T17:30:49.292Z"
   },
   {
    "duration": 75,
    "start_time": "2023-09-26T17:31:13.917Z"
   },
   {
    "duration": 14,
    "start_time": "2023-09-26T17:31:16.851Z"
   },
   {
    "duration": 15,
    "start_time": "2023-09-26T17:31:32.466Z"
   },
   {
    "duration": 16,
    "start_time": "2023-09-26T17:31:56.499Z"
   },
   {
    "duration": 14,
    "start_time": "2023-09-26T17:32:07.450Z"
   },
   {
    "duration": 14,
    "start_time": "2023-09-26T17:33:52.963Z"
   },
   {
    "duration": 2633,
    "start_time": "2023-09-26T17:34:55.866Z"
   },
   {
    "duration": 603,
    "start_time": "2023-09-26T17:35:11.907Z"
   },
   {
    "duration": 8,
    "start_time": "2023-09-26T17:35:34.383Z"
   },
   {
    "duration": 180,
    "start_time": "2023-09-26T17:45:16.331Z"
   },
   {
    "duration": 1790,
    "start_time": "2023-09-26T17:45:21.877Z"
   },
   {
    "duration": 3,
    "start_time": "2023-09-26T17:45:36.475Z"
   },
   {
    "duration": 5,
    "start_time": "2023-09-26T17:45:39.348Z"
   },
   {
    "duration": 6,
    "start_time": "2023-09-26T17:46:52.395Z"
   },
   {
    "duration": 4,
    "start_time": "2023-09-26T17:47:10.795Z"
   },
   {
    "duration": 6,
    "start_time": "2023-09-26T17:52:15.149Z"
   },
   {
    "duration": 10,
    "start_time": "2023-09-26T17:52:32.676Z"
   },
   {
    "duration": 5,
    "start_time": "2023-09-26T17:52:41.501Z"
   },
   {
    "duration": 7,
    "start_time": "2023-09-26T17:54:45.228Z"
   },
   {
    "duration": 10,
    "start_time": "2023-09-26T17:56:27.469Z"
   },
   {
    "duration": 9,
    "start_time": "2023-09-26T18:00:51.005Z"
   },
   {
    "duration": 4,
    "start_time": "2023-09-26T18:02:32.950Z"
   },
   {
    "duration": 4,
    "start_time": "2023-09-26T18:02:34.379Z"
   },
   {
    "duration": 4,
    "start_time": "2023-09-26T18:02:34.901Z"
   },
   {
    "duration": 3,
    "start_time": "2023-09-26T18:02:35.410Z"
   },
   {
    "duration": 4,
    "start_time": "2023-09-26T18:02:35.822Z"
   },
   {
    "duration": 3,
    "start_time": "2023-09-26T18:02:36.246Z"
   },
   {
    "duration": 4,
    "start_time": "2023-09-26T18:02:36.710Z"
   },
   {
    "duration": 4,
    "start_time": "2023-09-26T18:02:39.148Z"
   },
   {
    "duration": 10,
    "start_time": "2023-09-26T18:02:39.614Z"
   },
   {
    "duration": 10,
    "start_time": "2023-09-26T18:02:53.620Z"
   },
   {
    "duration": 4,
    "start_time": "2023-09-26T18:02:54.406Z"
   },
   {
    "duration": 10,
    "start_time": "2023-09-26T18:02:55.622Z"
   },
   {
    "duration": 9,
    "start_time": "2023-09-26T18:02:59.814Z"
   },
   {
    "duration": 8,
    "start_time": "2023-09-26T18:03:07.511Z"
   },
   {
    "duration": 4,
    "start_time": "2023-09-26T18:03:08.120Z"
   },
   {
    "duration": 1459,
    "start_time": "2023-09-26T18:07:43.278Z"
   },
   {
    "duration": 1499,
    "start_time": "2023-09-26T18:07:51.038Z"
   },
   {
    "duration": 3470,
    "start_time": "2023-09-26T18:08:55.910Z"
   },
   {
    "duration": 44,
    "start_time": "2023-09-27T15:53:06.182Z"
   },
   {
    "duration": 6,
    "start_time": "2023-09-27T15:53:10.248Z"
   },
   {
    "duration": 1608,
    "start_time": "2023-09-27T15:53:24.323Z"
   },
   {
    "duration": 152,
    "start_time": "2023-09-27T15:53:25.934Z"
   },
   {
    "duration": 25,
    "start_time": "2023-09-27T15:53:26.087Z"
   },
   {
    "duration": 72,
    "start_time": "2023-09-27T15:53:26.114Z"
   },
   {
    "duration": 36,
    "start_time": "2023-09-27T15:53:26.189Z"
   },
   {
    "duration": 102,
    "start_time": "2023-09-27T15:53:26.226Z"
   },
   {
    "duration": 0,
    "start_time": "2023-09-27T15:53:26.330Z"
   },
   {
    "duration": 0,
    "start_time": "2023-09-27T15:53:26.331Z"
   },
   {
    "duration": 0,
    "start_time": "2023-09-27T15:53:26.332Z"
   },
   {
    "duration": 0,
    "start_time": "2023-09-27T15:53:26.333Z"
   },
   {
    "duration": 0,
    "start_time": "2023-09-27T15:53:26.334Z"
   },
   {
    "duration": 0,
    "start_time": "2023-09-27T15:53:26.335Z"
   },
   {
    "duration": 0,
    "start_time": "2023-09-27T15:53:26.336Z"
   },
   {
    "duration": 0,
    "start_time": "2023-09-27T15:53:26.337Z"
   },
   {
    "duration": 0,
    "start_time": "2023-09-27T15:53:26.338Z"
   },
   {
    "duration": 0,
    "start_time": "2023-09-27T15:53:26.338Z"
   },
   {
    "duration": 0,
    "start_time": "2023-09-27T15:53:26.339Z"
   },
   {
    "duration": 0,
    "start_time": "2023-09-27T15:53:26.340Z"
   },
   {
    "duration": 0,
    "start_time": "2023-09-27T15:53:26.341Z"
   },
   {
    "duration": 0,
    "start_time": "2023-09-27T15:53:26.342Z"
   },
   {
    "duration": 0,
    "start_time": "2023-09-27T15:53:26.343Z"
   },
   {
    "duration": 0,
    "start_time": "2023-09-27T15:53:26.344Z"
   },
   {
    "duration": 0,
    "start_time": "2023-09-27T15:53:26.345Z"
   },
   {
    "duration": 0,
    "start_time": "2023-09-27T15:53:26.346Z"
   },
   {
    "duration": 0,
    "start_time": "2023-09-27T15:53:26.347Z"
   },
   {
    "duration": 1,
    "start_time": "2023-09-27T15:53:26.347Z"
   },
   {
    "duration": 0,
    "start_time": "2023-09-27T15:53:26.348Z"
   },
   {
    "duration": 0,
    "start_time": "2023-09-27T15:53:26.349Z"
   },
   {
    "duration": 5,
    "start_time": "2023-09-27T15:53:39.216Z"
   },
   {
    "duration": 4,
    "start_time": "2023-09-27T15:53:43.712Z"
   },
   {
    "duration": 9,
    "start_time": "2023-09-27T15:54:06.161Z"
   },
   {
    "duration": 5,
    "start_time": "2023-09-27T15:54:09.713Z"
   },
   {
    "duration": 42,
    "start_time": "2023-09-27T15:59:43.905Z"
   },
   {
    "duration": 137,
    "start_time": "2023-09-27T16:15:55.949Z"
   },
   {
    "duration": 15,
    "start_time": "2023-09-27T16:16:06.904Z"
   },
   {
    "duration": 18,
    "start_time": "2023-09-27T16:16:55.792Z"
   },
   {
    "duration": 14,
    "start_time": "2023-09-27T16:17:02.360Z"
   },
   {
    "duration": 1972,
    "start_time": "2023-09-27T16:19:50.546Z"
   },
   {
    "duration": 9,
    "start_time": "2023-09-27T16:20:39.232Z"
   },
   {
    "duration": 5,
    "start_time": "2023-09-27T16:20:50.649Z"
   },
   {
    "duration": 10,
    "start_time": "2023-09-27T16:21:15.168Z"
   },
   {
    "duration": 26,
    "start_time": "2023-09-27T16:21:18.937Z"
   },
   {
    "duration": 2,
    "start_time": "2023-09-27T16:24:37.513Z"
   },
   {
    "duration": 8,
    "start_time": "2023-09-27T16:33:58.521Z"
   },
   {
    "duration": 9,
    "start_time": "2023-09-27T16:34:02.185Z"
   },
   {
    "duration": 5,
    "start_time": "2023-09-27T16:34:05.330Z"
   },
   {
    "duration": 5,
    "start_time": "2023-09-27T16:34:05.942Z"
   },
   {
    "duration": 5,
    "start_time": "2023-09-27T16:34:06.442Z"
   },
   {
    "duration": 4,
    "start_time": "2023-09-27T16:34:06.945Z"
   },
   {
    "duration": 3,
    "start_time": "2023-09-27T16:34:07.489Z"
   },
   {
    "duration": 4,
    "start_time": "2023-09-27T16:34:07.961Z"
   },
   {
    "duration": 3,
    "start_time": "2023-09-27T16:34:08.392Z"
   },
   {
    "duration": 5,
    "start_time": "2023-09-27T16:34:08.824Z"
   },
   {
    "duration": 3,
    "start_time": "2023-09-27T16:34:11.296Z"
   },
   {
    "duration": 32,
    "start_time": "2023-09-27T16:34:11.738Z"
   },
   {
    "duration": 5,
    "start_time": "2023-09-27T16:34:15.347Z"
   },
   {
    "duration": 9,
    "start_time": "2023-09-27T16:34:15.761Z"
   },
   {
    "duration": 10,
    "start_time": "2023-09-27T16:34:18.658Z"
   },
   {
    "duration": 5,
    "start_time": "2023-09-27T16:34:24.432Z"
   },
   {
    "duration": 1530,
    "start_time": "2023-09-27T16:36:22.559Z"
   },
   {
    "duration": 93,
    "start_time": "2023-09-27T16:36:24.091Z"
   },
   {
    "duration": 166,
    "start_time": "2023-09-27T16:36:24.186Z"
   },
   {
    "duration": 91,
    "start_time": "2023-09-27T16:36:24.354Z"
   },
   {
    "duration": 34,
    "start_time": "2023-09-27T16:36:24.448Z"
   },
   {
    "duration": 75,
    "start_time": "2023-09-27T16:36:24.483Z"
   },
   {
    "duration": 94,
    "start_time": "2023-09-27T16:36:24.560Z"
   },
   {
    "duration": 156,
    "start_time": "2023-09-27T16:36:24.655Z"
   },
   {
    "duration": 242,
    "start_time": "2023-09-27T16:36:24.813Z"
   },
   {
    "duration": 158,
    "start_time": "2023-09-27T16:36:25.058Z"
   },
   {
    "duration": 67,
    "start_time": "2023-09-27T16:36:25.218Z"
   },
   {
    "duration": 162,
    "start_time": "2023-09-27T16:36:25.287Z"
   },
   {
    "duration": 0,
    "start_time": "2023-09-27T16:36:25.451Z"
   },
   {
    "duration": 0,
    "start_time": "2023-09-27T16:36:25.452Z"
   },
   {
    "duration": 0,
    "start_time": "2023-09-27T16:36:25.453Z"
   },
   {
    "duration": 19,
    "start_time": "2023-09-27T17:02:47.977Z"
   },
   {
    "duration": 15,
    "start_time": "2023-09-27T17:08:46.354Z"
   },
   {
    "duration": 16,
    "start_time": "2023-09-27T17:09:05.211Z"
   },
   {
    "duration": 12,
    "start_time": "2023-09-27T17:09:20.186Z"
   },
   {
    "duration": 17,
    "start_time": "2023-09-27T17:10:33.683Z"
   },
   {
    "duration": 20,
    "start_time": "2023-09-27T17:10:41.411Z"
   },
   {
    "duration": 15,
    "start_time": "2023-09-27T17:10:50.515Z"
   },
   {
    "duration": 17,
    "start_time": "2023-09-27T17:12:16.251Z"
   },
   {
    "duration": 16,
    "start_time": "2023-09-27T17:14:03.644Z"
   },
   {
    "duration": 23,
    "start_time": "2023-09-27T17:32:43.419Z"
   },
   {
    "duration": 291,
    "start_time": "2023-09-27T17:50:31.372Z"
   },
   {
    "duration": 173,
    "start_time": "2023-09-27T17:50:39.400Z"
   },
   {
    "duration": 3992,
    "start_time": "2023-09-27T17:50:51.476Z"
   },
   {
    "duration": 4169,
    "start_time": "2023-09-27T17:51:12.965Z"
   },
   {
    "duration": 3,
    "start_time": "2023-09-27T17:51:58.955Z"
   },
   {
    "duration": 4231,
    "start_time": "2023-09-27T17:51:59.572Z"
   },
   {
    "duration": 4315,
    "start_time": "2023-09-27T17:52:24.361Z"
   },
   {
    "duration": 4080,
    "start_time": "2023-09-27T17:52:37.367Z"
   },
   {
    "duration": 4453,
    "start_time": "2023-09-27T18:05:24.085Z"
   },
   {
    "duration": 4127,
    "start_time": "2023-09-27T18:05:43.156Z"
   },
   {
    "duration": 4290,
    "start_time": "2023-09-27T18:05:51.300Z"
   },
   {
    "duration": 4309,
    "start_time": "2023-09-27T18:06:08.172Z"
   },
   {
    "duration": 1694,
    "start_time": "2023-09-27T18:06:35.184Z"
   },
   {
    "duration": 76,
    "start_time": "2023-09-27T18:06:36.880Z"
   },
   {
    "duration": 26,
    "start_time": "2023-09-27T18:06:36.957Z"
   },
   {
    "duration": 13,
    "start_time": "2023-09-27T18:06:36.985Z"
   },
   {
    "duration": 10,
    "start_time": "2023-09-27T18:06:37.000Z"
   },
   {
    "duration": 6,
    "start_time": "2023-09-27T18:06:37.011Z"
   },
   {
    "duration": 9,
    "start_time": "2023-09-27T18:06:37.019Z"
   },
   {
    "duration": 9,
    "start_time": "2023-09-27T18:06:37.031Z"
   },
   {
    "duration": 9,
    "start_time": "2023-09-27T18:06:37.043Z"
   },
   {
    "duration": 14,
    "start_time": "2023-09-27T18:06:37.053Z"
   },
   {
    "duration": 84,
    "start_time": "2023-09-27T18:06:37.068Z"
   },
   {
    "duration": 15,
    "start_time": "2023-09-27T18:06:37.154Z"
   },
   {
    "duration": 2,
    "start_time": "2023-09-27T18:06:37.171Z"
   },
   {
    "duration": 4056,
    "start_time": "2023-09-27T18:06:37.176Z"
   },
   {
    "duration": 8,
    "start_time": "2023-09-27T18:06:41.235Z"
   },
   {
    "duration": 3530,
    "start_time": "2023-09-27T18:06:41.245Z"
   },
   {
    "duration": 4644,
    "start_time": "2023-09-27T18:09:15.812Z"
   },
   {
    "duration": 3807,
    "start_time": "2023-09-27T18:10:00.157Z"
   },
   {
    "duration": 4900,
    "start_time": "2023-09-27T18:10:12.997Z"
   },
   {
    "duration": 4960,
    "start_time": "2023-09-27T18:10:31.518Z"
   },
   {
    "duration": 7745,
    "start_time": "2023-09-27T18:12:17.380Z"
   },
   {
    "duration": 5263,
    "start_time": "2023-09-27T18:12:31.404Z"
   },
   {
    "duration": 4833,
    "start_time": "2023-09-27T18:12:42.237Z"
   },
   {
    "duration": 4613,
    "start_time": "2023-09-27T18:12:56.939Z"
   },
   {
    "duration": 4769,
    "start_time": "2023-09-27T18:13:12.996Z"
   },
   {
    "duration": 4632,
    "start_time": "2023-09-27T18:14:39.628Z"
   },
   {
    "duration": 4391,
    "start_time": "2023-09-27T18:14:53.041Z"
   },
   {
    "duration": 140,
    "start_time": "2023-09-27T18:15:21.372Z"
   },
   {
    "duration": 14964,
    "start_time": "2023-09-27T18:15:36.215Z"
   },
   {
    "duration": 4265,
    "start_time": "2023-09-27T18:19:59.492Z"
   },
   {
    "duration": 4422,
    "start_time": "2023-09-27T18:22:47.140Z"
   },
   {
    "duration": 4301,
    "start_time": "2023-09-27T18:23:02.755Z"
   },
   {
    "duration": 4334,
    "start_time": "2023-09-27T18:23:29.270Z"
   },
   {
    "duration": 24,
    "start_time": "2023-09-27T18:24:21.212Z"
   },
   {
    "duration": 4391,
    "start_time": "2023-09-27T18:24:30.604Z"
   },
   {
    "duration": 5464,
    "start_time": "2023-09-27T18:24:50.723Z"
   },
   {
    "duration": 5428,
    "start_time": "2023-09-27T18:25:13.733Z"
   },
   {
    "duration": 5181,
    "start_time": "2023-09-27T18:25:21.349Z"
   },
   {
    "duration": 1352,
    "start_time": "2023-09-27T18:25:55.973Z"
   },
   {
    "duration": 4106,
    "start_time": "2023-09-27T18:27:40.110Z"
   },
   {
    "duration": 4247,
    "start_time": "2023-09-27T18:27:44.956Z"
   },
   {
    "duration": 19,
    "start_time": "2023-09-27T18:29:10.084Z"
   },
   {
    "duration": 18,
    "start_time": "2023-09-27T18:29:27.845Z"
   },
   {
    "duration": 897,
    "start_time": "2023-09-27T18:31:36.805Z"
   },
   {
    "duration": 8609,
    "start_time": "2023-09-27T18:39:01.996Z"
   },
   {
    "duration": 4595,
    "start_time": "2023-09-27T18:39:27.205Z"
   },
   {
    "duration": 6219,
    "start_time": "2023-09-27T18:39:39.068Z"
   },
   {
    "duration": 3,
    "start_time": "2023-09-27T18:42:14.397Z"
   },
   {
    "duration": 371,
    "start_time": "2023-09-27T18:42:21.820Z"
   },
   {
    "duration": 330,
    "start_time": "2023-09-27T18:42:31.437Z"
   },
   {
    "duration": 7249,
    "start_time": "2023-09-27T18:42:39.503Z"
   },
   {
    "duration": 7448,
    "start_time": "2023-09-27T18:43:09.701Z"
   },
   {
    "duration": 5865,
    "start_time": "2023-09-27T18:43:39.269Z"
   },
   {
    "duration": 5389,
    "start_time": "2023-09-27T18:43:48.196Z"
   },
   {
    "duration": 5235,
    "start_time": "2023-09-27T18:44:21.381Z"
   },
   {
    "duration": 4363,
    "start_time": "2023-09-27T18:44:42.413Z"
   },
   {
    "duration": 7239,
    "start_time": "2023-09-27T18:45:21.058Z"
   },
   {
    "duration": 5499,
    "start_time": "2023-09-27T18:45:36.791Z"
   },
   {
    "duration": 5557,
    "start_time": "2023-09-27T18:45:53.220Z"
   },
   {
    "duration": 5268,
    "start_time": "2023-09-27T18:46:10.725Z"
   },
   {
    "duration": 285,
    "start_time": "2023-09-27T18:46:19.620Z"
   },
   {
    "duration": 5711,
    "start_time": "2023-09-27T18:46:28.166Z"
   },
   {
    "duration": 4505,
    "start_time": "2023-09-27T18:46:43.709Z"
   },
   {
    "duration": 5920,
    "start_time": "2023-09-27T18:47:05.509Z"
   },
   {
    "duration": 6287,
    "start_time": "2023-09-27T18:54:33.073Z"
   },
   {
    "duration": 5922,
    "start_time": "2023-09-27T18:54:49.557Z"
   },
   {
    "duration": 6226,
    "start_time": "2023-09-27T18:54:58.373Z"
   },
   {
    "duration": 5713,
    "start_time": "2023-09-27T18:55:26.833Z"
   },
   {
    "duration": 4126,
    "start_time": "2023-09-27T18:55:37.046Z"
   },
   {
    "duration": 4419,
    "start_time": "2023-09-27T18:55:44.870Z"
   },
   {
    "duration": 4450,
    "start_time": "2023-09-27T18:55:54.404Z"
   },
   {
    "duration": 24,
    "start_time": "2023-09-27T18:56:58.524Z"
   },
   {
    "duration": 1729,
    "start_time": "2023-09-27T18:57:10.749Z"
   },
   {
    "duration": 3417,
    "start_time": "2023-09-27T19:00:20.373Z"
   },
   {
    "duration": 2953,
    "start_time": "2023-09-27T19:01:51.775Z"
   },
   {
    "duration": 3302,
    "start_time": "2023-09-27T19:03:08.830Z"
   },
   {
    "duration": 5027,
    "start_time": "2023-09-27T19:03:29.797Z"
   },
   {
    "duration": 6205,
    "start_time": "2023-09-27T19:04:45.108Z"
   },
   {
    "duration": 6146,
    "start_time": "2023-09-27T19:07:00.498Z"
   },
   {
    "duration": 5844,
    "start_time": "2023-09-27T19:07:30.250Z"
   },
   {
    "duration": 5920,
    "start_time": "2023-09-27T19:07:48.767Z"
   },
   {
    "duration": 5971,
    "start_time": "2023-09-27T19:08:22.377Z"
   },
   {
    "duration": 6213,
    "start_time": "2023-09-27T19:08:36.698Z"
   },
   {
    "duration": 5379,
    "start_time": "2023-09-27T19:08:46.711Z"
   },
   {
    "duration": 80,
    "start_time": "2023-09-27T19:09:42.743Z"
   },
   {
    "duration": 6064,
    "start_time": "2023-09-27T19:09:48.485Z"
   },
   {
    "duration": 6145,
    "start_time": "2023-09-27T19:10:05.013Z"
   },
   {
    "duration": 398,
    "start_time": "2023-09-27T19:10:44.060Z"
   },
   {
    "duration": 405,
    "start_time": "2023-09-27T19:10:56.384Z"
   },
   {
    "duration": 6365,
    "start_time": "2023-09-27T19:11:11.459Z"
   },
   {
    "duration": 455,
    "start_time": "2023-09-27T19:11:39.980Z"
   },
   {
    "duration": 405,
    "start_time": "2023-09-27T19:11:56.510Z"
   },
   {
    "duration": 6468,
    "start_time": "2023-09-27T19:12:05.850Z"
   },
   {
    "duration": 591,
    "start_time": "2023-09-27T19:13:06.117Z"
   },
   {
    "duration": 95,
    "start_time": "2023-09-27T19:13:41.890Z"
   },
   {
    "duration": 284,
    "start_time": "2023-09-27T19:13:59.017Z"
   },
   {
    "duration": 436,
    "start_time": "2023-09-27T19:14:29.922Z"
   },
   {
    "duration": 6677,
    "start_time": "2023-09-27T19:14:40.763Z"
   },
   {
    "duration": 8296,
    "start_time": "2023-09-27T19:14:50.090Z"
   },
   {
    "duration": 6769,
    "start_time": "2023-09-27T19:15:00.238Z"
   },
   {
    "duration": 6344,
    "start_time": "2023-09-27T19:15:27.485Z"
   },
   {
    "duration": 6440,
    "start_time": "2023-09-27T19:15:52.972Z"
   },
   {
    "duration": 19,
    "start_time": "2023-09-27T19:17:18.939Z"
   },
   {
    "duration": 615471,
    "start_time": "2023-09-27T19:17:26.619Z"
   },
   {
    "duration": 2,
    "start_time": "2023-09-27T19:27:42.092Z"
   },
   {
    "duration": 10,
    "start_time": "2023-09-27T19:27:42.096Z"
   },
   {
    "duration": 6541,
    "start_time": "2023-09-27T19:40:07.853Z"
   },
   {
    "duration": 7760,
    "start_time": "2023-09-27T19:40:18.753Z"
   },
   {
    "duration": 7081,
    "start_time": "2023-09-27T19:40:28.436Z"
   },
   {
    "duration": 161,
    "start_time": "2023-09-27T19:43:41.907Z"
   },
   {
    "duration": 1690,
    "start_time": "2023-09-27T19:43:54.122Z"
   },
   {
    "duration": 3034,
    "start_time": "2023-09-27T19:44:00.560Z"
   },
   {
    "duration": 1661,
    "start_time": "2023-09-27T19:44:28.523Z"
   },
   {
    "duration": 1816,
    "start_time": "2023-09-27T19:44:35.736Z"
   },
   {
    "duration": 1941,
    "start_time": "2023-09-27T19:44:44.962Z"
   },
   {
    "duration": 1731,
    "start_time": "2023-09-27T19:45:18.509Z"
   },
   {
    "duration": 1691,
    "start_time": "2023-09-27T19:45:53.325Z"
   },
   {
    "duration": 1779,
    "start_time": "2023-09-27T19:46:35.418Z"
   },
   {
    "duration": 1789,
    "start_time": "2023-09-27T19:46:49.202Z"
   },
   {
    "duration": 1816,
    "start_time": "2023-09-27T19:47:00.379Z"
   },
   {
    "duration": 1671,
    "start_time": "2023-09-27T19:47:07.881Z"
   },
   {
    "duration": 1598,
    "start_time": "2023-09-27T19:47:28.970Z"
   },
   {
    "duration": 1976,
    "start_time": "2023-09-27T19:47:35.714Z"
   },
   {
    "duration": 26,
    "start_time": "2023-09-27T19:49:08.417Z"
   },
   {
    "duration": 1662,
    "start_time": "2023-09-27T19:49:20.959Z"
   },
   {
    "duration": 1820,
    "start_time": "2023-09-27T19:50:05.793Z"
   },
   {
    "duration": 53,
    "start_time": "2023-09-27T19:52:00.659Z"
   },
   {
    "duration": 26,
    "start_time": "2023-09-27T19:52:04.471Z"
   },
   {
    "duration": 2007,
    "start_time": "2023-09-27T19:52:16.601Z"
   },
   {
    "duration": 1852,
    "start_time": "2023-09-27T19:52:45.563Z"
   },
   {
    "duration": 1734,
    "start_time": "2023-09-27T19:55:32.783Z"
   },
   {
    "duration": 1659,
    "start_time": "2023-09-27T19:55:56.332Z"
   },
   {
    "duration": 24,
    "start_time": "2023-09-27T19:56:10.591Z"
   },
   {
    "duration": 1975,
    "start_time": "2023-09-27T19:56:50.119Z"
   },
   {
    "duration": 1883,
    "start_time": "2023-09-27T19:57:06.407Z"
   },
   {
    "duration": 1900,
    "start_time": "2023-09-27T19:57:33.886Z"
   },
   {
    "duration": 1926,
    "start_time": "2023-09-27T19:57:55.614Z"
   },
   {
    "duration": 28,
    "start_time": "2023-09-27T19:58:08.853Z"
   },
   {
    "duration": 1763,
    "start_time": "2023-09-27T19:58:21.118Z"
   },
   {
    "duration": 1821,
    "start_time": "2023-09-27T19:58:29.269Z"
   },
   {
    "duration": 34,
    "start_time": "2023-09-27T19:58:44.130Z"
   },
   {
    "duration": 1835,
    "start_time": "2023-09-27T19:58:49.351Z"
   },
   {
    "duration": 2245,
    "start_time": "2023-09-27T19:59:06.871Z"
   },
   {
    "duration": 1699,
    "start_time": "2023-09-27T20:00:27.791Z"
   },
   {
    "duration": 1736,
    "start_time": "2023-09-27T20:00:41.518Z"
   },
   {
    "duration": 5,
    "start_time": "2023-09-27T20:13:44.778Z"
   },
   {
    "duration": 3,
    "start_time": "2023-09-27T20:14:19.364Z"
   },
   {
    "duration": 12,
    "start_time": "2023-09-27T20:14:56.409Z"
   },
   {
    "duration": 20,
    "start_time": "2023-09-27T20:15:12.720Z"
   },
   {
    "duration": 9,
    "start_time": "2023-09-27T20:16:02.609Z"
   },
   {
    "duration": 5,
    "start_time": "2023-09-27T20:18:55.280Z"
   },
   {
    "duration": 10,
    "start_time": "2023-09-27T20:21:29.203Z"
   },
   {
    "duration": 43,
    "start_time": "2023-09-27T20:28:43.380Z"
   },
   {
    "duration": 3,
    "start_time": "2023-09-27T20:28:47.477Z"
   },
   {
    "duration": 54,
    "start_time": "2023-09-27T20:29:51.413Z"
   },
   {
    "duration": 13,
    "start_time": "2023-09-27T20:30:45.460Z"
   },
   {
    "duration": 5,
    "start_time": "2023-09-27T20:30:47.415Z"
   },
   {
    "duration": 7,
    "start_time": "2023-09-27T20:30:48.561Z"
   },
   {
    "duration": 19,
    "start_time": "2023-09-27T20:30:50.079Z"
   },
   {
    "duration": 7,
    "start_time": "2023-09-27T20:31:54.656Z"
   },
   {
    "duration": 52,
    "start_time": "2023-09-27T20:31:59.720Z"
   },
   {
    "duration": 9,
    "start_time": "2023-09-27T20:32:11.113Z"
   },
   {
    "duration": 9,
    "start_time": "2023-09-27T20:32:13.888Z"
   },
   {
    "duration": 7,
    "start_time": "2023-09-27T20:32:15.287Z"
   },
   {
    "duration": 3,
    "start_time": "2023-09-27T20:32:16.391Z"
   },
   {
    "duration": 25,
    "start_time": "2023-09-27T20:32:17.319Z"
   },
   {
    "duration": 545,
    "start_time": "2023-09-27T20:34:08.803Z"
   },
   {
    "duration": 593,
    "start_time": "2023-09-27T20:36:08.483Z"
   },
   {
    "duration": 438,
    "start_time": "2023-09-27T20:36:24.810Z"
   },
   {
    "duration": 8,
    "start_time": "2023-09-27T20:44:42.442Z"
   },
   {
    "duration": 20,
    "start_time": "2023-09-27T20:44:44.281Z"
   },
   {
    "duration": 2,
    "start_time": "2023-09-27T20:45:10.998Z"
   },
   {
    "duration": 56,
    "start_time": "2023-09-27T20:45:12.141Z"
   },
   {
    "duration": 3,
    "start_time": "2023-09-27T20:45:34.883Z"
   },
   {
    "duration": 35,
    "start_time": "2023-09-27T20:45:35.909Z"
   },
   {
    "duration": 7,
    "start_time": "2023-09-27T20:46:11.848Z"
   },
   {
    "duration": 17,
    "start_time": "2023-09-27T20:46:13.109Z"
   },
   {
    "duration": 36,
    "start_time": "2023-09-27T20:46:29.945Z"
   },
   {
    "duration": 3,
    "start_time": "2023-09-27T20:47:24.718Z"
   },
   {
    "duration": 419,
    "start_time": "2023-09-27T20:47:34.213Z"
   },
   {
    "duration": 4,
    "start_time": "2023-09-27T20:47:43.590Z"
   },
   {
    "duration": 877,
    "start_time": "2023-09-27T20:47:46.503Z"
   },
   {
    "duration": 594,
    "start_time": "2023-09-27T20:48:47.301Z"
   },
   {
    "duration": 606,
    "start_time": "2023-09-27T20:48:50.985Z"
   },
   {
    "duration": 17,
    "start_time": "2023-09-27T20:48:54.886Z"
   },
   {
    "duration": 14,
    "start_time": "2023-09-27T20:48:56.590Z"
   },
   {
    "duration": 948,
    "start_time": "2023-09-27T20:49:02.954Z"
   },
   {
    "duration": 15,
    "start_time": "2023-09-27T20:57:08.943Z"
   },
   {
    "duration": 133249,
    "start_time": "2023-09-27T20:57:37.155Z"
   },
   {
    "duration": 1229,
    "start_time": "2023-09-27T20:59:50.406Z"
   },
   {
    "duration": 25,
    "start_time": "2023-09-27T20:59:51.638Z"
   },
   {
    "duration": 12,
    "start_time": "2023-09-27T21:02:58.151Z"
   },
   {
    "duration": 13,
    "start_time": "2023-09-27T21:03:04.963Z"
   },
   {
    "duration": 26,
    "start_time": "2023-09-27T21:03:16.922Z"
   },
   {
    "duration": 152,
    "start_time": "2023-09-27T21:03:27.665Z"
   },
   {
    "duration": 4938,
    "start_time": "2023-09-27T21:03:37.433Z"
   },
   {
    "duration": 5,
    "start_time": "2023-09-27T21:03:58.394Z"
   },
   {
    "duration": 29,
    "start_time": "2023-09-27T21:04:08.410Z"
   },
   {
    "duration": 27,
    "start_time": "2023-09-27T21:05:01.721Z"
   },
   {
    "duration": 9699,
    "start_time": "2023-09-27T21:05:12.513Z"
   },
   {
    "duration": 1957,
    "start_time": "2023-09-28T15:10:12.133Z"
   },
   {
    "duration": 123,
    "start_time": "2023-09-28T15:10:14.092Z"
   },
   {
    "duration": 27,
    "start_time": "2023-09-28T15:10:14.217Z"
   },
   {
    "duration": 14,
    "start_time": "2023-09-28T15:10:14.246Z"
   },
   {
    "duration": 8,
    "start_time": "2023-09-28T15:10:14.263Z"
   },
   {
    "duration": 8,
    "start_time": "2023-09-28T15:10:14.273Z"
   },
   {
    "duration": 9,
    "start_time": "2023-09-28T15:10:14.283Z"
   },
   {
    "duration": 13,
    "start_time": "2023-09-28T15:10:14.294Z"
   },
   {
    "duration": 10,
    "start_time": "2023-09-28T15:10:14.309Z"
   },
   {
    "duration": 31,
    "start_time": "2023-09-28T15:10:14.321Z"
   },
   {
    "duration": 51,
    "start_time": "2023-09-28T15:10:14.354Z"
   },
   {
    "duration": 16,
    "start_time": "2023-09-28T15:10:14.406Z"
   },
   {
    "duration": 23,
    "start_time": "2023-09-28T15:10:14.424Z"
   },
   {
    "duration": 132,
    "start_time": "2023-09-28T15:10:14.450Z"
   },
   {
    "duration": 0,
    "start_time": "2023-09-28T15:10:14.584Z"
   },
   {
    "duration": 1,
    "start_time": "2023-09-28T15:10:14.586Z"
   },
   {
    "duration": 0,
    "start_time": "2023-09-28T15:10:14.588Z"
   },
   {
    "duration": 0,
    "start_time": "2023-09-28T15:10:14.589Z"
   },
   {
    "duration": 0,
    "start_time": "2023-09-28T15:10:14.591Z"
   },
   {
    "duration": 0,
    "start_time": "2023-09-28T15:10:14.593Z"
   },
   {
    "duration": 0,
    "start_time": "2023-09-28T15:10:14.594Z"
   },
   {
    "duration": 0,
    "start_time": "2023-09-28T15:10:14.596Z"
   },
   {
    "duration": 0,
    "start_time": "2023-09-28T15:10:14.597Z"
   },
   {
    "duration": 0,
    "start_time": "2023-09-28T15:10:14.599Z"
   },
   {
    "duration": 0,
    "start_time": "2023-09-28T15:10:14.601Z"
   },
   {
    "duration": 0,
    "start_time": "2023-09-28T15:10:14.602Z"
   },
   {
    "duration": 0,
    "start_time": "2023-09-28T15:10:14.604Z"
   },
   {
    "duration": 0,
    "start_time": "2023-09-28T15:10:14.605Z"
   },
   {
    "duration": 14,
    "start_time": "2023-09-28T15:11:52.734Z"
   },
   {
    "duration": 14,
    "start_time": "2023-09-28T15:12:05.879Z"
   },
   {
    "duration": 4,
    "start_time": "2023-09-28T15:12:43.208Z"
   },
   {
    "duration": 5982,
    "start_time": "2023-09-28T15:12:56.221Z"
   },
   {
    "duration": 1994,
    "start_time": "2023-09-28T15:14:26.032Z"
   },
   {
    "duration": 4,
    "start_time": "2023-09-28T15:14:43.522Z"
   },
   {
    "duration": 9,
    "start_time": "2023-09-28T15:16:08.396Z"
   },
   {
    "duration": 10,
    "start_time": "2023-09-28T15:56:22.835Z"
   },
   {
    "duration": 14,
    "start_time": "2023-09-28T16:00:21.703Z"
   },
   {
    "duration": 10,
    "start_time": "2023-09-28T16:00:46.233Z"
   },
   {
    "duration": 10,
    "start_time": "2023-09-28T16:01:09.926Z"
   },
   {
    "duration": 9,
    "start_time": "2023-09-28T16:01:31.789Z"
   },
   {
    "duration": 13,
    "start_time": "2023-09-28T16:01:49.318Z"
   },
   {
    "duration": 13,
    "start_time": "2023-09-28T16:02:06.064Z"
   },
   {
    "duration": 12,
    "start_time": "2023-09-28T16:02:13.990Z"
   },
   {
    "duration": 10,
    "start_time": "2023-09-28T16:02:54.185Z"
   },
   {
    "duration": 82,
    "start_time": "2023-09-28T16:03:05.910Z"
   },
   {
    "duration": 11,
    "start_time": "2023-09-28T16:03:09.281Z"
   },
   {
    "duration": 12,
    "start_time": "2023-09-28T16:03:14.181Z"
   },
   {
    "duration": 11,
    "start_time": "2023-09-28T16:03:45.784Z"
   },
   {
    "duration": 10,
    "start_time": "2023-09-28T16:04:25.926Z"
   },
   {
    "duration": 17,
    "start_time": "2023-09-28T16:04:37.855Z"
   },
   {
    "duration": 11,
    "start_time": "2023-09-28T16:05:36.070Z"
   },
   {
    "duration": 11,
    "start_time": "2023-09-28T16:07:44.526Z"
   },
   {
    "duration": 12,
    "start_time": "2023-09-28T16:07:54.606Z"
   },
   {
    "duration": 10,
    "start_time": "2023-09-28T16:13:08.918Z"
   },
   {
    "duration": 6,
    "start_time": "2023-09-28T16:13:20.639Z"
   },
   {
    "duration": 9,
    "start_time": "2023-09-28T16:30:38.414Z"
   },
   {
    "duration": 3,
    "start_time": "2023-09-28T17:05:11.573Z"
   },
   {
    "duration": 592,
    "start_time": "2023-09-28T17:05:12.869Z"
   },
   {
    "duration": 3,
    "start_time": "2023-09-28T17:27:04.810Z"
   },
   {
    "duration": 605,
    "start_time": "2023-09-28T17:27:06.729Z"
   },
   {
    "duration": 414,
    "start_time": "2023-09-28T17:29:04.233Z"
   },
   {
    "duration": 570,
    "start_time": "2023-09-28T17:29:14.306Z"
   },
   {
    "duration": 17,
    "start_time": "2023-09-28T17:30:31.274Z"
   },
   {
    "duration": 3,
    "start_time": "2023-09-28T17:30:38.272Z"
   },
   {
    "duration": 555,
    "start_time": "2023-09-28T17:30:39.008Z"
   },
   {
    "duration": 3,
    "start_time": "2023-09-28T17:31:01.670Z"
   },
   {
    "duration": 640,
    "start_time": "2023-09-28T17:31:02.690Z"
   },
   {
    "duration": 649,
    "start_time": "2023-09-28T17:31:12.366Z"
   },
   {
    "duration": 645,
    "start_time": "2023-09-28T17:31:20.265Z"
   },
   {
    "duration": 3,
    "start_time": "2023-09-28T17:34:22.526Z"
   },
   {
    "duration": 17,
    "start_time": "2023-09-28T17:34:23.801Z"
   },
   {
    "duration": 3,
    "start_time": "2023-09-28T17:34:29.624Z"
   },
   {
    "duration": 549,
    "start_time": "2023-09-28T17:34:30.974Z"
   },
   {
    "duration": 4266,
    "start_time": "2023-09-28T17:59:22.325Z"
   },
   {
    "duration": 4709,
    "start_time": "2023-09-28T18:06:27.526Z"
   },
   {
    "duration": 11,
    "start_time": "2023-09-28T18:14:56.519Z"
   },
   {
    "duration": 3116,
    "start_time": "2023-09-28T18:15:46.569Z"
   },
   {
    "duration": 4958,
    "start_time": "2023-09-28T18:16:22.048Z"
   },
   {
    "duration": 5663,
    "start_time": "2023-09-28T18:16:39.682Z"
   },
   {
    "duration": 3933,
    "start_time": "2023-09-28T18:16:55.015Z"
   },
   {
    "duration": 4018,
    "start_time": "2023-09-28T18:17:12.142Z"
   },
   {
    "duration": 3857,
    "start_time": "2023-09-28T18:17:23.623Z"
   },
   {
    "duration": 115,
    "start_time": "2023-09-28T18:20:05.975Z"
   },
   {
    "duration": 1186,
    "start_time": "2023-09-28T18:20:12.226Z"
   },
   {
    "duration": 1117,
    "start_time": "2023-09-28T18:20:26.361Z"
   },
   {
    "duration": 4685,
    "start_time": "2023-09-28T18:20:41.176Z"
   },
   {
    "duration": 95,
    "start_time": "2023-09-28T18:21:46.241Z"
   },
   {
    "duration": 2705,
    "start_time": "2023-09-28T18:21:56.011Z"
   },
   {
    "duration": 899,
    "start_time": "2023-09-28T18:22:18.304Z"
   },
   {
    "duration": 3843,
    "start_time": "2023-09-28T18:22:26.432Z"
   },
   {
    "duration": 3824,
    "start_time": "2023-09-28T18:24:30.025Z"
   },
   {
    "duration": 4152,
    "start_time": "2023-09-28T18:24:35.240Z"
   },
   {
    "duration": 4652,
    "start_time": "2023-09-28T18:24:53.321Z"
   },
   {
    "duration": 13,
    "start_time": "2023-09-28T18:25:44.681Z"
   },
   {
    "duration": 13,
    "start_time": "2023-09-28T18:25:49.304Z"
   },
   {
    "duration": 2928,
    "start_time": "2023-09-28T18:25:56.866Z"
   },
   {
    "duration": 9,
    "start_time": "2023-09-28T18:33:24.114Z"
   },
   {
    "duration": 126579,
    "start_time": "2023-09-28T18:33:29.568Z"
   },
   {
    "duration": 1513,
    "start_time": "2023-09-28T18:35:56.137Z"
   },
   {
    "duration": 3913,
    "start_time": "2023-09-28T18:35:59.789Z"
   },
   {
    "duration": 1615,
    "start_time": "2023-09-28T18:39:17.234Z"
   },
   {
    "duration": 6022,
    "start_time": "2023-09-28T18:43:52.584Z"
   },
   {
    "duration": 3,
    "start_time": "2023-09-28T18:49:28.228Z"
   },
   {
    "duration": 17,
    "start_time": "2023-09-28T18:49:28.723Z"
   },
   {
    "duration": 12,
    "start_time": "2023-09-28T18:53:03.310Z"
   },
   {
    "duration": 8,
    "start_time": "2023-09-28T18:54:50.108Z"
   },
   {
    "duration": 24269,
    "start_time": "2023-09-28T18:56:16.819Z"
   },
   {
    "duration": 15,
    "start_time": "2023-09-28T18:56:48.044Z"
   },
   {
    "duration": 12,
    "start_time": "2023-09-28T18:59:12.104Z"
   },
   {
    "duration": 12,
    "start_time": "2023-09-28T18:59:18.724Z"
   },
   {
    "duration": 4,
    "start_time": "2023-09-28T18:59:31.382Z"
   },
   {
    "duration": 15,
    "start_time": "2023-09-28T18:59:32.540Z"
   },
   {
    "duration": 14,
    "start_time": "2023-09-28T18:59:49.394Z"
   },
   {
    "duration": 5,
    "start_time": "2023-09-28T19:00:04.132Z"
   },
   {
    "duration": 1171,
    "start_time": "2023-09-28T19:00:04.707Z"
   },
   {
    "duration": 25,
    "start_time": "2023-09-28T19:02:35.807Z"
   },
   {
    "duration": 5,
    "start_time": "2023-09-28T19:02:37.141Z"
   },
   {
    "duration": 17,
    "start_time": "2023-09-28T19:06:03.877Z"
   },
   {
    "duration": 21,
    "start_time": "2023-09-28T19:06:21.687Z"
   },
   {
    "duration": 26,
    "start_time": "2023-09-28T19:06:32.516Z"
   },
   {
    "duration": 11,
    "start_time": "2023-09-28T19:07:33.682Z"
   },
   {
    "duration": 7,
    "start_time": "2023-09-28T19:07:46.935Z"
   },
   {
    "duration": 7,
    "start_time": "2023-09-28T19:08:25.605Z"
   },
   {
    "duration": 20,
    "start_time": "2023-09-28T19:08:43.228Z"
   },
   {
    "duration": 1278,
    "start_time": "2023-09-28T19:10:43.510Z"
   },
   {
    "duration": 1634,
    "start_time": "2023-09-28T19:11:32.925Z"
   },
   {
    "duration": 1378,
    "start_time": "2023-09-28T19:11:50.950Z"
   },
   {
    "duration": 1316,
    "start_time": "2023-09-28T19:12:37.253Z"
   },
   {
    "duration": 1544,
    "start_time": "2023-09-28T19:14:26.366Z"
   },
   {
    "duration": 139,
    "start_time": "2023-09-28T19:16:10.141Z"
   },
   {
    "duration": 647,
    "start_time": "2023-09-28T19:16:16.710Z"
   },
   {
    "duration": 678,
    "start_time": "2023-09-28T19:16:31.087Z"
   },
   {
    "duration": 6,
    "start_time": "2023-09-28T19:24:26.838Z"
   },
   {
    "duration": 7,
    "start_time": "2023-09-28T19:24:45.020Z"
   },
   {
    "duration": 17,
    "start_time": "2023-09-28T19:29:58.423Z"
   },
   {
    "duration": 18,
    "start_time": "2023-09-28T19:36:58.293Z"
   },
   {
    "duration": 24,
    "start_time": "2023-09-28T19:39:02.156Z"
   },
   {
    "duration": 2608,
    "start_time": "2023-09-28T19:39:08.589Z"
   },
   {
    "duration": 0,
    "start_time": "2023-09-28T19:42:36.299Z"
   },
   {
    "duration": 236695,
    "start_time": "2023-09-28T19:42:39.386Z"
   },
   {
    "duration": 0,
    "start_time": "2023-09-28T19:46:36.095Z"
   },
   {
    "duration": 67829,
    "start_time": "2023-09-28T19:46:57.973Z"
   },
   {
    "duration": 2420,
    "start_time": "2023-09-28T19:48:12.117Z"
   },
   {
    "duration": 7458,
    "start_time": "2023-09-28T19:48:29.159Z"
   },
   {
    "duration": 296856,
    "start_time": "2023-09-28T19:49:17.807Z"
   },
   {
    "duration": 3241,
    "start_time": "2023-09-28T20:00:57.564Z"
   },
   {
    "duration": 1773,
    "start_time": "2023-09-28T20:33:29.440Z"
   },
   {
    "duration": 131,
    "start_time": "2023-09-28T20:33:31.215Z"
   },
   {
    "duration": 40,
    "start_time": "2023-09-28T20:33:31.352Z"
   },
   {
    "duration": 24,
    "start_time": "2023-09-28T20:33:31.397Z"
   },
   {
    "duration": 73,
    "start_time": "2023-09-28T20:33:31.423Z"
   },
   {
    "duration": 43,
    "start_time": "2023-09-28T20:33:31.498Z"
   },
   {
    "duration": 47,
    "start_time": "2023-09-28T20:33:31.542Z"
   },
   {
    "duration": 42,
    "start_time": "2023-09-28T20:33:31.591Z"
   },
   {
    "duration": 55,
    "start_time": "2023-09-28T20:33:31.635Z"
   },
   {
    "duration": 42,
    "start_time": "2023-09-28T20:33:31.692Z"
   },
   {
    "duration": 114,
    "start_time": "2023-09-28T20:33:31.735Z"
   },
   {
    "duration": 25,
    "start_time": "2023-09-28T20:33:31.850Z"
   },
   {
    "duration": 23,
    "start_time": "2023-09-28T20:33:31.876Z"
   },
   {
    "duration": 6957,
    "start_time": "2023-09-28T20:33:31.903Z"
   },
   {
    "duration": 1985,
    "start_time": "2023-09-28T20:33:38.861Z"
   },
   {
    "duration": 4,
    "start_time": "2023-09-28T20:33:40.848Z"
   },
   {
    "duration": 33,
    "start_time": "2023-09-28T20:33:40.854Z"
   },
   {
    "duration": 35,
    "start_time": "2023-09-28T20:33:40.889Z"
   },
   {
    "duration": 29,
    "start_time": "2023-09-28T20:33:40.926Z"
   },
   {
    "duration": 55,
    "start_time": "2023-09-28T20:33:40.957Z"
   },
   {
    "duration": 1415,
    "start_time": "2023-09-28T20:33:41.014Z"
   },
   {
    "duration": 17,
    "start_time": "2023-09-28T20:33:42.431Z"
   },
   {
    "duration": 149381,
    "start_time": "2023-09-28T20:33:42.450Z"
   },
   {
    "duration": 1113,
    "start_time": "2023-09-28T20:36:11.833Z"
   },
   {
    "duration": 47,
    "start_time": "2023-09-28T20:36:12.953Z"
   },
   {
    "duration": 54,
    "start_time": "2023-09-28T20:36:13.002Z"
   },
   {
    "duration": 6,
    "start_time": "2023-09-28T20:36:13.058Z"
   },
   {
    "duration": 3341,
    "start_time": "2023-09-28T20:36:13.073Z"
   },
   {
    "duration": 2431,
    "start_time": "2023-09-28T20:36:16.416Z"
   },
   {
    "duration": 16,
    "start_time": "2023-09-28T20:43:41.289Z"
   },
   {
    "duration": 1511,
    "start_time": "2023-09-28T20:46:02.777Z"
   },
   {
    "duration": 17,
    "start_time": "2023-09-28T20:46:25.986Z"
   },
   {
    "duration": 21,
    "start_time": "2023-09-28T20:48:14.779Z"
   },
   {
    "duration": 27,
    "start_time": "2023-09-28T20:48:37.536Z"
   },
   {
    "duration": 19,
    "start_time": "2023-09-28T20:48:47.224Z"
   },
   {
    "duration": 36,
    "start_time": "2023-09-28T20:49:22.776Z"
   },
   {
    "duration": 6,
    "start_time": "2023-09-28T20:49:27.936Z"
   },
   {
    "duration": 324,
    "start_time": "2023-09-28T20:49:30.386Z"
   },
   {
    "duration": 31,
    "start_time": "2023-09-28T20:50:32.729Z"
   },
   {
    "duration": 44,
    "start_time": "2023-09-28T20:50:45.432Z"
   },
   {
    "duration": 28,
    "start_time": "2023-09-28T20:50:50.535Z"
   },
   {
    "duration": 29,
    "start_time": "2023-09-28T20:51:05.448Z"
   },
   {
    "duration": 17,
    "start_time": "2023-09-28T20:51:29.390Z"
   },
   {
    "duration": 21,
    "start_time": "2023-09-28T20:51:35.032Z"
   },
   {
    "duration": 7431,
    "start_time": "2023-09-29T17:22:19.884Z"
   },
   {
    "duration": 115,
    "start_time": "2023-09-29T17:22:27.317Z"
   },
   {
    "duration": 26,
    "start_time": "2023-09-29T17:22:27.433Z"
   },
   {
    "duration": 14,
    "start_time": "2023-09-29T17:22:27.462Z"
   },
   {
    "duration": 5,
    "start_time": "2023-09-29T17:22:27.477Z"
   },
   {
    "duration": 13,
    "start_time": "2023-09-29T17:22:27.484Z"
   },
   {
    "duration": 10,
    "start_time": "2023-09-29T17:22:27.498Z"
   },
   {
    "duration": 6,
    "start_time": "2023-09-29T17:22:27.509Z"
   },
   {
    "duration": 32,
    "start_time": "2023-09-29T17:22:27.516Z"
   },
   {
    "duration": 9,
    "start_time": "2023-09-29T17:22:27.551Z"
   },
   {
    "duration": 52,
    "start_time": "2023-09-29T17:22:27.561Z"
   },
   {
    "duration": 39,
    "start_time": "2023-09-29T17:22:27.615Z"
   },
   {
    "duration": 2,
    "start_time": "2023-09-29T17:22:27.656Z"
   },
   {
    "duration": 5555,
    "start_time": "2023-09-29T17:22:27.660Z"
   },
   {
    "duration": 1602,
    "start_time": "2023-09-29T17:22:33.216Z"
   },
   {
    "duration": 4,
    "start_time": "2023-09-29T17:22:34.819Z"
   },
   {
    "duration": 23,
    "start_time": "2023-09-29T17:22:34.825Z"
   },
   {
    "duration": 10,
    "start_time": "2023-09-29T17:22:34.849Z"
   },
   {
    "duration": 5,
    "start_time": "2023-09-29T17:22:34.860Z"
   },
   {
    "duration": 4,
    "start_time": "2023-09-29T17:22:34.867Z"
   },
   {
    "duration": 657,
    "start_time": "2023-09-29T17:22:34.873Z"
   },
   {
    "duration": 14,
    "start_time": "2023-09-29T17:22:35.532Z"
   },
   {
    "duration": 121409,
    "start_time": "2023-09-29T17:22:35.548Z"
   },
   {
    "duration": 1497,
    "start_time": "2023-09-29T17:24:36.959Z"
   },
   {
    "duration": 13,
    "start_time": "2023-09-29T17:24:38.548Z"
   },
   {
    "duration": 15,
    "start_time": "2023-09-29T17:24:38.562Z"
   },
   {
    "duration": 4,
    "start_time": "2023-09-29T17:24:38.579Z"
   },
   {
    "duration": 2657,
    "start_time": "2023-09-29T17:24:38.586Z"
   },
   {
    "duration": 1860,
    "start_time": "2023-09-29T17:24:41.246Z"
   },
   {
    "duration": 1775,
    "start_time": "2023-09-29T19:26:18.724Z"
   },
   {
    "duration": 123,
    "start_time": "2023-09-29T19:26:20.501Z"
   },
   {
    "duration": 1589,
    "start_time": "2023-09-29T19:26:50.398Z"
   },
   {
    "duration": 79,
    "start_time": "2023-09-29T19:26:51.989Z"
   },
   {
    "duration": 30,
    "start_time": "2023-09-29T19:26:52.070Z"
   },
   {
    "duration": 15,
    "start_time": "2023-09-29T19:26:52.102Z"
   },
   {
    "duration": 12,
    "start_time": "2023-09-29T19:26:52.120Z"
   },
   {
    "duration": 31,
    "start_time": "2023-09-29T19:26:52.134Z"
   },
   {
    "duration": 10,
    "start_time": "2023-09-29T19:26:52.167Z"
   },
   {
    "duration": 15,
    "start_time": "2023-09-29T19:26:52.179Z"
   },
   {
    "duration": 26,
    "start_time": "2023-09-29T19:26:52.196Z"
   },
   {
    "duration": 29,
    "start_time": "2023-09-29T19:26:52.224Z"
   },
   {
    "duration": 84,
    "start_time": "2023-09-29T19:26:52.255Z"
   },
   {
    "duration": 14,
    "start_time": "2023-09-29T19:26:52.341Z"
   },
   {
    "duration": 11,
    "start_time": "2023-09-29T19:26:52.357Z"
   },
   {
    "duration": 5875,
    "start_time": "2023-09-29T19:26:52.371Z"
   },
   {
    "duration": 1746,
    "start_time": "2023-09-29T19:26:58.248Z"
   },
   {
    "duration": 4,
    "start_time": "2023-09-29T19:26:59.996Z"
   },
   {
    "duration": 61,
    "start_time": "2023-09-29T19:27:00.002Z"
   },
   {
    "duration": 67,
    "start_time": "2023-09-29T19:27:00.066Z"
   },
   {
    "duration": 35,
    "start_time": "2023-09-29T19:27:00.134Z"
   },
   {
    "duration": 65,
    "start_time": "2023-09-29T19:27:00.174Z"
   },
   {
    "duration": 812,
    "start_time": "2023-09-29T19:27:00.241Z"
   },
   {
    "duration": 7,
    "start_time": "2023-09-29T19:27:01.055Z"
   },
   {
    "duration": 126098,
    "start_time": "2023-09-29T19:27:01.064Z"
   },
   {
    "duration": 1240,
    "start_time": "2023-09-29T19:29:07.164Z"
   },
   {
    "duration": 106,
    "start_time": "2023-09-29T19:29:08.485Z"
   },
   {
    "duration": 20,
    "start_time": "2023-09-29T19:29:08.593Z"
   },
   {
    "duration": 6,
    "start_time": "2023-09-29T19:29:08.615Z"
   },
   {
    "duration": 2697,
    "start_time": "2023-09-29T19:29:08.623Z"
   },
   {
    "duration": 1923,
    "start_time": "2023-09-29T19:29:11.322Z"
   },
   {
    "duration": 1922,
    "start_time": "2023-09-29T19:50:57.698Z"
   },
   {
    "duration": 1587,
    "start_time": "2023-10-14T13:43:36.637Z"
   },
   {
    "duration": 104,
    "start_time": "2023-10-14T13:43:38.226Z"
   },
   {
    "duration": 28,
    "start_time": "2023-10-14T13:43:38.331Z"
   },
   {
    "duration": 13,
    "start_time": "2023-10-14T13:43:38.362Z"
   },
   {
    "duration": 45,
    "start_time": "2023-10-14T13:43:38.377Z"
   },
   {
    "duration": 12,
    "start_time": "2023-10-14T13:43:38.423Z"
   },
   {
    "duration": 17,
    "start_time": "2023-10-14T13:43:38.437Z"
   },
   {
    "duration": 25,
    "start_time": "2023-10-14T13:43:38.456Z"
   },
   {
    "duration": 19,
    "start_time": "2023-10-14T13:43:38.483Z"
   },
   {
    "duration": 18,
    "start_time": "2023-10-14T13:43:38.504Z"
   },
   {
    "duration": 48,
    "start_time": "2023-10-14T13:43:38.523Z"
   },
   {
    "duration": 12,
    "start_time": "2023-10-14T13:43:38.573Z"
   },
   {
    "duration": 3,
    "start_time": "2023-10-14T13:43:38.586Z"
   },
   {
    "duration": 4631,
    "start_time": "2023-10-14T13:43:38.590Z"
   },
   {
    "duration": 1336,
    "start_time": "2023-10-14T13:43:43.222Z"
   },
   {
    "duration": 4,
    "start_time": "2023-10-14T13:43:44.559Z"
   },
   {
    "duration": 8,
    "start_time": "2023-10-14T13:43:44.564Z"
   },
   {
    "duration": 8,
    "start_time": "2023-10-14T13:43:44.573Z"
   },
   {
    "duration": 5,
    "start_time": "2023-10-14T13:43:44.582Z"
   },
   {
    "duration": 4,
    "start_time": "2023-10-14T13:43:44.588Z"
   },
   {
    "duration": 577,
    "start_time": "2023-10-14T13:43:44.594Z"
   },
   {
    "duration": 7,
    "start_time": "2023-10-14T13:43:45.173Z"
   },
   {
    "duration": 85883,
    "start_time": "2023-10-14T13:43:45.182Z"
   },
   {
    "duration": 890,
    "start_time": "2023-10-14T13:45:11.066Z"
   },
   {
    "duration": 98,
    "start_time": "2023-10-14T13:45:11.957Z"
   },
   {
    "duration": 95,
    "start_time": "2023-10-14T13:45:12.056Z"
   },
   {
    "duration": 5,
    "start_time": "2023-10-14T13:45:12.153Z"
   },
   {
    "duration": 2028,
    "start_time": "2023-10-14T13:45:12.160Z"
   },
   {
    "duration": 1519,
    "start_time": "2023-10-14T13:45:14.190Z"
   }
  ],
  "kernelspec": {
   "display_name": "Python 3 (ipykernel)",
   "language": "python",
   "name": "python3"
  },
  "language_info": {
   "codemirror_mode": {
    "name": "ipython",
    "version": 3
   },
   "file_extension": ".py",
   "mimetype": "text/x-python",
   "name": "python",
   "nbconvert_exporter": "python",
   "pygments_lexer": "ipython3",
   "version": "3.9.13"
  },
  "toc": {
   "base_numbering": 1,
   "nav_menu": {},
   "number_sections": true,
   "sideBar": true,
   "skip_h1_title": true,
   "title_cell": "Table of Contents",
   "title_sidebar": "Contents",
   "toc_cell": false,
   "toc_position": {},
   "toc_section_display": true,
   "toc_window_display": false
  }
 },
 "nbformat": 4,
 "nbformat_minor": 2
}
