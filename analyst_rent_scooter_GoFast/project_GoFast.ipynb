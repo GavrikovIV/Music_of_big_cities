{
 "cells": [
  {
   "cell_type": "markdown",
   "id": "a944566b",
   "metadata": {},
   "source": [
    "# Cервис аренды самокатов GoFast"
   ]
  },
  {
   "cell_type": "markdown",
   "id": "c62345d0",
   "metadata": {},
   "source": [
    "# Описание проекта\n",
    "**Популярный сервис аренды самокатов GoFast.**  <br>\n",
    "Представлены данные о некоторых пользователях из нескольких городов, а также об их поездках. \n",
    " \n",
    "Чтобы совершать поездки по городу, пользователи сервиса GoFast пользуются мобильным приложением. <br>\n",
    "Сервисом можно пользоваться:<br>\n",
    "- без подписки  \n",
    " - абонентская плата отсутствует;  \n",
    " - стоимость одной минуты поездки — 8 рублей;\n",
    " - стоимость старта (начала поездки) — 50 рублей;\n",
    "- с подпиской Ultra\n",
    " - абонентская плата — 199 рублей в месяц;\n",
    " - стоимость одной минуты поездки — 6 рублей;\n",
    " - стоимость старта — бесплатно.<br>\n",
    "<br>"
   ]
  },
  {
   "cell_type": "markdown",
   "id": "7857658f",
   "metadata": {},
   "source": [
    "# Задача\n",
    "Проанализировать данные и проверьте некоторые гипотезы, которые могут помочь бизнесу вырасти.<br> "
   ]
  },
  {
   "cell_type": "code",
   "execution_count": 1,
   "id": "765ae0ea",
   "metadata": {},
   "outputs": [],
   "source": [
    "# Загрузим необходимые библиотеки\n",
    "import pandas as pd\n",
    "import matplotlib.pyplot as plt\n",
    "import seaborn as sns\n",
    "import numpy as np\n",
    "from scipy import stats as st\n",
    "from scipy.stats import binom\n",
    "from math import factorial\n",
    "pd.set_option('display.max_rows', None)"
   ]
  },
  {
   "cell_type": "markdown",
   "id": "c42cbe00",
   "metadata": {},
   "source": [
    "## Шаг 1. Загрузка данных"
   ]
  },
  {
   "cell_type": "code",
   "execution_count": 2,
   "id": "eff9f206",
   "metadata": {},
   "outputs": [],
   "source": [
    "try:\n",
    "    users_go = pd.read_csv(r'C:\\goFast\\users_go.csv')\n",
    "    rides_go = pd.read_csv(r'C:\\goFast\\rides_go.csv',)\n",
    "    subscrip_go = pd.read_csv(r'C:\\goFast\\subscriptions_go.csv')\n",
    "except:\n",
    "    users_go = pd.read_csv('/datasets/users_go.csv')\n",
    "    rides_go = pd.read_csv('/datasets/rides_go.csv')\n",
    "    subscrip_go = pd.read_csv('/datasets/subscriptions_go.csv')"
   ]
  },
  {
   "cell_type": "markdown",
   "id": "6aa0dece",
   "metadata": {},
   "source": [
    "### Описание данных"
   ]
  },
  {
   "cell_type": "code",
   "execution_count": 3,
   "id": "07476869",
   "metadata": {},
   "outputs": [
    {
     "data": {
      "text/html": [
       "<div>\n",
       "<style scoped>\n",
       "    .dataframe tbody tr th:only-of-type {\n",
       "        vertical-align: middle;\n",
       "    }\n",
       "\n",
       "    .dataframe tbody tr th {\n",
       "        vertical-align: top;\n",
       "    }\n",
       "\n",
       "    .dataframe thead th {\n",
       "        text-align: right;\n",
       "    }\n",
       "</style>\n",
       "<table border=\"1\" class=\"dataframe\">\n",
       "  <thead>\n",
       "    <tr style=\"text-align: right;\">\n",
       "      <th></th>\n",
       "      <th>user_id</th>\n",
       "      <th>name</th>\n",
       "      <th>age</th>\n",
       "      <th>city</th>\n",
       "      <th>subscription_type</th>\n",
       "    </tr>\n",
       "  </thead>\n",
       "  <tbody>\n",
       "    <tr>\n",
       "      <th>0</th>\n",
       "      <td>1</td>\n",
       "      <td>Кира</td>\n",
       "      <td>22</td>\n",
       "      <td>Тюмень</td>\n",
       "      <td>ultra</td>\n",
       "    </tr>\n",
       "    <tr>\n",
       "      <th>1</th>\n",
       "      <td>2</td>\n",
       "      <td>Станислав</td>\n",
       "      <td>31</td>\n",
       "      <td>Омск</td>\n",
       "      <td>ultra</td>\n",
       "    </tr>\n",
       "  </tbody>\n",
       "</table>\n",
       "</div>"
      ],
      "text/plain": [
       "   user_id       name  age    city subscription_type\n",
       "0        1       Кира   22  Тюмень             ultra\n",
       "1        2  Станислав   31    Омск             ultra"
      ]
     },
     "metadata": {},
     "output_type": "display_data"
    }
   ],
   "source": [
    "display(users_go.head(2))"
   ]
  },
  {
   "cell_type": "markdown",
   "id": "88bfa8a3",
   "metadata": {},
   "source": [
    "`user_id`\tуникальный идентификатор пользователя  \n",
    "`name`\tимя пользователя  \n",
    "`age`\tвозраст  \n",
    "`city`\tгород  \n",
    "`subscription_type`\tтип подписки (free, ultra)  "
   ]
  },
  {
   "cell_type": "code",
   "execution_count": 4,
   "id": "fe80299e",
   "metadata": {},
   "outputs": [
    {
     "name": "stdout",
     "output_type": "stream",
     "text": [
      "<class 'pandas.core.frame.DataFrame'>\n",
      "RangeIndex: 1565 entries, 0 to 1564\n",
      "Data columns (total 5 columns):\n",
      " #   Column             Non-Null Count  Dtype \n",
      "---  ------             --------------  ----- \n",
      " 0   user_id            1565 non-null   int64 \n",
      " 1   name               1565 non-null   object\n",
      " 2   age                1565 non-null   int64 \n",
      " 3   city               1565 non-null   object\n",
      " 4   subscription_type  1565 non-null   object\n",
      "dtypes: int64(2), object(3)\n",
      "memory usage: 61.3+ KB\n"
     ]
    }
   ],
   "source": [
    "users_go.info()"
   ]
  },
  {
   "cell_type": "code",
   "execution_count": 5,
   "id": "9afb29e5",
   "metadata": {},
   "outputs": [
    {
     "data": {
      "text/html": [
       "<div>\n",
       "<style scoped>\n",
       "    .dataframe tbody tr th:only-of-type {\n",
       "        vertical-align: middle;\n",
       "    }\n",
       "\n",
       "    .dataframe tbody tr th {\n",
       "        vertical-align: top;\n",
       "    }\n",
       "\n",
       "    .dataframe thead th {\n",
       "        text-align: right;\n",
       "    }\n",
       "</style>\n",
       "<table border=\"1\" class=\"dataframe\">\n",
       "  <thead>\n",
       "    <tr style=\"text-align: right;\">\n",
       "      <th></th>\n",
       "      <th>user_id</th>\n",
       "      <th>distance</th>\n",
       "      <th>duration</th>\n",
       "      <th>date</th>\n",
       "    </tr>\n",
       "  </thead>\n",
       "  <tbody>\n",
       "    <tr>\n",
       "      <th>0</th>\n",
       "      <td>1</td>\n",
       "      <td>4409.919140</td>\n",
       "      <td>25.599769</td>\n",
       "      <td>2021-01-01</td>\n",
       "    </tr>\n",
       "    <tr>\n",
       "      <th>1</th>\n",
       "      <td>1</td>\n",
       "      <td>2617.592153</td>\n",
       "      <td>15.816871</td>\n",
       "      <td>2021-01-18</td>\n",
       "    </tr>\n",
       "  </tbody>\n",
       "</table>\n",
       "</div>"
      ],
      "text/plain": [
       "   user_id     distance   duration        date\n",
       "0        1  4409.919140  25.599769  2021-01-01\n",
       "1        1  2617.592153  15.816871  2021-01-18"
      ]
     },
     "metadata": {},
     "output_type": "display_data"
    }
   ],
   "source": [
    "display(rides_go.head(2))"
   ]
  },
  {
   "cell_type": "markdown",
   "id": "2752925e",
   "metadata": {},
   "source": [
    "`user_id`\tуникальный идентификатор пользователя  \n",
    "`distance`\tрасстояние, которое пользователь проехал в текущей сессии (в метрах)  \n",
    "`duration`\tпродолжительность сессии (в минутах) — время с того момента, как пользователь нажал кнопку «Начать поездку»  \n",
    "до момента, как он нажал кнопку «Завершить поездку»  \n",
    "`date`\tдата совершения поездки  "
   ]
  },
  {
   "cell_type": "code",
   "execution_count": 6,
   "id": "77d31bd6",
   "metadata": {},
   "outputs": [
    {
     "name": "stdout",
     "output_type": "stream",
     "text": [
      "<class 'pandas.core.frame.DataFrame'>\n",
      "RangeIndex: 18068 entries, 0 to 18067\n",
      "Data columns (total 4 columns):\n",
      " #   Column    Non-Null Count  Dtype  \n",
      "---  ------    --------------  -----  \n",
      " 0   user_id   18068 non-null  int64  \n",
      " 1   distance  18068 non-null  float64\n",
      " 2   duration  18068 non-null  float64\n",
      " 3   date      18068 non-null  object \n",
      "dtypes: float64(2), int64(1), object(1)\n",
      "memory usage: 564.8+ KB\n"
     ]
    }
   ],
   "source": [
    "rides_go.info()"
   ]
  },
  {
   "cell_type": "code",
   "execution_count": 7,
   "id": "3348a6dc",
   "metadata": {},
   "outputs": [
    {
     "data": {
      "text/html": [
       "<div>\n",
       "<style scoped>\n",
       "    .dataframe tbody tr th:only-of-type {\n",
       "        vertical-align: middle;\n",
       "    }\n",
       "\n",
       "    .dataframe tbody tr th {\n",
       "        vertical-align: top;\n",
       "    }\n",
       "\n",
       "    .dataframe thead th {\n",
       "        text-align: right;\n",
       "    }\n",
       "</style>\n",
       "<table border=\"1\" class=\"dataframe\">\n",
       "  <thead>\n",
       "    <tr style=\"text-align: right;\">\n",
       "      <th></th>\n",
       "      <th>subscription_type</th>\n",
       "      <th>minute_price</th>\n",
       "      <th>start_ride_price</th>\n",
       "      <th>subscription_fee</th>\n",
       "    </tr>\n",
       "  </thead>\n",
       "  <tbody>\n",
       "    <tr>\n",
       "      <th>0</th>\n",
       "      <td>free</td>\n",
       "      <td>8</td>\n",
       "      <td>50</td>\n",
       "      <td>0</td>\n",
       "    </tr>\n",
       "    <tr>\n",
       "      <th>1</th>\n",
       "      <td>ultra</td>\n",
       "      <td>6</td>\n",
       "      <td>0</td>\n",
       "      <td>199</td>\n",
       "    </tr>\n",
       "  </tbody>\n",
       "</table>\n",
       "</div>"
      ],
      "text/plain": [
       "  subscription_type  minute_price  start_ride_price  subscription_fee\n",
       "0              free             8                50                 0\n",
       "1             ultra             6                 0               199"
      ]
     },
     "metadata": {},
     "output_type": "display_data"
    }
   ],
   "source": [
    "display(subscrip_go.head(2))"
   ]
  },
  {
   "cell_type": "markdown",
   "id": "ed24096c",
   "metadata": {},
   "source": [
    "`subscription_type`\tтип подписки  \n",
    "`minute_price`\tстоимость одной минуты поездки по данной подписке  \n",
    "`start_ride_price`\tстоимость начала поездки  \n",
    "`subscription_fee`\tстоимость ежемесячного платежа"
   ]
  },
  {
   "cell_type": "code",
   "execution_count": 8,
   "id": "cc79d141",
   "metadata": {},
   "outputs": [
    {
     "name": "stdout",
     "output_type": "stream",
     "text": [
      "<class 'pandas.core.frame.DataFrame'>\n",
      "RangeIndex: 2 entries, 0 to 1\n",
      "Data columns (total 4 columns):\n",
      " #   Column             Non-Null Count  Dtype \n",
      "---  ------             --------------  ----- \n",
      " 0   subscription_type  2 non-null      object\n",
      " 1   minute_price       2 non-null      int64 \n",
      " 2   start_ride_price   2 non-null      int64 \n",
      " 3   subscription_fee   2 non-null      int64 \n",
      "dtypes: int64(3), object(1)\n",
      "memory usage: 192.0+ bytes\n"
     ]
    }
   ],
   "source": [
    "subscrip_go.info()"
   ]
  },
  {
   "cell_type": "markdown",
   "id": "e95ebca7",
   "metadata": {},
   "source": [
    "## Шаг 2. Предобработка данных"
   ]
  },
  {
   "cell_type": "markdown",
   "id": "06390c8c",
   "metadata": {},
   "source": [
    "Рассмотрев информацию о данных можно определить, что тип date необходимо преобразовать в `datetime[]`."
   ]
  },
  {
   "cell_type": "code",
   "execution_count": 9,
   "id": "ce091702",
   "metadata": {},
   "outputs": [],
   "source": [
    "rides_go['date'] = pd.to_datetime(rides_go['date'], format='%Y-%m-%d')"
   ]
  },
  {
   "cell_type": "code",
   "execution_count": 10,
   "id": "c36ad7da",
   "metadata": {},
   "outputs": [
    {
     "data": {
      "text/html": [
       "<div>\n",
       "<style scoped>\n",
       "    .dataframe tbody tr th:only-of-type {\n",
       "        vertical-align: middle;\n",
       "    }\n",
       "\n",
       "    .dataframe tbody tr th {\n",
       "        vertical-align: top;\n",
       "    }\n",
       "\n",
       "    .dataframe thead th {\n",
       "        text-align: right;\n",
       "    }\n",
       "</style>\n",
       "<table border=\"1\" class=\"dataframe\">\n",
       "  <thead>\n",
       "    <tr style=\"text-align: right;\">\n",
       "      <th></th>\n",
       "      <th>user_id</th>\n",
       "      <th>distance</th>\n",
       "      <th>duration</th>\n",
       "      <th>date</th>\n",
       "    </tr>\n",
       "  </thead>\n",
       "  <tbody>\n",
       "    <tr>\n",
       "      <th>3646</th>\n",
       "      <td>393</td>\n",
       "      <td>2525.378573</td>\n",
       "      <td>14.313446</td>\n",
       "      <td>2021-01-13</td>\n",
       "    </tr>\n",
       "    <tr>\n",
       "      <th>2024</th>\n",
       "      <td>219</td>\n",
       "      <td>3372.267826</td>\n",
       "      <td>15.493929</td>\n",
       "      <td>2021-01-02</td>\n",
       "    </tr>\n",
       "  </tbody>\n",
       "</table>\n",
       "</div>"
      ],
      "text/plain": [
       "      user_id     distance   duration       date\n",
       "3646      393  2525.378573  14.313446 2021-01-13\n",
       "2024      219  3372.267826  15.493929 2021-01-02"
      ]
     },
     "metadata": {},
     "output_type": "display_data"
    }
   ],
   "source": [
    "display(rides_go.sample(2))"
   ]
  },
  {
   "cell_type": "markdown",
   "id": "e578c8a7",
   "metadata": {},
   "source": [
    "Проведем округление значений столбцов `distance` и `duration` до целых."
   ]
  },
  {
   "cell_type": "code",
   "execution_count": 11,
   "id": "6da790e0",
   "metadata": {},
   "outputs": [],
   "source": [
    "# для корректности округления применим ceil, а так же поменят тип данных.\n",
    "rides_go['distance'] = np.ceil(rides_go['distance']).astype(int)\n",
    "rides_go['duration'] = np.ceil(rides_go['duration']).astype(int)"
   ]
  },
  {
   "cell_type": "code",
   "execution_count": 12,
   "id": "d8229010",
   "metadata": {},
   "outputs": [
    {
     "name": "stdout",
     "output_type": "stream",
     "text": [
      "<class 'pandas.core.frame.DataFrame'>\n",
      "RangeIndex: 18068 entries, 0 to 18067\n",
      "Data columns (total 4 columns):\n",
      " #   Column    Non-Null Count  Dtype         \n",
      "---  ------    --------------  -----         \n",
      " 0   user_id   18068 non-null  int64         \n",
      " 1   distance  18068 non-null  int32         \n",
      " 2   duration  18068 non-null  int32         \n",
      " 3   date      18068 non-null  datetime64[ns]\n",
      "dtypes: datetime64[ns](1), int32(2), int64(1)\n",
      "memory usage: 423.6 KB\n"
     ]
    }
   ],
   "source": [
    "rides_go.sample(10)\n",
    "rides_go.info()"
   ]
  },
  {
   "cell_type": "markdown",
   "id": "dd0fabd0",
   "metadata": {},
   "source": [
    "### Создаем новый столбец с номером месяца."
   ]
  },
  {
   "cell_type": "code",
   "execution_count": 13,
   "id": "65c6fadb",
   "metadata": {},
   "outputs": [],
   "source": [
    "rides_go['month'] = rides_go['date'].dt.month"
   ]
  },
  {
   "cell_type": "markdown",
   "id": "a7d63388",
   "metadata": {},
   "source": [
    "### Пропуски"
   ]
  },
  {
   "cell_type": "code",
   "execution_count": 14,
   "id": "9e43dd3d",
   "metadata": {},
   "outputs": [
    {
     "data": {
      "text/plain": [
       "user_id              0\n",
       "name                 0\n",
       "age                  0\n",
       "city                 0\n",
       "subscription_type    0\n",
       "dtype: int64"
      ]
     },
     "metadata": {},
     "output_type": "display_data"
    },
    {
     "data": {
      "text/plain": [
       "user_id     0\n",
       "distance    0\n",
       "duration    0\n",
       "date        0\n",
       "month       0\n",
       "dtype: int64"
      ]
     },
     "metadata": {},
     "output_type": "display_data"
    },
    {
     "data": {
      "text/plain": [
       "subscription_type    0\n",
       "minute_price         0\n",
       "start_ride_price     0\n",
       "subscription_fee     0\n",
       "dtype: int64"
      ]
     },
     "metadata": {},
     "output_type": "display_data"
    }
   ],
   "source": [
    "display(users_go.isnull().sum())\n",
    "display(rides_go.isna().sum())\n",
    "display(subscrip_go.isna().sum())"
   ]
  },
  {
   "cell_type": "markdown",
   "id": "cef7aee7",
   "metadata": {},
   "source": [
    "Пропусков нет.  \n",
    "  \n",
    "### Дубликаты  \n",
    "Рассмотрим явные и не явные дубликаты.  \n",
    "  \n",
    "#### Явные дубликаты:"
   ]
  },
  {
   "cell_type": "code",
   "execution_count": 15,
   "id": "4e7e693e",
   "metadata": {},
   "outputs": [
    {
     "data": {
      "text/plain": [
       "31"
      ]
     },
     "metadata": {},
     "output_type": "display_data"
    },
    {
     "data": {
      "text/plain": [
       "0"
      ]
     },
     "metadata": {},
     "output_type": "display_data"
    },
    {
     "data": {
      "text/plain": [
       "0"
      ]
     },
     "metadata": {},
     "output_type": "display_data"
    }
   ],
   "source": [
    "display(users_go.duplicated().sum())\n",
    "display(rides_go.duplicated().sum())\n",
    "display(subscrip_go.duplicated().sum())"
   ]
  },
  {
   "cell_type": "markdown",
   "id": "40c85b25",
   "metadata": {},
   "source": [
    "в данных user_go присутсвуют явные дубликаты 31 раз. рассмотрим их и примем решение удалять их или нет."
   ]
  },
  {
   "cell_type": "code",
   "execution_count": 16,
   "id": "dc31d599",
   "metadata": {
    "scrolled": true
   },
   "outputs": [
    {
     "data": {
      "text/html": [
       "<div>\n",
       "<style scoped>\n",
       "    .dataframe tbody tr th:only-of-type {\n",
       "        vertical-align: middle;\n",
       "    }\n",
       "\n",
       "    .dataframe tbody tr th {\n",
       "        vertical-align: top;\n",
       "    }\n",
       "\n",
       "    .dataframe thead th {\n",
       "        text-align: right;\n",
       "    }\n",
       "</style>\n",
       "<table border=\"1\" class=\"dataframe\">\n",
       "  <thead>\n",
       "    <tr style=\"text-align: right;\">\n",
       "      <th></th>\n",
       "      <th>user_id</th>\n",
       "      <th>name</th>\n",
       "      <th>age</th>\n",
       "      <th>city</th>\n",
       "      <th>subscription_type</th>\n",
       "    </tr>\n",
       "  </thead>\n",
       "  <tbody>\n",
       "    <tr>\n",
       "      <th>1534</th>\n",
       "      <td>293</td>\n",
       "      <td>Агата</td>\n",
       "      <td>26</td>\n",
       "      <td>Краснодар</td>\n",
       "      <td>ultra</td>\n",
       "    </tr>\n",
       "    <tr>\n",
       "      <th>1535</th>\n",
       "      <td>16</td>\n",
       "      <td>Амалия</td>\n",
       "      <td>27</td>\n",
       "      <td>Краснодар</td>\n",
       "      <td>ultra</td>\n",
       "    </tr>\n",
       "    <tr>\n",
       "      <th>1536</th>\n",
       "      <td>909</td>\n",
       "      <td>Константин</td>\n",
       "      <td>20</td>\n",
       "      <td>Екатеринбург</td>\n",
       "      <td>free</td>\n",
       "    </tr>\n",
       "    <tr>\n",
       "      <th>1537</th>\n",
       "      <td>403</td>\n",
       "      <td>Полина</td>\n",
       "      <td>19</td>\n",
       "      <td>Сочи</td>\n",
       "      <td>ultra</td>\n",
       "    </tr>\n",
       "    <tr>\n",
       "      <th>1538</th>\n",
       "      <td>908</td>\n",
       "      <td>Рустам</td>\n",
       "      <td>30</td>\n",
       "      <td>Тюмень</td>\n",
       "      <td>free</td>\n",
       "    </tr>\n",
       "  </tbody>\n",
       "</table>\n",
       "</div>"
      ],
      "text/plain": [
       "      user_id        name  age          city subscription_type\n",
       "1534      293       Агата   26     Краснодар             ultra\n",
       "1535       16      Амалия   27     Краснодар             ultra\n",
       "1536      909  Константин   20  Екатеринбург              free\n",
       "1537      403      Полина   19          Сочи             ultra\n",
       "1538      908      Рустам   30        Тюмень              free"
      ]
     },
     "execution_count": 16,
     "metadata": {},
     "output_type": "execute_result"
    }
   ],
   "source": [
    "users_go[users_go.duplicated()].head()"
   ]
  },
  {
   "cell_type": "code",
   "execution_count": 17,
   "id": "ceda31db",
   "metadata": {},
   "outputs": [
    {
     "data": {
      "text/html": [
       "<div>\n",
       "<style scoped>\n",
       "    .dataframe tbody tr th:only-of-type {\n",
       "        vertical-align: middle;\n",
       "    }\n",
       "\n",
       "    .dataframe tbody tr th {\n",
       "        vertical-align: top;\n",
       "    }\n",
       "\n",
       "    .dataframe thead th {\n",
       "        text-align: right;\n",
       "    }\n",
       "</style>\n",
       "<table border=\"1\" class=\"dataframe\">\n",
       "  <thead>\n",
       "    <tr style=\"text-align: right;\">\n",
       "      <th></th>\n",
       "      <th>user_id</th>\n",
       "      <th>name</th>\n",
       "      <th>age</th>\n",
       "      <th>city</th>\n",
       "      <th>subscription_type</th>\n",
       "    </tr>\n",
       "  </thead>\n",
       "  <tbody>\n",
       "    <tr>\n",
       "      <th>627</th>\n",
       "      <td>628</td>\n",
       "      <td>Александр</td>\n",
       "      <td>23</td>\n",
       "      <td>Екатеринбург</td>\n",
       "      <td>ultra</td>\n",
       "    </tr>\n",
       "    <tr>\n",
       "      <th>197</th>\n",
       "      <td>198</td>\n",
       "      <td>Марсель</td>\n",
       "      <td>27</td>\n",
       "      <td>Сочи</td>\n",
       "      <td>ultra</td>\n",
       "    </tr>\n",
       "    <tr>\n",
       "      <th>281</th>\n",
       "      <td>282</td>\n",
       "      <td>Захар</td>\n",
       "      <td>33</td>\n",
       "      <td>Краснодар</td>\n",
       "      <td>ultra</td>\n",
       "    </tr>\n",
       "    <tr>\n",
       "      <th>1335</th>\n",
       "      <td>1336</td>\n",
       "      <td>Роман</td>\n",
       "      <td>20</td>\n",
       "      <td>Тюмень</td>\n",
       "      <td>free</td>\n",
       "    </tr>\n",
       "    <tr>\n",
       "      <th>963</th>\n",
       "      <td>964</td>\n",
       "      <td>Юлия</td>\n",
       "      <td>32</td>\n",
       "      <td>Тюмень</td>\n",
       "      <td>free</td>\n",
       "    </tr>\n",
       "    <tr>\n",
       "      <th>357</th>\n",
       "      <td>358</td>\n",
       "      <td>Екатерина</td>\n",
       "      <td>29</td>\n",
       "      <td>Москва</td>\n",
       "      <td>ultra</td>\n",
       "    </tr>\n",
       "    <tr>\n",
       "      <th>180</th>\n",
       "      <td>181</td>\n",
       "      <td>Денис</td>\n",
       "      <td>32</td>\n",
       "      <td>Омск</td>\n",
       "      <td>ultra</td>\n",
       "    </tr>\n",
       "    <tr>\n",
       "      <th>405</th>\n",
       "      <td>406</td>\n",
       "      <td>Валерия</td>\n",
       "      <td>31</td>\n",
       "      <td>Москва</td>\n",
       "      <td>ultra</td>\n",
       "    </tr>\n",
       "    <tr>\n",
       "      <th>314</th>\n",
       "      <td>315</td>\n",
       "      <td>Игорь</td>\n",
       "      <td>13</td>\n",
       "      <td>Москва</td>\n",
       "      <td>ultra</td>\n",
       "    </tr>\n",
       "    <tr>\n",
       "      <th>707</th>\n",
       "      <td>708</td>\n",
       "      <td>Святогор</td>\n",
       "      <td>24</td>\n",
       "      <td>Пятигорск</td>\n",
       "      <td>free</td>\n",
       "    </tr>\n",
       "  </tbody>\n",
       "</table>\n",
       "</div>"
      ],
      "text/plain": [
       "      user_id       name  age          city subscription_type\n",
       "627       628  Александр   23  Екатеринбург             ultra\n",
       "197       198    Марсель   27          Сочи             ultra\n",
       "281       282      Захар   33     Краснодар             ultra\n",
       "1335     1336      Роман   20        Тюмень              free\n",
       "963       964       Юлия   32        Тюмень              free\n",
       "357       358  Екатерина   29        Москва             ultra\n",
       "180       181      Денис   32          Омск             ultra\n",
       "405       406    Валерия   31        Москва             ultra\n",
       "314       315      Игорь   13        Москва             ultra\n",
       "707       708   Святогор   24     Пятигорск              free"
      ]
     },
     "execution_count": 17,
     "metadata": {},
     "output_type": "execute_result"
    }
   ],
   "source": [
    "# Удалим их, но оставим первое значение и обновим индексы.\n",
    "users_go.drop_duplicates().reset_index(drop=True).sample(10)"
   ]
  },
  {
   "cell_type": "markdown",
   "id": "a6691f8d",
   "metadata": {},
   "source": [
    "#### Неявные дубликаты."
   ]
  },
  {
   "cell_type": "code",
   "execution_count": 18,
   "id": "f34b11bf",
   "metadata": {},
   "outputs": [
    {
     "data": {
      "text/plain": [
       "array([   1,    2,    3, ..., 1532, 1533, 1534], dtype=int64)"
      ]
     },
     "execution_count": 18,
     "metadata": {},
     "output_type": "execute_result"
    }
   ],
   "source": [
    "# рассмотрим уникальные значения и, если находим неявные дубликаты будем исправлять.\n",
    "users_go['user_id'].unique()"
   ]
  },
  {
   "cell_type": "code",
   "execution_count": 19,
   "id": "5a9e44d7",
   "metadata": {
    "scrolled": false
   },
   "outputs": [
    {
     "data": {
      "text/plain": [
       "array(['Кира', 'Станислав', 'Алексей', 'Константин', 'Адель', 'Регина',\n",
       "       'Игорь', 'Юрий', 'Ян', 'Валерий', 'Агата', 'Марк', 'Ева',\n",
       "       'Антонина', 'Валерия', 'Амалия', 'Даниил', 'Аделина', 'Святогор',\n",
       "       'Борис', 'Вероника', 'Ростислав', 'Назар', 'Эдуард', 'Василий',\n",
       "       'Денис', 'Тамара', 'Николай', 'Эвелина', 'Федор', 'Руслан', 'Иван',\n",
       "       'Любовь', 'Ярослава', 'Майя', 'Ильдар', 'Данила', 'Нина',\n",
       "       'Стефания', 'Ясмина', 'Дмитрий', 'Александр', 'Одиссей', 'Арсений',\n",
       "       'Алла', 'Таисия', 'Максим', 'Юлиана', 'Павел', 'Карина', 'Алиса',\n",
       "       'Лидия', 'Рамиль', 'Родион', 'Ника', 'Оксана', 'Анастасия',\n",
       "       'Маргарита', 'Вера', 'Тимур', 'Никита', 'Лев', 'Влад', 'Артур',\n",
       "       'Анна', 'Ольга', 'Вячеслав', 'Ксения', 'Виталина', 'Владислав',\n",
       "       'Тамерлан', 'Амина', 'Вадим', 'Олеся', 'Зарина', 'Егор', 'Гордей',\n",
       "       'Лилия', 'Святослав', 'Роберт', 'Амир', 'Влада', 'Богдан',\n",
       "       'Полина', 'Марат', 'Елисей', 'Макар', 'Алина', 'Глеб', 'Андрей',\n",
       "       'Альбина', 'Людмила', 'Марсель', 'Милена', 'Диана', 'Дарина',\n",
       "       'Данил', 'Артемий', 'Лиана', 'Альберт', 'Герман', 'Жанна', 'Нелли',\n",
       "       'Евгения', 'Ариана', 'Самира', 'Захар', 'Эльвира', 'Екатерина',\n",
       "       'Инна', 'Демид', 'Яна', 'Михаил', 'Татьяна', 'Степан', 'Мелания',\n",
       "       'Тимофей', 'Ирина', 'Анжелика', 'Владислава', 'Елизавета',\n",
       "       'Мадина', 'Снежана', 'Даниэль', 'Рустам', 'Каролина', 'Ангелина',\n",
       "       'Владимир', 'Виктория', 'Валентина', 'Семен', 'Арина', 'Лариса',\n",
       "       'Есения', 'Галина', 'Кирилл', 'Игнат', 'Виталий', 'Эмилия',\n",
       "       'Виолетта', 'Яромир', 'Софья', 'Мирослава', 'Евгений', 'Варвара',\n",
       "       'Платон', 'Наталия', 'Анатолий', 'Кристина', 'Всеволод', 'Дарья',\n",
       "       'Наташа', 'Мария', 'Марина', 'Василиса', 'Юлия', 'Илья', 'Злата',\n",
       "       'Роман', 'Наталья', 'Элина', 'Арсен', 'Айдар', 'Алия', 'Виктор',\n",
       "       'Мирон', 'Ульяна', 'Георгий', 'Петр', 'Эльмира', 'Олег', 'Дамир',\n",
       "       'Самир', 'Ярослав', 'Камилла', 'Сергей', 'Эмиль', 'Радмир',\n",
       "       'Савелий', 'Елена', 'Антон', 'Мирослав', 'София', 'Тихон', 'Артём',\n",
       "       'Давид', 'Григорий', 'Алёна', 'Светлана', 'Леонид', 'Александра',\n",
       "       'Василина', 'Милана', 'Матвей'], dtype=object)"
      ]
     },
     "execution_count": 19,
     "metadata": {},
     "output_type": "execute_result"
    }
   ],
   "source": [
    "users_go['name'].unique()"
   ]
  },
  {
   "cell_type": "markdown",
   "id": "7c657014",
   "metadata": {},
   "source": [
    "Наташа и Наталья, Влад и Владислав одинаковые имена, сделаем замену на Наталью и Владислава. Остальные имена "
   ]
  },
  {
   "cell_type": "code",
   "execution_count": 20,
   "id": "f80d4a3d",
   "metadata": {},
   "outputs": [],
   "source": [
    "users_go['name'] = users_go['name'].replace({'Наташа':'Наталья', 'Влад': 'Владислав'})"
   ]
  },
  {
   "cell_type": "code",
   "execution_count": 21,
   "id": "e9d11696",
   "metadata": {},
   "outputs": [
    {
     "data": {
      "text/plain": [
       "array([22, 31, 20, 26, 28, 25, 23, 21, 18, 27, 24, 29, 32, 14, 19, 30, 17,\n",
       "       12, 35, 33, 13, 15, 37, 16, 34, 38, 36, 39, 43], dtype=int64)"
      ]
     },
     "execution_count": 21,
     "metadata": {},
     "output_type": "execute_result"
    }
   ],
   "source": [
    "users_go['age'].unique()"
   ]
  },
  {
   "cell_type": "code",
   "execution_count": 22,
   "id": "e1f49e11",
   "metadata": {},
   "outputs": [
    {
     "data": {
      "text/plain": [
       "array([   1,    2,    3, ..., 1532, 1533, 1534], dtype=int64)"
      ]
     },
     "execution_count": 22,
     "metadata": {},
     "output_type": "execute_result"
    }
   ],
   "source": [
    "rides_go['user_id'].unique()"
   ]
  },
  {
   "cell_type": "code",
   "execution_count": 23,
   "id": "ba103010",
   "metadata": {},
   "outputs": [
    {
     "data": {
      "text/plain": [
       "array([4410, 2618,  755, ...,  843, 4552, 1035])"
      ]
     },
     "execution_count": 23,
     "metadata": {},
     "output_type": "execute_result"
    }
   ],
   "source": [
    "rides_go['distance'].unique()"
   ]
  },
  {
   "cell_type": "code",
   "execution_count": 24,
   "id": "21aa81c8",
   "metadata": {},
   "outputs": [
    {
     "data": {
      "text/plain": [
       "array([26, 16,  7, 19, 27, 17, 15, 24, 18, 10, 25, 12, 21, 14, 13, 22, 20,\n",
       "       23, 28, 36, 34, 11,  6, 31, 33,  8, 29, 39, 32, 30,  9,  5, 37, 35,\n",
       "       40, 38, 41,  4,  1,  3])"
      ]
     },
     "execution_count": 24,
     "metadata": {},
     "output_type": "execute_result"
    }
   ],
   "source": [
    "rides_go['duration'].unique()"
   ]
  },
  {
   "cell_type": "code",
   "execution_count": 25,
   "id": "832d0369",
   "metadata": {},
   "outputs": [
    {
     "data": {
      "text/plain": [
       "364"
      ]
     },
     "execution_count": 25,
     "metadata": {},
     "output_type": "execute_result"
    }
   ],
   "source": [
    "rides_go['date'].nunique()"
   ]
  },
  {
   "cell_type": "markdown",
   "id": "9ee22928",
   "metadata": {},
   "source": [
    "`rides_go['month']` - создали ранее, нет необходимости проверять на дубликаты.  \n",
    "`subscrip_go`- нет необходимости проверять на дубликаты. Датафрейм имеет всего 2 строки."
   ]
  },
  {
   "cell_type": "markdown",
   "id": "b57ce672",
   "metadata": {},
   "source": [
    "В предобработке данных проделали следующее:<br>\n",
    "- преобразовали тип данных столбца date, distance и duration. \n",
    "- округлили данные в столбцах distance и duration.\n",
    "- рассмотрели наличие пропусков (оказалось их нет)\n",
    "- рассмотрели и исключили дубликаты (были явные и неявные дубликаты в именах в таблице users_go)."
   ]
  },
  {
   "cell_type": "markdown",
   "id": "212593c7",
   "metadata": {},
   "source": [
    "## Шаг 3. Исследовательский анализ данных"
   ]
  },
  {
   "cell_type": "code",
   "execution_count": 26,
   "id": "e3a4274c",
   "metadata": {},
   "outputs": [],
   "source": [
    "# создадим функцию для построения визуализаций.\n",
    "def plotter(data,x,y, title, xlable, ylable, agg):\n",
    "    unit = data.loc[data[x].notna(), [y, x]] \\\n",
    "                .groupby(y) \\\n",
    "                .agg([agg])\n",
    "    unit.columns = unit.columns.get_level_values(1)\n",
    "    unit = unit.sort_values(agg, ascending = False)\n",
    "    ax = unit.plot.bar(figsize=(12,5),color='lightgreen')\n",
    "    plt.title(title)\n",
    "    plt.xlabel(xlable)\n",
    "    plt.ylabel(ylable)\n",
    "    plt.show()\n",
    "    print(unit)\n"
   ]
  },
  {
   "cell_type": "markdown",
   "id": "7cf2fa5a",
   "metadata": {},
   "source": [
    "### частота встречаемости городов"
   ]
  },
  {
   "cell_type": "code",
   "execution_count": 27,
   "id": "0422f060",
   "metadata": {
    "scrolled": false
   },
   "outputs": [
    {
     "data": {
      "image/png": "[encoded data removed]",
      "text/plain": [
       "<Figure size 1200x500 with 1 Axes>"
      ]
     },
     "metadata": {},
     "output_type": "display_data"
    },
    {
     "name": "stdout",
     "output_type": "stream",
     "text": [
      "                count\n",
      "city                 \n",
      "Пятигорск         226\n",
      "Екатеринбург      206\n",
      "Ростов-на-Дону    202\n",
      "Краснодар         196\n",
      "Сочи              192\n",
      "Омск              186\n",
      "Тюмень            185\n",
      "Москва            172\n"
     ]
    }
   ],
   "source": [
    "plotter (users_go,'user_id','city','частота встречаемости городов','город','Кол-во пользователей','count')"
   ]
  },
  {
   "cell_type": "code",
   "execution_count": 28,
   "id": "703a8531",
   "metadata": {},
   "outputs": [
    {
     "data": {
      "image/png": "[encoded data removed]",
      "text/plain": [
       "<Figure size 1200x500 with 1 Axes>"
      ]
     },
     "metadata": {},
     "output_type": "display_data"
    }
   ],
   "source": [
    "# Для сравнения\n",
    "(users_go.groupby('city')['user_id']\n",
    "    .agg('count')\n",
    "    .sort_values(ascending = True)\n",
    "    .plot.barh(figsize=(12,5),color='lightgreen',\n",
    "            title ='частота встречаемости городов',\n",
    "            xlabel='город',\n",
    "            ylabel='Кол-во пользователей'\n",
    "            ));"
   ]
  },
  {
   "cell_type": "markdown",
   "id": "0d44867f",
   "metadata": {},
   "source": [
    "Спрос на самокаты самый большой в Пятигорске (226 человек), в Москве - самый маленький (172 человека).  \n",
    "  \n",
    "### соотношение пользователей с подпиской и без подписки"
   ]
  },
  {
   "cell_type": "code",
   "execution_count": 29,
   "id": "3123d2bb",
   "metadata": {
    "scrolled": false
   },
   "outputs": [
    {
     "data": {
      "image/png": "[encoded data removed]",
      "text/plain": [
       "<Figure size 700x700 with 1 Axes>"
      ]
     },
     "metadata": {},
     "output_type": "display_data"
    }
   ],
   "source": [
    "(\n",
    "    users_go.groupby('subscription_type')['user_id']\n",
    "        .count()\n",
    "        .sort_values(ascending = False)\n",
    "        .plot(\n",
    "            kind = 'pie', \n",
    "            autopct = '%1.0f%%', \n",
    "            figsize=(7,7),\n",
    "            title = 'Cоотношение пользователей с подпиской и без подписки',\n",
    "            colors = ['lightgreen', 'pink']\n",
    "             ));"
   ]
  },
  {
   "cell_type": "markdown",
   "id": "a1319a16",
   "metadata": {},
   "source": [
    "Пользователи охотнее берут самокаты без подписки (54%).  \n",
    "  \n",
    "### возраст пользователей"
   ]
  },
  {
   "cell_type": "code",
   "execution_count": 30,
   "id": "ba187219",
   "metadata": {
    "scrolled": false
   },
   "outputs": [
    {
     "data": {
      "image/png": "[encoded data removed]",
      "text/plain": [
       "<Figure size 640x480 with 1 Axes>"
      ]
     },
     "metadata": {},
     "output_type": "display_data"
    }
   ],
   "source": [
    "plt.hist(users_go['age'], bins = 10)\n",
    "plt.title('Возраст пользователей')\n",
    "plt.xlabel('Возраст')\n",
    "plt.ylabel('Количество пользователей')\n",
    "plt.grid()\n",
    "plt.show()"
   ]
  },
  {
   "cell_type": "markdown",
   "id": "cdb58660",
   "metadata": {},
   "source": [
    "Больше берут самокаты пользователи с возрастом 25 лет. Пользователи за 35 лет берут очень редко.  \n",
    "  \n",
    "###  расстояние, которое пользователь преодолел за одну поездку"
   ]
  },
  {
   "cell_type": "code",
   "execution_count": 31,
   "id": "8eb91a3e",
   "metadata": {},
   "outputs": [
    {
     "name": "stdout",
     "output_type": "stream",
     "text": [
      "distance  median    3132.0\n",
      "dtype: float64\n",
      "максимальное расстояние поездки 7212 метр(ов)\n",
      "минимальное расстояние поездки 1 метр(ов)\n"
     ]
    }
   ],
   "source": [
    "unit = rides_go.loc[rides_go['distance'].notna(), ['user_id', 'distance']] \\\n",
    "                .groupby('user_id') \\\n",
    "                .agg(['median'])\n",
    "print(round(unit.median()))\n",
    "print('максимальное расстояние поездки',max(rides_go['distance']), 'метр(ов)')\n",
    "print('минимальное расстояние поездки',min(rides_go['distance']), 'метр(ов)')"
   ]
  },
  {
   "cell_type": "code",
   "execution_count": 32,
   "id": "9a896730",
   "metadata": {},
   "outputs": [
    {
     "data": {
      "image/png": "[encoded data removed]",
      "text/plain": [
       "<Figure size 640x480 with 1 Axes>"
      ]
     },
     "metadata": {},
     "output_type": "display_data"
    }
   ],
   "source": [
    "sns.boxplot(x=rides_go['distance'], color = 'lightgreen')\n",
    "plt.title('Расстояние, преодоленное за одну поездку')\n",
    "plt.xlabel('Расстояние')\n",
    "plt.xlim(0, 8000);"
   ]
  },
  {
   "cell_type": "markdown",
   "id": "b606c0ab",
   "metadata": {},
   "source": [
    "Среднее расстояние одной поездки составляет 3132 м.  \n",
    "  \n",
    "### продолжительность поездок"
   ]
  },
  {
   "cell_type": "code",
   "execution_count": 33,
   "id": "4b9e0c8f",
   "metadata": {},
   "outputs": [
    {
     "name": "stdout",
     "output_type": "stream",
     "text": [
      "duration  median    18.0\n",
      "dtype: float64\n",
      "максимальная продолжительность поездки 41 минут\n",
      "минимальная продолжительность поездки 1 минут\n"
     ]
    }
   ],
   "source": [
    "unit = rides_go.loc[rides_go['duration'].notna(), ['user_id', 'duration']] \\\n",
    "                .groupby('user_id') \\\n",
    "                .agg(['median'])\n",
    "print(round(unit.median(),2))\n",
    "print('максимальная продолжительность поездки',max(rides_go['duration']), 'минут')\n",
    "print('минимальная продолжительность поездки',min(rides_go['duration']), 'минут')"
   ]
  },
  {
   "cell_type": "code",
   "execution_count": 34,
   "id": "700810d1",
   "metadata": {},
   "outputs": [
    {
     "data": {
      "image/png": "[encoded data removed]",
      "text/plain": [
       "<Figure size 640x480 with 1 Axes>"
      ]
     },
     "metadata": {},
     "output_type": "display_data"
    }
   ],
   "source": [
    "sns.boxplot(x=rides_go['duration'], color = 'lightgreen')\n",
    "plt.title('Расстояние, преодоленное за одну поездку')\n",
    "plt.xlabel('Расстояние')\n",
    "plt.xlim(0, 45);"
   ]
  },
  {
   "cell_type": "markdown",
   "id": "111e23a7",
   "metadata": {},
   "source": [
    "Средняя продолжительность одной поездки составляет 18 минут"
   ]
  },
  {
   "cell_type": "markdown",
   "id": "4ef51331",
   "metadata": {},
   "source": [
    "## Шаг 4. Объединение данных  \n",
    "  \n",
    "### Объединение данных о пользователях, поездках и подписках в один датафрейм. "
   ]
  },
  {
   "cell_type": "code",
   "execution_count": 35,
   "id": "0f478fe5",
   "metadata": {},
   "outputs": [
    {
     "name": "stdout",
     "output_type": "stream",
     "text": [
      "<class 'pandas.core.frame.DataFrame'>\n",
      "RangeIndex: 1565 entries, 0 to 1564\n",
      "Data columns (total 5 columns):\n",
      " #   Column             Non-Null Count  Dtype \n",
      "---  ------             --------------  ----- \n",
      " 0   user_id            1565 non-null   int64 \n",
      " 1   name               1565 non-null   object\n",
      " 2   age                1565 non-null   int64 \n",
      " 3   city               1565 non-null   object\n",
      " 4   subscription_type  1565 non-null   object\n",
      "dtypes: int64(2), object(3)\n",
      "memory usage: 61.3+ KB\n",
      "<class 'pandas.core.frame.DataFrame'>\n",
      "RangeIndex: 18068 entries, 0 to 18067\n",
      "Data columns (total 5 columns):\n",
      " #   Column    Non-Null Count  Dtype         \n",
      "---  ------    --------------  -----         \n",
      " 0   user_id   18068 non-null  int64         \n",
      " 1   distance  18068 non-null  int32         \n",
      " 2   duration  18068 non-null  int32         \n",
      " 3   date      18068 non-null  datetime64[ns]\n",
      " 4   month     18068 non-null  int64         \n",
      "dtypes: datetime64[ns](1), int32(2), int64(2)\n",
      "memory usage: 564.8 KB\n",
      "<class 'pandas.core.frame.DataFrame'>\n",
      "RangeIndex: 2 entries, 0 to 1\n",
      "Data columns (total 4 columns):\n",
      " #   Column             Non-Null Count  Dtype \n",
      "---  ------             --------------  ----- \n",
      " 0   subscription_type  2 non-null      object\n",
      " 1   minute_price       2 non-null      int64 \n",
      " 2   start_ride_price   2 non-null      int64 \n",
      " 3   subscription_fee   2 non-null      int64 \n",
      "dtypes: int64(3), object(1)\n",
      "memory usage: 192.0+ bytes\n"
     ]
    }
   ],
   "source": [
    "users_go.info()\n",
    "rides_go.info()\n",
    "subscrip_go.info()"
   ]
  },
  {
   "cell_type": "markdown",
   "id": "eeb42706",
   "metadata": {},
   "source": [
    "users_go 1565 строк\n",
    "rides_go 18068 строк\n",
    "subscrip_go 2 строки\n",
    "логичнее присоединять к таблице с большим количеством строк"
   ]
  },
  {
   "cell_type": "code",
   "execution_count": 36,
   "id": "c59c38cc",
   "metadata": {},
   "outputs": [
    {
     "name": "stdout",
     "output_type": "stream",
     "text": [
      "<class 'pandas.core.frame.DataFrame'>\n",
      "Int64Index: 18388 entries, 0 to 18387\n",
      "Data columns (total 9 columns):\n",
      " #   Column             Non-Null Count  Dtype         \n",
      "---  ------             --------------  -----         \n",
      " 0   user_id            18388 non-null  int64         \n",
      " 1   name               18388 non-null  object        \n",
      " 2   age                18388 non-null  int64         \n",
      " 3   city               18388 non-null  object        \n",
      " 4   subscription_type  18388 non-null  object        \n",
      " 5   distance           18388 non-null  int32         \n",
      " 6   duration           18388 non-null  int32         \n",
      " 7   date               18388 non-null  datetime64[ns]\n",
      " 8   month              18388 non-null  int64         \n",
      "dtypes: datetime64[ns](1), int32(2), int64(3), object(3)\n",
      "memory usage: 1.3+ MB\n"
     ]
    }
   ],
   "source": [
    "# обьединяем так, что бы не потерять ни одной строки данных.\n",
    "# обьединяем пользоватлей и поездки по столбцу \"идентификатор пользователей\"\n",
    "data = users_go.merge(rides_go,on='user_id', )\n",
    "data.info()"
   ]
  },
  {
   "cell_type": "markdown",
   "id": "4591fa88",
   "metadata": {},
   "source": [
    "Очевидно, что были задублированны строки при соединении. Проверим предложение."
   ]
  },
  {
   "cell_type": "code",
   "execution_count": 37,
   "id": "addca5e8",
   "metadata": {},
   "outputs": [
    {
     "data": {
      "text/plain": [
       "320"
      ]
     },
     "metadata": {},
     "output_type": "display_data"
    }
   ],
   "source": [
    "display(data.duplicated().sum())"
   ]
  },
  {
   "cell_type": "code",
   "execution_count": 38,
   "id": "4679e665",
   "metadata": {},
   "outputs": [
    {
     "name": "stdout",
     "output_type": "stream",
     "text": [
      "<class 'pandas.core.frame.DataFrame'>\n",
      "RangeIndex: 18068 entries, 0 to 18067\n",
      "Data columns (total 9 columns):\n",
      " #   Column             Non-Null Count  Dtype         \n",
      "---  ------             --------------  -----         \n",
      " 0   user_id            18068 non-null  int64         \n",
      " 1   name               18068 non-null  object        \n",
      " 2   age                18068 non-null  int64         \n",
      " 3   city               18068 non-null  object        \n",
      " 4   subscription_type  18068 non-null  object        \n",
      " 5   distance           18068 non-null  int32         \n",
      " 6   duration           18068 non-null  int32         \n",
      " 7   date               18068 non-null  datetime64[ns]\n",
      " 8   month              18068 non-null  int64         \n",
      "dtypes: datetime64[ns](1), int32(2), int64(3), object(3)\n",
      "memory usage: 1.1+ MB\n"
     ]
    }
   ],
   "source": [
    "data = data.drop_duplicates().reset_index(drop=True)\n",
    "data.info()"
   ]
  },
  {
   "cell_type": "code",
   "execution_count": 39,
   "id": "4f347e8f",
   "metadata": {},
   "outputs": [],
   "source": [
    "# обьединяем пользоватлей с user_id и поездки по столбцу \"стоимость ежемесячного платежа\"\n",
    "data = data.merge(subscrip_go, on= 'subscription_type')"
   ]
  },
  {
   "cell_type": "code",
   "execution_count": 40,
   "id": "9caf5500",
   "metadata": {},
   "outputs": [
    {
     "data": {
      "text/html": [
       "<div>\n",
       "<style scoped>\n",
       "    .dataframe tbody tr th:only-of-type {\n",
       "        vertical-align: middle;\n",
       "    }\n",
       "\n",
       "    .dataframe tbody tr th {\n",
       "        vertical-align: top;\n",
       "    }\n",
       "\n",
       "    .dataframe thead th {\n",
       "        text-align: right;\n",
       "    }\n",
       "</style>\n",
       "<table border=\"1\" class=\"dataframe\">\n",
       "  <thead>\n",
       "    <tr style=\"text-align: right;\">\n",
       "      <th></th>\n",
       "      <th>user_id</th>\n",
       "      <th>name</th>\n",
       "      <th>age</th>\n",
       "      <th>city</th>\n",
       "      <th>subscription_type</th>\n",
       "      <th>distance</th>\n",
       "      <th>duration</th>\n",
       "      <th>date</th>\n",
       "      <th>month</th>\n",
       "      <th>minute_price</th>\n",
       "      <th>start_ride_price</th>\n",
       "      <th>subscription_fee</th>\n",
       "    </tr>\n",
       "  </thead>\n",
       "  <tbody>\n",
       "    <tr>\n",
       "      <th>7485</th>\n",
       "      <td>770</td>\n",
       "      <td>Снежана</td>\n",
       "      <td>27</td>\n",
       "      <td>Краснодар</td>\n",
       "      <td>free</td>\n",
       "      <td>4039</td>\n",
       "      <td>26</td>\n",
       "      <td>2021-08-06</td>\n",
       "      <td>8</td>\n",
       "      <td>8</td>\n",
       "      <td>50</td>\n",
       "      <td>0</td>\n",
       "    </tr>\n",
       "    <tr>\n",
       "      <th>16138</th>\n",
       "      <td>1399</td>\n",
       "      <td>Лидия</td>\n",
       "      <td>28</td>\n",
       "      <td>Ростов-на-Дону</td>\n",
       "      <td>free</td>\n",
       "      <td>2451</td>\n",
       "      <td>18</td>\n",
       "      <td>2021-06-19</td>\n",
       "      <td>6</td>\n",
       "      <td>8</td>\n",
       "      <td>50</td>\n",
       "      <td>0</td>\n",
       "    </tr>\n",
       "    <tr>\n",
       "      <th>11247</th>\n",
       "      <td>1047</td>\n",
       "      <td>Дмитрий</td>\n",
       "      <td>23</td>\n",
       "      <td>Сочи</td>\n",
       "      <td>free</td>\n",
       "      <td>233</td>\n",
       "      <td>5</td>\n",
       "      <td>2021-08-28</td>\n",
       "      <td>8</td>\n",
       "      <td>8</td>\n",
       "      <td>50</td>\n",
       "      <td>0</td>\n",
       "    </tr>\n",
       "    <tr>\n",
       "      <th>15706</th>\n",
       "      <td>1370</td>\n",
       "      <td>Мирон</td>\n",
       "      <td>33</td>\n",
       "      <td>Москва</td>\n",
       "      <td>free</td>\n",
       "      <td>3301</td>\n",
       "      <td>22</td>\n",
       "      <td>2021-02-04</td>\n",
       "      <td>2</td>\n",
       "      <td>8</td>\n",
       "      <td>50</td>\n",
       "      <td>0</td>\n",
       "    </tr>\n",
       "    <tr>\n",
       "      <th>7660</th>\n",
       "      <td>783</td>\n",
       "      <td>Эдуард</td>\n",
       "      <td>20</td>\n",
       "      <td>Краснодар</td>\n",
       "      <td>free</td>\n",
       "      <td>3012</td>\n",
       "      <td>16</td>\n",
       "      <td>2021-06-27</td>\n",
       "      <td>6</td>\n",
       "      <td>8</td>\n",
       "      <td>50</td>\n",
       "      <td>0</td>\n",
       "    </tr>\n",
       "    <tr>\n",
       "      <th>2074</th>\n",
       "      <td>223</td>\n",
       "      <td>Игорь</td>\n",
       "      <td>25</td>\n",
       "      <td>Тюмень</td>\n",
       "      <td>ultra</td>\n",
       "      <td>2458</td>\n",
       "      <td>20</td>\n",
       "      <td>2021-04-10</td>\n",
       "      <td>4</td>\n",
       "      <td>6</td>\n",
       "      <td>0</td>\n",
       "      <td>199</td>\n",
       "    </tr>\n",
       "  </tbody>\n",
       "</table>\n",
       "</div>"
      ],
      "text/plain": [
       "       user_id     name  age            city subscription_type  distance  \\\n",
       "7485       770  Снежана   27       Краснодар              free      4039   \n",
       "16138     1399    Лидия   28  Ростов-на-Дону              free      2451   \n",
       "11247     1047  Дмитрий   23            Сочи              free       233   \n",
       "15706     1370    Мирон   33          Москва              free      3301   \n",
       "7660       783   Эдуард   20       Краснодар              free      3012   \n",
       "2074       223    Игорь   25          Тюмень             ultra      2458   \n",
       "\n",
       "       duration       date  month  minute_price  start_ride_price  \\\n",
       "7485         26 2021-08-06      8             8                50   \n",
       "16138        18 2021-06-19      6             8                50   \n",
       "11247         5 2021-08-28      8             8                50   \n",
       "15706        22 2021-02-04      2             8                50   \n",
       "7660         16 2021-06-27      6             8                50   \n",
       "2074         20 2021-04-10      4             6                 0   \n",
       "\n",
       "       subscription_fee  \n",
       "7485                  0  \n",
       "16138                 0  \n",
       "11247                 0  \n",
       "15706                 0  \n",
       "7660                  0  \n",
       "2074                199  "
      ]
     },
     "metadata": {},
     "output_type": "display_data"
    },
    {
     "name": "stdout",
     "output_type": "stream",
     "text": [
      "<class 'pandas.core.frame.DataFrame'>\n",
      "Int64Index: 18068 entries, 0 to 18067\n",
      "Data columns (total 12 columns):\n",
      " #   Column             Non-Null Count  Dtype         \n",
      "---  ------             --------------  -----         \n",
      " 0   user_id            18068 non-null  int64         \n",
      " 1   name               18068 non-null  object        \n",
      " 2   age                18068 non-null  int64         \n",
      " 3   city               18068 non-null  object        \n",
      " 4   subscription_type  18068 non-null  object        \n",
      " 5   distance           18068 non-null  int32         \n",
      " 6   duration           18068 non-null  int32         \n",
      " 7   date               18068 non-null  datetime64[ns]\n",
      " 8   month              18068 non-null  int64         \n",
      " 9   minute_price       18068 non-null  int64         \n",
      " 10  start_ride_price   18068 non-null  int64         \n",
      " 11  subscription_fee   18068 non-null  int64         \n",
      "dtypes: datetime64[ns](1), int32(2), int64(6), object(3)\n",
      "memory usage: 1.7+ MB\n",
      "None\n"
     ]
    }
   ],
   "source": [
    "# Проверим корректность обьединения.\n",
    "display(data.sample(6))\n",
    "print(data.info())"
   ]
  },
  {
   "cell_type": "code",
   "execution_count": 41,
   "id": "00a7db65",
   "metadata": {},
   "outputs": [
    {
     "data": {
      "text/plain": [
       "0"
      ]
     },
     "metadata": {},
     "output_type": "display_data"
    }
   ],
   "source": [
    "display(data.duplicated().sum())"
   ]
  },
  {
   "cell_type": "markdown",
   "id": "4ad43b60",
   "metadata": {},
   "source": [
    "После обьединения дубликатов нет. Число строк совпадает и изначальным. Теперь можно работать дальше."
   ]
  },
  {
   "cell_type": "markdown",
   "id": "1595b914",
   "metadata": {},
   "source": [
    "### Создание датафрейма c данными о пользователях без подписки"
   ]
  },
  {
   "cell_type": "code",
   "execution_count": 42,
   "id": "2a17a730",
   "metadata": {},
   "outputs": [],
   "source": [
    "free_data = data[data['subscription_type'] == 'free'].copy()"
   ]
  },
  {
   "cell_type": "code",
   "execution_count": 43,
   "id": "7bcb4375",
   "metadata": {},
   "outputs": [
    {
     "data": {
      "text/html": [
       "<div>\n",
       "<style scoped>\n",
       "    .dataframe tbody tr th:only-of-type {\n",
       "        vertical-align: middle;\n",
       "    }\n",
       "\n",
       "    .dataframe tbody tr th {\n",
       "        vertical-align: top;\n",
       "    }\n",
       "\n",
       "    .dataframe thead th {\n",
       "        text-align: right;\n",
       "    }\n",
       "</style>\n",
       "<table border=\"1\" class=\"dataframe\">\n",
       "  <thead>\n",
       "    <tr style=\"text-align: right;\">\n",
       "      <th></th>\n",
       "      <th>user_id</th>\n",
       "      <th>name</th>\n",
       "      <th>age</th>\n",
       "      <th>city</th>\n",
       "      <th>subscription_type</th>\n",
       "      <th>distance</th>\n",
       "      <th>duration</th>\n",
       "      <th>date</th>\n",
       "      <th>month</th>\n",
       "      <th>minute_price</th>\n",
       "      <th>start_ride_price</th>\n",
       "      <th>subscription_fee</th>\n",
       "    </tr>\n",
       "  </thead>\n",
       "  <tbody>\n",
       "    <tr>\n",
       "      <th>10912</th>\n",
       "      <td>1022</td>\n",
       "      <td>Антонина</td>\n",
       "      <td>14</td>\n",
       "      <td>Сочи</td>\n",
       "      <td>free</td>\n",
       "      <td>4013</td>\n",
       "      <td>20</td>\n",
       "      <td>2021-07-17</td>\n",
       "      <td>7</td>\n",
       "      <td>8</td>\n",
       "      <td>50</td>\n",
       "      <td>0</td>\n",
       "    </tr>\n",
       "    <tr>\n",
       "      <th>8548</th>\n",
       "      <td>852</td>\n",
       "      <td>Альбина</td>\n",
       "      <td>20</td>\n",
       "      <td>Москва</td>\n",
       "      <td>free</td>\n",
       "      <td>1009</td>\n",
       "      <td>10</td>\n",
       "      <td>2021-01-13</td>\n",
       "      <td>1</td>\n",
       "      <td>8</td>\n",
       "      <td>50</td>\n",
       "      <td>0</td>\n",
       "    </tr>\n",
       "    <tr>\n",
       "      <th>13215</th>\n",
       "      <td>1191</td>\n",
       "      <td>Арсений</td>\n",
       "      <td>30</td>\n",
       "      <td>Ростов-на-Дону</td>\n",
       "      <td>free</td>\n",
       "      <td>3866</td>\n",
       "      <td>18</td>\n",
       "      <td>2021-07-13</td>\n",
       "      <td>7</td>\n",
       "      <td>8</td>\n",
       "      <td>50</td>\n",
       "      <td>0</td>\n",
       "    </tr>\n",
       "    <tr>\n",
       "      <th>9627</th>\n",
       "      <td>932</td>\n",
       "      <td>Антон</td>\n",
       "      <td>25</td>\n",
       "      <td>Сочи</td>\n",
       "      <td>free</td>\n",
       "      <td>3019</td>\n",
       "      <td>19</td>\n",
       "      <td>2021-02-01</td>\n",
       "      <td>2</td>\n",
       "      <td>8</td>\n",
       "      <td>50</td>\n",
       "      <td>0</td>\n",
       "    </tr>\n",
       "    <tr>\n",
       "      <th>15734</th>\n",
       "      <td>1372</td>\n",
       "      <td>Святослав</td>\n",
       "      <td>28</td>\n",
       "      <td>Краснодар</td>\n",
       "      <td>free</td>\n",
       "      <td>3583</td>\n",
       "      <td>10</td>\n",
       "      <td>2021-03-31</td>\n",
       "      <td>3</td>\n",
       "      <td>8</td>\n",
       "      <td>50</td>\n",
       "      <td>0</td>\n",
       "    </tr>\n",
       "    <tr>\n",
       "      <th>8381</th>\n",
       "      <td>839</td>\n",
       "      <td>Эвелина</td>\n",
       "      <td>25</td>\n",
       "      <td>Краснодар</td>\n",
       "      <td>free</td>\n",
       "      <td>3623</td>\n",
       "      <td>24</td>\n",
       "      <td>2021-04-28</td>\n",
       "      <td>4</td>\n",
       "      <td>8</td>\n",
       "      <td>50</td>\n",
       "      <td>0</td>\n",
       "    </tr>\n",
       "    <tr>\n",
       "      <th>8454</th>\n",
       "      <td>845</td>\n",
       "      <td>Всеволод</td>\n",
       "      <td>27</td>\n",
       "      <td>Краснодар</td>\n",
       "      <td>free</td>\n",
       "      <td>3417</td>\n",
       "      <td>16</td>\n",
       "      <td>2021-12-01</td>\n",
       "      <td>12</td>\n",
       "      <td>8</td>\n",
       "      <td>50</td>\n",
       "      <td>0</td>\n",
       "    </tr>\n",
       "    <tr>\n",
       "      <th>15091</th>\n",
       "      <td>1322</td>\n",
       "      <td>Ярослава</td>\n",
       "      <td>23</td>\n",
       "      <td>Тюмень</td>\n",
       "      <td>free</td>\n",
       "      <td>4191</td>\n",
       "      <td>14</td>\n",
       "      <td>2021-10-28</td>\n",
       "      <td>10</td>\n",
       "      <td>8</td>\n",
       "      <td>50</td>\n",
       "      <td>0</td>\n",
       "    </tr>\n",
       "    <tr>\n",
       "      <th>8588</th>\n",
       "      <td>855</td>\n",
       "      <td>Савелий</td>\n",
       "      <td>24</td>\n",
       "      <td>Пятигорск</td>\n",
       "      <td>free</td>\n",
       "      <td>2299</td>\n",
       "      <td>14</td>\n",
       "      <td>2021-10-14</td>\n",
       "      <td>10</td>\n",
       "      <td>8</td>\n",
       "      <td>50</td>\n",
       "      <td>0</td>\n",
       "    </tr>\n",
       "    <tr>\n",
       "      <th>14555</th>\n",
       "      <td>1284</td>\n",
       "      <td>Кирилл</td>\n",
       "      <td>28</td>\n",
       "      <td>Екатеринбург</td>\n",
       "      <td>free</td>\n",
       "      <td>4081</td>\n",
       "      <td>21</td>\n",
       "      <td>2021-06-24</td>\n",
       "      <td>6</td>\n",
       "      <td>8</td>\n",
       "      <td>50</td>\n",
       "      <td>0</td>\n",
       "    </tr>\n",
       "  </tbody>\n",
       "</table>\n",
       "</div>"
      ],
      "text/plain": [
       "       user_id       name  age            city subscription_type  distance  \\\n",
       "10912     1022   Антонина   14            Сочи              free      4013   \n",
       "8548       852    Альбина   20          Москва              free      1009   \n",
       "13215     1191    Арсений   30  Ростов-на-Дону              free      3866   \n",
       "9627       932      Антон   25            Сочи              free      3019   \n",
       "15734     1372  Святослав   28       Краснодар              free      3583   \n",
       "8381       839    Эвелина   25       Краснодар              free      3623   \n",
       "8454       845   Всеволод   27       Краснодар              free      3417   \n",
       "15091     1322   Ярослава   23          Тюмень              free      4191   \n",
       "8588       855    Савелий   24       Пятигорск              free      2299   \n",
       "14555     1284     Кирилл   28    Екатеринбург              free      4081   \n",
       "\n",
       "       duration       date  month  minute_price  start_ride_price  \\\n",
       "10912        20 2021-07-17      7             8                50   \n",
       "8548         10 2021-01-13      1             8                50   \n",
       "13215        18 2021-07-13      7             8                50   \n",
       "9627         19 2021-02-01      2             8                50   \n",
       "15734        10 2021-03-31      3             8                50   \n",
       "8381         24 2021-04-28      4             8                50   \n",
       "8454         16 2021-12-01     12             8                50   \n",
       "15091        14 2021-10-28     10             8                50   \n",
       "8588         14 2021-10-14     10             8                50   \n",
       "14555        21 2021-06-24      6             8                50   \n",
       "\n",
       "       subscription_fee  \n",
       "10912                 0  \n",
       "8548                  0  \n",
       "13215                 0  \n",
       "9627                  0  \n",
       "15734                 0  \n",
       "8381                  0  \n",
       "8454                  0  \n",
       "15091                 0  \n",
       "8588                  0  \n",
       "14555                 0  "
      ]
     },
     "metadata": {},
     "output_type": "display_data"
    },
    {
     "name": "stdout",
     "output_type": "stream",
     "text": [
      "<class 'pandas.core.frame.DataFrame'>\n",
      "Int64Index: 11568 entries, 6500 to 18067\n",
      "Data columns (total 12 columns):\n",
      " #   Column             Non-Null Count  Dtype         \n",
      "---  ------             --------------  -----         \n",
      " 0   user_id            11568 non-null  int64         \n",
      " 1   name               11568 non-null  object        \n",
      " 2   age                11568 non-null  int64         \n",
      " 3   city               11568 non-null  object        \n",
      " 4   subscription_type  11568 non-null  object        \n",
      " 5   distance           11568 non-null  int32         \n",
      " 6   duration           11568 non-null  int32         \n",
      " 7   date               11568 non-null  datetime64[ns]\n",
      " 8   month              11568 non-null  int64         \n",
      " 9   minute_price       11568 non-null  int64         \n",
      " 10  start_ride_price   11568 non-null  int64         \n",
      " 11  subscription_fee   11568 non-null  int64         \n",
      "dtypes: datetime64[ns](1), int32(2), int64(6), object(3)\n",
      "memory usage: 1.1+ MB\n"
     ]
    }
   ],
   "source": [
    "display(free_data.sample(10))\n",
    "free_data.info()"
   ]
  },
  {
   "cell_type": "markdown",
   "id": "5136dc89",
   "metadata": {},
   "source": [
    "### Создание с данными о пользователях с подпиской"
   ]
  },
  {
   "cell_type": "code",
   "execution_count": 44,
   "id": "e392a315",
   "metadata": {},
   "outputs": [],
   "source": [
    "ultra_data = data[data['subscription_type'] == 'ultra'].copy()"
   ]
  },
  {
   "cell_type": "code",
   "execution_count": 45,
   "id": "5e11ea77",
   "metadata": {},
   "outputs": [
    {
     "data": {
      "text/html": [
       "<div>\n",
       "<style scoped>\n",
       "    .dataframe tbody tr th:only-of-type {\n",
       "        vertical-align: middle;\n",
       "    }\n",
       "\n",
       "    .dataframe tbody tr th {\n",
       "        vertical-align: top;\n",
       "    }\n",
       "\n",
       "    .dataframe thead th {\n",
       "        text-align: right;\n",
       "    }\n",
       "</style>\n",
       "<table border=\"1\" class=\"dataframe\">\n",
       "  <thead>\n",
       "    <tr style=\"text-align: right;\">\n",
       "      <th></th>\n",
       "      <th>user_id</th>\n",
       "      <th>name</th>\n",
       "      <th>age</th>\n",
       "      <th>city</th>\n",
       "      <th>subscription_type</th>\n",
       "      <th>distance</th>\n",
       "      <th>duration</th>\n",
       "      <th>date</th>\n",
       "      <th>month</th>\n",
       "      <th>minute_price</th>\n",
       "      <th>start_ride_price</th>\n",
       "      <th>subscription_fee</th>\n",
       "    </tr>\n",
       "  </thead>\n",
       "  <tbody>\n",
       "    <tr>\n",
       "      <th>2111</th>\n",
       "      <td>226</td>\n",
       "      <td>Макар</td>\n",
       "      <td>21</td>\n",
       "      <td>Омск</td>\n",
       "      <td>ultra</td>\n",
       "      <td>3027</td>\n",
       "      <td>19</td>\n",
       "      <td>2021-01-13</td>\n",
       "      <td>1</td>\n",
       "      <td>6</td>\n",
       "      <td>0</td>\n",
       "      <td>199</td>\n",
       "    </tr>\n",
       "    <tr>\n",
       "      <th>1617</th>\n",
       "      <td>174</td>\n",
       "      <td>Инна</td>\n",
       "      <td>28</td>\n",
       "      <td>Краснодар</td>\n",
       "      <td>ultra</td>\n",
       "      <td>4810</td>\n",
       "      <td>21</td>\n",
       "      <td>2021-07-26</td>\n",
       "      <td>7</td>\n",
       "      <td>6</td>\n",
       "      <td>0</td>\n",
       "      <td>199</td>\n",
       "    </tr>\n",
       "    <tr>\n",
       "      <th>1163</th>\n",
       "      <td>125</td>\n",
       "      <td>Андрей</td>\n",
       "      <td>20</td>\n",
       "      <td>Тюмень</td>\n",
       "      <td>ultra</td>\n",
       "      <td>2155</td>\n",
       "      <td>19</td>\n",
       "      <td>2021-02-01</td>\n",
       "      <td>2</td>\n",
       "      <td>6</td>\n",
       "      <td>0</td>\n",
       "      <td>199</td>\n",
       "    </tr>\n",
       "    <tr>\n",
       "      <th>3456</th>\n",
       "      <td>372</td>\n",
       "      <td>Арсен</td>\n",
       "      <td>26</td>\n",
       "      <td>Ростов-на-Дону</td>\n",
       "      <td>ultra</td>\n",
       "      <td>3924</td>\n",
       "      <td>18</td>\n",
       "      <td>2021-07-03</td>\n",
       "      <td>7</td>\n",
       "      <td>6</td>\n",
       "      <td>0</td>\n",
       "      <td>199</td>\n",
       "    </tr>\n",
       "    <tr>\n",
       "      <th>3418</th>\n",
       "      <td>369</td>\n",
       "      <td>Ариана</td>\n",
       "      <td>22</td>\n",
       "      <td>Екатеринбург</td>\n",
       "      <td>ultra</td>\n",
       "      <td>3496</td>\n",
       "      <td>22</td>\n",
       "      <td>2021-02-03</td>\n",
       "      <td>2</td>\n",
       "      <td>6</td>\n",
       "      <td>0</td>\n",
       "      <td>199</td>\n",
       "    </tr>\n",
       "    <tr>\n",
       "      <th>4153</th>\n",
       "      <td>448</td>\n",
       "      <td>Мария</td>\n",
       "      <td>22</td>\n",
       "      <td>Москва</td>\n",
       "      <td>ultra</td>\n",
       "      <td>2738</td>\n",
       "      <td>23</td>\n",
       "      <td>2021-07-27</td>\n",
       "      <td>7</td>\n",
       "      <td>6</td>\n",
       "      <td>0</td>\n",
       "      <td>199</td>\n",
       "    </tr>\n",
       "    <tr>\n",
       "      <th>1161</th>\n",
       "      <td>124</td>\n",
       "      <td>Регина</td>\n",
       "      <td>29</td>\n",
       "      <td>Краснодар</td>\n",
       "      <td>ultra</td>\n",
       "      <td>2799</td>\n",
       "      <td>14</td>\n",
       "      <td>2021-12-30</td>\n",
       "      <td>12</td>\n",
       "      <td>6</td>\n",
       "      <td>0</td>\n",
       "      <td>199</td>\n",
       "    </tr>\n",
       "    <tr>\n",
       "      <th>5642</th>\n",
       "      <td>601</td>\n",
       "      <td>Платон</td>\n",
       "      <td>32</td>\n",
       "      <td>Тюмень</td>\n",
       "      <td>ultra</td>\n",
       "      <td>2858</td>\n",
       "      <td>16</td>\n",
       "      <td>2021-10-21</td>\n",
       "      <td>10</td>\n",
       "      <td>6</td>\n",
       "      <td>0</td>\n",
       "      <td>199</td>\n",
       "    </tr>\n",
       "    <tr>\n",
       "      <th>3527</th>\n",
       "      <td>379</td>\n",
       "      <td>Айдар</td>\n",
       "      <td>27</td>\n",
       "      <td>Ростов-на-Дону</td>\n",
       "      <td>ultra</td>\n",
       "      <td>4338</td>\n",
       "      <td>18</td>\n",
       "      <td>2021-08-11</td>\n",
       "      <td>8</td>\n",
       "      <td>6</td>\n",
       "      <td>0</td>\n",
       "      <td>199</td>\n",
       "    </tr>\n",
       "    <tr>\n",
       "      <th>4341</th>\n",
       "      <td>467</td>\n",
       "      <td>Евгения</td>\n",
       "      <td>17</td>\n",
       "      <td>Екатеринбург</td>\n",
       "      <td>ultra</td>\n",
       "      <td>3080</td>\n",
       "      <td>21</td>\n",
       "      <td>2021-08-31</td>\n",
       "      <td>8</td>\n",
       "      <td>6</td>\n",
       "      <td>0</td>\n",
       "      <td>199</td>\n",
       "    </tr>\n",
       "  </tbody>\n",
       "</table>\n",
       "</div>"
      ],
      "text/plain": [
       "      user_id     name  age            city subscription_type  distance  \\\n",
       "2111      226    Макар   21            Омск             ultra      3027   \n",
       "1617      174     Инна   28       Краснодар             ultra      4810   \n",
       "1163      125   Андрей   20          Тюмень             ultra      2155   \n",
       "3456      372    Арсен   26  Ростов-на-Дону             ultra      3924   \n",
       "3418      369   Ариана   22    Екатеринбург             ultra      3496   \n",
       "4153      448    Мария   22          Москва             ultra      2738   \n",
       "1161      124   Регина   29       Краснодар             ultra      2799   \n",
       "5642      601   Платон   32          Тюмень             ultra      2858   \n",
       "3527      379    Айдар   27  Ростов-на-Дону             ultra      4338   \n",
       "4341      467  Евгения   17    Екатеринбург             ultra      3080   \n",
       "\n",
       "      duration       date  month  minute_price  start_ride_price  \\\n",
       "2111        19 2021-01-13      1             6                 0   \n",
       "1617        21 2021-07-26      7             6                 0   \n",
       "1163        19 2021-02-01      2             6                 0   \n",
       "3456        18 2021-07-03      7             6                 0   \n",
       "3418        22 2021-02-03      2             6                 0   \n",
       "4153        23 2021-07-27      7             6                 0   \n",
       "1161        14 2021-12-30     12             6                 0   \n",
       "5642        16 2021-10-21     10             6                 0   \n",
       "3527        18 2021-08-11      8             6                 0   \n",
       "4341        21 2021-08-31      8             6                 0   \n",
       "\n",
       "      subscription_fee  \n",
       "2111               199  \n",
       "1617               199  \n",
       "1163               199  \n",
       "3456               199  \n",
       "3418               199  \n",
       "4153               199  \n",
       "1161               199  \n",
       "5642               199  \n",
       "3527               199  \n",
       "4341               199  "
      ]
     },
     "metadata": {},
     "output_type": "display_data"
    },
    {
     "name": "stdout",
     "output_type": "stream",
     "text": [
      "<class 'pandas.core.frame.DataFrame'>\n",
      "Int64Index: 6500 entries, 0 to 6499\n",
      "Data columns (total 12 columns):\n",
      " #   Column             Non-Null Count  Dtype         \n",
      "---  ------             --------------  -----         \n",
      " 0   user_id            6500 non-null   int64         \n",
      " 1   name               6500 non-null   object        \n",
      " 2   age                6500 non-null   int64         \n",
      " 3   city               6500 non-null   object        \n",
      " 4   subscription_type  6500 non-null   object        \n",
      " 5   distance           6500 non-null   int32         \n",
      " 6   duration           6500 non-null   int32         \n",
      " 7   date               6500 non-null   datetime64[ns]\n",
      " 8   month              6500 non-null   int64         \n",
      " 9   minute_price       6500 non-null   int64         \n",
      " 10  start_ride_price   6500 non-null   int64         \n",
      " 11  subscription_fee   6500 non-null   int64         \n",
      "dtypes: datetime64[ns](1), int32(2), int64(6), object(3)\n",
      "memory usage: 609.4+ KB\n"
     ]
    }
   ],
   "source": [
    "display(ultra_data.sample(10))\n",
    "ultra_data.info()"
   ]
  },
  {
   "cell_type": "code",
   "execution_count": 46,
   "id": "294ab4d8",
   "metadata": {},
   "outputs": [
    {
     "data": {
      "text/plain": [
       "18068"
      ]
     },
     "execution_count": 46,
     "metadata": {},
     "output_type": "execute_result"
    }
   ],
   "source": [
    "11568 +6500"
   ]
  },
  {
   "cell_type": "markdown",
   "id": "ae82eada",
   "metadata": {},
   "source": [
    "При формировании двух таблиц ни одной строки не было потеряно из изначальной."
   ]
  },
  {
   "cell_type": "markdown",
   "id": "c132de67",
   "metadata": {},
   "source": [
    "### Информация о расстоянии и времени поездок для пользователей обеих категорий."
   ]
  },
  {
   "cell_type": "code",
   "execution_count": 47,
   "id": "cabe82ea",
   "metadata": {},
   "outputs": [
    {
     "name": "stdout",
     "output_type": "stream",
     "text": [
      "distance  median    3113.0\n",
      "duration  median      18.0\n",
      "dtype: float64\n",
      "максимальное расстояние поездки 7212 метр(ов)\n",
      "минимальное расстояние поездки 1 метр.\n",
      "максимальная продолжительность поездки 35 минут.\n",
      "минимальная продолжительность поездки 1 минута.\n"
     ]
    }
   ],
   "source": [
    "print(\n",
    "round(free_data.loc[free_data['distance'].notna(), ['user_id', 'distance','duration']] \\\n",
    "                .groupby('user_id') \\\n",
    "                .agg(['median'])\n",
    "                .median())\n",
    "     )\n",
    "print('максимальное расстояние поездки', max(free_data['distance']), 'метр(ов)')\n",
    "print('минимальное расстояние поездки',min(free_data['distance']), 'метр.')\n",
    "print('максимальная продолжительность поездки',max(free_data['duration']), 'минут.')\n",
    "print('минимальная продолжительность поездки',min(free_data['duration']), 'минута.')"
   ]
  },
  {
   "cell_type": "code",
   "execution_count": 48,
   "id": "a531b527",
   "metadata": {},
   "outputs": [
    {
     "data": {
      "image/png": "[encoded data removed]",
      "text/plain": [
       "<Figure size 1500x1000 with 1 Axes>"
      ]
     },
     "metadata": {},
     "output_type": "display_data"
    }
   ],
   "source": [
    "plt.figure(figsize=(15,10))\n",
    "\n",
    "ax1 = free_data['distance'].plot(kind='hist', \n",
    "                                 bins = 100,\n",
    "                                 color='g',\n",
    "                                 alpha=0.4)\n",
    "\n",
    "#отобразим график количества всех сообщений в зависимости от часа\n",
    "ax2 = ultra_data['distance'].plot(kind='hist',\n",
    "                                  bins = 200,\n",
    "                                  color='r',\n",
    "                                  alpha=0.4,\n",
    "                                  ax=ax1)\n",
    "plt.legend(['free', 'ultra'])\n",
    "plt.xlabel('Расстояние, м')\n",
    "plt.ylabel('Число пользователей')\n",
    "plt.title('Сравнение расстояния поездки пользователей с подпиской и без', fontsize=15);"
   ]
  },
  {
   "cell_type": "code",
   "execution_count": 49,
   "id": "690f013e",
   "metadata": {},
   "outputs": [
    {
     "name": "stdout",
     "output_type": "stream",
     "text": [
      "distance  median    3143.0\n",
      "duration  median      19.0\n",
      "dtype: float64\n",
      "максимальное расстояние поездки 5700 метр(ов).\n",
      "минимальное расстояние поездки 245 метр(ов).\n",
      "максимальная продолжительность поездки 41 минут.\n",
      "минимальная продолжительность поездки 4 минуты.\n"
     ]
    }
   ],
   "source": [
    "print(\n",
    "round(ultra_data.loc[ultra_data['duration'].notna(), ['user_id', 'distance','duration']] \\\n",
    "                .groupby('user_id') \\\n",
    "                .agg(['median'])\n",
    "                .median())\n",
    "                \n",
    "    )\n",
    "print('максимальное расстояние поездки', max(ultra_data['distance']), 'метр(ов).')\n",
    "print('минимальное расстояние поездки',min(ultra_data['distance']), 'метр(ов).')\n",
    "print('максимальная продолжительность поездки',max(ultra_data['duration']), 'минут.')\n",
    "print('минимальная продолжительность поездки',min(ultra_data['duration']), 'минуты.')"
   ]
  },
  {
   "cell_type": "code",
   "execution_count": 50,
   "id": "67730da3",
   "metadata": {},
   "outputs": [
    {
     "data": {
      "image/png": "[encoded data removed]",
      "text/plain": [
       "<Figure size 1500x1000 with 1 Axes>"
      ]
     },
     "metadata": {},
     "output_type": "display_data"
    }
   ],
   "source": [
    "plt.figure(figsize=(15,10))\n",
    "\n",
    "ax1 = free_data['duration'].plot(kind='hist', \n",
    "                                 bins = 70,\n",
    "                                 color='g',\n",
    "                                 alpha=0.4)\n",
    "\n",
    "#отобразим график количества всех сообщений в зависимости от часа\n",
    "ax2 = ultra_data['duration'].plot(kind='hist',\n",
    "                                  bins = 70,\n",
    "                                  color='r',\n",
    "                                  alpha=0.4,\n",
    "                                  ax=ax1)\n",
    "plt.legend(['free', 'ultra'])\n",
    "plt.xlabel('Продолжительность')\n",
    "plt.ylabel('Число пользователей')\n",
    "plt.title('Сравнение продолжительности поездки пользователей с подпиской и без', fontsize=15);"
   ]
  },
  {
   "cell_type": "markdown",
   "id": "5e38c27a",
   "metadata": {},
   "source": [
    "В среднем пользователи с подпиской используют самокаты так же, как и без подписки.  \n",
    "Однако максимальные и минимальные значения различаются:  \n",
    "- Максимальное расстояние пользователей с подпиской на 21% меньше, а минимальное в 244 раз больше.\n",
    "- По продолжительности с подпиской пользователи на 17% дольше, чем без подписки."
   ]
  },
  {
   "cell_type": "markdown",
   "id": "402d620f",
   "metadata": {},
   "source": [
    "## Шаг 5. Подсчёт выручки"
   ]
  },
  {
   "cell_type": "markdown",
   "id": "00726aaf",
   "metadata": {},
   "source": [
    "Создим датафрейм с агрегированными данными о поездках на основе датафрейма с объединёнными данными из шага 4: суммарное расстояние, количество поездок и суммарное время для каждого пользователя за каждый месяц. "
   ]
  },
  {
   "cell_type": "code",
   "execution_count": 51,
   "id": "fb3854fa",
   "metadata": {
    "scrolled": true
   },
   "outputs": [],
   "source": [
    "# суммарное расстояние и время поездки посчитаем функцией sum к столбцу distance и duration\n",
    "# количество поездок возьмем count от стоблбца name.\n",
    "# добавим колонку subscription_type для дальнейшего расчета ежемесячной выручки.\n",
    "sum_data = pd.pivot_table(data, \n",
    "                            index=['month', 'user_id'],\n",
    "                            values = ['distance', 'name','duration', 'subscription_type'],\n",
    "                            aggfunc = {'distance':sum,'name':len,'duration':sum,'subscription_type':max})\n",
    "# поменяем названия колонок\n",
    "sum_data = sum_data.rename(columns = {'distance':'total_distance', 'name' : 'trips','duration':'total_duration'})"
   ]
  },
  {
   "cell_type": "code",
   "execution_count": 52,
   "id": "8ab68af5",
   "metadata": {},
   "outputs": [
    {
     "data": {
      "text/html": [
       "<div>\n",
       "<style scoped>\n",
       "    .dataframe tbody tr th:only-of-type {\n",
       "        vertical-align: middle;\n",
       "    }\n",
       "\n",
       "    .dataframe tbody tr th {\n",
       "        vertical-align: top;\n",
       "    }\n",
       "\n",
       "    .dataframe thead th {\n",
       "        text-align: right;\n",
       "    }\n",
       "</style>\n",
       "<table border=\"1\" class=\"dataframe\">\n",
       "  <thead>\n",
       "    <tr style=\"text-align: right;\">\n",
       "      <th></th>\n",
       "      <th></th>\n",
       "      <th>total_distance</th>\n",
       "      <th>total_duration</th>\n",
       "      <th>trips</th>\n",
       "      <th>subscription_type</th>\n",
       "    </tr>\n",
       "    <tr>\n",
       "      <th>month</th>\n",
       "      <th>user_id</th>\n",
       "      <th></th>\n",
       "      <th></th>\n",
       "      <th></th>\n",
       "      <th></th>\n",
       "    </tr>\n",
       "  </thead>\n",
       "  <tbody>\n",
       "    <tr>\n",
       "      <th>7</th>\n",
       "      <th>346</th>\n",
       "      <td>2792</td>\n",
       "      <td>22</td>\n",
       "      <td>1</td>\n",
       "      <td>ultra</td>\n",
       "    </tr>\n",
       "    <tr>\n",
       "      <th>10</th>\n",
       "      <th>538</th>\n",
       "      <td>3033</td>\n",
       "      <td>16</td>\n",
       "      <td>1</td>\n",
       "      <td>ultra</td>\n",
       "    </tr>\n",
       "    <tr>\n",
       "      <th>4</th>\n",
       "      <th>222</th>\n",
       "      <td>2988</td>\n",
       "      <td>15</td>\n",
       "      <td>1</td>\n",
       "      <td>ultra</td>\n",
       "    </tr>\n",
       "    <tr>\n",
       "      <th>10</th>\n",
       "      <th>1201</th>\n",
       "      <td>9852</td>\n",
       "      <td>65</td>\n",
       "      <td>3</td>\n",
       "      <td>free</td>\n",
       "    </tr>\n",
       "    <tr>\n",
       "      <th>9</th>\n",
       "      <th>992</th>\n",
       "      <td>5483</td>\n",
       "      <td>34</td>\n",
       "      <td>2</td>\n",
       "      <td>free</td>\n",
       "    </tr>\n",
       "  </tbody>\n",
       "</table>\n",
       "</div>"
      ],
      "text/plain": [
       "               total_distance  total_duration  trips subscription_type\n",
       "month user_id                                                         \n",
       "7     346                2792              22      1             ultra\n",
       "10    538                3033              16      1             ultra\n",
       "4     222                2988              15      1             ultra\n",
       "10    1201               9852              65      3              free\n",
       "9     992                5483              34      2              free"
      ]
     },
     "execution_count": 52,
     "metadata": {},
     "output_type": "execute_result"
    }
   ],
   "source": [
    "sum_data.sample(5)"
   ]
  },
  {
   "cell_type": "markdown",
   "id": "36cbf8d6",
   "metadata": {},
   "source": [
    "Добавим столбец с помесячной выручкой, которую принёс каждый пользователь."
   ]
  },
  {
   "cell_type": "code",
   "execution_count": 53,
   "id": "fc9d6820",
   "metadata": {},
   "outputs": [],
   "source": [
    "def gain (row):\n",
    "    if row['subscription_type'] == 'free':\n",
    "        return 8 * row['total_duration'] + 50 * row['trips']\n",
    "    elif row['subscription_type'] == 'ultra':\n",
    "        return 6 * row['total_duration'] + 199"
   ]
  },
  {
   "cell_type": "code",
   "execution_count": 54,
   "id": "d5c12562",
   "metadata": {
    "scrolled": true
   },
   "outputs": [
    {
     "data": {
      "text/html": [
       "<div>\n",
       "<style scoped>\n",
       "    .dataframe tbody tr th:only-of-type {\n",
       "        vertical-align: middle;\n",
       "    }\n",
       "\n",
       "    .dataframe tbody tr th {\n",
       "        vertical-align: top;\n",
       "    }\n",
       "\n",
       "    .dataframe thead th {\n",
       "        text-align: right;\n",
       "    }\n",
       "</style>\n",
       "<table border=\"1\" class=\"dataframe\">\n",
       "  <thead>\n",
       "    <tr style=\"text-align: right;\">\n",
       "      <th></th>\n",
       "      <th></th>\n",
       "      <th>total_distance</th>\n",
       "      <th>total_duration</th>\n",
       "      <th>trips</th>\n",
       "      <th>subscription_type</th>\n",
       "      <th>gain</th>\n",
       "    </tr>\n",
       "    <tr>\n",
       "      <th>month</th>\n",
       "      <th>user_id</th>\n",
       "      <th></th>\n",
       "      <th></th>\n",
       "      <th></th>\n",
       "      <th></th>\n",
       "      <th></th>\n",
       "    </tr>\n",
       "  </thead>\n",
       "  <tbody>\n",
       "    <tr>\n",
       "      <th>3</th>\n",
       "      <th>326</th>\n",
       "      <td>2786</td>\n",
       "      <td>23</td>\n",
       "      <td>1</td>\n",
       "      <td>ultra</td>\n",
       "      <td>337</td>\n",
       "    </tr>\n",
       "    <tr>\n",
       "      <th>10</th>\n",
       "      <th>617</th>\n",
       "      <td>3122</td>\n",
       "      <td>19</td>\n",
       "      <td>1</td>\n",
       "      <td>ultra</td>\n",
       "      <td>313</td>\n",
       "    </tr>\n",
       "    <tr>\n",
       "      <th>7</th>\n",
       "      <th>631</th>\n",
       "      <td>3470</td>\n",
       "      <td>21</td>\n",
       "      <td>1</td>\n",
       "      <td>ultra</td>\n",
       "      <td>325</td>\n",
       "    </tr>\n",
       "    <tr>\n",
       "      <th>9</th>\n",
       "      <th>1440</th>\n",
       "      <td>1470</td>\n",
       "      <td>10</td>\n",
       "      <td>1</td>\n",
       "      <td>free</td>\n",
       "      <td>130</td>\n",
       "    </tr>\n",
       "    <tr>\n",
       "      <th>5</th>\n",
       "      <th>81</th>\n",
       "      <td>3706</td>\n",
       "      <td>15</td>\n",
       "      <td>1</td>\n",
       "      <td>ultra</td>\n",
       "      <td>289</td>\n",
       "    </tr>\n",
       "    <tr>\n",
       "      <th>12</th>\n",
       "      <th>114</th>\n",
       "      <td>3263</td>\n",
       "      <td>23</td>\n",
       "      <td>1</td>\n",
       "      <td>ultra</td>\n",
       "      <td>337</td>\n",
       "    </tr>\n",
       "    <tr>\n",
       "      <th>4</th>\n",
       "      <th>1078</th>\n",
       "      <td>3448</td>\n",
       "      <td>17</td>\n",
       "      <td>1</td>\n",
       "      <td>free</td>\n",
       "      <td>186</td>\n",
       "    </tr>\n",
       "    <tr>\n",
       "      <th>6</th>\n",
       "      <th>1387</th>\n",
       "      <td>4803</td>\n",
       "      <td>18</td>\n",
       "      <td>1</td>\n",
       "      <td>free</td>\n",
       "      <td>194</td>\n",
       "    </tr>\n",
       "    <tr>\n",
       "      <th rowspan=\"2\" valign=\"top\">4</th>\n",
       "      <th>1201</th>\n",
       "      <td>5423</td>\n",
       "      <td>21</td>\n",
       "      <td>2</td>\n",
       "      <td>free</td>\n",
       "      <td>268</td>\n",
       "    </tr>\n",
       "    <tr>\n",
       "      <th>502</th>\n",
       "      <td>3074</td>\n",
       "      <td>16</td>\n",
       "      <td>1</td>\n",
       "      <td>ultra</td>\n",
       "      <td>295</td>\n",
       "    </tr>\n",
       "  </tbody>\n",
       "</table>\n",
       "</div>"
      ],
      "text/plain": [
       "               total_distance  total_duration  trips subscription_type  gain\n",
       "month user_id                                                               \n",
       "3     326                2786              23      1             ultra   337\n",
       "10    617                3122              19      1             ultra   313\n",
       "7     631                3470              21      1             ultra   325\n",
       "9     1440               1470              10      1              free   130\n",
       "5     81                 3706              15      1             ultra   289\n",
       "12    114                3263              23      1             ultra   337\n",
       "4     1078               3448              17      1              free   186\n",
       "6     1387               4803              18      1              free   194\n",
       "4     1201               5423              21      2              free   268\n",
       "      502                3074              16      1             ultra   295"
      ]
     },
     "execution_count": 54,
     "metadata": {},
     "output_type": "execute_result"
    }
   ],
   "source": [
    "sum_data['gain'] = sum_data.apply(gain, axis=1) # добавляем значения в столбец выручка \"gain\"\n",
    "sum_data.sample(10)"
   ]
  },
  {
   "cell_type": "markdown",
   "id": "41545ac0",
   "metadata": {},
   "source": [
    "## Шаг 6. Проверка гипотез"
   ]
  },
  {
   "cell_type": "markdown",
   "id": "cd224b3c",
   "metadata": {},
   "source": [
    "> Продакт-менеджеры сервиса хотят увеличить количество пользователей с подпиской. Для этого они будут проводить различные акции, но сначала нужно выяснить несколько важных моментов.<br>\n",
    "\n",
    "6.1 Важно понять, тратят ли пользователи с подпиской больше времени на поездки? <br>Если да, то пользователи с подпиской могут быть «выгоднее» для компании. <br><br>\n",
    "\n",
    "Дано:<br>\n",
    "H0: duration(ultra) = duration(free)<br>\n",
    "H1: duration(ultra) > duration(free)<br>\n",
    "Alfa = 0.05"
   ]
  },
  {
   "cell_type": "code",
   "execution_count": 55,
   "id": "e8f15d71",
   "metadata": {},
   "outputs": [
    {
     "name": "stdout",
     "output_type": "stream",
     "text": [
      "p-значение: 2.4959453720736625e-34\n",
      "Отвергаем нулевую гипотезу\n"
     ]
    }
   ],
   "source": [
    "alpha = 0.05 # уровень статистической значимости\n",
    "# проводим ttest для двух выборок, в качестве альтернативной используем одностороннюю гипотезу «больше»\n",
    "results = st.ttest_ind(ultra_data['duration'], free_data['duration'], alternative='greater')\n",
    "\n",
    "print('p-значение:', results.pvalue)\n",
    "\n",
    "# если p-value окажется меньше него, отвергнем гипотезу\n",
    "if results.pvalue < alpha:\n",
    "    print('Отвергаем нулевую гипотезу')\n",
    "else:\n",
    "    print('Не получилось отвергнуть нулевую гипотезу') "
   ]
  },
  {
   "cell_type": "markdown",
   "id": "6ccfe833",
   "metadata": {},
   "source": [
    "Проверили гипотезу. Отвергли гипотезу, что пользователи с подпиской тратят одинаковое время на поездки, чем пользователи без подписки."
   ]
  },
  {
   "cell_type": "markdown",
   "id": "fc1ac7b1",
   "metadata": {},
   "source": [
    "6.2 Расстояние одной поездки в 3130 метров — оптимальное с точки зрения износа самоката. <br> Можно ли сказать, что расстояние, которое проезжают пользователи с подпиской за одну поездку, не превышает 3130 метров? Проверьте гипотезу и сделайте выводы.<br>\n",
    "Дано:<br>\n",
    "Н0: distance = 3130 метров <br>\n",
    "Н1: distance > 3130 метров <br>\n",
    "alfa = 0.05"
   ]
  },
  {
   "cell_type": "code",
   "execution_count": 56,
   "id": "3cdcdea9",
   "metadata": {},
   "outputs": [
    {
     "name": "stdout",
     "output_type": "stream",
     "text": [
      "p-значение: 0.9120422337080507\n",
      "Не получилось отвергнуть нулевую гипотезу\n"
     ]
    }
   ],
   "source": [
    "interested_value = 3130\n",
    "alpha = .05 # уровень статистической значимости\n",
    "# проводим ttest для одной выборке, в качестве альтернативной используем одностороннюю гипотезу «больше»\n",
    "results = st.ttest_1samp(\n",
    "    ultra_data['distance'], \n",
    "    interested_value,\n",
    "    alternative='greater')\n",
    "\n",
    "print('p-значение:', results.pvalue)\n",
    "\n",
    "if results.pvalue < alpha:\n",
    "    print('Отвергаем нулевую гипотезу')\n",
    "else:\n",
    "    print('Не получилось отвергнуть нулевую гипотезу')"
   ]
  },
  {
   "cell_type": "markdown",
   "id": "ca1061a5",
   "metadata": {},
   "source": [
    "Проверили гипотезу. Отвергли гипотезу, что в среднем расстояние, которое проехали пользователи с подпиской превышает 3130 метров."
   ]
  },
  {
   "cell_type": "markdown",
   "id": "6112579e",
   "metadata": {},
   "source": [
    "6.3. Проверьте гипотезу о том, будет ли помесячная выручка от пользователей с подпиской по месяцам выше, чем выручка от пользователей без подписки. Сделайте вывод.<br>\n",
    "Дано:<br>\n",
    "Н0: выручка(gain)ultra = выручка(gain)free <br>\n",
    "Н1: выручка(gain)ultra > выручка(gain)free <br>\n",
    "alfa = 0.05"
   ]
  },
  {
   "cell_type": "code",
   "execution_count": 57,
   "id": "68eeee90",
   "metadata": {},
   "outputs": [
    {
     "name": "stdout",
     "output_type": "stream",
     "text": [
      "p-значение: 1.8850394384715216e-31\n",
      "Отвергаем нулевую гипотезу\n"
     ]
    }
   ],
   "source": [
    "ultra_revenue = sum_data[sum_data['subscription_type']=='ultra']\n",
    "free_revenue = sum_data[sum_data['subscription_type']=='free']\n",
    "alpha = 0.05 # уровень статистической значимости\n",
    "# проводим ttest для двух выборок, в качестве альтернативной используем одностороннюю гипотезу «больше»\n",
    "results = st.ttest_ind(ultra_revenue['gain'], \n",
    "                       free_revenue['gain'], \n",
    "                       alternative='greater')\n",
    "\n",
    "print('p-значение:', results.pvalue)\n",
    "\n",
    "# если p-value окажется меньше него, отвергнем гипотезу\n",
    "if results.pvalue < alpha:\n",
    "    print('Отвергаем нулевую гипотезу')\n",
    "else:\n",
    "    print('Не получилось отвергнуть нулевую гипотезу') "
   ]
  },
  {
   "cell_type": "markdown",
   "id": "da641323",
   "metadata": {},
   "source": [
    "Проверили гипотезу. Отвергли гипотезу. Можно утверждать, что выручка с пользователей с подпиской не равна выручке пользователей без подписки."
   ]
  },
  {
   "cell_type": "markdown",
   "id": "ee1ccb1d",
   "metadata": {},
   "source": [
    "6.4. Представьте такую ситуацию: техническая команда сервиса обновила сервера, с которыми взаимодействует мобильное приложение.<br> Она надеется, что из-за этого количество обращений в техподдержку значимо снизилось. <br>Некоторый файл содержит для каждого пользователя данные о количестве обращений до обновления и после него. <br>Какой тест вам понадобился бы для проверки этой гипотезы?<br>\n",
    "\n",
    "Для данной задачи можно применить гипотезу о равенстве среднего генеральной совокупности для зависимых (парных) выборок. <br>\n",
    "<br>\n",
    "H0 : μ1 = μ2 <br>\n",
    "H1 : μ1 != μ2 <br>\n",
    "alfa = 0.05 <br>\n",
    "results = st.ttest_rel(before, after)"
   ]
  },
  {
   "cell_type": "markdown",
   "id": "61213c5e",
   "metadata": {},
   "source": [
    "## Шаг 7. Распределения"
   ]
  },
  {
   "cell_type": "markdown",
   "id": "31bd4b65",
   "metadata": {},
   "source": [
    "### акция с раздачей промокодов\n",
    "Отделу маркетинга GoFast поставили задачу: нужно провести акцию с раздачей промокодов на один бесплатный месяц подписки, в рамках которой как минимум 100 существующих клиентов должны продлить эту подписку. То есть по завершении периода действия подписки пользователь может либо отказаться от неё, либо продлить, совершив соответствующий платёж. <br>\n",
    "Эта акция уже проводилась ранее и по итогу выяснилось, что после бесплатного пробного периода подписку продлевают 10 % пользователей. <br> Определим какое минимальное количество промокодов нужно разослать, чтобы вероятность не выполнить план была примерно 5 %. \n",
    "Подберем параметры распределения, описывающего эту ситуацию, и построим график распределения."
   ]
  },
  {
   "cell_type": "code",
   "execution_count": 58,
   "id": "8ffb2cb8",
   "metadata": {},
   "outputs": [
    {
     "data": {
      "image/png": "[encoded data removed]",
      "text/plain": [
       "<Figure size 640x480 with 1 Axes>"
      ]
     },
     "metadata": {},
     "output_type": "display_data"
    }
   ],
   "source": [
    "n = 100 # количество попыток\n",
    "p = 0.1 # вероятность успеха\n",
    "\n",
    "distr = []\n",
    "\n",
    "for k in range(0, n + 1):\n",
    "    current_value = binom.pmf(k, n, p)\n",
    "    distr.append(current_value)\n",
    "plt.bar(range(0, n + 1), distr);"
   ]
  },
  {
   "cell_type": "markdown",
   "id": "8a3ef282",
   "metadata": {},
   "source": [
    "График показывает, что при вероятности успеха p, равной 10% и 100 промокодов вероятность, что больше 22 клиентов продлят подписку, крайне мала. Посчитаем сколько промокодов необходимо разослать."
   ]
  },
  {
   "cell_type": "code",
   "execution_count": 59,
   "id": "b7e7e67b",
   "metadata": {},
   "outputs": [
    {
     "name": "stdout",
     "output_type": "stream",
     "text": [
      "Минимальное количество промокодов: 1161\n",
      "Вероятность не выполнить план при таком количестве промокодов: 4.98%\n"
     ]
    }
   ],
   "source": [
    "max_value = 100  # количество клиентов для продления подписки\n",
    "p = 0.1  # Вероятность продления подписки\n",
    "\n",
    "# Считаем промокоды - n\n",
    "n = 0\n",
    "while binom.cdf(max_value - 1, n, p) > 0.05:\n",
    "    n += 1\n",
    "    \n",
    "print('Минимальное количество промокодов:', n)\n",
    "print(f\"Вероятность не выполнить план при таком количестве промокодов: {binom.cdf(max_value - 1, n, p):.2%}\")"
   ]
  },
  {
   "cell_type": "markdown",
   "id": "ddcd4434",
   "metadata": {},
   "source": [
    "Построим график распределения"
   ]
  },
  {
   "cell_type": "code",
   "execution_count": 60,
   "id": "53a5e50d",
   "metadata": {},
   "outputs": [
    {
     "name": "stderr",
     "output_type": "stream",
     "text": [
      "D:\\Anaconda3\\lib\\site-packages\\scipy\\stats\\_discrete_distns.py:78: RuntimeWarning: divide by zero encountered in _binom_pdf\n",
      "  return _boost._binom_pdf(x, n, p)\n"
     ]
    },
    {
     "data": {
      "image/png": "[encoded data removed]",
      "text/plain": [
       "<Figure size 640x480 with 1 Axes>"
      ]
     },
     "metadata": {},
     "output_type": "display_data"
    }
   ],
   "source": [
    "n = 1161 # количество попыток\n",
    "p = 0.1 # Вероятность продления подписки\n",
    "\n",
    "distr = []\n",
    "\n",
    "for k in range(0, n + 1):\n",
    "    current_value = binom.pmf(k, n, p)\n",
    "    distr.append(current_value)\n",
    "plt.bar(range(0, n + 1), distr);"
   ]
  },
  {
   "cell_type": "markdown",
   "id": "2041ab75",
   "metadata": {},
   "source": [
    "График показывает, что если разослать 1161 промокод, то 100 клиентов (которые продлят подписку) - наиболее вероятный результат."
   ]
  },
  {
   "cell_type": "markdown",
   "id": "78264557",
   "metadata": {},
   "source": [
    "### рассылка клиентам push-уведомления\n",
    "Отдел маркетинга рассылает клиентам push-уведомления в мобильном приложении. Клиенты могут открыть его или не открывать. Известно, что уведомления открывают около 40 % получивших клиентов. Отдел планирует разослать 1 млн уведомлений. С помощью аппроксимации постройте примерный график распределения и оцените вероятность того, что уведомление откроют не более 399,5 тыс. пользователей."
   ]
  },
  {
   "cell_type": "code",
   "execution_count": 61,
   "id": "1506a06b",
   "metadata": {},
   "outputs": [
    {
     "name": "stdout",
     "output_type": "stream",
     "text": [
      "вероятность того, что уведомление откроют не более 399,5 тыс. пользователей: 15.37%\n"
     ]
    }
   ],
   "source": [
    "from math import sqrt # загрузим sqrt из библиотеки math\n",
    "n = 1000000\n",
    "n1= 399500\n",
    "p = 0.4\n",
    "mu = n*p # мат ожидание \n",
    "sigma = sqrt(n * p * (1 - p)) # стандартное отклонение\n",
    "\n",
    "distr = st.norm(mu, sigma)  # нормальное распределение\n",
    "\n",
    "result = distr.cdf(n1)\n",
    "print(f\"вероятность того, что уведомление откроют не более 399,5 тыс. пользователей: {result:.2%}\")"
   ]
  },
  {
   "cell_type": "markdown",
   "id": "b2998824",
   "metadata": {},
   "source": [
    "15.3% крайне маленькая вероятность."
   ]
  },
  {
   "cell_type": "code",
   "execution_count": 62,
   "id": "fefd6559",
   "metadata": {},
   "outputs": [
    {
     "data": {
      "image/png": "[encoded data removed]",
      "text/plain": [
       "<Figure size 640x480 with 1 Axes>"
      ]
     },
     "metadata": {},
     "output_type": "display_data"
    },
    {
     "name": "stdout",
     "output_type": "stream",
     "text": [
      "Условие выполняется\n"
     ]
    }
   ],
   "source": [
    "from scipy.stats import norm\n",
    "# зададим функцию, которая выдаёт <num> чисел,\n",
    "# равномерно распределённых от <start> до <stop>\n",
    "# (понадобится для визуализации нормального распределения)\n",
    "def linspace(start, stop, num):\n",
    "    step = (stop - start) / (num - 1)\n",
    "    result = []\n",
    "    for i in range(num):\n",
    "        result.append(start + step * i)\n",
    "    return result\n",
    "# границы промежутка, в котором будем строить аппроксимацию -\n",
    "# от n*p минус 4 ст.отклонения бином.распределения\n",
    "# до n*p плюс 4 ст.отклонения бином.распределения\n",
    "# (там, где вероятности значений почти не равны нулю)\n",
    "left = int(n * p - 4 * sqrt(n * p * (1 - p)))\n",
    "right = int(n * p + 4 * sqrt(n * p * (1 - p)))\n",
    "\n",
    "# зададим набор значений биномиальной величины на выбранном промежутке:\n",
    "# все неотрицательные целые числа от left до right\n",
    "x = list(range(max(0, left), right))\n",
    "# рисуем график биномиального распределения\n",
    "ax = plt.subplot()\n",
    "# используем синие о-образные маркеры и размер маркера 5\n",
    "ax.plot(x, binom.pmf(x, n, p), 'bo', ms=5,\n",
    "\t      label='вероятности биномиального распределения')\n",
    "# рисуем график нормального распределения:\n",
    "# получим список из 100 чисел от left до right\n",
    "x = linspace(left, right, 100)\n",
    "# используем красную линию ширины 3 и прозрачности 0.3\n",
    "ax.plot(x, norm.pdf(x, mu, sigma), 'r-', lw=3, alpha=0.3, label='плотность вероятности нормального распределения')\n",
    " \n",
    "# зададим подписи по оси x в пределах ± 3 ст.отклонений от мат.ожидания\n",
    "# (последний аргумент в методе range - интервал между подписями)\n",
    "x_ticks = list(range(int(mu - 3 * sigma), int(mu + 3 * sigma), 1))\n",
    "ax.set_xticks(x_ticks)\n",
    "\n",
    "# настраиваем оптимальное расположение легенды и выводим график\n",
    "ax.legend(loc='best')\n",
    "plt.show()\n",
    "\n",
    "# выводим, выполняется ли наше условие аппроксимации:\n",
    "# лежит ли mu ± 3 sigma в промежутке от 0 до n:\n",
    "if (mu - (3 * sigma) >= 0) and ((mu + (3 * sigma) <= n)):\n",
    "    print('Условие выполняется')\n",
    "else:\n",
    "    print('Условие не выполняется')"
   ]
  },
  {
   "cell_type": "markdown",
   "id": "dccaa7b8",
   "metadata": {},
   "source": [
    "## Выводы"
   ]
  },
  {
   "cell_type": "markdown",
   "id": "410bcdeb",
   "metadata": {},
   "source": [
    "**Проделанная работа:**\n",
    "1. Загрузили датафреймы: \n",
    "    - информация о пользователях\n",
    "    - информация о поездах\n",
    "    - информация о тарифах\n",
    "2. Проделали предобработу:\n",
    "Проверили данные на пропуски и дубликаты.\n",
    "Добавлими вспомогательный толбец для последующего анализа.\n",
    "Поменяли тип данных.\n",
    "3. Провели исследовательский анализ данных:\n",
    "Спрос на самокаты по городам - самый большой в Пятигорске (226 человек), в Москве - самый маленький (172 человека).<br>\n",
    "Пользователи охотнее берут самокаты без подписки.  ( 54% от всего количества пользователей. Без подписки `free` 846, С подпиской `ultra` 719).<br>\n",
    "4. Определили возраст пользователей:\n",
    "В возрастном диапазоне (с 25 по 43 года) пользователи чаще берут самокаты с 25 до 30 лет.<br>\n",
    "~Один тряхнул стариной в 43 года~\n",
    "5. Определили расстояние, которое проделали пользователи.\n",
    "В среднем пользователи преодолевают 3132 м. Максимальное расстояние поездки 7212 метра, а минимальное - 1 метр. \n",
    "6. Определили время в пути, которое потратили пользователи.\n",
    "Средняя продолжительность одной поездки составляет 18 минут. Максимальная продолжительность поездки 41 минут,а минимальная- 1 минута.\n",
    "7. Объединили данные о пользователях, поездках и подписках в один датафрейм.<br>\n",
    "На основе объединенного датафрейма создали еще датафреймы - пользователи с без подписки (free_data) и с подпиской (ultra_data).\n",
    "\n",
    "8. Провели анализ о расстоянии и времени поездок для пользователей обеих категорий\n",
    "- Пользователи **без подписки** <br>\n",
    "в среднем проехали 3113 метров, в среднем потратили в дороге 18.0 минут.<br>\n",
    "Максимальное расстояние поездки 7212 метров,минимальное - 1 метр.<br>\n",
    "Максимальное продолжительность поездки 35 минут, минимальное 1 минута.\n",
    "- Пользователи **с подпиской** <br>\n",
    "в среднем проехали 3143 метров, , в среднем потратили в дороге 19.0 минут.<br>\n",
    "Максимальное расстояние поездки 5700 минут, минимальное 245 метров.<br>\n",
    "Максимальная продолжительность поездки 41 минута, минимальная 4 минуты.\n",
    "9. Произвели подсчет выручки для каждого пользователя и добавили в датафрейм.\n",
    "Больше всего потратил пользователь user_id 244 - 1952 рублей. \n",
    "10. Проверили гипотезы:<br>\n",
    "- Тратят ли пользователи с подпиской больше времени на поездки, чем пользователи на бесплатном тарифе.<br>\n",
    "Отвергли гипотезу, что пользователи с подпиской тратят одинаковое время на поездки, чем пользователи без подписки.<br>\n",
    "- Расстояние, которое проезжают пользователи с подпиской за одну поездку, не превышает 3130 метров.<br>\n",
    "Отвергли гипотезу, что в среднем расстояние, которое проехали пользователи с подпиской превышает 3130 метров..<br>\n",
    "- Помесячная выручка от пользователей с подпиской по месяцам выше, чем выручка от пользователей без подписки.<br>\n",
    "Отвергли гипотезу. Можно утверждать, что выручка с пользователей с подпиской не равна выручке пользователей без подписки..<br>\n",
    "11. Рассмотрели распределения.\n",
    "- Определили какое минимальное количество промокодов нужно разослать, чтобы вероятность не выполнить план(100 пользователей не продлили подписку) была примерно 5 %.\n",
    "Необходимо разослать 1161 промокод, что бы 100 клиентов продлили подписку с шансом в 95%.\n",
    "- Определили вероятность того, что уведомление откроют не более 399,5 тыс. пользователей, при условии, что отдел планирует разослать 1 млн уведомлений.<br>\n",
    "Вероятность того, что уведомление откроют не более 399,5 тыс. пользователей: 15.37%\n",
    "<br>\n",
    " \n",
    "**Рекомендации:**<br>\n",
    "Для получения большей прибыли необходимо привлекать больше клиентов с подпиской, рассылая больше промокодов."
   ]
  }
 ],
 "metadata": {
  "ExecuteTimeLog": [
   {
    "duration": 67,
    "start_time": "2023-08-19T10:40:57.342Z"
   },
   {
    "duration": 976,
    "start_time": "2023-08-19T10:41:07.482Z"
   },
   {
    "duration": 394,
    "start_time": "2023-08-19T10:41:09.788Z"
   },
   {
    "duration": 31,
    "start_time": "2023-08-19T10:41:25.962Z"
   },
   {
    "duration": 36,
    "start_time": "2023-08-19T10:42:16.063Z"
   },
   {
    "duration": 11,
    "start_time": "2023-08-19T10:45:00.367Z"
   },
   {
    "duration": 10,
    "start_time": "2023-08-19T10:45:41.848Z"
   },
   {
    "duration": 7,
    "start_time": "2023-08-19T10:46:07.985Z"
   },
   {
    "duration": 15,
    "start_time": "2023-08-19T10:47:10.365Z"
   },
   {
    "duration": 13,
    "start_time": "2023-08-19T10:47:23.893Z"
   },
   {
    "duration": 14,
    "start_time": "2023-08-19T10:47:28.660Z"
   },
   {
    "duration": 9,
    "start_time": "2023-08-19T10:52:55.115Z"
   },
   {
    "duration": 17,
    "start_time": "2023-08-19T10:54:30.867Z"
   },
   {
    "duration": 11,
    "start_time": "2023-08-19T10:54:58.400Z"
   },
   {
    "duration": 182,
    "start_time": "2023-08-19T10:55:12.520Z"
   },
   {
    "duration": 5,
    "start_time": "2023-08-19T10:55:33.161Z"
   },
   {
    "duration": 8,
    "start_time": "2023-08-19T10:55:33.841Z"
   },
   {
    "duration": 4,
    "start_time": "2023-08-19T10:56:33.175Z"
   },
   {
    "duration": 5,
    "start_time": "2023-08-19T10:58:43.003Z"
   },
   {
    "duration": 4,
    "start_time": "2023-08-19T10:58:56.970Z"
   },
   {
    "duration": 4,
    "start_time": "2023-08-19T10:59:17.304Z"
   },
   {
    "duration": 4,
    "start_time": "2023-08-19T10:59:28.852Z"
   },
   {
    "duration": 4,
    "start_time": "2023-08-19T10:59:34.215Z"
   },
   {
    "duration": 6,
    "start_time": "2023-08-19T11:00:20.270Z"
   },
   {
    "duration": 5,
    "start_time": "2023-08-19T11:00:39.910Z"
   },
   {
    "duration": 9,
    "start_time": "2023-08-19T11:01:05.267Z"
   },
   {
    "duration": 35,
    "start_time": "2023-08-19T11:10:43.979Z"
   },
   {
    "duration": 5,
    "start_time": "2023-08-19T11:10:47.604Z"
   },
   {
    "duration": 197,
    "start_time": "2023-08-19T11:10:49.879Z"
   },
   {
    "duration": 155,
    "start_time": "2023-08-19T11:10:52.562Z"
   },
   {
    "duration": 5,
    "start_time": "2023-08-19T11:11:16.678Z"
   },
   {
    "duration": 206,
    "start_time": "2023-08-19T11:11:17.820Z"
   },
   {
    "duration": 4,
    "start_time": "2023-08-19T11:11:29.307Z"
   },
   {
    "duration": 199,
    "start_time": "2023-08-19T11:11:30.057Z"
   },
   {
    "duration": 216,
    "start_time": "2023-08-19T11:11:43.903Z"
   },
   {
    "duration": 288,
    "start_time": "2023-08-19T11:12:17.114Z"
   },
   {
    "duration": 18,
    "start_time": "2023-08-19T11:12:46.911Z"
   },
   {
    "duration": 15,
    "start_time": "2023-08-19T11:13:13.427Z"
   },
   {
    "duration": 13,
    "start_time": "2023-08-19T11:17:27.711Z"
   },
   {
    "duration": 13,
    "start_time": "2023-08-19T11:17:44.978Z"
   },
   {
    "duration": 73,
    "start_time": "2023-08-19T11:18:33.169Z"
   },
   {
    "duration": 124,
    "start_time": "2023-08-19T11:18:38.749Z"
   },
   {
    "duration": 11,
    "start_time": "2023-08-19T11:18:44.357Z"
   },
   {
    "duration": 14,
    "start_time": "2023-08-19T11:19:00.939Z"
   },
   {
    "duration": 13,
    "start_time": "2023-08-19T11:19:09.375Z"
   },
   {
    "duration": 19,
    "start_time": "2023-08-19T11:19:20.362Z"
   },
   {
    "duration": 14,
    "start_time": "2023-08-19T11:19:48.957Z"
   },
   {
    "duration": 16,
    "start_time": "2023-08-19T11:20:59.193Z"
   },
   {
    "duration": 14,
    "start_time": "2023-08-19T11:21:12.777Z"
   },
   {
    "duration": 22,
    "start_time": "2023-08-19T11:21:30.781Z"
   },
   {
    "duration": 16,
    "start_time": "2023-08-19T11:21:44.810Z"
   },
   {
    "duration": 23,
    "start_time": "2023-08-19T11:22:29.725Z"
   },
   {
    "duration": 21,
    "start_time": "2023-08-19T11:22:46.822Z"
   },
   {
    "duration": 19,
    "start_time": "2023-08-19T11:23:11.018Z"
   },
   {
    "duration": 15,
    "start_time": "2023-08-19T11:23:56.705Z"
   },
   {
    "duration": 18,
    "start_time": "2023-08-19T11:24:19.935Z"
   },
   {
    "duration": 15,
    "start_time": "2023-08-19T11:26:18.039Z"
   },
   {
    "duration": 15,
    "start_time": "2023-08-19T11:28:45.912Z"
   },
   {
    "duration": 3319,
    "start_time": "2023-08-19T11:28:46.833Z"
   },
   {
    "duration": 14,
    "start_time": "2023-08-19T11:29:19.544Z"
   },
   {
    "duration": 16,
    "start_time": "2023-08-19T11:29:22.635Z"
   },
   {
    "duration": 16,
    "start_time": "2023-08-19T11:30:10.549Z"
   },
   {
    "duration": 19,
    "start_time": "2023-08-19T11:30:24.473Z"
   },
   {
    "duration": 23,
    "start_time": "2023-08-19T11:30:30.785Z"
   },
   {
    "duration": 17,
    "start_time": "2023-08-19T11:35:03.528Z"
   },
   {
    "duration": 28,
    "start_time": "2023-08-19T11:35:04.230Z"
   },
   {
    "duration": 6,
    "start_time": "2023-08-19T11:41:41.124Z"
   },
   {
    "duration": 12,
    "start_time": "2023-08-19T11:41:44.304Z"
   },
   {
    "duration": 16,
    "start_time": "2023-08-19T11:42:16.040Z"
   },
   {
    "duration": 5,
    "start_time": "2023-08-19T11:47:52.697Z"
   },
   {
    "duration": 13,
    "start_time": "2023-08-19T11:48:05.845Z"
   },
   {
    "duration": 14,
    "start_time": "2023-08-19T11:48:21.193Z"
   },
   {
    "duration": 5,
    "start_time": "2023-08-19T11:49:35.351Z"
   },
   {
    "duration": 704,
    "start_time": "2023-08-19T11:49:40.295Z"
   },
   {
    "duration": 113,
    "start_time": "2023-08-19T11:49:41.001Z"
   },
   {
    "duration": 13,
    "start_time": "2023-08-19T11:49:41.115Z"
   },
   {
    "duration": 21,
    "start_time": "2023-08-19T11:49:41.130Z"
   },
   {
    "duration": 10,
    "start_time": "2023-08-19T11:49:41.153Z"
   },
   {
    "duration": 20,
    "start_time": "2023-08-19T11:49:41.165Z"
   },
   {
    "duration": 7,
    "start_time": "2023-08-19T11:49:41.187Z"
   },
   {
    "duration": 43,
    "start_time": "2023-08-19T11:49:41.195Z"
   },
   {
    "duration": 9,
    "start_time": "2023-08-19T11:49:41.240Z"
   },
   {
    "duration": 10,
    "start_time": "2023-08-19T11:49:41.252Z"
   },
   {
    "duration": 5,
    "start_time": "2023-08-19T11:49:41.264Z"
   },
   {
    "duration": 5,
    "start_time": "2023-08-19T11:49:41.271Z"
   },
   {
    "duration": 13,
    "start_time": "2023-08-19T11:49:41.278Z"
   },
   {
    "duration": 20,
    "start_time": "2023-08-19T11:49:41.324Z"
   },
   {
    "duration": 20,
    "start_time": "2023-08-19T11:49:41.346Z"
   },
   {
    "duration": 222,
    "start_time": "2023-08-19T11:49:41.368Z"
   },
   {
    "duration": 4,
    "start_time": "2023-08-19T11:49:41.592Z"
   },
   {
    "duration": 8,
    "start_time": "2023-08-19T11:49:41.597Z"
   },
   {
    "duration": 5,
    "start_time": "2023-08-19T11:49:41.606Z"
   },
   {
    "duration": 13,
    "start_time": "2023-08-19T11:49:41.612Z"
   },
   {
    "duration": 9,
    "start_time": "2023-08-19T11:49:41.627Z"
   },
   {
    "duration": 8,
    "start_time": "2023-08-19T11:49:41.637Z"
   },
   {
    "duration": 5,
    "start_time": "2023-08-19T11:49:41.647Z"
   },
   {
    "duration": 9,
    "start_time": "2023-08-19T11:49:41.654Z"
   },
   {
    "duration": 4,
    "start_time": "2023-08-19T11:49:41.665Z"
   },
   {
    "duration": 234,
    "start_time": "2023-08-19T11:49:41.670Z"
   },
   {
    "duration": 200,
    "start_time": "2023-08-19T11:49:41.906Z"
   },
   {
    "duration": 301,
    "start_time": "2023-08-19T11:49:42.109Z"
   },
   {
    "duration": 25,
    "start_time": "2023-08-19T11:49:42.412Z"
   },
   {
    "duration": 18,
    "start_time": "2023-08-19T11:49:42.439Z"
   },
   {
    "duration": 16,
    "start_time": "2023-08-19T11:49:42.458Z"
   },
   {
    "duration": 53,
    "start_time": "2023-08-19T11:49:42.475Z"
   },
   {
    "duration": 12,
    "start_time": "2023-08-19T11:50:31.138Z"
   },
   {
    "duration": 12,
    "start_time": "2023-08-19T11:50:58.538Z"
   },
   {
    "duration": 10,
    "start_time": "2023-08-19T11:51:02.096Z"
   },
   {
    "duration": 13,
    "start_time": "2023-08-19T11:51:06.887Z"
   },
   {
    "duration": 6,
    "start_time": "2023-08-19T11:55:31.811Z"
   },
   {
    "duration": 11,
    "start_time": "2023-08-19T11:55:48.360Z"
   },
   {
    "duration": 14,
    "start_time": "2023-08-19T11:55:58.311Z"
   },
   {
    "duration": 91,
    "start_time": "2023-08-19T11:56:47.419Z"
   },
   {
    "duration": 5,
    "start_time": "2023-08-19T11:56:49.391Z"
   },
   {
    "duration": 11,
    "start_time": "2023-08-19T11:56:50.207Z"
   },
   {
    "duration": 19,
    "start_time": "2023-08-19T11:57:58.049Z"
   },
   {
    "duration": 81,
    "start_time": "2023-08-19T11:58:37.740Z"
   },
   {
    "duration": 16,
    "start_time": "2023-08-19T11:58:41.970Z"
   },
   {
    "duration": 1652,
    "start_time": "2023-08-19T12:00:20.896Z"
   },
   {
    "duration": 21,
    "start_time": "2023-08-19T12:02:22.850Z"
   },
   {
    "duration": 110,
    "start_time": "2023-08-19T12:03:17.118Z"
   },
   {
    "duration": 21,
    "start_time": "2023-08-19T12:03:24.551Z"
   },
   {
    "duration": 21,
    "start_time": "2023-08-19T12:03:39.298Z"
   },
   {
    "duration": 16,
    "start_time": "2023-08-19T12:04:11.991Z"
   },
   {
    "duration": 97,
    "start_time": "2023-08-19T12:05:42.741Z"
   },
   {
    "duration": 20,
    "start_time": "2023-08-19T12:05:48.491Z"
   },
   {
    "duration": 26,
    "start_time": "2023-08-19T12:06:45.857Z"
   },
   {
    "duration": 20,
    "start_time": "2023-08-19T12:09:23.567Z"
   },
   {
    "duration": 18,
    "start_time": "2023-08-19T12:09:24.786Z"
   },
   {
    "duration": 9,
    "start_time": "2023-08-19T12:20:11.108Z"
   },
   {
    "duration": 15,
    "start_time": "2023-08-19T12:20:22.324Z"
   },
   {
    "duration": 10,
    "start_time": "2023-08-19T14:03:26.338Z"
   },
   {
    "duration": 158,
    "start_time": "2023-08-19T14:22:02.841Z"
   },
   {
    "duration": 104,
    "start_time": "2023-08-19T14:22:07.137Z"
   },
   {
    "duration": 4,
    "start_time": "2023-08-19T14:22:10.780Z"
   },
   {
    "duration": 14,
    "start_time": "2023-08-19T14:22:35.814Z"
   },
   {
    "duration": 5,
    "start_time": "2023-08-19T14:25:00.260Z"
   },
   {
    "duration": 11,
    "start_time": "2023-08-19T14:25:01.408Z"
   },
   {
    "duration": 610,
    "start_time": "2023-08-19T14:25:09.563Z"
   },
   {
    "duration": 101,
    "start_time": "2023-08-19T14:25:10.175Z"
   },
   {
    "duration": 12,
    "start_time": "2023-08-19T14:25:10.278Z"
   },
   {
    "duration": 18,
    "start_time": "2023-08-19T14:25:10.292Z"
   },
   {
    "duration": 24,
    "start_time": "2023-08-19T14:25:10.312Z"
   },
   {
    "duration": 20,
    "start_time": "2023-08-19T14:25:10.338Z"
   },
   {
    "duration": 8,
    "start_time": "2023-08-19T14:25:10.359Z"
   },
   {
    "duration": 14,
    "start_time": "2023-08-19T14:25:10.369Z"
   },
   {
    "duration": 19,
    "start_time": "2023-08-19T14:25:10.386Z"
   },
   {
    "duration": 23,
    "start_time": "2023-08-19T14:25:10.407Z"
   },
   {
    "duration": 9,
    "start_time": "2023-08-19T14:25:10.432Z"
   },
   {
    "duration": 11,
    "start_time": "2023-08-19T14:25:10.443Z"
   },
   {
    "duration": 5,
    "start_time": "2023-08-19T14:25:10.456Z"
   },
   {
    "duration": 11,
    "start_time": "2023-08-19T14:25:10.465Z"
   },
   {
    "duration": 47,
    "start_time": "2023-08-19T14:25:10.478Z"
   },
   {
    "duration": 12,
    "start_time": "2023-08-19T14:25:10.526Z"
   },
   {
    "duration": 182,
    "start_time": "2023-08-19T14:25:10.540Z"
   },
   {
    "duration": 4,
    "start_time": "2023-08-19T14:25:10.724Z"
   },
   {
    "duration": 14,
    "start_time": "2023-08-19T14:25:10.730Z"
   },
   {
    "duration": 6,
    "start_time": "2023-08-19T14:25:10.746Z"
   },
   {
    "duration": 6,
    "start_time": "2023-08-19T14:25:10.754Z"
   },
   {
    "duration": 5,
    "start_time": "2023-08-19T14:25:10.762Z"
   },
   {
    "duration": 4,
    "start_time": "2023-08-19T14:25:10.768Z"
   },
   {
    "duration": 4,
    "start_time": "2023-08-19T14:25:10.773Z"
   },
   {
    "duration": 8,
    "start_time": "2023-08-19T14:25:10.779Z"
   },
   {
    "duration": 5,
    "start_time": "2023-08-19T14:25:10.823Z"
   },
   {
    "duration": 181,
    "start_time": "2023-08-19T14:25:10.829Z"
   },
   {
    "duration": 151,
    "start_time": "2023-08-19T14:25:11.012Z"
   },
   {
    "duration": 280,
    "start_time": "2023-08-19T14:25:11.165Z"
   },
   {
    "duration": 16,
    "start_time": "2023-08-19T14:25:11.447Z"
   },
   {
    "duration": 14,
    "start_time": "2023-08-19T14:25:11.465Z"
   },
   {
    "duration": 36,
    "start_time": "2023-08-19T14:25:11.481Z"
   },
   {
    "duration": 29,
    "start_time": "2023-08-19T14:25:11.518Z"
   },
   {
    "duration": 5,
    "start_time": "2023-08-19T14:25:11.549Z"
   },
   {
    "duration": 69,
    "start_time": "2023-08-19T14:25:11.556Z"
   },
   {
    "duration": 5,
    "start_time": "2023-08-19T14:25:11.627Z"
   },
   {
    "duration": 17,
    "start_time": "2023-08-19T14:25:11.633Z"
   },
   {
    "duration": 32,
    "start_time": "2023-08-19T14:25:11.651Z"
   },
   {
    "duration": 17,
    "start_time": "2023-08-19T14:25:11.685Z"
   },
   {
    "duration": 22,
    "start_time": "2023-08-19T14:25:11.703Z"
   },
   {
    "duration": 3,
    "start_time": "2023-08-19T14:25:11.728Z"
   },
   {
    "duration": 60,
    "start_time": "2023-08-19T14:25:11.732Z"
   },
   {
    "duration": 13,
    "start_time": "2023-08-19T14:26:04.447Z"
   },
   {
    "duration": 108,
    "start_time": "2023-08-19T14:36:45.150Z"
   },
   {
    "duration": 92,
    "start_time": "2023-08-19T14:37:01.062Z"
   },
   {
    "duration": 85,
    "start_time": "2023-08-19T14:37:21.375Z"
   },
   {
    "duration": 69,
    "start_time": "2023-08-19T14:37:32.548Z"
   },
   {
    "duration": 4,
    "start_time": "2023-08-19T14:37:37.418Z"
   },
   {
    "duration": 16,
    "start_time": "2023-08-19T14:37:39.608Z"
   },
   {
    "duration": 12,
    "start_time": "2023-08-19T14:40:46.142Z"
   },
   {
    "duration": 16,
    "start_time": "2023-08-19T14:40:55.311Z"
   },
   {
    "duration": 12,
    "start_time": "2023-08-19T14:41:05.605Z"
   },
   {
    "duration": 78,
    "start_time": "2023-08-19T14:41:08.327Z"
   },
   {
    "duration": 12,
    "start_time": "2023-08-19T14:41:24.814Z"
   },
   {
    "duration": 9,
    "start_time": "2023-08-19T14:42:17.603Z"
   },
   {
    "duration": 10,
    "start_time": "2023-08-19T14:42:28.078Z"
   },
   {
    "duration": 11,
    "start_time": "2023-08-19T14:43:08.668Z"
   },
   {
    "duration": 16,
    "start_time": "2023-08-19T14:52:54.015Z"
   },
   {
    "duration": 9,
    "start_time": "2023-08-19T14:53:46.084Z"
   },
   {
    "duration": 41,
    "start_time": "2023-08-19T14:54:11.866Z"
   },
   {
    "duration": 15,
    "start_time": "2023-08-19T14:54:20.486Z"
   },
   {
    "duration": 9,
    "start_time": "2023-08-19T14:54:26.496Z"
   },
   {
    "duration": 21,
    "start_time": "2023-08-19T14:54:45.392Z"
   },
   {
    "duration": 344,
    "start_time": "2023-08-19T14:54:53.089Z"
   },
   {
    "duration": 15,
    "start_time": "2023-08-19T14:55:10.989Z"
   },
   {
    "duration": 23,
    "start_time": "2023-08-19T14:55:14.300Z"
   },
   {
    "duration": 114,
    "start_time": "2023-08-19T14:55:26.439Z"
   },
   {
    "duration": 76,
    "start_time": "2023-08-19T14:55:32.960Z"
   },
   {
    "duration": 313,
    "start_time": "2023-08-19T14:55:36.229Z"
   },
   {
    "duration": 81,
    "start_time": "2023-08-19T14:56:23.245Z"
   },
   {
    "duration": 21,
    "start_time": "2023-08-19T14:56:32.461Z"
   },
   {
    "duration": 16,
    "start_time": "2023-08-19T14:56:44.701Z"
   },
   {
    "duration": 21,
    "start_time": "2023-08-19T14:56:59.657Z"
   },
   {
    "duration": 764,
    "start_time": "2023-08-19T14:57:05.065Z"
   },
   {
    "duration": 9,
    "start_time": "2023-08-19T14:57:08.351Z"
   },
   {
    "duration": 16,
    "start_time": "2023-08-19T14:58:29.521Z"
   },
   {
    "duration": 627,
    "start_time": "2023-08-19T14:59:14.720Z"
   },
   {
    "duration": 119,
    "start_time": "2023-08-19T15:03:17.974Z"
   },
   {
    "duration": 97,
    "start_time": "2023-08-19T15:03:31.358Z"
   },
   {
    "duration": 82,
    "start_time": "2023-08-19T15:03:53.513Z"
   },
   {
    "duration": 78,
    "start_time": "2023-08-19T15:05:00.463Z"
   },
   {
    "duration": 80,
    "start_time": "2023-08-19T15:05:07.529Z"
   },
   {
    "duration": 83,
    "start_time": "2023-08-19T15:05:13.708Z"
   },
   {
    "duration": 82,
    "start_time": "2023-08-19T15:05:23.847Z"
   },
   {
    "duration": 87,
    "start_time": "2023-08-19T15:05:42.302Z"
   },
   {
    "duration": 106,
    "start_time": "2023-08-19T15:06:29.065Z"
   },
   {
    "duration": 81,
    "start_time": "2023-08-19T15:06:48.563Z"
   },
   {
    "duration": 105,
    "start_time": "2023-08-19T15:07:17.722Z"
   },
   {
    "duration": 26,
    "start_time": "2023-08-19T15:07:58.709Z"
   },
   {
    "duration": 24,
    "start_time": "2023-08-19T15:08:16.304Z"
   },
   {
    "duration": 28,
    "start_time": "2023-08-19T15:08:36.235Z"
   },
   {
    "duration": 82,
    "start_time": "2023-08-19T15:08:41.415Z"
   },
   {
    "duration": 90,
    "start_time": "2023-08-19T15:08:46.560Z"
   },
   {
    "duration": 30,
    "start_time": "2023-08-19T15:08:50.308Z"
   },
   {
    "duration": 624,
    "start_time": "2023-08-19T15:09:23.437Z"
   },
   {
    "duration": 29,
    "start_time": "2023-08-19T15:09:58.308Z"
   },
   {
    "duration": 617,
    "start_time": "2023-08-19T15:10:12.639Z"
   },
   {
    "duration": 647,
    "start_time": "2023-08-19T15:10:37.344Z"
   },
   {
    "duration": 1359,
    "start_time": "2023-08-19T15:10:56.624Z"
   },
   {
    "duration": 7,
    "start_time": "2023-08-19T15:11:07.111Z"
   },
   {
    "duration": 1242,
    "start_time": "2023-08-19T15:11:16.318Z"
   },
   {
    "duration": 8,
    "start_time": "2023-08-19T15:11:20.110Z"
   },
   {
    "duration": 8,
    "start_time": "2023-08-19T15:17:43.158Z"
   },
   {
    "duration": 4,
    "start_time": "2023-08-19T15:17:49.272Z"
   },
   {
    "duration": 16,
    "start_time": "2023-08-19T15:17:53.017Z"
   },
   {
    "duration": 4,
    "start_time": "2023-08-19T15:18:13.312Z"
   },
   {
    "duration": 17,
    "start_time": "2023-08-19T15:18:14.345Z"
   },
   {
    "duration": 4,
    "start_time": "2023-08-19T15:18:38.302Z"
   },
   {
    "duration": 18,
    "start_time": "2023-08-19T15:18:39.953Z"
   },
   {
    "duration": 8,
    "start_time": "2023-08-19T15:18:53.947Z"
   },
   {
    "duration": 5,
    "start_time": "2023-08-19T15:18:55.115Z"
   },
   {
    "duration": 8,
    "start_time": "2023-08-19T15:18:56.445Z"
   },
   {
    "duration": 4,
    "start_time": "2023-08-19T15:19:06.137Z"
   },
   {
    "duration": 16,
    "start_time": "2023-08-19T15:19:10.101Z"
   },
   {
    "duration": 172,
    "start_time": "2023-08-19T15:19:20.070Z"
   },
   {
    "duration": 16,
    "start_time": "2023-08-19T15:19:27.578Z"
   },
   {
    "duration": 21,
    "start_time": "2023-08-19T15:19:34.834Z"
   },
   {
    "duration": 8,
    "start_time": "2023-08-19T15:20:51.136Z"
   },
   {
    "duration": 4,
    "start_time": "2023-08-19T15:20:52.115Z"
   },
   {
    "duration": 190,
    "start_time": "2023-08-19T15:20:53.747Z"
   },
   {
    "duration": 6,
    "start_time": "2023-08-19T15:21:01.813Z"
   },
   {
    "duration": 184,
    "start_time": "2023-08-19T15:21:02.508Z"
   },
   {
    "duration": 1386,
    "start_time": "2023-08-19T15:31:30.401Z"
   },
   {
    "duration": 623,
    "start_time": "2023-08-19T15:32:44.479Z"
   },
   {
    "duration": 2041,
    "start_time": "2023-08-19T15:33:16.337Z"
   },
   {
    "duration": 4,
    "start_time": "2023-08-19T15:38:14.451Z"
   },
   {
    "duration": 1394,
    "start_time": "2023-08-19T15:46:22.598Z"
   },
   {
    "duration": 1598,
    "start_time": "2023-08-19T15:46:44.431Z"
   },
   {
    "duration": 1445,
    "start_time": "2023-08-19T15:46:49.114Z"
   },
   {
    "duration": 8,
    "start_time": "2023-08-19T15:47:01.373Z"
   },
   {
    "duration": 802,
    "start_time": "2023-08-19T15:47:11.524Z"
   },
   {
    "duration": 13,
    "start_time": "2023-08-19T15:47:38.629Z"
   },
   {
    "duration": 82,
    "start_time": "2023-08-19T15:57:22.178Z"
   },
   {
    "duration": 101,
    "start_time": "2023-08-19T15:57:28.138Z"
   },
   {
    "duration": 88,
    "start_time": "2023-08-19T15:57:39.763Z"
   },
   {
    "duration": 104,
    "start_time": "2023-08-19T16:10:22.789Z"
   },
   {
    "duration": 93,
    "start_time": "2023-08-19T16:11:39.007Z"
   },
   {
    "duration": 86,
    "start_time": "2023-08-19T16:13:17.041Z"
   },
   {
    "duration": 77,
    "start_time": "2023-08-19T16:13:32.050Z"
   },
   {
    "duration": 97,
    "start_time": "2023-08-19T16:13:40.253Z"
   },
   {
    "duration": 89,
    "start_time": "2023-08-19T16:14:47.731Z"
   },
   {
    "duration": 79,
    "start_time": "2023-08-19T16:15:29.430Z"
   },
   {
    "duration": 898,
    "start_time": "2023-08-19T16:16:03.114Z"
   },
   {
    "duration": 78,
    "start_time": "2023-08-19T16:16:26.128Z"
   },
   {
    "duration": 85,
    "start_time": "2023-08-19T16:18:08.566Z"
   },
   {
    "duration": 974,
    "start_time": "2023-08-19T16:18:52.689Z"
   },
   {
    "duration": 896,
    "start_time": "2023-08-19T16:19:10.105Z"
   },
   {
    "duration": 1035,
    "start_time": "2023-08-19T16:19:35.703Z"
   },
   {
    "duration": 948,
    "start_time": "2023-08-19T16:19:36.768Z"
   },
   {
    "duration": 4,
    "start_time": "2023-08-19T16:19:51.785Z"
   },
   {
    "duration": 95,
    "start_time": "2023-08-19T16:20:03.013Z"
   },
   {
    "duration": 779,
    "start_time": "2023-08-19T16:20:05.066Z"
   },
   {
    "duration": 82,
    "start_time": "2023-08-19T16:20:37.379Z"
   },
   {
    "duration": 9,
    "start_time": "2023-08-19T16:20:48.816Z"
   },
   {
    "duration": 9,
    "start_time": "2023-08-19T16:20:57.335Z"
   },
   {
    "duration": 10,
    "start_time": "2023-08-19T16:21:03.095Z"
   },
   {
    "duration": 8,
    "start_time": "2023-08-19T16:21:08.234Z"
   },
   {
    "duration": 807,
    "start_time": "2023-08-19T16:21:13.032Z"
   },
   {
    "duration": 877,
    "start_time": "2023-08-19T16:21:15.293Z"
   },
   {
    "duration": 8,
    "start_time": "2023-08-19T16:21:23.411Z"
   },
   {
    "duration": 823,
    "start_time": "2023-08-19T16:21:27.092Z"
   },
   {
    "duration": 75,
    "start_time": "2023-08-19T16:23:28.327Z"
   },
   {
    "duration": 826,
    "start_time": "2023-08-19T16:23:32.787Z"
   },
   {
    "duration": 865,
    "start_time": "2023-08-19T16:25:31.785Z"
   },
   {
    "duration": 849,
    "start_time": "2023-08-19T16:26:17.333Z"
   },
   {
    "duration": 4,
    "start_time": "2023-08-19T18:15:26.078Z"
   },
   {
    "duration": 1347,
    "start_time": "2023-08-19T18:15:27.095Z"
   },
   {
    "duration": 1841,
    "start_time": "2023-08-19T18:15:52.456Z"
   },
   {
    "duration": 5,
    "start_time": "2023-08-19T18:16:56.520Z"
   },
   {
    "duration": 12,
    "start_time": "2023-08-19T18:17:36.115Z"
   },
   {
    "duration": 841,
    "start_time": "2023-08-19T18:17:50.552Z"
   },
   {
    "duration": 10,
    "start_time": "2023-08-19T18:17:54.339Z"
   },
   {
    "duration": 3,
    "start_time": "2023-08-19T18:17:57.181Z"
   },
   {
    "duration": 122,
    "start_time": "2023-08-19T18:17:57.500Z"
   },
   {
    "duration": 133,
    "start_time": "2023-08-19T18:18:06.579Z"
   },
   {
    "duration": 158,
    "start_time": "2023-08-19T18:18:56.825Z"
   },
   {
    "duration": 153,
    "start_time": "2023-08-19T18:19:04.419Z"
   },
   {
    "duration": 151,
    "start_time": "2023-08-19T18:19:38.741Z"
   },
   {
    "duration": 152,
    "start_time": "2023-08-19T18:20:04.979Z"
   },
   {
    "duration": 169,
    "start_time": "2023-08-19T18:20:12.592Z"
   },
   {
    "duration": 203,
    "start_time": "2023-08-19T18:20:31.397Z"
   },
   {
    "duration": 1341,
    "start_time": "2023-08-19T18:20:43.750Z"
   },
   {
    "duration": 1179,
    "start_time": "2023-08-19T18:20:56.777Z"
   },
   {
    "duration": 134,
    "start_time": "2023-08-19T18:24:07.962Z"
   },
   {
    "duration": 3,
    "start_time": "2023-08-19T18:41:35.367Z"
   },
   {
    "duration": 490,
    "start_time": "2023-08-19T18:55:46.316Z"
   },
   {
    "duration": 7,
    "start_time": "2023-08-19T19:02:58.104Z"
   },
   {
    "duration": 49,
    "start_time": "2023-08-20T09:47:29.548Z"
   },
   {
    "duration": 8,
    "start_time": "2023-08-20T09:48:08.799Z"
   },
   {
    "duration": 7,
    "start_time": "2023-08-20T09:48:59.862Z"
   },
   {
    "duration": 1450,
    "start_time": "2023-08-20T09:49:34.422Z"
   },
   {
    "duration": 356,
    "start_time": "2023-08-20T09:49:35.874Z"
   },
   {
    "duration": 32,
    "start_time": "2023-08-20T09:49:36.232Z"
   },
   {
    "duration": 13,
    "start_time": "2023-08-20T09:49:36.266Z"
   },
   {
    "duration": 81,
    "start_time": "2023-08-20T09:49:36.280Z"
   },
   {
    "duration": 29,
    "start_time": "2023-08-20T09:49:36.362Z"
   },
   {
    "duration": 7,
    "start_time": "2023-08-20T09:49:36.393Z"
   },
   {
    "duration": 57,
    "start_time": "2023-08-20T09:49:36.402Z"
   },
   {
    "duration": 15,
    "start_time": "2023-08-20T09:49:36.461Z"
   },
   {
    "duration": 10,
    "start_time": "2023-08-20T09:49:36.479Z"
   },
   {
    "duration": 8,
    "start_time": "2023-08-20T09:49:36.491Z"
   },
   {
    "duration": 12,
    "start_time": "2023-08-20T09:49:36.501Z"
   },
   {
    "duration": 6,
    "start_time": "2023-08-20T09:49:36.560Z"
   },
   {
    "duration": 12,
    "start_time": "2023-08-20T09:49:36.568Z"
   },
   {
    "duration": 12,
    "start_time": "2023-08-20T09:49:36.581Z"
   },
   {
    "duration": 72,
    "start_time": "2023-08-20T09:49:36.595Z"
   },
   {
    "duration": 307,
    "start_time": "2023-08-20T09:49:36.669Z"
   },
   {
    "duration": 4,
    "start_time": "2023-08-20T09:49:36.978Z"
   },
   {
    "duration": 7,
    "start_time": "2023-08-20T09:49:36.984Z"
   },
   {
    "duration": 6,
    "start_time": "2023-08-20T09:49:36.992Z"
   },
   {
    "duration": 8,
    "start_time": "2023-08-20T09:49:37.000Z"
   },
   {
    "duration": 54,
    "start_time": "2023-08-20T09:49:37.010Z"
   },
   {
    "duration": 6,
    "start_time": "2023-08-20T09:49:37.065Z"
   },
   {
    "duration": 10,
    "start_time": "2023-08-20T09:49:37.073Z"
   },
   {
    "duration": 10,
    "start_time": "2023-08-20T09:49:37.084Z"
   },
   {
    "duration": 9,
    "start_time": "2023-08-20T09:49:37.096Z"
   },
   {
    "duration": 370,
    "start_time": "2023-08-20T09:49:37.107Z"
   },
   {
    "duration": 167,
    "start_time": "2023-08-20T09:49:37.481Z"
   },
   {
    "duration": 284,
    "start_time": "2023-08-20T09:49:37.650Z"
   },
   {
    "duration": 40,
    "start_time": "2023-08-20T09:49:37.936Z"
   },
   {
    "duration": 19,
    "start_time": "2023-08-20T09:49:37.979Z"
   },
   {
    "duration": 16,
    "start_time": "2023-08-20T09:49:37.999Z"
   },
   {
    "duration": 50,
    "start_time": "2023-08-20T09:49:38.017Z"
   },
   {
    "duration": 6,
    "start_time": "2023-08-20T09:49:38.068Z"
   },
   {
    "duration": 23,
    "start_time": "2023-08-20T09:49:38.076Z"
   },
   {
    "duration": 12,
    "start_time": "2023-08-20T09:49:38.101Z"
   },
   {
    "duration": 13,
    "start_time": "2023-08-20T09:49:38.115Z"
   },
   {
    "duration": 44,
    "start_time": "2023-08-20T09:49:38.130Z"
   },
   {
    "duration": 19,
    "start_time": "2023-08-20T09:49:38.176Z"
   },
   {
    "duration": 887,
    "start_time": "2023-08-20T09:49:38.197Z"
   },
   {
    "duration": 10,
    "start_time": "2023-08-20T09:49:39.086Z"
   },
   {
    "duration": 6,
    "start_time": "2023-08-20T09:49:39.098Z"
   },
   {
    "duration": 160,
    "start_time": "2023-08-20T09:49:39.106Z"
   },
   {
    "duration": 7,
    "start_time": "2023-08-20T09:49:39.268Z"
   },
   {
    "duration": 19,
    "start_time": "2023-08-20T09:49:39.277Z"
   },
   {
    "duration": 67,
    "start_time": "2023-08-20T09:49:39.298Z"
   },
   {
    "duration": 368,
    "start_time": "2023-08-20T10:07:18.912Z"
   },
   {
    "duration": 890,
    "start_time": "2023-08-20T10:09:55.274Z"
   },
   {
    "duration": 44,
    "start_time": "2023-08-20T10:10:14.691Z"
   },
   {
    "duration": 406,
    "start_time": "2023-08-20T10:10:30.857Z"
   },
   {
    "duration": 695,
    "start_time": "2023-08-20T10:10:58.433Z"
   },
   {
    "duration": 10,
    "start_time": "2023-08-20T10:11:21.906Z"
   },
   {
    "duration": 4,
    "start_time": "2023-08-20T11:08:19.993Z"
   },
   {
    "duration": 2141,
    "start_time": "2023-08-20T16:19:03.945Z"
   },
   {
    "duration": 359,
    "start_time": "2023-08-20T16:19:06.088Z"
   },
   {
    "duration": 21,
    "start_time": "2023-08-20T16:19:06.449Z"
   },
   {
    "duration": 18,
    "start_time": "2023-08-20T16:19:06.473Z"
   },
   {
    "duration": 68,
    "start_time": "2023-08-20T16:19:06.493Z"
   },
   {
    "duration": 16,
    "start_time": "2023-08-20T16:19:06.564Z"
   },
   {
    "duration": 10,
    "start_time": "2023-08-20T16:19:06.583Z"
   },
   {
    "duration": 73,
    "start_time": "2023-08-20T16:19:06.594Z"
   },
   {
    "duration": 15,
    "start_time": "2023-08-20T16:19:06.669Z"
   },
   {
    "duration": 13,
    "start_time": "2023-08-20T16:19:06.688Z"
   },
   {
    "duration": 6,
    "start_time": "2023-08-20T16:19:06.760Z"
   },
   {
    "duration": 20,
    "start_time": "2023-08-20T16:19:06.767Z"
   },
   {
    "duration": 5,
    "start_time": "2023-08-20T16:19:06.789Z"
   },
   {
    "duration": 65,
    "start_time": "2023-08-20T16:19:06.795Z"
   },
   {
    "duration": 12,
    "start_time": "2023-08-20T16:19:06.862Z"
   },
   {
    "duration": 13,
    "start_time": "2023-08-20T16:19:06.875Z"
   },
   {
    "duration": 319,
    "start_time": "2023-08-20T16:19:06.890Z"
   },
   {
    "duration": 51,
    "start_time": "2023-08-20T16:19:07.210Z"
   },
   {
    "duration": 7,
    "start_time": "2023-08-20T16:19:07.262Z"
   },
   {
    "duration": 5,
    "start_time": "2023-08-20T16:19:07.271Z"
   },
   {
    "duration": 21,
    "start_time": "2023-08-20T16:19:07.278Z"
   },
   {
    "duration": 60,
    "start_time": "2023-08-20T16:19:07.302Z"
   },
   {
    "duration": 21,
    "start_time": "2023-08-20T16:19:07.365Z"
   },
   {
    "duration": 15,
    "start_time": "2023-08-20T16:19:07.388Z"
   },
   {
    "duration": 14,
    "start_time": "2023-08-20T16:19:07.405Z"
   },
   {
    "duration": 5,
    "start_time": "2023-08-20T16:19:07.459Z"
   },
   {
    "duration": 405,
    "start_time": "2023-08-20T16:19:07.466Z"
   },
   {
    "duration": 323,
    "start_time": "2023-08-20T16:19:07.874Z"
   },
   {
    "duration": 362,
    "start_time": "2023-08-20T16:19:08.198Z"
   },
   {
    "duration": 17,
    "start_time": "2023-08-20T16:19:08.562Z"
   },
   {
    "duration": 16,
    "start_time": "2023-08-20T16:19:08.581Z"
   },
   {
    "duration": 17,
    "start_time": "2023-08-20T16:19:08.599Z"
   },
   {
    "duration": 55,
    "start_time": "2023-08-20T16:19:08.618Z"
   },
   {
    "duration": 7,
    "start_time": "2023-08-20T16:19:08.675Z"
   },
   {
    "duration": 14,
    "start_time": "2023-08-20T16:19:08.684Z"
   },
   {
    "duration": 8,
    "start_time": "2023-08-20T16:19:08.699Z"
   },
   {
    "duration": 15,
    "start_time": "2023-08-20T16:19:08.709Z"
   },
   {
    "duration": 51,
    "start_time": "2023-08-20T16:19:08.726Z"
   },
   {
    "duration": 17,
    "start_time": "2023-08-20T16:19:08.779Z"
   },
   {
    "duration": 930,
    "start_time": "2023-08-20T16:19:08.798Z"
   },
   {
    "duration": 9,
    "start_time": "2023-08-20T16:19:09.730Z"
   },
   {
    "duration": 19,
    "start_time": "2023-08-20T16:19:09.741Z"
   },
   {
    "duration": 147,
    "start_time": "2023-08-20T16:19:09.762Z"
   },
   {
    "duration": 5,
    "start_time": "2023-08-20T16:19:09.911Z"
   },
   {
    "duration": 6,
    "start_time": "2023-08-20T16:19:09.918Z"
   },
   {
    "duration": 34,
    "start_time": "2023-08-20T16:19:09.926Z"
   },
   {
    "duration": 64,
    "start_time": "2023-08-20T16:19:09.962Z"
   },
   {
    "duration": 0,
    "start_time": "2023-08-20T16:19:10.028Z"
   },
   {
    "duration": 241,
    "start_time": "2023-08-20T17:07:35.526Z"
   },
   {
    "duration": 234,
    "start_time": "2023-08-20T17:07:58.900Z"
   },
   {
    "duration": 355,
    "start_time": "2023-08-20T17:08:02.309Z"
   },
   {
    "duration": 277,
    "start_time": "2023-08-20T17:40:20.227Z"
   },
   {
    "duration": 5,
    "start_time": "2023-08-20T17:44:42.133Z"
   },
   {
    "duration": 7,
    "start_time": "2023-08-20T17:46:01.196Z"
   },
   {
    "duration": 6,
    "start_time": "2023-08-20T17:46:18.299Z"
   },
   {
    "duration": 7,
    "start_time": "2023-08-20T17:47:31.750Z"
   },
   {
    "duration": 6,
    "start_time": "2023-08-20T17:47:45.548Z"
   },
   {
    "duration": 6,
    "start_time": "2023-08-20T17:47:50.308Z"
   },
   {
    "duration": 7,
    "start_time": "2023-08-20T17:50:00.173Z"
   },
   {
    "duration": 5,
    "start_time": "2023-08-20T17:50:09.315Z"
   },
   {
    "duration": 49,
    "start_time": "2023-08-21T09:44:00.194Z"
   },
   {
    "duration": 1371,
    "start_time": "2023-08-21T09:44:05.763Z"
   },
   {
    "duration": 419,
    "start_time": "2023-08-21T09:44:07.136Z"
   },
   {
    "duration": 13,
    "start_time": "2023-08-21T09:44:07.557Z"
   },
   {
    "duration": 18,
    "start_time": "2023-08-21T09:44:07.572Z"
   },
   {
    "duration": 11,
    "start_time": "2023-08-21T09:44:07.591Z"
   },
   {
    "duration": 22,
    "start_time": "2023-08-21T09:44:07.603Z"
   },
   {
    "duration": 15,
    "start_time": "2023-08-21T09:44:07.627Z"
   },
   {
    "duration": 31,
    "start_time": "2023-08-21T09:44:07.644Z"
   },
   {
    "duration": 24,
    "start_time": "2023-08-21T09:44:07.677Z"
   },
   {
    "duration": 25,
    "start_time": "2023-08-21T09:44:07.704Z"
   },
   {
    "duration": 11,
    "start_time": "2023-08-21T09:44:07.731Z"
   },
   {
    "duration": 23,
    "start_time": "2023-08-21T09:44:07.743Z"
   },
   {
    "duration": 17,
    "start_time": "2023-08-21T09:44:07.768Z"
   },
   {
    "duration": 41,
    "start_time": "2023-08-21T09:44:07.787Z"
   },
   {
    "duration": 34,
    "start_time": "2023-08-21T09:44:07.829Z"
   },
   {
    "duration": 25,
    "start_time": "2023-08-21T09:44:07.865Z"
   },
   {
    "duration": 184,
    "start_time": "2023-08-21T09:44:07.893Z"
   },
   {
    "duration": 5,
    "start_time": "2023-08-21T09:44:08.079Z"
   },
   {
    "duration": 22,
    "start_time": "2023-08-21T09:44:08.086Z"
   },
   {
    "duration": 10,
    "start_time": "2023-08-21T09:44:08.110Z"
   },
   {
    "duration": 7,
    "start_time": "2023-08-21T09:44:08.121Z"
   },
   {
    "duration": 5,
    "start_time": "2023-08-21T09:44:08.130Z"
   },
   {
    "duration": 4,
    "start_time": "2023-08-21T09:44:08.137Z"
   },
   {
    "duration": 12,
    "start_time": "2023-08-21T09:44:08.143Z"
   },
   {
    "duration": 11,
    "start_time": "2023-08-21T09:44:08.156Z"
   },
   {
    "duration": 7,
    "start_time": "2023-08-21T09:44:08.168Z"
   },
   {
    "duration": 380,
    "start_time": "2023-08-21T09:44:08.177Z"
   },
   {
    "duration": 329,
    "start_time": "2023-08-21T09:44:08.560Z"
   },
   {
    "duration": 686,
    "start_time": "2023-08-21T09:44:08.891Z"
   },
   {
    "duration": 18,
    "start_time": "2023-08-21T09:44:09.578Z"
   },
   {
    "duration": 72,
    "start_time": "2023-08-21T09:44:09.598Z"
   },
   {
    "duration": 15,
    "start_time": "2023-08-21T09:44:09.672Z"
   },
   {
    "duration": 80,
    "start_time": "2023-08-21T09:44:09.689Z"
   },
   {
    "duration": 6,
    "start_time": "2023-08-21T09:44:09.770Z"
   },
   {
    "duration": 26,
    "start_time": "2023-08-21T09:44:09.778Z"
   },
   {
    "duration": 53,
    "start_time": "2023-08-21T09:44:09.806Z"
   },
   {
    "duration": 15,
    "start_time": "2023-08-21T09:44:09.861Z"
   },
   {
    "duration": 82,
    "start_time": "2023-08-21T09:44:09.878Z"
   },
   {
    "duration": 21,
    "start_time": "2023-08-21T09:44:09.962Z"
   },
   {
    "duration": 1010,
    "start_time": "2023-08-21T09:44:09.986Z"
   },
   {
    "duration": 13,
    "start_time": "2023-08-21T09:44:10.998Z"
   },
   {
    "duration": 9,
    "start_time": "2023-08-21T09:44:11.012Z"
   },
   {
    "duration": 158,
    "start_time": "2023-08-21T09:44:11.022Z"
   },
   {
    "duration": 6,
    "start_time": "2023-08-21T09:44:11.182Z"
   },
   {
    "duration": 19,
    "start_time": "2023-08-21T09:44:11.190Z"
   },
   {
    "duration": 18,
    "start_time": "2023-08-21T09:44:11.211Z"
   },
   {
    "duration": 246,
    "start_time": "2023-08-21T09:44:11.231Z"
   },
   {
    "duration": 5,
    "start_time": "2023-08-21T09:44:11.478Z"
   },
   {
    "duration": 7,
    "start_time": "2023-08-21T09:44:11.485Z"
   },
   {
    "duration": 198,
    "start_time": "2023-08-21T09:44:11.493Z"
   },
   {
    "duration": 71,
    "start_time": "2023-08-21T11:02:22.672Z"
   },
   {
    "duration": 69,
    "start_time": "2023-08-21T11:02:26.608Z"
   },
   {
    "duration": 2476,
    "start_time": "2023-08-22T16:53:54.989Z"
   },
   {
    "duration": 279,
    "start_time": "2023-08-22T16:53:57.467Z"
   },
   {
    "duration": 20,
    "start_time": "2023-08-22T16:53:57.748Z"
   },
   {
    "duration": 12,
    "start_time": "2023-08-22T16:53:57.770Z"
   },
   {
    "duration": 20,
    "start_time": "2023-08-22T16:53:57.784Z"
   },
   {
    "duration": 15,
    "start_time": "2023-08-22T16:53:57.806Z"
   },
   {
    "duration": 9,
    "start_time": "2023-08-22T16:53:57.823Z"
   },
   {
    "duration": 37,
    "start_time": "2023-08-22T16:53:57.834Z"
   },
   {
    "duration": 10,
    "start_time": "2023-08-22T16:53:57.873Z"
   },
   {
    "duration": 10,
    "start_time": "2023-08-22T16:53:57.886Z"
   },
   {
    "duration": 5,
    "start_time": "2023-08-22T16:53:57.898Z"
   },
   {
    "duration": 13,
    "start_time": "2023-08-22T16:53:57.905Z"
   },
   {
    "duration": 7,
    "start_time": "2023-08-22T16:53:57.920Z"
   },
   {
    "duration": 22,
    "start_time": "2023-08-22T16:53:57.953Z"
   },
   {
    "duration": 14,
    "start_time": "2023-08-22T16:53:57.977Z"
   },
   {
    "duration": 53,
    "start_time": "2023-08-22T16:53:57.993Z"
   },
   {
    "duration": 193,
    "start_time": "2023-08-22T16:53:58.049Z"
   },
   {
    "duration": 7,
    "start_time": "2023-08-22T16:53:58.244Z"
   },
   {
    "duration": 17,
    "start_time": "2023-08-22T16:53:58.254Z"
   },
   {
    "duration": 7,
    "start_time": "2023-08-22T16:53:58.273Z"
   },
   {
    "duration": 15,
    "start_time": "2023-08-22T16:53:58.281Z"
   },
   {
    "duration": 6,
    "start_time": "2023-08-22T16:53:58.298Z"
   },
   {
    "duration": 7,
    "start_time": "2023-08-22T16:53:58.306Z"
   },
   {
    "duration": 7,
    "start_time": "2023-08-22T16:53:58.317Z"
   },
   {
    "duration": 37,
    "start_time": "2023-08-22T16:53:58.326Z"
   },
   {
    "duration": 9,
    "start_time": "2023-08-22T16:53:58.367Z"
   },
   {
    "duration": 293,
    "start_time": "2023-08-22T16:53:58.378Z"
   },
   {
    "duration": 179,
    "start_time": "2023-08-22T16:53:58.682Z"
   },
   {
    "duration": 303,
    "start_time": "2023-08-22T16:53:58.866Z"
   },
   {
    "duration": 21,
    "start_time": "2023-08-22T16:53:59.170Z"
   },
   {
    "duration": 23,
    "start_time": "2023-08-22T16:53:59.193Z"
   },
   {
    "duration": 47,
    "start_time": "2023-08-22T16:53:59.218Z"
   },
   {
    "duration": 38,
    "start_time": "2023-08-22T16:53:59.267Z"
   },
   {
    "duration": 8,
    "start_time": "2023-08-22T16:53:59.307Z"
   },
   {
    "duration": 16,
    "start_time": "2023-08-22T16:53:59.316Z"
   },
   {
    "duration": 21,
    "start_time": "2023-08-22T16:53:59.333Z"
   },
   {
    "duration": 15,
    "start_time": "2023-08-22T16:53:59.359Z"
   },
   {
    "duration": 30,
    "start_time": "2023-08-22T16:53:59.376Z"
   },
   {
    "duration": 45,
    "start_time": "2023-08-22T16:53:59.408Z"
   },
   {
    "duration": 1077,
    "start_time": "2023-08-22T16:53:59.464Z"
   },
   {
    "duration": 34,
    "start_time": "2023-08-22T16:54:00.543Z"
   },
   {
    "duration": 4,
    "start_time": "2023-08-22T16:54:00.582Z"
   },
   {
    "duration": 238,
    "start_time": "2023-08-22T16:54:00.588Z"
   },
   {
    "duration": 7,
    "start_time": "2023-08-22T16:54:00.828Z"
   },
   {
    "duration": 234,
    "start_time": "2023-08-22T16:54:00.837Z"
   },
   {
    "duration": 26,
    "start_time": "2023-08-22T16:54:01.074Z"
   },
   {
    "duration": 477,
    "start_time": "2023-08-22T16:54:01.102Z"
   },
   {
    "duration": 8,
    "start_time": "2023-08-22T16:54:01.581Z"
   },
   {
    "duration": 33,
    "start_time": "2023-08-22T16:54:01.593Z"
   },
   {
    "duration": 121,
    "start_time": "2023-08-22T16:54:01.628Z"
   },
   {
    "duration": 0,
    "start_time": "2023-08-22T16:54:01.755Z"
   },
   {
    "duration": 93,
    "start_time": "2023-08-22T16:54:26.379Z"
   },
   {
    "duration": 99,
    "start_time": "2023-08-22T16:54:54.596Z"
   },
   {
    "duration": 147,
    "start_time": "2023-08-22T16:56:16.190Z"
   },
   {
    "duration": 113,
    "start_time": "2023-08-22T16:56:19.933Z"
   },
   {
    "duration": 101,
    "start_time": "2023-08-22T16:56:36.014Z"
   },
   {
    "duration": 14,
    "start_time": "2023-08-22T16:56:38.979Z"
   },
   {
    "duration": 13,
    "start_time": "2023-08-22T16:58:53.214Z"
   },
   {
    "duration": 14,
    "start_time": "2023-08-22T17:00:57.073Z"
   },
   {
    "duration": 192,
    "start_time": "2023-08-22T17:15:01.189Z"
   },
   {
    "duration": 156,
    "start_time": "2023-08-22T17:17:03.772Z"
   },
   {
    "duration": 2131,
    "start_time": "2023-08-22T17:20:46.075Z"
   },
   {
    "duration": 104,
    "start_time": "2023-08-22T17:21:01.585Z"
   },
   {
    "duration": 2191,
    "start_time": "2023-08-22T17:21:06.305Z"
   },
   {
    "duration": 406,
    "start_time": "2023-08-22T17:24:31.786Z"
   },
   {
    "duration": 481,
    "start_time": "2023-08-22T17:24:37.196Z"
   },
   {
    "duration": 566,
    "start_time": "2023-08-22T17:25:00.315Z"
   },
   {
    "duration": 592,
    "start_time": "2023-08-22T17:25:04.687Z"
   },
   {
    "duration": 452,
    "start_time": "2023-08-22T17:27:23.050Z"
   },
   {
    "duration": 293,
    "start_time": "2023-08-22T17:27:30.435Z"
   },
   {
    "duration": 2143,
    "start_time": "2023-08-22T17:36:37.863Z"
   },
   {
    "duration": 96,
    "start_time": "2023-08-22T17:42:40.920Z"
   },
   {
    "duration": 213,
    "start_time": "2023-08-22T17:42:58.204Z"
   },
   {
    "duration": 139,
    "start_time": "2023-08-22T17:43:17.335Z"
   },
   {
    "duration": 119,
    "start_time": "2023-08-22T17:43:23.112Z"
   },
   {
    "duration": 354,
    "start_time": "2023-08-22T17:44:21.429Z"
   },
   {
    "duration": 482,
    "start_time": "2023-08-22T17:44:25.780Z"
   },
   {
    "duration": 2368,
    "start_time": "2023-08-22T17:44:30.592Z"
   },
   {
    "duration": 179,
    "start_time": "2023-08-22T17:44:58.032Z"
   },
   {
    "duration": 29,
    "start_time": "2023-08-22T17:46:05.783Z"
   },
   {
    "duration": 419,
    "start_time": "2023-08-22T17:46:14.217Z"
   },
   {
    "duration": 754,
    "start_time": "2023-08-22T17:46:21.984Z"
   },
   {
    "duration": 220,
    "start_time": "2023-08-22T17:46:34.091Z"
   },
   {
    "duration": 399,
    "start_time": "2023-08-22T17:47:56.979Z"
   },
   {
    "duration": 497,
    "start_time": "2023-08-22T17:48:08.179Z"
   },
   {
    "duration": 507,
    "start_time": "2023-08-22T17:48:11.285Z"
   },
   {
    "duration": 2655,
    "start_time": "2023-08-22T17:48:20.145Z"
   },
   {
    "duration": 2164,
    "start_time": "2023-08-22T17:51:13.289Z"
   },
   {
    "duration": 2825,
    "start_time": "2023-08-22T17:51:23.082Z"
   },
   {
    "duration": 2207,
    "start_time": "2023-08-22T17:51:40.625Z"
   },
   {
    "duration": 2311,
    "start_time": "2023-08-22T17:54:39.092Z"
   },
   {
    "duration": 2372,
    "start_time": "2023-08-22T17:54:52.026Z"
   },
   {
    "duration": 223,
    "start_time": "2023-08-22T17:55:46.908Z"
   },
   {
    "duration": 1431,
    "start_time": "2023-08-22T17:56:40.589Z"
   },
   {
    "duration": 116,
    "start_time": "2023-08-22T17:56:42.022Z"
   },
   {
    "duration": 41,
    "start_time": "2023-08-22T17:56:42.140Z"
   },
   {
    "duration": 24,
    "start_time": "2023-08-22T17:56:42.187Z"
   },
   {
    "duration": 15,
    "start_time": "2023-08-22T17:56:42.213Z"
   },
   {
    "duration": 12,
    "start_time": "2023-08-22T17:56:42.230Z"
   },
   {
    "duration": 7,
    "start_time": "2023-08-22T17:56:42.244Z"
   },
   {
    "duration": 21,
    "start_time": "2023-08-22T17:56:42.252Z"
   },
   {
    "duration": 13,
    "start_time": "2023-08-22T17:56:42.274Z"
   },
   {
    "duration": 14,
    "start_time": "2023-08-22T17:56:42.290Z"
   },
   {
    "duration": 10,
    "start_time": "2023-08-22T17:56:42.305Z"
   },
   {
    "duration": 43,
    "start_time": "2023-08-22T17:56:42.317Z"
   },
   {
    "duration": 9,
    "start_time": "2023-08-22T17:56:42.365Z"
   },
   {
    "duration": 18,
    "start_time": "2023-08-22T17:56:42.378Z"
   },
   {
    "duration": 16,
    "start_time": "2023-08-22T17:56:42.398Z"
   },
   {
    "duration": 39,
    "start_time": "2023-08-22T17:56:42.416Z"
   },
   {
    "duration": 210,
    "start_time": "2023-08-22T17:56:42.463Z"
   },
   {
    "duration": 5,
    "start_time": "2023-08-22T17:56:42.676Z"
   },
   {
    "duration": 5,
    "start_time": "2023-08-22T17:56:42.683Z"
   },
   {
    "duration": 5,
    "start_time": "2023-08-22T17:56:42.690Z"
   },
   {
    "duration": 7,
    "start_time": "2023-08-22T17:56:42.696Z"
   },
   {
    "duration": 5,
    "start_time": "2023-08-22T17:56:42.705Z"
   },
   {
    "duration": 5,
    "start_time": "2023-08-22T17:56:42.713Z"
   },
   {
    "duration": 7,
    "start_time": "2023-08-22T17:56:42.753Z"
   },
   {
    "duration": 20,
    "start_time": "2023-08-22T17:56:42.762Z"
   },
   {
    "duration": 4,
    "start_time": "2023-08-22T17:56:42.784Z"
   },
   {
    "duration": 223,
    "start_time": "2023-08-22T17:56:42.789Z"
   },
   {
    "duration": 192,
    "start_time": "2023-08-22T17:56:43.018Z"
   },
   {
    "duration": 326,
    "start_time": "2023-08-22T17:56:43.213Z"
   },
   {
    "duration": 31,
    "start_time": "2023-08-22T17:56:43.541Z"
   },
   {
    "duration": 18,
    "start_time": "2023-08-22T17:56:43.574Z"
   },
   {
    "duration": 21,
    "start_time": "2023-08-22T17:56:43.594Z"
   },
   {
    "duration": 71,
    "start_time": "2023-08-22T17:56:43.617Z"
   },
   {
    "duration": 8,
    "start_time": "2023-08-22T17:56:43.691Z"
   },
   {
    "duration": 19,
    "start_time": "2023-08-22T17:56:43.701Z"
   },
   {
    "duration": 7,
    "start_time": "2023-08-22T17:56:43.722Z"
   },
   {
    "duration": 21,
    "start_time": "2023-08-22T17:56:43.752Z"
   },
   {
    "duration": 25,
    "start_time": "2023-08-22T17:56:43.774Z"
   },
   {
    "duration": 20,
    "start_time": "2023-08-22T17:56:43.801Z"
   },
   {
    "duration": 1055,
    "start_time": "2023-08-22T17:56:43.822Z"
   },
   {
    "duration": 15,
    "start_time": "2023-08-22T17:56:44.879Z"
   },
   {
    "duration": 4,
    "start_time": "2023-08-22T17:56:44.896Z"
   },
   {
    "duration": 182,
    "start_time": "2023-08-22T17:56:44.902Z"
   },
   {
    "duration": 7,
    "start_time": "2023-08-22T17:56:45.086Z"
   },
   {
    "duration": 11,
    "start_time": "2023-08-22T17:56:45.095Z"
   },
   {
    "duration": 29,
    "start_time": "2023-08-22T17:56:45.108Z"
   },
   {
    "duration": 151,
    "start_time": "2023-08-22T17:56:45.140Z"
   },
   {
    "duration": 1,
    "start_time": "2023-08-22T17:56:45.293Z"
   },
   {
    "duration": 0,
    "start_time": "2023-08-22T17:56:45.295Z"
   },
   {
    "duration": 10,
    "start_time": "2023-08-22T17:58:28.969Z"
   },
   {
    "duration": 4,
    "start_time": "2023-08-22T17:58:52.709Z"
   },
   {
    "duration": 12,
    "start_time": "2023-08-22T17:58:56.491Z"
   },
   {
    "duration": 13,
    "start_time": "2023-08-22T17:59:01.948Z"
   },
   {
    "duration": 4,
    "start_time": "2023-08-22T17:59:11.340Z"
   },
   {
    "duration": 10,
    "start_time": "2023-08-22T17:59:17.213Z"
   },
   {
    "duration": 12,
    "start_time": "2023-08-22T17:59:27.926Z"
   },
   {
    "duration": 152,
    "start_time": "2023-08-22T17:59:52.527Z"
   },
   {
    "duration": 156,
    "start_time": "2023-08-22T18:00:04.113Z"
   },
   {
    "duration": 156,
    "start_time": "2023-08-22T18:01:44.915Z"
   },
   {
    "duration": 190,
    "start_time": "2023-08-22T18:02:25.948Z"
   },
   {
    "duration": 2620,
    "start_time": "2023-08-22T18:02:33.776Z"
   },
   {
    "duration": 415,
    "start_time": "2023-08-22T18:22:58.675Z"
   },
   {
    "duration": 1937,
    "start_time": "2023-08-22T18:32:36.802Z"
   },
   {
    "duration": 87,
    "start_time": "2023-08-22T18:55:29.124Z"
   },
   {
    "duration": 88,
    "start_time": "2023-08-22T18:55:35.055Z"
   },
   {
    "duration": 73,
    "start_time": "2023-08-22T18:55:42.655Z"
   },
   {
    "duration": 178,
    "start_time": "2023-08-22T18:55:58.459Z"
   },
   {
    "duration": 147,
    "start_time": "2023-08-22T18:56:56.006Z"
   },
   {
    "duration": 139,
    "start_time": "2023-08-22T18:57:37.908Z"
   },
   {
    "duration": 9,
    "start_time": "2023-08-22T19:03:19.646Z"
   },
   {
    "duration": 5,
    "start_time": "2023-08-22T19:04:09.951Z"
   },
   {
    "duration": 80,
    "start_time": "2023-08-22T19:06:27.207Z"
   },
   {
    "duration": 6,
    "start_time": "2023-08-22T19:06:50.047Z"
   },
   {
    "duration": 5,
    "start_time": "2023-08-22T19:07:21.503Z"
   },
   {
    "duration": 169,
    "start_time": "2023-08-22T19:13:31.863Z"
   },
   {
    "duration": 38395,
    "start_time": "2023-08-22T19:13:53.945Z"
   },
   {
    "duration": 243,
    "start_time": "2023-08-22T19:16:58.681Z"
   },
   {
    "duration": 106,
    "start_time": "2023-08-22T19:24:57.415Z"
   },
   {
    "duration": 20,
    "start_time": "2023-08-22T19:26:15.968Z"
   },
   {
    "duration": 22,
    "start_time": "2023-08-22T19:26:58.976Z"
   },
   {
    "duration": 28,
    "start_time": "2023-08-22T19:27:51.633Z"
   },
   {
    "duration": 21,
    "start_time": "2023-08-22T19:28:07.703Z"
   },
   {
    "duration": 14,
    "start_time": "2023-08-22T19:28:13.679Z"
   },
   {
    "duration": 14,
    "start_time": "2023-08-22T19:28:22.199Z"
   },
   {
    "duration": 286,
    "start_time": "2023-08-22T19:28:38.503Z"
   },
   {
    "duration": 16,
    "start_time": "2023-08-22T19:29:21.207Z"
   },
   {
    "duration": 12,
    "start_time": "2023-08-22T19:29:53.135Z"
   },
   {
    "duration": 13,
    "start_time": "2023-08-22T19:30:06.919Z"
   },
   {
    "duration": 84,
    "start_time": "2023-08-22T19:32:00.017Z"
   },
   {
    "duration": 169,
    "start_time": "2023-08-22T19:32:15.527Z"
   },
   {
    "duration": 4,
    "start_time": "2023-08-22T19:32:31.735Z"
   },
   {
    "duration": 178,
    "start_time": "2023-08-22T19:32:33.855Z"
   },
   {
    "duration": 172,
    "start_time": "2023-08-22T19:32:54.495Z"
   },
   {
    "duration": 82,
    "start_time": "2023-08-22T19:36:06.112Z"
   },
   {
    "duration": 5,
    "start_time": "2023-08-22T19:36:10.298Z"
   },
   {
    "duration": 2064,
    "start_time": "2023-08-22T19:36:11.997Z"
   },
   {
    "duration": 6,
    "start_time": "2023-08-22T19:36:23.797Z"
   },
   {
    "duration": 1889,
    "start_time": "2023-08-22T19:36:25.127Z"
   },
   {
    "duration": 5,
    "start_time": "2023-08-22T19:36:40.032Z"
   },
   {
    "duration": 183,
    "start_time": "2023-08-22T19:36:42.713Z"
   },
   {
    "duration": 354,
    "start_time": "2023-08-22T19:41:55.600Z"
   },
   {
    "duration": 1218,
    "start_time": "2023-08-22T19:47:34.557Z"
   },
   {
    "duration": 205,
    "start_time": "2023-08-22T19:47:35.778Z"
   },
   {
    "duration": 12,
    "start_time": "2023-08-22T19:47:35.985Z"
   },
   {
    "duration": 11,
    "start_time": "2023-08-22T19:47:35.999Z"
   },
   {
    "duration": 10,
    "start_time": "2023-08-22T19:47:36.012Z"
   },
   {
    "duration": 14,
    "start_time": "2023-08-22T19:47:36.024Z"
   },
   {
    "duration": 8,
    "start_time": "2023-08-22T19:47:36.040Z"
   },
   {
    "duration": 11,
    "start_time": "2023-08-22T19:47:36.050Z"
   },
   {
    "duration": 28,
    "start_time": "2023-08-22T19:47:36.064Z"
   },
   {
    "duration": 10,
    "start_time": "2023-08-22T19:47:36.095Z"
   },
   {
    "duration": 24,
    "start_time": "2023-08-22T19:47:36.107Z"
   },
   {
    "duration": 21,
    "start_time": "2023-08-22T19:47:36.133Z"
   },
   {
    "duration": 6,
    "start_time": "2023-08-22T19:47:36.156Z"
   },
   {
    "duration": 35,
    "start_time": "2023-08-22T19:47:36.164Z"
   },
   {
    "duration": 20,
    "start_time": "2023-08-22T19:47:36.201Z"
   },
   {
    "duration": 32,
    "start_time": "2023-08-22T19:47:36.223Z"
   },
   {
    "duration": 198,
    "start_time": "2023-08-22T19:47:36.257Z"
   },
   {
    "duration": 5,
    "start_time": "2023-08-22T19:47:36.456Z"
   },
   {
    "duration": 9,
    "start_time": "2023-08-22T19:47:36.463Z"
   },
   {
    "duration": 7,
    "start_time": "2023-08-22T19:47:36.473Z"
   },
   {
    "duration": 5,
    "start_time": "2023-08-22T19:47:36.482Z"
   },
   {
    "duration": 7,
    "start_time": "2023-08-22T19:47:36.488Z"
   },
   {
    "duration": 8,
    "start_time": "2023-08-22T19:47:36.496Z"
   },
   {
    "duration": 50,
    "start_time": "2023-08-22T19:47:36.506Z"
   },
   {
    "duration": 11,
    "start_time": "2023-08-22T19:47:36.558Z"
   },
   {
    "duration": 137,
    "start_time": "2023-08-22T19:47:36.571Z"
   },
   {
    "duration": 227,
    "start_time": "2023-08-22T19:47:36.710Z"
   },
   {
    "duration": 179,
    "start_time": "2023-08-22T19:47:36.941Z"
   },
   {
    "duration": 329,
    "start_time": "2023-08-22T19:47:37.123Z"
   },
   {
    "duration": 19,
    "start_time": "2023-08-22T19:47:37.454Z"
   },
   {
    "duration": 18,
    "start_time": "2023-08-22T19:47:37.474Z"
   },
   {
    "duration": 15,
    "start_time": "2023-08-22T19:47:37.494Z"
   },
   {
    "duration": 78,
    "start_time": "2023-08-22T19:47:37.511Z"
   },
   {
    "duration": 7,
    "start_time": "2023-08-22T19:47:37.592Z"
   },
   {
    "duration": 27,
    "start_time": "2023-08-22T19:47:37.602Z"
   },
   {
    "duration": 23,
    "start_time": "2023-08-22T19:47:37.631Z"
   },
   {
    "duration": 16,
    "start_time": "2023-08-22T19:47:37.658Z"
   },
   {
    "duration": 36,
    "start_time": "2023-08-22T19:47:37.676Z"
   },
   {
    "duration": 39,
    "start_time": "2023-08-22T19:47:37.713Z"
   },
   {
    "duration": 1129,
    "start_time": "2023-08-22T19:47:37.755Z"
   },
   {
    "duration": 10,
    "start_time": "2023-08-22T19:47:38.886Z"
   },
   {
    "duration": 17,
    "start_time": "2023-08-22T19:47:38.898Z"
   },
   {
    "duration": 140,
    "start_time": "2023-08-22T19:47:38.917Z"
   },
   {
    "duration": 6,
    "start_time": "2023-08-22T19:47:39.060Z"
   },
   {
    "duration": 5,
    "start_time": "2023-08-22T19:47:39.067Z"
   },
   {
    "duration": 17,
    "start_time": "2023-08-22T19:47:39.074Z"
   },
   {
    "duration": 281,
    "start_time": "2023-08-22T19:47:39.092Z"
   },
   {
    "duration": 197,
    "start_time": "2023-08-22T19:47:39.376Z"
   },
   {
    "duration": 2071,
    "start_time": "2023-08-22T19:47:39.575Z"
   },
   {
    "duration": 7,
    "start_time": "2023-08-22T19:47:41.649Z"
   },
   {
    "duration": 40006,
    "start_time": "2023-08-22T19:47:41.659Z"
   },
   {
    "duration": 28,
    "start_time": "2023-08-22T19:57:33.796Z"
   },
   {
    "duration": 32,
    "start_time": "2023-08-22T19:57:35.955Z"
   },
   {
    "duration": 32,
    "start_time": "2023-08-22T19:58:40.404Z"
   },
   {
    "duration": 22,
    "start_time": "2023-08-22T19:58:47.617Z"
   },
   {
    "duration": 33,
    "start_time": "2023-08-22T19:58:56.409Z"
   },
   {
    "duration": 1136,
    "start_time": "2023-08-22T20:00:08.564Z"
   },
   {
    "duration": 211,
    "start_time": "2023-08-22T20:00:09.702Z"
   },
   {
    "duration": 15,
    "start_time": "2023-08-22T20:00:09.916Z"
   },
   {
    "duration": 82,
    "start_time": "2023-08-22T20:00:09.933Z"
   },
   {
    "duration": 16,
    "start_time": "2023-08-22T20:00:10.018Z"
   },
   {
    "duration": 19,
    "start_time": "2023-08-22T20:00:10.036Z"
   },
   {
    "duration": 9,
    "start_time": "2023-08-22T20:00:10.058Z"
   },
   {
    "duration": 14,
    "start_time": "2023-08-22T20:00:10.068Z"
   },
   {
    "duration": 7,
    "start_time": "2023-08-22T20:00:10.085Z"
   },
   {
    "duration": 28,
    "start_time": "2023-08-22T20:00:10.095Z"
   },
   {
    "duration": 57,
    "start_time": "2023-08-22T20:00:10.126Z"
   },
   {
    "duration": 22,
    "start_time": "2023-08-22T20:00:10.186Z"
   },
   {
    "duration": 5,
    "start_time": "2023-08-22T20:00:10.210Z"
   },
   {
    "duration": 18,
    "start_time": "2023-08-22T20:00:10.217Z"
   },
   {
    "duration": 10,
    "start_time": "2023-08-22T20:00:10.238Z"
   },
   {
    "duration": 13,
    "start_time": "2023-08-22T20:00:10.249Z"
   },
   {
    "duration": 175,
    "start_time": "2023-08-22T20:00:10.264Z"
   },
   {
    "duration": 6,
    "start_time": "2023-08-22T20:00:10.441Z"
   },
   {
    "duration": 7,
    "start_time": "2023-08-22T20:00:10.450Z"
   },
   {
    "duration": 7,
    "start_time": "2023-08-22T20:00:10.459Z"
   },
   {
    "duration": 7,
    "start_time": "2023-08-22T20:00:10.467Z"
   },
   {
    "duration": 16,
    "start_time": "2023-08-22T20:00:10.475Z"
   },
   {
    "duration": 5,
    "start_time": "2023-08-22T20:00:10.493Z"
   },
   {
    "duration": 4,
    "start_time": "2023-08-22T20:00:10.500Z"
   },
   {
    "duration": 15,
    "start_time": "2023-08-22T20:00:10.506Z"
   },
   {
    "duration": 6,
    "start_time": "2023-08-22T20:00:10.533Z"
   },
   {
    "duration": 245,
    "start_time": "2023-08-22T20:00:10.541Z"
   },
   {
    "duration": 156,
    "start_time": "2023-08-22T20:00:10.791Z"
   },
   {
    "duration": 293,
    "start_time": "2023-08-22T20:00:10.954Z"
   },
   {
    "duration": 16,
    "start_time": "2023-08-22T20:00:11.249Z"
   },
   {
    "duration": 15,
    "start_time": "2023-08-22T20:00:11.267Z"
   },
   {
    "duration": 15,
    "start_time": "2023-08-22T20:00:11.283Z"
   },
   {
    "duration": 59,
    "start_time": "2023-08-22T20:00:11.299Z"
   },
   {
    "duration": 9,
    "start_time": "2023-08-22T20:00:11.360Z"
   },
   {
    "duration": 23,
    "start_time": "2023-08-22T20:00:11.372Z"
   },
   {
    "duration": 8,
    "start_time": "2023-08-22T20:00:11.397Z"
   },
   {
    "duration": 13,
    "start_time": "2023-08-22T20:00:11.407Z"
   },
   {
    "duration": 50,
    "start_time": "2023-08-22T20:00:11.422Z"
   },
   {
    "duration": 21,
    "start_time": "2023-08-22T20:00:11.474Z"
   },
   {
    "duration": 1476,
    "start_time": "2023-08-22T20:00:11.497Z"
   },
   {
    "duration": 8,
    "start_time": "2023-08-22T20:00:12.975Z"
   },
   {
    "duration": 15,
    "start_time": "2023-08-22T20:00:12.985Z"
   },
   {
    "duration": 237,
    "start_time": "2023-08-22T20:00:13.051Z"
   },
   {
    "duration": 5,
    "start_time": "2023-08-22T20:00:13.289Z"
   },
   {
    "duration": 59,
    "start_time": "2023-08-22T20:00:13.296Z"
   },
   {
    "duration": 17,
    "start_time": "2023-08-22T20:00:13.358Z"
   },
   {
    "duration": 479,
    "start_time": "2023-08-22T20:00:13.378Z"
   },
   {
    "duration": 202,
    "start_time": "2023-08-22T20:00:13.860Z"
   },
   {
    "duration": 1891,
    "start_time": "2023-08-22T20:00:14.063Z"
   },
   {
    "duration": 6,
    "start_time": "2023-08-22T20:00:15.956Z"
   },
   {
    "duration": 39948,
    "start_time": "2023-08-22T20:00:15.964Z"
   },
   {
    "duration": 1180,
    "start_time": "2023-08-22T20:20:10.046Z"
   },
   {
    "duration": 106,
    "start_time": "2023-08-22T20:20:11.228Z"
   },
   {
    "duration": 12,
    "start_time": "2023-08-22T20:20:11.335Z"
   },
   {
    "duration": 22,
    "start_time": "2023-08-22T20:20:11.349Z"
   },
   {
    "duration": 17,
    "start_time": "2023-08-22T20:20:11.372Z"
   },
   {
    "duration": 21,
    "start_time": "2023-08-22T20:20:11.392Z"
   },
   {
    "duration": 11,
    "start_time": "2023-08-22T20:20:11.415Z"
   },
   {
    "duration": 11,
    "start_time": "2023-08-22T20:20:11.429Z"
   },
   {
    "duration": 9,
    "start_time": "2023-08-22T20:20:11.453Z"
   },
   {
    "duration": 11,
    "start_time": "2023-08-22T20:20:11.465Z"
   },
   {
    "duration": 5,
    "start_time": "2023-08-22T20:20:11.478Z"
   },
   {
    "duration": 23,
    "start_time": "2023-08-22T20:20:11.484Z"
   },
   {
    "duration": 5,
    "start_time": "2023-08-22T20:20:11.509Z"
   },
   {
    "duration": 38,
    "start_time": "2023-08-22T20:20:11.515Z"
   },
   {
    "duration": 14,
    "start_time": "2023-08-22T20:20:11.555Z"
   },
   {
    "duration": 13,
    "start_time": "2023-08-22T20:20:11.571Z"
   },
   {
    "duration": 202,
    "start_time": "2023-08-22T20:20:11.586Z"
   },
   {
    "duration": 6,
    "start_time": "2023-08-22T20:20:11.790Z"
   },
   {
    "duration": 31,
    "start_time": "2023-08-22T20:20:11.797Z"
   },
   {
    "duration": 9,
    "start_time": "2023-08-22T20:20:11.831Z"
   },
   {
    "duration": 7,
    "start_time": "2023-08-22T20:20:11.843Z"
   },
   {
    "duration": 7,
    "start_time": "2023-08-22T20:20:11.851Z"
   },
   {
    "duration": 7,
    "start_time": "2023-08-22T20:20:11.860Z"
   },
   {
    "duration": 7,
    "start_time": "2023-08-22T20:20:11.869Z"
   },
   {
    "duration": 9,
    "start_time": "2023-08-22T20:20:11.877Z"
   },
   {
    "duration": 9,
    "start_time": "2023-08-22T20:20:11.888Z"
   },
   {
    "duration": 232,
    "start_time": "2023-08-22T20:20:11.899Z"
   },
   {
    "duration": 186,
    "start_time": "2023-08-22T20:20:12.137Z"
   },
   {
    "duration": 298,
    "start_time": "2023-08-22T20:20:12.325Z"
   },
   {
    "duration": 33,
    "start_time": "2023-08-22T20:20:12.625Z"
   },
   {
    "duration": 23,
    "start_time": "2023-08-22T20:20:12.660Z"
   },
   {
    "duration": 19,
    "start_time": "2023-08-22T20:20:12.685Z"
   },
   {
    "duration": 54,
    "start_time": "2023-08-22T20:20:12.706Z"
   },
   {
    "duration": 6,
    "start_time": "2023-08-22T20:20:12.762Z"
   },
   {
    "duration": 18,
    "start_time": "2023-08-22T20:20:12.769Z"
   },
   {
    "duration": 9,
    "start_time": "2023-08-22T20:20:12.790Z"
   },
   {
    "duration": 14,
    "start_time": "2023-08-22T20:20:12.801Z"
   },
   {
    "duration": 54,
    "start_time": "2023-08-22T20:20:12.816Z"
   },
   {
    "duration": 17,
    "start_time": "2023-08-22T20:20:12.872Z"
   },
   {
    "duration": 935,
    "start_time": "2023-08-22T20:20:12.891Z"
   },
   {
    "duration": 8,
    "start_time": "2023-08-22T20:20:13.828Z"
   },
   {
    "duration": 109,
    "start_time": "2023-08-22T20:20:13.838Z"
   },
   {
    "duration": 170,
    "start_time": "2023-08-22T20:20:13.949Z"
   },
   {
    "duration": 6,
    "start_time": "2023-08-22T20:20:14.121Z"
   },
   {
    "duration": 12,
    "start_time": "2023-08-22T20:20:14.129Z"
   },
   {
    "duration": 10,
    "start_time": "2023-08-22T20:20:14.152Z"
   },
   {
    "duration": 287,
    "start_time": "2023-08-22T20:20:14.163Z"
   },
   {
    "duration": 183,
    "start_time": "2023-08-22T20:20:14.451Z"
   },
   {
    "duration": 1921,
    "start_time": "2023-08-22T20:20:14.636Z"
   },
   {
    "duration": 8,
    "start_time": "2023-08-22T20:20:16.560Z"
   },
   {
    "duration": 37027,
    "start_time": "2023-08-22T20:20:16.571Z"
   },
   {
    "duration": 144,
    "start_time": "2023-08-22T20:29:17.454Z"
   },
   {
    "duration": 1515,
    "start_time": "2023-08-22T20:52:17.776Z"
   },
   {
    "duration": 394,
    "start_time": "2023-08-22T20:52:19.294Z"
   },
   {
    "duration": 24,
    "start_time": "2023-08-22T20:52:19.691Z"
   },
   {
    "duration": 18,
    "start_time": "2023-08-22T20:52:19.718Z"
   },
   {
    "duration": 21,
    "start_time": "2023-08-22T20:52:19.738Z"
   },
   {
    "duration": 19,
    "start_time": "2023-08-22T20:52:19.761Z"
   },
   {
    "duration": 12,
    "start_time": "2023-08-22T20:52:19.782Z"
   },
   {
    "duration": 18,
    "start_time": "2023-08-22T20:52:19.797Z"
   },
   {
    "duration": 35,
    "start_time": "2023-08-22T20:52:19.817Z"
   },
   {
    "duration": 24,
    "start_time": "2023-08-22T20:52:19.860Z"
   },
   {
    "duration": 7,
    "start_time": "2023-08-22T20:52:19.886Z"
   },
   {
    "duration": 16,
    "start_time": "2023-08-22T20:52:19.895Z"
   },
   {
    "duration": 5,
    "start_time": "2023-08-22T20:52:19.913Z"
   },
   {
    "duration": 40,
    "start_time": "2023-08-22T20:52:19.921Z"
   },
   {
    "duration": 19,
    "start_time": "2023-08-22T20:52:19.963Z"
   },
   {
    "duration": 15,
    "start_time": "2023-08-22T20:52:19.985Z"
   },
   {
    "duration": 219,
    "start_time": "2023-08-22T20:52:20.002Z"
   },
   {
    "duration": 7,
    "start_time": "2023-08-22T20:52:20.223Z"
   },
   {
    "duration": 22,
    "start_time": "2023-08-22T20:52:20.231Z"
   },
   {
    "duration": 12,
    "start_time": "2023-08-22T20:52:20.255Z"
   },
   {
    "duration": 22,
    "start_time": "2023-08-22T20:52:20.269Z"
   },
   {
    "duration": 19,
    "start_time": "2023-08-22T20:52:20.294Z"
   },
   {
    "duration": 15,
    "start_time": "2023-08-22T20:52:20.315Z"
   },
   {
    "duration": 18,
    "start_time": "2023-08-22T20:52:20.332Z"
   },
   {
    "duration": 26,
    "start_time": "2023-08-22T20:52:20.352Z"
   },
   {
    "duration": 5,
    "start_time": "2023-08-22T20:52:20.382Z"
   },
   {
    "duration": 217,
    "start_time": "2023-08-22T20:52:20.388Z"
   },
   {
    "duration": 219,
    "start_time": "2023-08-22T20:52:20.609Z"
   },
   {
    "duration": 373,
    "start_time": "2023-08-22T20:52:20.830Z"
   },
   {
    "duration": 26,
    "start_time": "2023-08-22T20:52:21.206Z"
   },
   {
    "duration": 38,
    "start_time": "2023-08-22T20:52:21.234Z"
   },
   {
    "duration": 21,
    "start_time": "2023-08-22T20:52:21.275Z"
   },
   {
    "duration": 31,
    "start_time": "2023-08-22T20:52:21.300Z"
   },
   {
    "duration": 30,
    "start_time": "2023-08-22T20:52:21.333Z"
   },
   {
    "duration": 15,
    "start_time": "2023-08-22T20:52:21.366Z"
   },
   {
    "duration": 9,
    "start_time": "2023-08-22T20:52:21.384Z"
   },
   {
    "duration": 52,
    "start_time": "2023-08-22T20:52:21.396Z"
   },
   {
    "duration": 44,
    "start_time": "2023-08-22T20:52:21.450Z"
   },
   {
    "duration": 30,
    "start_time": "2023-08-22T20:52:21.496Z"
   },
   {
    "duration": 1123,
    "start_time": "2023-08-22T20:52:21.530Z"
   },
   {
    "duration": 12,
    "start_time": "2023-08-22T20:52:22.655Z"
   },
   {
    "duration": 10,
    "start_time": "2023-08-22T20:52:22.669Z"
   },
   {
    "duration": 180,
    "start_time": "2023-08-22T20:52:22.681Z"
   },
   {
    "duration": 7,
    "start_time": "2023-08-22T20:52:22.863Z"
   },
   {
    "duration": 20,
    "start_time": "2023-08-22T20:52:22.872Z"
   },
   {
    "duration": 16,
    "start_time": "2023-08-22T20:52:22.894Z"
   },
   {
    "duration": 309,
    "start_time": "2023-08-22T20:52:22.912Z"
   },
   {
    "duration": 171,
    "start_time": "2023-08-22T20:52:23.223Z"
   },
   {
    "duration": 2343,
    "start_time": "2023-08-22T20:52:23.396Z"
   },
   {
    "duration": 18,
    "start_time": "2023-08-22T20:52:25.741Z"
   },
   {
    "duration": 42467,
    "start_time": "2023-08-22T20:52:25.762Z"
   },
   {
    "duration": 64,
    "start_time": "2023-08-23T04:36:53.641Z"
   },
   {
    "duration": 1314,
    "start_time": "2023-08-23T04:37:01.843Z"
   },
   {
    "duration": 366,
    "start_time": "2023-08-23T04:37:03.160Z"
   },
   {
    "duration": 12,
    "start_time": "2023-08-23T04:37:03.528Z"
   },
   {
    "duration": 47,
    "start_time": "2023-08-23T04:37:03.542Z"
   },
   {
    "duration": 22,
    "start_time": "2023-08-23T04:37:03.591Z"
   },
   {
    "duration": 29,
    "start_time": "2023-08-23T04:37:03.615Z"
   },
   {
    "duration": 41,
    "start_time": "2023-08-23T04:37:03.646Z"
   },
   {
    "duration": 44,
    "start_time": "2023-08-23T04:37:03.689Z"
   },
   {
    "duration": 13,
    "start_time": "2023-08-23T04:37:03.735Z"
   },
   {
    "duration": 45,
    "start_time": "2023-08-23T04:37:03.750Z"
   },
   {
    "duration": 33,
    "start_time": "2023-08-23T04:37:03.797Z"
   },
   {
    "duration": 24,
    "start_time": "2023-08-23T04:37:03.832Z"
   },
   {
    "duration": 25,
    "start_time": "2023-08-23T04:37:03.858Z"
   },
   {
    "duration": 12,
    "start_time": "2023-08-23T04:37:03.885Z"
   },
   {
    "duration": 53,
    "start_time": "2023-08-23T04:37:03.898Z"
   },
   {
    "duration": 117,
    "start_time": "2023-08-23T04:37:03.953Z"
   },
   {
    "duration": 344,
    "start_time": "2023-08-23T04:37:04.072Z"
   },
   {
    "duration": 26,
    "start_time": "2023-08-23T04:37:04.418Z"
   },
   {
    "duration": 122,
    "start_time": "2023-08-23T04:37:04.446Z"
   },
   {
    "duration": 41,
    "start_time": "2023-08-23T04:37:04.569Z"
   },
   {
    "duration": 18,
    "start_time": "2023-08-23T04:37:04.612Z"
   },
   {
    "duration": 19,
    "start_time": "2023-08-23T04:37:04.632Z"
   },
   {
    "duration": 28,
    "start_time": "2023-08-23T04:37:04.653Z"
   },
   {
    "duration": 17,
    "start_time": "2023-08-23T04:37:04.684Z"
   },
   {
    "duration": 25,
    "start_time": "2023-08-23T04:37:04.703Z"
   },
   {
    "duration": 18,
    "start_time": "2023-08-23T04:37:04.730Z"
   },
   {
    "duration": 230,
    "start_time": "2023-08-23T04:37:04.750Z"
   },
   {
    "duration": 160,
    "start_time": "2023-08-23T04:37:04.984Z"
   },
   {
    "duration": 326,
    "start_time": "2023-08-23T04:37:05.146Z"
   },
   {
    "duration": 25,
    "start_time": "2023-08-23T04:37:05.473Z"
   },
   {
    "duration": 15,
    "start_time": "2023-08-23T04:37:05.500Z"
   },
   {
    "duration": 20,
    "start_time": "2023-08-23T04:37:05.516Z"
   },
   {
    "duration": 40,
    "start_time": "2023-08-23T04:37:05.538Z"
   },
   {
    "duration": 7,
    "start_time": "2023-08-23T04:37:05.580Z"
   },
   {
    "duration": 18,
    "start_time": "2023-08-23T04:37:05.588Z"
   },
   {
    "duration": 39,
    "start_time": "2023-08-23T04:37:05.607Z"
   },
   {
    "duration": 52,
    "start_time": "2023-08-23T04:37:05.648Z"
   },
   {
    "duration": 24,
    "start_time": "2023-08-23T04:37:05.701Z"
   },
   {
    "duration": 18,
    "start_time": "2023-08-23T04:37:05.727Z"
   },
   {
    "duration": 957,
    "start_time": "2023-08-23T04:37:05.746Z"
   },
   {
    "duration": 9,
    "start_time": "2023-08-23T04:37:06.704Z"
   },
   {
    "duration": 10,
    "start_time": "2023-08-23T04:37:06.715Z"
   },
   {
    "duration": 170,
    "start_time": "2023-08-23T04:37:06.727Z"
   },
   {
    "duration": 1149,
    "start_time": "2023-08-23T04:37:06.898Z"
   },
   {
    "duration": 8,
    "start_time": "2023-08-23T04:37:08.059Z"
   },
   {
    "duration": 45,
    "start_time": "2023-08-23T04:37:08.069Z"
   },
   {
    "duration": 44,
    "start_time": "2023-08-23T04:37:08.116Z"
   },
   {
    "duration": 290,
    "start_time": "2023-08-23T04:37:08.166Z"
   },
   {
    "duration": 157,
    "start_time": "2023-08-23T04:37:08.458Z"
   },
   {
    "duration": 1939,
    "start_time": "2023-08-23T04:37:08.617Z"
   },
   {
    "duration": 9,
    "start_time": "2023-08-23T04:37:10.559Z"
   },
   {
    "duration": 36016,
    "start_time": "2023-08-23T04:37:10.574Z"
   },
   {
    "duration": 1291,
    "start_time": "2023-08-24T16:07:19.635Z"
   },
   {
    "duration": 248,
    "start_time": "2023-08-24T16:11:06.791Z"
   },
   {
    "duration": 13,
    "start_time": "2023-08-24T16:11:10.550Z"
   },
   {
    "duration": 11,
    "start_time": "2023-08-24T16:11:13.982Z"
   },
   {
    "duration": 9,
    "start_time": "2023-08-24T16:11:16.774Z"
   },
   {
    "duration": 10,
    "start_time": "2023-08-24T16:11:19.646Z"
   },
   {
    "duration": 9,
    "start_time": "2023-08-24T16:11:25.018Z"
   },
   {
    "duration": 91,
    "start_time": "2023-08-24T16:26:45.410Z"
   },
   {
    "duration": 9,
    "start_time": "2023-08-24T16:27:22.600Z"
   },
   {
    "duration": 10,
    "start_time": "2023-08-24T16:27:34.604Z"
   },
   {
    "duration": 180,
    "start_time": "2023-08-24T16:34:50.338Z"
   },
   {
    "duration": 176,
    "start_time": "2023-08-24T16:35:09.024Z"
   },
   {
    "duration": 102,
    "start_time": "2023-08-24T16:35:28.001Z"
   },
   {
    "duration": 11,
    "start_time": "2023-08-24T16:35:47.057Z"
   },
   {
    "duration": 106,
    "start_time": "2023-08-24T16:36:00.377Z"
   },
   {
    "duration": 106,
    "start_time": "2023-08-24T16:36:13.551Z"
   },
   {
    "duration": 94,
    "start_time": "2023-08-24T16:36:21.641Z"
   },
   {
    "duration": 133,
    "start_time": "2023-08-24T16:38:19.216Z"
   },
   {
    "duration": 10,
    "start_time": "2023-08-24T16:44:20.224Z"
   },
   {
    "duration": 5,
    "start_time": "2023-08-24T16:44:26.743Z"
   },
   {
    "duration": 165,
    "start_time": "2023-08-24T16:44:28.769Z"
   },
   {
    "duration": 543,
    "start_time": "2023-08-24T16:45:03.297Z"
   },
   {
    "duration": 1087,
    "start_time": "2023-08-24T16:45:58.722Z"
   },
   {
    "duration": 114,
    "start_time": "2023-08-24T16:45:59.811Z"
   },
   {
    "duration": 11,
    "start_time": "2023-08-24T16:45:59.927Z"
   },
   {
    "duration": 17,
    "start_time": "2023-08-24T16:45:59.940Z"
   },
   {
    "duration": 13,
    "start_time": "2023-08-24T16:45:59.958Z"
   },
   {
    "duration": 10,
    "start_time": "2023-08-24T16:45:59.972Z"
   },
   {
    "duration": 6,
    "start_time": "2023-08-24T16:45:59.984Z"
   },
   {
    "duration": 15,
    "start_time": "2023-08-24T16:45:59.991Z"
   },
   {
    "duration": 32,
    "start_time": "2023-08-24T16:46:00.008Z"
   },
   {
    "duration": 44,
    "start_time": "2023-08-24T16:46:00.044Z"
   },
   {
    "duration": 32,
    "start_time": "2023-08-24T16:46:00.090Z"
   },
   {
    "duration": 28,
    "start_time": "2023-08-24T16:46:00.124Z"
   },
   {
    "duration": 25,
    "start_time": "2023-08-24T16:46:00.154Z"
   },
   {
    "duration": 30,
    "start_time": "2023-08-24T16:46:00.180Z"
   },
   {
    "duration": 47,
    "start_time": "2023-08-24T16:46:00.211Z"
   },
   {
    "duration": 41,
    "start_time": "2023-08-24T16:46:00.259Z"
   },
   {
    "duration": 181,
    "start_time": "2023-08-24T16:46:00.302Z"
   },
   {
    "duration": 4,
    "start_time": "2023-08-24T16:46:00.485Z"
   },
   {
    "duration": 43,
    "start_time": "2023-08-24T16:46:00.490Z"
   },
   {
    "duration": 32,
    "start_time": "2023-08-24T16:46:00.534Z"
   },
   {
    "duration": 33,
    "start_time": "2023-08-24T16:46:00.568Z"
   },
   {
    "duration": 28,
    "start_time": "2023-08-24T16:46:00.603Z"
   },
   {
    "duration": 76,
    "start_time": "2023-08-24T16:46:00.633Z"
   },
   {
    "duration": 51,
    "start_time": "2023-08-24T16:46:00.710Z"
   },
   {
    "duration": 52,
    "start_time": "2023-08-24T16:46:00.762Z"
   },
   {
    "duration": 37,
    "start_time": "2023-08-24T16:46:00.816Z"
   },
   {
    "duration": 212,
    "start_time": "2023-08-24T16:46:00.855Z"
   },
   {
    "duration": 120,
    "start_time": "2023-08-24T16:46:01.070Z"
   },
   {
    "duration": 0,
    "start_time": "2023-08-24T16:46:01.191Z"
   },
   {
    "duration": 0,
    "start_time": "2023-08-24T16:46:01.193Z"
   },
   {
    "duration": 0,
    "start_time": "2023-08-24T16:46:01.194Z"
   },
   {
    "duration": 0,
    "start_time": "2023-08-24T16:46:01.195Z"
   },
   {
    "duration": 0,
    "start_time": "2023-08-24T16:46:01.195Z"
   },
   {
    "duration": 0,
    "start_time": "2023-08-24T16:46:01.196Z"
   },
   {
    "duration": 0,
    "start_time": "2023-08-24T16:46:01.198Z"
   },
   {
    "duration": 0,
    "start_time": "2023-08-24T16:46:01.199Z"
   },
   {
    "duration": 0,
    "start_time": "2023-08-24T16:46:01.200Z"
   },
   {
    "duration": 0,
    "start_time": "2023-08-24T16:46:01.201Z"
   },
   {
    "duration": 0,
    "start_time": "2023-08-24T16:46:01.202Z"
   },
   {
    "duration": 0,
    "start_time": "2023-08-24T16:46:01.203Z"
   },
   {
    "duration": 0,
    "start_time": "2023-08-24T16:46:01.204Z"
   },
   {
    "duration": 0,
    "start_time": "2023-08-24T16:46:01.205Z"
   },
   {
    "duration": 0,
    "start_time": "2023-08-24T16:46:01.207Z"
   },
   {
    "duration": 0,
    "start_time": "2023-08-24T16:46:01.208Z"
   },
   {
    "duration": 0,
    "start_time": "2023-08-24T16:46:01.209Z"
   },
   {
    "duration": 0,
    "start_time": "2023-08-24T16:46:01.210Z"
   },
   {
    "duration": 0,
    "start_time": "2023-08-24T16:46:01.211Z"
   },
   {
    "duration": 0,
    "start_time": "2023-08-24T16:46:01.212Z"
   },
   {
    "duration": 0,
    "start_time": "2023-08-24T16:46:01.212Z"
   },
   {
    "duration": 0,
    "start_time": "2023-08-24T16:46:01.213Z"
   },
   {
    "duration": 0,
    "start_time": "2023-08-24T16:46:01.214Z"
   },
   {
    "duration": 0,
    "start_time": "2023-08-24T16:46:01.215Z"
   },
   {
    "duration": 141,
    "start_time": "2023-08-24T16:47:48.922Z"
   },
   {
    "duration": 82,
    "start_time": "2023-08-24T16:47:56.596Z"
   },
   {
    "duration": 168,
    "start_time": "2023-08-24T16:48:06.967Z"
   },
   {
    "duration": 198,
    "start_time": "2023-08-24T16:48:13.935Z"
   },
   {
    "duration": 187,
    "start_time": "2023-08-24T16:48:21.639Z"
   },
   {
    "duration": 83,
    "start_time": "2023-08-24T16:49:07.231Z"
   },
   {
    "duration": 92,
    "start_time": "2023-08-24T16:49:23.052Z"
   },
   {
    "duration": 92,
    "start_time": "2023-08-24T16:49:54.103Z"
   },
   {
    "duration": 163,
    "start_time": "2023-08-24T16:51:07.074Z"
   },
   {
    "duration": 123,
    "start_time": "2023-08-24T16:51:19.807Z"
   },
   {
    "duration": 124,
    "start_time": "2023-08-24T16:57:31.631Z"
   },
   {
    "duration": 160,
    "start_time": "2023-08-24T16:57:36.007Z"
   },
   {
    "duration": 15,
    "start_time": "2023-08-24T16:58:10.160Z"
   },
   {
    "duration": 19,
    "start_time": "2023-08-24T16:58:23.758Z"
   },
   {
    "duration": 15,
    "start_time": "2023-08-24T16:58:34.623Z"
   },
   {
    "duration": 17,
    "start_time": "2023-08-24T16:58:45.098Z"
   },
   {
    "duration": 14,
    "start_time": "2023-08-24T16:58:50.158Z"
   },
   {
    "duration": 19,
    "start_time": "2023-08-24T16:59:19.191Z"
   },
   {
    "duration": 21,
    "start_time": "2023-08-24T16:59:44.510Z"
   },
   {
    "duration": 112,
    "start_time": "2023-08-24T17:00:58.367Z"
   },
   {
    "duration": 127,
    "start_time": "2023-08-24T17:01:17.525Z"
   },
   {
    "duration": 4,
    "start_time": "2023-08-24T17:01:38.294Z"
   },
   {
    "duration": 4,
    "start_time": "2023-08-24T17:02:07.394Z"
   },
   {
    "duration": 4,
    "start_time": "2023-08-24T17:02:13.421Z"
   },
   {
    "duration": 123,
    "start_time": "2023-08-24T17:02:50.438Z"
   },
   {
    "duration": 4,
    "start_time": "2023-08-24T17:02:58.638Z"
   },
   {
    "duration": 14,
    "start_time": "2023-08-24T17:03:06.202Z"
   },
   {
    "duration": 15,
    "start_time": "2023-08-24T17:03:55.605Z"
   },
   {
    "duration": 18,
    "start_time": "2023-08-24T17:08:16.105Z"
   },
   {
    "duration": 20,
    "start_time": "2023-08-24T17:09:44.313Z"
   },
   {
    "duration": 26,
    "start_time": "2023-08-24T17:09:47.973Z"
   },
   {
    "duration": 17,
    "start_time": "2023-08-24T17:09:54.062Z"
   },
   {
    "duration": 11,
    "start_time": "2023-08-24T17:10:11.333Z"
   },
   {
    "duration": 136,
    "start_time": "2023-08-24T17:10:26.316Z"
   },
   {
    "duration": 183,
    "start_time": "2023-08-24T17:10:38.430Z"
   },
   {
    "duration": 200,
    "start_time": "2023-08-24T17:11:06.733Z"
   },
   {
    "duration": 136,
    "start_time": "2023-08-24T17:12:30.300Z"
   },
   {
    "duration": 181,
    "start_time": "2023-08-24T17:13:12.261Z"
   },
   {
    "duration": 275,
    "start_time": "2023-08-24T17:15:03.318Z"
   },
   {
    "duration": 151,
    "start_time": "2023-08-24T17:15:11.661Z"
   },
   {
    "duration": 25,
    "start_time": "2023-08-24T17:16:13.621Z"
   },
   {
    "duration": 9,
    "start_time": "2023-08-24T17:28:02.430Z"
   },
   {
    "duration": 9,
    "start_time": "2023-08-24T17:36:35.710Z"
   },
   {
    "duration": 10,
    "start_time": "2023-08-24T17:37:06.807Z"
   },
   {
    "duration": 19,
    "start_time": "2023-08-24T17:37:11.565Z"
   },
   {
    "duration": 60,
    "start_time": "2023-08-24T17:43:36.998Z"
   },
   {
    "duration": 137,
    "start_time": "2023-08-24T17:44:40.804Z"
   },
   {
    "duration": 145,
    "start_time": "2023-08-24T17:44:51.602Z"
   },
   {
    "duration": 117,
    "start_time": "2023-08-24T17:44:59.621Z"
   },
   {
    "duration": 128,
    "start_time": "2023-08-24T17:47:02.193Z"
   },
   {
    "duration": 90,
    "start_time": "2023-08-24T17:50:08.734Z"
   },
   {
    "duration": 92,
    "start_time": "2023-08-24T17:50:14.223Z"
   },
   {
    "duration": 171,
    "start_time": "2023-08-24T17:54:25.904Z"
   },
   {
    "duration": 102,
    "start_time": "2023-08-24T17:54:35.702Z"
   },
   {
    "duration": 17,
    "start_time": "2023-08-24T17:57:35.687Z"
   },
   {
    "duration": 98,
    "start_time": "2023-08-24T17:57:45.791Z"
   },
   {
    "duration": 109,
    "start_time": "2023-08-24T17:58:27.830Z"
   },
   {
    "duration": 101,
    "start_time": "2023-08-24T18:01:04.835Z"
   },
   {
    "duration": 106,
    "start_time": "2023-08-24T18:01:14.487Z"
   },
   {
    "duration": 8,
    "start_time": "2023-08-24T18:02:49.438Z"
   },
   {
    "duration": 12,
    "start_time": "2023-08-24T18:02:54.893Z"
   },
   {
    "duration": 22,
    "start_time": "2023-08-24T18:03:12.775Z"
   },
   {
    "duration": 21,
    "start_time": "2023-08-24T18:06:47.614Z"
   },
   {
    "duration": 18,
    "start_time": "2023-08-24T18:08:27.558Z"
   },
   {
    "duration": 12,
    "start_time": "2023-08-24T18:11:15.702Z"
   },
   {
    "duration": 19,
    "start_time": "2023-08-24T18:13:11.690Z"
   },
   {
    "duration": 11,
    "start_time": "2023-08-24T18:14:00.298Z"
   },
   {
    "duration": 26,
    "start_time": "2023-08-24T18:14:14.046Z"
   },
   {
    "duration": 9,
    "start_time": "2023-08-24T18:16:33.919Z"
   },
   {
    "duration": 14,
    "start_time": "2023-08-24T18:17:16.143Z"
   },
   {
    "duration": 18,
    "start_time": "2023-08-24T18:17:33.526Z"
   },
   {
    "duration": 21,
    "start_time": "2023-08-24T18:17:41.242Z"
   },
   {
    "duration": 11,
    "start_time": "2023-08-24T18:17:47.489Z"
   },
   {
    "duration": 24,
    "start_time": "2023-08-24T18:18:53.839Z"
   },
   {
    "duration": 20,
    "start_time": "2023-08-24T18:19:08.855Z"
   },
   {
    "duration": 12,
    "start_time": "2023-08-24T18:19:17.896Z"
   },
   {
    "duration": 19,
    "start_time": "2023-08-24T18:19:23.310Z"
   },
   {
    "duration": 9,
    "start_time": "2023-08-24T18:19:31.031Z"
   },
   {
    "duration": 23,
    "start_time": "2023-08-24T18:19:31.799Z"
   },
   {
    "duration": 12,
    "start_time": "2023-08-24T18:19:46.803Z"
   },
   {
    "duration": 20,
    "start_time": "2023-08-24T18:20:02.889Z"
   },
   {
    "duration": 21,
    "start_time": "2023-08-24T18:22:22.046Z"
   },
   {
    "duration": 10,
    "start_time": "2023-08-24T18:22:31.170Z"
   },
   {
    "duration": 27,
    "start_time": "2023-08-24T18:22:32.816Z"
   },
   {
    "duration": 11,
    "start_time": "2023-08-24T18:22:36.921Z"
   },
   {
    "duration": 23,
    "start_time": "2023-08-24T18:23:44.871Z"
   },
   {
    "duration": 11,
    "start_time": "2023-08-24T18:23:50.263Z"
   },
   {
    "duration": 20,
    "start_time": "2023-08-24T18:24:34.297Z"
   },
   {
    "duration": 9,
    "start_time": "2023-08-24T18:24:36.037Z"
   },
   {
    "duration": 20,
    "start_time": "2023-08-24T18:24:36.906Z"
   },
   {
    "duration": 10,
    "start_time": "2023-08-24T18:24:40.943Z"
   },
   {
    "duration": 23,
    "start_time": "2023-08-24T18:24:41.764Z"
   },
   {
    "duration": 11,
    "start_time": "2023-08-24T18:24:43.044Z"
   },
   {
    "duration": 6,
    "start_time": "2023-08-24T18:30:37.070Z"
   },
   {
    "duration": 12,
    "start_time": "2023-08-24T18:30:37.526Z"
   },
   {
    "duration": 6,
    "start_time": "2023-08-24T18:30:40.030Z"
   },
   {
    "duration": 12,
    "start_time": "2023-08-24T18:30:42.798Z"
   },
   {
    "duration": 8,
    "start_time": "2023-08-24T18:32:03.063Z"
   },
   {
    "duration": 21,
    "start_time": "2023-08-24T18:32:06.654Z"
   },
   {
    "duration": 26,
    "start_time": "2023-08-24T18:32:28.423Z"
   },
   {
    "duration": 4,
    "start_time": "2023-08-24T18:34:05.167Z"
   },
   {
    "duration": 25,
    "start_time": "2023-08-24T18:39:19.091Z"
   },
   {
    "duration": 18,
    "start_time": "2023-08-24T18:39:23.647Z"
   },
   {
    "duration": 112,
    "start_time": "2023-08-24T18:40:23.735Z"
   },
   {
    "duration": 135,
    "start_time": "2023-08-24T18:40:34.871Z"
   },
   {
    "duration": 116,
    "start_time": "2023-08-24T18:40:53.536Z"
   },
   {
    "duration": 116,
    "start_time": "2023-08-24T18:49:03.503Z"
   },
   {
    "duration": 18,
    "start_time": "2023-08-24T18:49:13.752Z"
   },
   {
    "duration": 121,
    "start_time": "2023-08-24T18:51:39.058Z"
   },
   {
    "duration": 697,
    "start_time": "2023-08-24T18:52:52.503Z"
   },
   {
    "duration": 627,
    "start_time": "2023-08-24T18:53:00.861Z"
   },
   {
    "duration": 721,
    "start_time": "2023-08-24T18:53:43.123Z"
   },
   {
    "duration": 818,
    "start_time": "2023-08-24T18:54:52.072Z"
   },
   {
    "duration": 730,
    "start_time": "2023-08-24T18:55:06.419Z"
   },
   {
    "duration": 679,
    "start_time": "2023-08-24T18:55:13.448Z"
   },
   {
    "duration": 726,
    "start_time": "2023-08-24T18:55:22.736Z"
   },
   {
    "duration": 610,
    "start_time": "2023-08-24T18:56:39.840Z"
   },
   {
    "duration": 725,
    "start_time": "2023-08-24T18:57:11.811Z"
   },
   {
    "duration": 626,
    "start_time": "2023-08-24T18:57:38.665Z"
   },
   {
    "duration": 1015,
    "start_time": "2023-08-24T18:57:51.311Z"
   },
   {
    "duration": 850,
    "start_time": "2023-08-24T18:59:27.696Z"
   },
   {
    "duration": 863,
    "start_time": "2023-08-24T18:59:36.744Z"
   },
   {
    "duration": 654,
    "start_time": "2023-08-24T19:00:03.248Z"
   },
   {
    "duration": 752,
    "start_time": "2023-08-24T19:01:18.760Z"
   },
   {
    "duration": 601,
    "start_time": "2023-08-24T19:01:48.128Z"
   },
   {
    "duration": 552,
    "start_time": "2023-08-24T19:01:52.763Z"
   },
   {
    "duration": 727,
    "start_time": "2023-08-24T19:01:56.649Z"
   },
   {
    "duration": 420,
    "start_time": "2023-08-24T19:02:10.232Z"
   },
   {
    "duration": 842,
    "start_time": "2023-08-24T19:06:29.626Z"
   },
   {
    "duration": 9,
    "start_time": "2023-08-24T19:06:30.470Z"
   },
   {
    "duration": 3,
    "start_time": "2023-08-24T19:06:31.952Z"
   },
   {
    "duration": 129,
    "start_time": "2023-08-24T19:06:32.709Z"
   },
   {
    "duration": 6,
    "start_time": "2023-08-24T19:06:37.511Z"
   },
   {
    "duration": 5,
    "start_time": "2023-08-24T19:22:19.874Z"
   },
   {
    "duration": 5,
    "start_time": "2023-08-24T19:25:02.932Z"
   },
   {
    "duration": 10,
    "start_time": "2023-08-24T19:27:59.723Z"
   },
   {
    "duration": 1436,
    "start_time": "2023-08-24T19:51:22.737Z"
   },
   {
    "duration": 119,
    "start_time": "2023-08-24T19:51:24.175Z"
   },
   {
    "duration": 11,
    "start_time": "2023-08-24T19:51:24.296Z"
   },
   {
    "duration": 52,
    "start_time": "2023-08-24T19:51:24.309Z"
   },
   {
    "duration": 17,
    "start_time": "2023-08-24T19:51:24.363Z"
   },
   {
    "duration": 15,
    "start_time": "2023-08-24T19:51:24.382Z"
   },
   {
    "duration": 7,
    "start_time": "2023-08-24T19:51:24.398Z"
   },
   {
    "duration": 57,
    "start_time": "2023-08-24T19:51:24.406Z"
   },
   {
    "duration": 9,
    "start_time": "2023-08-24T19:51:24.465Z"
   },
   {
    "duration": 13,
    "start_time": "2023-08-24T19:51:24.476Z"
   },
   {
    "duration": 10,
    "start_time": "2023-08-24T19:51:24.490Z"
   },
   {
    "duration": 62,
    "start_time": "2023-08-24T19:51:24.502Z"
   },
   {
    "duration": 5,
    "start_time": "2023-08-24T19:51:24.566Z"
   },
   {
    "duration": 13,
    "start_time": "2023-08-24T19:51:24.573Z"
   },
   {
    "duration": 65,
    "start_time": "2023-08-24T19:51:24.588Z"
   },
   {
    "duration": 13,
    "start_time": "2023-08-24T19:51:24.655Z"
   },
   {
    "duration": 310,
    "start_time": "2023-08-24T19:51:24.669Z"
   },
   {
    "duration": 4,
    "start_time": "2023-08-24T19:51:24.980Z"
   },
   {
    "duration": 9,
    "start_time": "2023-08-24T19:51:24.986Z"
   },
   {
    "duration": 7,
    "start_time": "2023-08-24T19:51:24.997Z"
   },
   {
    "duration": 47,
    "start_time": "2023-08-24T19:51:25.006Z"
   },
   {
    "duration": 9,
    "start_time": "2023-08-24T19:51:25.055Z"
   },
   {
    "duration": 5,
    "start_time": "2023-08-24T19:51:25.066Z"
   },
   {
    "duration": 5,
    "start_time": "2023-08-24T19:51:25.073Z"
   },
   {
    "duration": 13,
    "start_time": "2023-08-24T19:51:25.079Z"
   },
   {
    "duration": 6,
    "start_time": "2023-08-24T19:51:25.093Z"
   },
   {
    "duration": 397,
    "start_time": "2023-08-24T19:51:25.101Z"
   },
   {
    "duration": 246,
    "start_time": "2023-08-24T19:51:25.554Z"
   },
   {
    "duration": 252,
    "start_time": "2023-08-24T19:51:25.801Z"
   },
   {
    "duration": 302,
    "start_time": "2023-08-24T19:51:26.054Z"
   },
   {
    "duration": 15,
    "start_time": "2023-08-24T19:51:26.358Z"
   },
   {
    "duration": 222,
    "start_time": "2023-08-24T19:51:26.375Z"
   },
   {
    "duration": 17,
    "start_time": "2023-08-24T19:51:26.653Z"
   },
   {
    "duration": 209,
    "start_time": "2023-08-24T19:51:26.671Z"
   },
   {
    "duration": 76,
    "start_time": "2023-08-24T19:51:26.881Z"
   },
   {
    "duration": 20,
    "start_time": "2023-08-24T19:51:26.958Z"
   },
   {
    "duration": 10,
    "start_time": "2023-08-24T19:51:26.979Z"
   },
   {
    "duration": 78,
    "start_time": "2023-08-24T19:51:26.991Z"
   },
   {
    "duration": 9,
    "start_time": "2023-08-24T19:51:27.071Z"
   },
   {
    "duration": 78,
    "start_time": "2023-08-24T19:51:27.081Z"
   },
   {
    "duration": 11,
    "start_time": "2023-08-24T19:51:27.161Z"
   },
   {
    "duration": 6,
    "start_time": "2023-08-24T19:51:27.173Z"
   },
   {
    "duration": 76,
    "start_time": "2023-08-24T19:51:27.180Z"
   },
   {
    "duration": 4,
    "start_time": "2023-08-24T19:51:27.258Z"
   },
   {
    "duration": 19,
    "start_time": "2023-08-24T19:51:27.264Z"
   },
   {
    "duration": 3,
    "start_time": "2023-08-24T19:51:27.285Z"
   },
   {
    "duration": 72,
    "start_time": "2023-08-24T19:51:27.289Z"
   },
   {
    "duration": 1528,
    "start_time": "2023-08-24T19:51:27.363Z"
   },
   {
    "duration": 78,
    "start_time": "2023-08-24T19:51:28.893Z"
   },
   {
    "duration": 481,
    "start_time": "2023-08-24T19:51:28.973Z"
   },
   {
    "duration": 882,
    "start_time": "2023-08-24T19:51:29.455Z"
   },
   {
    "duration": 14,
    "start_time": "2023-08-24T19:51:30.338Z"
   },
   {
    "duration": 29,
    "start_time": "2023-08-24T19:51:30.354Z"
   },
   {
    "duration": 186,
    "start_time": "2023-08-24T19:51:30.385Z"
   },
   {
    "duration": 6,
    "start_time": "2023-08-24T19:51:30.574Z"
   },
   {
    "duration": 29,
    "start_time": "2023-08-24T19:51:30.582Z"
   },
   {
    "duration": 44,
    "start_time": "2023-08-24T19:51:30.614Z"
   },
   {
    "duration": 247,
    "start_time": "2023-08-24T19:51:30.660Z"
   },
   {
    "duration": 135,
    "start_time": "2023-08-24T19:51:30.909Z"
   },
   {
    "duration": 1793,
    "start_time": "2023-08-24T19:51:31.045Z"
   },
   {
    "duration": 5,
    "start_time": "2023-08-24T19:51:32.840Z"
   },
   {
    "duration": 33845,
    "start_time": "2023-08-24T19:51:32.852Z"
   },
   {
    "duration": 1208,
    "start_time": "2023-08-24T19:57:49.140Z"
   },
   {
    "duration": 104,
    "start_time": "2023-08-24T19:57:50.350Z"
   },
   {
    "duration": 10,
    "start_time": "2023-08-24T19:57:50.456Z"
   },
   {
    "duration": 11,
    "start_time": "2023-08-24T19:57:50.468Z"
   },
   {
    "duration": 9,
    "start_time": "2023-08-24T19:57:50.480Z"
   },
   {
    "duration": 11,
    "start_time": "2023-08-24T19:57:50.491Z"
   },
   {
    "duration": 12,
    "start_time": "2023-08-24T19:57:50.504Z"
   },
   {
    "duration": 41,
    "start_time": "2023-08-24T19:57:50.518Z"
   },
   {
    "duration": 3,
    "start_time": "2023-08-24T19:57:50.561Z"
   },
   {
    "duration": 84,
    "start_time": "2023-08-24T19:57:50.567Z"
   },
   {
    "duration": 0,
    "start_time": "2023-08-24T19:57:50.654Z"
   },
   {
    "duration": 0,
    "start_time": "2023-08-24T19:57:50.655Z"
   },
   {
    "duration": 0,
    "start_time": "2023-08-24T19:57:50.658Z"
   },
   {
    "duration": 0,
    "start_time": "2023-08-24T19:57:50.659Z"
   },
   {
    "duration": 0,
    "start_time": "2023-08-24T19:57:50.661Z"
   },
   {
    "duration": 0,
    "start_time": "2023-08-24T19:57:50.662Z"
   },
   {
    "duration": 0,
    "start_time": "2023-08-24T19:57:50.664Z"
   },
   {
    "duration": 0,
    "start_time": "2023-08-24T19:57:50.666Z"
   },
   {
    "duration": 0,
    "start_time": "2023-08-24T19:57:50.668Z"
   },
   {
    "duration": 0,
    "start_time": "2023-08-24T19:57:50.669Z"
   },
   {
    "duration": 0,
    "start_time": "2023-08-24T19:57:50.671Z"
   },
   {
    "duration": 0,
    "start_time": "2023-08-24T19:57:50.672Z"
   },
   {
    "duration": 0,
    "start_time": "2023-08-24T19:57:50.674Z"
   },
   {
    "duration": 0,
    "start_time": "2023-08-24T19:57:50.675Z"
   },
   {
    "duration": 0,
    "start_time": "2023-08-24T19:57:50.677Z"
   },
   {
    "duration": 0,
    "start_time": "2023-08-24T19:57:50.679Z"
   },
   {
    "duration": 0,
    "start_time": "2023-08-24T19:57:50.680Z"
   },
   {
    "duration": 0,
    "start_time": "2023-08-24T19:57:50.682Z"
   },
   {
    "duration": 0,
    "start_time": "2023-08-24T19:57:50.684Z"
   },
   {
    "duration": 0,
    "start_time": "2023-08-24T19:57:50.685Z"
   },
   {
    "duration": 0,
    "start_time": "2023-08-24T19:57:50.687Z"
   },
   {
    "duration": 0,
    "start_time": "2023-08-24T19:57:50.689Z"
   },
   {
    "duration": 0,
    "start_time": "2023-08-24T19:57:50.690Z"
   },
   {
    "duration": 0,
    "start_time": "2023-08-24T19:57:50.692Z"
   },
   {
    "duration": 0,
    "start_time": "2023-08-24T19:57:50.693Z"
   },
   {
    "duration": 0,
    "start_time": "2023-08-24T19:57:50.753Z"
   },
   {
    "duration": 0,
    "start_time": "2023-08-24T19:57:50.754Z"
   },
   {
    "duration": 0,
    "start_time": "2023-08-24T19:57:50.756Z"
   },
   {
    "duration": 0,
    "start_time": "2023-08-24T19:57:50.757Z"
   },
   {
    "duration": 0,
    "start_time": "2023-08-24T19:57:50.759Z"
   },
   {
    "duration": 0,
    "start_time": "2023-08-24T19:57:50.760Z"
   },
   {
    "duration": 0,
    "start_time": "2023-08-24T19:57:50.762Z"
   },
   {
    "duration": 0,
    "start_time": "2023-08-24T19:57:50.764Z"
   },
   {
    "duration": 0,
    "start_time": "2023-08-24T19:57:50.766Z"
   },
   {
    "duration": 0,
    "start_time": "2023-08-24T19:57:50.767Z"
   },
   {
    "duration": 0,
    "start_time": "2023-08-24T19:57:50.769Z"
   },
   {
    "duration": 0,
    "start_time": "2023-08-24T19:57:50.770Z"
   },
   {
    "duration": 0,
    "start_time": "2023-08-24T19:57:50.772Z"
   },
   {
    "duration": 0,
    "start_time": "2023-08-24T19:57:50.774Z"
   },
   {
    "duration": 0,
    "start_time": "2023-08-24T19:57:50.776Z"
   },
   {
    "duration": 0,
    "start_time": "2023-08-24T19:57:50.777Z"
   },
   {
    "duration": 0,
    "start_time": "2023-08-24T19:57:50.779Z"
   },
   {
    "duration": 0,
    "start_time": "2023-08-24T19:57:50.780Z"
   },
   {
    "duration": 0,
    "start_time": "2023-08-24T19:57:50.782Z"
   },
   {
    "duration": 0,
    "start_time": "2023-08-24T19:57:50.784Z"
   },
   {
    "duration": 0,
    "start_time": "2023-08-24T19:57:50.785Z"
   },
   {
    "duration": 0,
    "start_time": "2023-08-24T19:57:50.787Z"
   },
   {
    "duration": 0,
    "start_time": "2023-08-24T19:57:50.789Z"
   },
   {
    "duration": 0,
    "start_time": "2023-08-24T19:57:50.790Z"
   },
   {
    "duration": 0,
    "start_time": "2023-08-24T19:57:50.852Z"
   },
   {
    "duration": 0,
    "start_time": "2023-08-24T19:57:50.854Z"
   },
   {
    "duration": 0,
    "start_time": "2023-08-24T19:57:50.855Z"
   },
   {
    "duration": 9,
    "start_time": "2023-08-24T19:58:00.598Z"
   },
   {
    "duration": 11,
    "start_time": "2023-08-24T19:58:09.953Z"
   },
   {
    "duration": 1136,
    "start_time": "2023-08-24T19:59:50.800Z"
   },
   {
    "duration": 113,
    "start_time": "2023-08-24T19:59:51.938Z"
   },
   {
    "duration": 10,
    "start_time": "2023-08-24T19:59:52.052Z"
   },
   {
    "duration": 9,
    "start_time": "2023-08-24T19:59:52.064Z"
   },
   {
    "duration": 22,
    "start_time": "2023-08-24T19:59:52.075Z"
   },
   {
    "duration": 11,
    "start_time": "2023-08-24T19:59:52.098Z"
   },
   {
    "duration": 6,
    "start_time": "2023-08-24T19:59:52.110Z"
   },
   {
    "duration": 15,
    "start_time": "2023-08-24T19:59:52.117Z"
   },
   {
    "duration": 21,
    "start_time": "2023-08-24T19:59:52.133Z"
   },
   {
    "duration": 13,
    "start_time": "2023-08-24T19:59:52.155Z"
   },
   {
    "duration": 12,
    "start_time": "2023-08-24T19:59:52.170Z"
   },
   {
    "duration": 13,
    "start_time": "2023-08-24T19:59:52.184Z"
   },
   {
    "duration": 12,
    "start_time": "2023-08-24T19:59:52.198Z"
   },
   {
    "duration": 11,
    "start_time": "2023-08-24T19:59:52.254Z"
   },
   {
    "duration": 11,
    "start_time": "2023-08-24T19:59:52.267Z"
   },
   {
    "duration": 12,
    "start_time": "2023-08-24T19:59:52.280Z"
   },
   {
    "duration": 374,
    "start_time": "2023-08-24T19:59:52.293Z"
   },
   {
    "duration": 4,
    "start_time": "2023-08-24T19:59:52.669Z"
   },
   {
    "duration": 19,
    "start_time": "2023-08-24T19:59:52.675Z"
   },
   {
    "duration": 6,
    "start_time": "2023-08-24T19:59:52.696Z"
   },
   {
    "duration": 7,
    "start_time": "2023-08-24T19:59:52.704Z"
   },
   {
    "duration": 41,
    "start_time": "2023-08-24T19:59:52.712Z"
   },
   {
    "duration": 17,
    "start_time": "2023-08-24T19:59:52.755Z"
   },
   {
    "duration": 8,
    "start_time": "2023-08-24T19:59:52.773Z"
   },
   {
    "duration": 12,
    "start_time": "2023-08-24T19:59:52.782Z"
   },
   {
    "duration": 57,
    "start_time": "2023-08-24T19:59:52.796Z"
   },
   {
    "duration": 401,
    "start_time": "2023-08-24T19:59:52.854Z"
   },
   {
    "duration": 241,
    "start_time": "2023-08-24T19:59:53.257Z"
   },
   {
    "duration": 143,
    "start_time": "2023-08-24T19:59:53.551Z"
   },
   {
    "duration": 299,
    "start_time": "2023-08-24T19:59:53.696Z"
   },
   {
    "duration": 17,
    "start_time": "2023-08-24T19:59:53.997Z"
   },
   {
    "duration": 119,
    "start_time": "2023-08-24T19:59:54.016Z"
   },
   {
    "duration": 23,
    "start_time": "2023-08-24T19:59:54.137Z"
   },
   {
    "duration": 115,
    "start_time": "2023-08-24T19:59:54.161Z"
   },
   {
    "duration": 22,
    "start_time": "2023-08-24T19:59:54.277Z"
   },
   {
    "duration": 19,
    "start_time": "2023-08-24T19:59:54.301Z"
   },
   {
    "duration": 32,
    "start_time": "2023-08-24T19:59:54.321Z"
   },
   {
    "duration": 19,
    "start_time": "2023-08-24T19:59:54.354Z"
   },
   {
    "duration": 10,
    "start_time": "2023-08-24T19:59:54.375Z"
   },
   {
    "duration": 19,
    "start_time": "2023-08-24T19:59:54.387Z"
   },
   {
    "duration": 9,
    "start_time": "2023-08-24T19:59:54.410Z"
   },
   {
    "duration": 32,
    "start_time": "2023-08-24T19:59:54.420Z"
   },
   {
    "duration": 19,
    "start_time": "2023-08-24T19:59:54.454Z"
   },
   {
    "duration": 4,
    "start_time": "2023-08-24T19:59:54.475Z"
   },
   {
    "duration": 22,
    "start_time": "2023-08-24T19:59:54.480Z"
   },
   {
    "duration": 4,
    "start_time": "2023-08-24T19:59:54.503Z"
   },
   {
    "duration": 49,
    "start_time": "2023-08-24T19:59:54.508Z"
   },
   {
    "duration": 743,
    "start_time": "2023-08-24T19:59:54.559Z"
   },
   {
    "duration": 18,
    "start_time": "2023-08-24T19:59:55.304Z"
   },
   {
    "duration": 430,
    "start_time": "2023-08-24T19:59:55.324Z"
   },
   {
    "duration": 805,
    "start_time": "2023-08-24T19:59:55.756Z"
   },
   {
    "duration": 9,
    "start_time": "2023-08-24T19:59:56.564Z"
   },
   {
    "duration": 6,
    "start_time": "2023-08-24T19:59:56.574Z"
   },
   {
    "duration": 150,
    "start_time": "2023-08-24T19:59:56.582Z"
   },
   {
    "duration": 5,
    "start_time": "2023-08-24T19:59:56.734Z"
   },
   {
    "duration": 14,
    "start_time": "2023-08-24T19:59:56.740Z"
   },
   {
    "duration": 26,
    "start_time": "2023-08-24T19:59:56.755Z"
   },
   {
    "duration": 234,
    "start_time": "2023-08-24T19:59:56.783Z"
   },
   {
    "duration": 144,
    "start_time": "2023-08-24T19:59:57.019Z"
   },
   {
    "duration": 1798,
    "start_time": "2023-08-24T19:59:57.165Z"
   },
   {
    "duration": 5,
    "start_time": "2023-08-24T19:59:58.964Z"
   },
   {
    "duration": 33153,
    "start_time": "2023-08-24T19:59:58.971Z"
   },
   {
    "duration": 1443,
    "start_time": "2023-08-25T04:10:36.170Z"
   },
   {
    "duration": 374,
    "start_time": "2023-08-25T04:10:37.615Z"
   },
   {
    "duration": 11,
    "start_time": "2023-08-25T04:10:37.991Z"
   },
   {
    "duration": 15,
    "start_time": "2023-08-25T04:10:38.004Z"
   },
   {
    "duration": 28,
    "start_time": "2023-08-25T04:10:38.021Z"
   },
   {
    "duration": 27,
    "start_time": "2023-08-25T04:10:38.051Z"
   },
   {
    "duration": 14,
    "start_time": "2023-08-25T04:10:38.081Z"
   },
   {
    "duration": 19,
    "start_time": "2023-08-25T04:10:38.097Z"
   },
   {
    "duration": 9,
    "start_time": "2023-08-25T04:10:38.118Z"
   },
   {
    "duration": 10,
    "start_time": "2023-08-25T04:10:38.129Z"
   },
   {
    "duration": 6,
    "start_time": "2023-08-25T04:10:38.141Z"
   },
   {
    "duration": 21,
    "start_time": "2023-08-25T04:10:38.170Z"
   },
   {
    "duration": 6,
    "start_time": "2023-08-25T04:10:38.193Z"
   },
   {
    "duration": 13,
    "start_time": "2023-08-25T04:10:38.203Z"
   },
   {
    "duration": 14,
    "start_time": "2023-08-25T04:10:38.218Z"
   },
   {
    "duration": 17,
    "start_time": "2023-08-25T04:10:38.259Z"
   },
   {
    "duration": 175,
    "start_time": "2023-08-25T04:10:38.281Z"
   },
   {
    "duration": 6,
    "start_time": "2023-08-25T04:10:38.461Z"
   },
   {
    "duration": 16,
    "start_time": "2023-08-25T04:10:38.469Z"
   },
   {
    "duration": 20,
    "start_time": "2023-08-25T04:10:38.487Z"
   },
   {
    "duration": 13,
    "start_time": "2023-08-25T04:10:38.508Z"
   },
   {
    "duration": 7,
    "start_time": "2023-08-25T04:10:38.523Z"
   },
   {
    "duration": 23,
    "start_time": "2023-08-25T04:10:38.531Z"
   },
   {
    "duration": 12,
    "start_time": "2023-08-25T04:10:38.556Z"
   },
   {
    "duration": 19,
    "start_time": "2023-08-25T04:10:38.572Z"
   },
   {
    "duration": 5,
    "start_time": "2023-08-25T04:10:38.593Z"
   },
   {
    "duration": 213,
    "start_time": "2023-08-25T04:10:38.599Z"
   },
   {
    "duration": 178,
    "start_time": "2023-08-25T04:10:38.814Z"
   },
   {
    "duration": 114,
    "start_time": "2023-08-25T04:10:38.994Z"
   },
   {
    "duration": 193,
    "start_time": "2023-08-25T04:10:39.110Z"
   },
   {
    "duration": 17,
    "start_time": "2023-08-25T04:10:39.305Z"
   },
   {
    "duration": 130,
    "start_time": "2023-08-25T04:10:39.324Z"
   },
   {
    "duration": 30,
    "start_time": "2023-08-25T04:10:39.458Z"
   },
   {
    "duration": 128,
    "start_time": "2023-08-25T04:10:39.490Z"
   },
   {
    "duration": 22,
    "start_time": "2023-08-25T04:10:39.620Z"
   },
   {
    "duration": 44,
    "start_time": "2023-08-25T04:10:39.644Z"
   },
   {
    "duration": 12,
    "start_time": "2023-08-25T04:10:39.689Z"
   },
   {
    "duration": 58,
    "start_time": "2023-08-25T04:10:39.702Z"
   },
   {
    "duration": 15,
    "start_time": "2023-08-25T04:10:39.768Z"
   },
   {
    "duration": 29,
    "start_time": "2023-08-25T04:10:39.785Z"
   },
   {
    "duration": 11,
    "start_time": "2023-08-25T04:10:39.818Z"
   },
   {
    "duration": 6,
    "start_time": "2023-08-25T04:10:39.830Z"
   },
   {
    "duration": 46,
    "start_time": "2023-08-25T04:10:39.837Z"
   },
   {
    "duration": 5,
    "start_time": "2023-08-25T04:10:39.887Z"
   },
   {
    "duration": 24,
    "start_time": "2023-08-25T04:10:39.894Z"
   },
   {
    "duration": 4,
    "start_time": "2023-08-25T04:10:39.919Z"
   },
   {
    "duration": 49,
    "start_time": "2023-08-25T04:10:39.925Z"
   },
   {
    "duration": 847,
    "start_time": "2023-08-25T04:10:39.979Z"
   },
   {
    "duration": 19,
    "start_time": "2023-08-25T04:10:40.828Z"
   },
   {
    "duration": 511,
    "start_time": "2023-08-25T04:10:40.860Z"
   },
   {
    "duration": 972,
    "start_time": "2023-08-25T04:10:41.373Z"
   },
   {
    "duration": 24,
    "start_time": "2023-08-25T04:10:42.347Z"
   },
   {
    "duration": 8,
    "start_time": "2023-08-25T04:10:42.375Z"
   },
   {
    "duration": 156,
    "start_time": "2023-08-25T04:10:42.386Z"
   },
   {
    "duration": 6,
    "start_time": "2023-08-25T04:10:42.544Z"
   },
   {
    "duration": 26,
    "start_time": "2023-08-25T04:10:42.551Z"
   },
   {
    "duration": 10,
    "start_time": "2023-08-25T04:10:42.584Z"
   },
   {
    "duration": 283,
    "start_time": "2023-08-25T04:10:42.596Z"
   },
   {
    "duration": 150,
    "start_time": "2023-08-25T04:10:42.882Z"
   },
   {
    "duration": 1997,
    "start_time": "2023-08-25T04:10:43.034Z"
   },
   {
    "duration": 6,
    "start_time": "2023-08-25T04:10:45.032Z"
   },
   {
    "duration": 37274,
    "start_time": "2023-08-25T04:10:45.039Z"
   },
   {
    "duration": 1363,
    "start_time": "2023-08-26T10:56:46.826Z"
   },
   {
    "duration": 331,
    "start_time": "2023-08-26T10:56:48.191Z"
   },
   {
    "duration": 18,
    "start_time": "2023-08-26T10:56:48.524Z"
   },
   {
    "duration": 13,
    "start_time": "2023-08-26T10:56:48.545Z"
   },
   {
    "duration": 8,
    "start_time": "2023-08-26T10:56:48.560Z"
   },
   {
    "duration": 12,
    "start_time": "2023-08-26T10:56:48.570Z"
   },
   {
    "duration": 7,
    "start_time": "2023-08-26T10:56:48.584Z"
   },
   {
    "duration": 22,
    "start_time": "2023-08-26T10:56:48.593Z"
   },
   {
    "duration": 12,
    "start_time": "2023-08-26T10:56:48.617Z"
   },
   {
    "duration": 35,
    "start_time": "2023-08-26T10:56:48.633Z"
   },
   {
    "duration": 6,
    "start_time": "2023-08-26T10:56:48.671Z"
   },
   {
    "duration": 20,
    "start_time": "2023-08-26T10:56:48.680Z"
   },
   {
    "duration": 7,
    "start_time": "2023-08-26T10:56:48.702Z"
   },
   {
    "duration": 20,
    "start_time": "2023-08-26T10:56:48.711Z"
   },
   {
    "duration": 37,
    "start_time": "2023-08-26T10:56:48.732Z"
   },
   {
    "duration": 13,
    "start_time": "2023-08-26T10:56:48.771Z"
   },
   {
    "duration": 183,
    "start_time": "2023-08-26T10:56:48.786Z"
   },
   {
    "duration": 6,
    "start_time": "2023-08-26T10:56:48.971Z"
   },
   {
    "duration": 8,
    "start_time": "2023-08-26T10:56:48.979Z"
   },
   {
    "duration": 8,
    "start_time": "2023-08-26T10:56:48.989Z"
   },
   {
    "duration": 23,
    "start_time": "2023-08-26T10:56:48.999Z"
   },
   {
    "duration": 14,
    "start_time": "2023-08-26T10:56:49.024Z"
   },
   {
    "duration": 11,
    "start_time": "2023-08-26T10:56:49.040Z"
   },
   {
    "duration": 19,
    "start_time": "2023-08-26T10:56:49.052Z"
   },
   {
    "duration": 17,
    "start_time": "2023-08-26T10:56:49.073Z"
   },
   {
    "duration": 10,
    "start_time": "2023-08-26T10:56:49.091Z"
   },
   {
    "duration": 195,
    "start_time": "2023-08-26T10:56:49.103Z"
   },
   {
    "duration": 168,
    "start_time": "2023-08-26T10:56:49.302Z"
   },
   {
    "duration": 99,
    "start_time": "2023-08-26T10:56:49.472Z"
   },
   {
    "duration": 158,
    "start_time": "2023-08-26T10:56:49.573Z"
   },
   {
    "duration": 17,
    "start_time": "2023-08-26T10:56:49.732Z"
   },
   {
    "duration": 115,
    "start_time": "2023-08-26T10:56:49.759Z"
   },
   {
    "duration": 17,
    "start_time": "2023-08-26T10:56:49.875Z"
   },
   {
    "duration": 125,
    "start_time": "2023-08-26T10:56:49.893Z"
   },
   {
    "duration": 41,
    "start_time": "2023-08-26T10:56:50.020Z"
   },
   {
    "duration": 32,
    "start_time": "2023-08-26T10:56:50.064Z"
   },
   {
    "duration": 11,
    "start_time": "2023-08-26T10:56:50.098Z"
   },
   {
    "duration": 28,
    "start_time": "2023-08-26T10:56:50.111Z"
   },
   {
    "duration": 26,
    "start_time": "2023-08-26T10:56:50.141Z"
   },
   {
    "duration": 29,
    "start_time": "2023-08-26T10:56:50.169Z"
   },
   {
    "duration": 11,
    "start_time": "2023-08-26T10:56:50.200Z"
   },
   {
    "duration": 5,
    "start_time": "2023-08-26T10:56:50.212Z"
   },
   {
    "duration": 50,
    "start_time": "2023-08-26T10:56:50.219Z"
   },
   {
    "duration": 6,
    "start_time": "2023-08-26T10:56:50.271Z"
   },
   {
    "duration": 32,
    "start_time": "2023-08-26T10:56:50.278Z"
   },
   {
    "duration": 17,
    "start_time": "2023-08-26T10:56:50.312Z"
   },
   {
    "duration": 40,
    "start_time": "2023-08-26T10:56:50.331Z"
   },
   {
    "duration": 810,
    "start_time": "2023-08-26T10:56:50.373Z"
   },
   {
    "duration": 19,
    "start_time": "2023-08-26T10:56:51.185Z"
   },
   {
    "duration": 457,
    "start_time": "2023-08-26T10:56:51.206Z"
   },
   {
    "duration": 906,
    "start_time": "2023-08-26T10:56:51.665Z"
   },
   {
    "duration": 9,
    "start_time": "2023-08-26T10:56:52.572Z"
   },
   {
    "duration": 4,
    "start_time": "2023-08-26T10:56:52.583Z"
   },
   {
    "duration": 148,
    "start_time": "2023-08-26T10:56:52.588Z"
   },
   {
    "duration": 6,
    "start_time": "2023-08-26T10:56:52.737Z"
   },
   {
    "duration": 18,
    "start_time": "2023-08-26T10:56:52.744Z"
   },
   {
    "duration": 11,
    "start_time": "2023-08-26T10:56:52.764Z"
   },
   {
    "duration": 260,
    "start_time": "2023-08-26T10:56:52.777Z"
   },
   {
    "duration": 185,
    "start_time": "2023-08-26T10:56:53.040Z"
   },
   {
    "duration": 1859,
    "start_time": "2023-08-26T10:56:53.227Z"
   },
   {
    "duration": 5,
    "start_time": "2023-08-26T10:56:55.088Z"
   },
   {
    "duration": 35944,
    "start_time": "2023-08-26T10:56:55.095Z"
   }
  ],
  "kernelspec": {
   "display_name": "Python 3 (ipykernel)",
   "language": "python",
   "name": "python3"
  },
  "language_info": {
   "codemirror_mode": {
    "name": "ipython",
    "version": 3
   },
   "file_extension": ".py",
   "mimetype": "text/x-python",
   "name": "python",
   "nbconvert_exporter": "python",
   "pygments_lexer": "ipython3",
   "version": "3.9.13"
  },
  "toc": {
   "base_numbering": 1,
   "nav_menu": {},
   "number_sections": true,
   "sideBar": true,
   "skip_h1_title": true,
   "title_cell": "Table of Contents",
   "title_sidebar": "Contents",
   "toc_cell": false,
   "toc_position": {
    "height": "calc(100% - 180px)",
    "left": "10px",
    "top": "150px",
    "width": "313px"
   },
   "toc_section_display": true,
   "toc_window_display": true
  }
 },
 "nbformat": 4,
 "nbformat_minor": 5
}
